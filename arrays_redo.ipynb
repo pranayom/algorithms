{
 "cells": [
  {
   "cell_type": "markdown",
   "metadata": {},
   "source": [
    "# 1. Two SUM\n",
    "\n",
    "Given an array of integers nums and an integer target, return indices of the two numbers such that they add up to target.\n",
    "\n",
    "You may assume that each input would have exactly one solution, and you may not use the same element twice.\n",
    "\n",
    "You can return the answer in any order."
   ]
  },
  {
   "cell_type": "code",
   "execution_count": 8,
   "metadata": {},
   "outputs": [],
   "source": [
    "from typing import List\n",
    "class Solution:\n",
    "    def twoSum(self, nums:List[int], target:int)->List[int]:\n",
    "        for i in range(len(nums)):\n",
    "            for j in range(i+1, len(nums)):\n",
    "                if nums[i] + nums[j] == target:\n",
    "                    return [i,j]\n",
    "        return []"
   ]
  },
  {
   "cell_type": "code",
   "execution_count": 9,
   "metadata": {},
   "outputs": [
    {
     "data": {
      "text/plain": [
       "[0, 1]"
      ]
     },
     "execution_count": 9,
     "metadata": {},
     "output_type": "execute_result"
    }
   ],
   "source": [
    "solution = Solution()\n",
    "solution.twoSum([2,7,11,15], 9)"
   ]
  },
  {
   "cell_type": "code",
   "execution_count": null,
   "metadata": {},
   "outputs": [],
   "source": [
    "#Optmial solution - Use a map\n",
    "\n",
    "from typing import List\n",
    "class Solution:\n",
    "    def twoSum(self, nums:List[int], target:int)->List[int]:\n",
    "        map = {}\n",
    "        for i in range(len(nums)):\n",
    "            remaining = target - nums[i]\n",
    "            if remaining in map:\n",
    "                return (i, map[remaining])\n",
    "            else:\n",
    "                map[nums[i]] = i\n",
    "            \n",
    "        return False\n",
    "\n"
   ]
  },
  {
   "cell_type": "markdown",
   "metadata": {},
   "source": [
    "# 167 Two Sum II - Input Array Is Sorted\n",
    "\n",
    "Given a 1-indexed array of integers numbers that is already sorted in non-decreasing order, find two numbers such that they add up to a specific target number. Let these two numbers be numbers[index1] and numbers[index2] where 1 <= index1 < index2 <= numbers.length.\n",
    "\n",
    "Return the indices of the two numbers, index1 and index2, added by one as an integer array [index1, index2] of length 2.\n",
    "\n",
    "The tests are generated such that there is exactly one solution. You may not use the same element twice.\n",
    "\n",
    "Your solution must use only constant extra space."
   ]
  },
  {
   "cell_type": "code",
   "execution_count": null,
   "metadata": {},
   "outputs": [],
   "source": [
    "class Solution:\n",
    "    def twoSum(self, numbers: List[int], target: int) -> List[int]:\n",
    "        left = 0\n",
    "        right = len(numbers)-1\n",
    "        while left < right:\n",
    "            current_sum = numbers[left] + numbers[right]\n",
    "            if current_sum == target:\n",
    "                return [left+1, right+ 1]\n",
    "            elif current_sum < target:\n",
    "                left += 1\n",
    "            else:\n",
    "                right -= 1\n",
    "        return []                \n",
    "                \n",
    "                \n"
   ]
  },
  {
   "cell_type": "markdown",
   "metadata": {},
   "source": [
    "# 15  3sum\n",
    "\n",
    "Given an integer array nums, return all the triplets [nums[i], nums[j], nums[k]] such that i != j, i != k, and j != k, and nums[i] + nums[j] + nums[k] == 0.\n",
    "\n",
    "Notice that the solution set must not contain duplicate triplets."
   ]
  },
  {
   "cell_type": "code",
   "execution_count": null,
   "metadata": {},
   "outputs": [],
   "source": [
    "class Solution:\n",
    "    def threeSum(self, nums:List[int])-> List[List[int]]:\n",
    "        \n",
    "        nums.sort()\n",
    "        result = []\n",
    "        \n",
    "        for i in range(len(nums)-2): #note the -2\n",
    "            #Taking care of 1 duplicate. if there is a duplicate, you just move the index ahead by 1\n",
    "            if i > 0 and nums[i] == nums[i-1]:\n",
    "                continue  #moves the I by 1 as it sees the duplicate previous number\n",
    "            \n",
    "            left = i +1\n",
    "            right = len(nums) - 1 #Note the nums -1\n",
    "            while left < right: #When left == right, we would be using the same element twice, which is not allowed when finding triplets of distinct elements\n",
    "                current_sum = nums[i] + nums[left] + nums[right]\n",
    "                \n",
    "                if current_sum == 0:\n",
    "                    result.append([nums[i], nums[right], nums[left]])\n",
    "                    \n",
    "                    #Taking care of the second duplicate number\n",
    "                    while left < right and nums[left] == nums[left+1]:\n",
    "                        left +=1\n",
    "                    #Taking care of the 3rd duplicte numbers\n",
    "                    while left < right and nums[right] == nums[right-1]:\n",
    "                        right -= 1\n",
    "                    \n",
    "                    left += 1  #After skipping duplicates, you still want to continue searching for valid triplest with the same nums[i]\n",
    "                    right -=1\n",
    "                \n",
    "                elif current_sum <0:\n",
    "                    left += 1\n",
    "                \n",
    "                else:\n",
    "                    right -= 1\n",
    "                    \n",
    "        return result\n",
    "                  \n",
    "                    \n",
    "            "
   ]
  },
  {
   "cell_type": "markdown",
   "metadata": {},
   "source": [
    "# 42 Trapping Rain Water\n",
    " Given n non-negative integers representing an elevation map where the width of each bar is 1, compute how much water it can trap after raining.\n",
    "\n",
    " The key insight is that for any given position, the amount of water that can be trapped depends on the minimum of the highest bars to its left and right, minus the height of the current bar1. For example, if we have:\n",
    "A bar of height 2 at current position\n",
    "Maximum height of 5 to the left\n",
    "Maximum height of 4 to the right\n",
    "Then water trapped = min(5,4) - 2 = 2 units\n",
    "\n",
    " "
   ]
  },
  {
   "cell_type": "code",
   "execution_count": 4,
   "metadata": {},
   "outputs": [],
   "source": [
    "from typing import List\n",
    "class Solution:\n",
    "    def trap(self, height:List[int])-> int:\n",
    "        \n",
    "        n = len(height)\n",
    "        sum = 0\n",
    "        \n",
    "        #lets create left max and right max\n",
    "        \n",
    "        left_max = [0] * n\n",
    "        right_max = [0] * n\n",
    "        \n",
    "        \n",
    "        #First and last elements\n",
    "        left_max[0] = height[0]\n",
    "        right_max[n-1] = height[n-1]\n",
    "        \n",
    "        #left max\n",
    "        \n",
    "        for i in range(1,n):\n",
    "            left_max[i] = max(left_max[i-1], height[i])  \n",
    "            \n",
    "        ##Rght max\n",
    "        \n",
    "        for i in range(n-2,-1,-1):\n",
    "            right_max[i] = max(right_max[i+1], height[i])  #note, right_max starts from n-2 because right_max[n-1] is already filled/\n",
    "            \n",
    "        \n",
    "        \n",
    "        for i in range(n):\n",
    "            sum += min(left_max[i], right_max[i]) - height[i]\n",
    "        \n",
    "        return sum\n",
    "        \n",
    "        \n",
    "        \n",
    "        "
   ]
  },
  {
   "cell_type": "markdown",
   "metadata": {},
   "source": [
    "# 16. 3Sum Closest\n",
    "\n",
    "Given an integer array nums of length n and an integer target, find three integers in nums such that the sum is closest to target.\n",
    "\n",
    "Return the sum of the three integers.\n",
    "\n",
    "You may assume that each input would have exactly one solution."
   ]
  },
  {
   "cell_type": "markdown",
   "metadata": {},
   "source": []
  },
  {
   "cell_type": "markdown",
   "metadata": {},
   "source": [
    "# 242. Valid Anagram\n",
    "\n",
    "Given two strings s and t, return true if t is an anagram of s, and false otherwise."
   ]
  },
  {
   "cell_type": "code",
   "execution_count": null,
   "metadata": {},
   "outputs": [],
   "source": [
    "from collections import Counter\n",
    "\n",
    "class Solution:\n",
    "    def isAnagram(self, s:str, t:str) -> bool:\n",
    "        count_dict_s = Counter(s)\n",
    "        count_dict_t = Counter(t)\n",
    "\n",
    "        if set(s) != set(t):\n",
    "            return False\n",
    "        \n",
    "\n",
    "\n",
    "        for letter in count_dict_s:\n",
    "            if letter not in count_dict_t or count_dict_s[letter] != count_dict_t[letter]:\n",
    "                return False\n",
    "        return True\n",
    "            \n",
    "    "
   ]
  },
  {
   "cell_type": "code",
   "execution_count": 8,
   "metadata": {},
   "outputs": [],
   "source": [
    "#Better solution\n",
    "class Solution:\n",
    "    def isAnagram(self, s:str, t:str) -> bool:\n",
    "        if len(s) != len(t):\n",
    "            return False\n",
    "        \n",
    "        return Counter(s) == Counter(t)\n",
    "    \n",
    "        \n"
   ]
  },
  {
   "cell_type": "markdown",
   "metadata": {},
   "source": [
    "# 1. Two Sum\n",
    "\n",
    "Given an array of integers nums and an integer target, return indices of the two numbers such that they add up to target.\n",
    "\n",
    "You may assume that each input would have exactly one solution, and you may not use the same element twice.\n",
    "\n",
    "You can return the answer in any order."
   ]
  },
  {
   "cell_type": "code",
   "execution_count": null,
   "metadata": {},
   "outputs": [],
   "source": [
    "# very important to note here that its been asked to return indices so \n",
    "# lets create a map dictionary to track the number and their indices\n",
    "\n",
    "class Solution:\n",
    "    def twoSum(self, nums:List[int], target:int)-> List[int]:\n",
    "        map = {}\n",
    "        \n",
    "        for i in range(len(nums)):\n",
    "            remaining = target - nums[i]\n",
    "            if remaining in map:\n",
    "                return(i, map[remaining])  #Check if the 2nd number is already there in the map, if it is , return both indices\n",
    "            else:\n",
    "                map[nums[i]] = i  #Otherwise store the number nums[i] in the map dictionary with its index (i) as its value\n",
    "        return False\n",
    "                \n",
    "            \n",
    "    \n",
    "    "
   ]
  },
  {
   "cell_type": "markdown",
   "metadata": {},
   "source": [
    "# 49 Group Anagrams\n",
    "Given an array of strings strs, group the anagrams together. You can return the answer in any order."
   ]
  },
  {
   "cell_type": "code",
   "execution_count": null,
   "metadata": {},
   "outputs": [],
   "source": [
    "from collections import defaultdict\n",
    "\n",
    "class Solution:\n",
    "    def groupAnagrams(self, str: List[str]) -> List[List[str]]:\n",
    "        anagrams = defaultdict(list)\n",
    "        \n",
    "        for s in str:\n",
    "            key = \"\".join(sorted(s))  #Note if you jyst do key = sorted(s) that is a list which is mutable and for a key we need immutable\n",
    "            \n",
    "           # if key not in anagrams:\n",
    "                #anagrams[key] = []  Noe you dont need to do this for default dict\n",
    "                \n",
    "            anagrams[key].append(s)  #Nite how you append to a default dict. Dint forget\n",
    "            \n",
    "        return list(anagrams.values())  #Note the bracket for anagram.values()\n",
    "                \n",
    "            \n",
    "        "
   ]
  },
  {
   "cell_type": "code",
   "execution_count": null,
   "metadata": {},
   "outputs": [],
   "source": [
    "#Optimal solution\n",
    "\n",
    "\n",
    "from typing import List\n",
    "class Solution:\n",
    "    def groupAnagrams(self, str: List[str]) -> List[List[str]]:\n",
    "        anagrams = defaultdict(list)\n",
    "        \n",
    "        for s in str:\n",
    "            count = [0]*26  #Basicaally index for [a, b , c ....z]\n",
    "            for c in s:\n",
    "                index = ord(c) - ord('a')  #if c is 'a', index = 97 - 97 (ascii value) = 0 which is infact the index of a so counter for a increases by 1\n",
    "                count[index] += 1\n",
    "            key = tuple(count)\n",
    "            anagrams[key].append(s)\n",
    "        return list(anagrams.values())\n",
    "    \n",
    "    #note dont do ord[c], do ord(c)\n",
    "                "
   ]
  },
  {
   "cell_type": "markdown",
   "metadata": {},
   "source": [
    "# 347. Top K Frequent Elements\n",
    "\n",
    "\n",
    "Given an integer array nums and an integer k, return the k most frequent elements. You may return the answer in any order."
   ]
  },
  {
   "cell_type": "code",
   "execution_count": null,
   "metadata": {},
   "outputs": [],
   "source": [
    "#Bruteforce using counter\n",
    "\n",
    "from collections import Counter\n",
    "\n",
    "class Solution:\n",
    "    def topKFrequent(self, nums: List[int], k: int) -> List[int]:\n",
    "        count = Counter(nums)\n",
    "        \n",
    "        sorted_keys = sorted(count, key=count.get, reverse=True)\n",
    "        return sorted_keys[:k]\n",
    "        "
   ]
  },
  {
   "cell_type": "code",
   "execution_count": 7,
   "metadata": {},
   "outputs": [],
   "source": [
    "#Using min-heap\n",
    "\n",
    "from collections import Counter\n",
    "import heapq\n",
    "from typing import List\n",
    "\n",
    "\n",
    "class Solution:\n",
    "    def topKFrequent(self,nums:List[int], k: int)->List[int]:\n",
    "        count = Counter(nums)\n",
    "        \n",
    "        min_heap = []\n",
    "        \n",
    "        for num, freq in count.items():  #iterator so dont forget count.items()\n",
    "            heapq.heappush(min_heap,(freq, num)) #we keep freq as first element because the first element makes heap sort by frequency\n",
    "            \n",
    "            if len(min_heap) > k:\n",
    "                heapq.heappop(min_heap)\n",
    "                \n",
    "        result = [num for freq, num in min_heap]\n",
    "        \n",
    "        return result"
   ]
  },
  {
   "cell_type": "code",
   "execution_count": null,
   "metadata": {},
   "outputs": [],
   "source": [
    "#Using buckets\n",
    "\n",
    "class Solution:\n",
    "    def topKFrequent(self,nums:List[int], k: int)->List[int]:\n",
    "        \n",
    "        count = Counter(nums)\n",
    "        \n",
    "        buckets = [[] for _ in range(len(nums)+1)]  #each bucket contains numbers with 1 frequency(index)\n",
    "        #so worse case if nums has 6 elements and all of them are 1, that means we need 1 on index 6 (note Python has zero indexing\n",
    "        #so that means bucket has to be len(nums+1)\n",
    "        \n",
    "        for num,freq in count.items():\n",
    "            buckets[freq].append(num)\n",
    "            \n",
    "        result = []\n",
    "        for i in range(len(buckets)-1, 0, -1): #using the above example, we want to start from index number 6  so we do len(buckets) 7-1=6\n",
    "            result.extend(buckets[i])\n",
    "            if len(result)>=k:\n",
    "                return result[:k]  #Note if length of results = k that means result[:k] will give the first K elements (0 indexing_)\n",
    "        return result\n",
    "            \n",
    "    \n",
    "        "
   ]
  },
  {
   "cell_type": "markdown",
   "metadata": {},
   "source": [
    "# Encode and Decode Strings\n",
    "Design an algorithm to encode a list of strings to a single string. The encoded string is then decoded back to the original list of strings.\n",
    "\n",
    "Please implement encode and decode"
   ]
  },
  {
   "cell_type": "markdown",
   "metadata": {},
   "source": []
  }
 ],
 "metadata": {
  "kernelspec": {
   "display_name": "base",
   "language": "python",
   "name": "python3"
  },
  "language_info": {
   "codemirror_mode": {
    "name": "ipython",
    "version": 3
   },
   "file_extension": ".py",
   "mimetype": "text/x-python",
   "name": "python",
   "nbconvert_exporter": "python",
   "pygments_lexer": "ipython3",
   "version": "3.11.5"
  }
 },
 "nbformat": 4,
 "nbformat_minor": 2
}

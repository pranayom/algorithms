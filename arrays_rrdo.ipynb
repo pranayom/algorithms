{
 "cells": [
  {
   "cell_type": "markdown",
   "metadata": {},
   "source": [
    "# 1. Two SUM\n",
    "\n",
    "Given an array of integers nums and an integer target, return indices of the two numbers such that they add up to target.\n",
    "\n",
    "You may assume that each input would have exactly one solution, and you may not use the same element twice.\n",
    "\n",
    "You can return the answer in any order."
   ]
  },
  {
   "cell_type": "code",
   "execution_count": 8,
   "metadata": {},
   "outputs": [],
   "source": [
    "from typing import List\n",
    "class Solution:\n",
    "    def twoSum(self, nums:List[int], target:int)->List[int]:\n",
    "        for i in range(len(nums)):\n",
    "            for j in range(i+1, len(nums)):\n",
    "                if nums[i] + nums[j] == target:\n",
    "                    return [i,j]\n",
    "        return []"
   ]
  },
  {
   "cell_type": "code",
   "execution_count": 9,
   "metadata": {},
   "outputs": [
    {
     "data": {
      "text/plain": [
       "[0, 1]"
      ]
     },
     "execution_count": 9,
     "metadata": {},
     "output_type": "execute_result"
    }
   ],
   "source": [
    "solution = Solution()\n",
    "solution.twoSum([2,7,11,15], 9)"
   ]
  },
  {
   "cell_type": "code",
   "execution_count": null,
   "metadata": {},
   "outputs": [],
   "source": [
    "#Optmial solution - Use a map\n",
    "\n",
    "from typing import List\n",
    "class Solution:\n",
    "    def twoSum(self, nums:List[int], target:int)->List[int]:\n",
    "        map = {}\n",
    "        for i in range(len(nums)):\n",
    "            remaining = target - nums[i]\n",
    "            if remaining in map:\n",
    "                return (i, map[remaining])\n",
    "            else:\n",
    "                map[nums[i]] = i\n",
    "            \n",
    "        return False\n",
    "\n"
   ]
  },
  {
   "cell_type": "markdown",
   "metadata": {},
   "source": [
    "# 167 Two Sum II - Input Array Is Sorted\n",
    "\n",
    "Given a 1-indexed array of integers numbers that is already sorted in non-decreasing order, find two numbers such that they add up to a specific target number. Let these two numbers be numbers[index1] and numbers[index2] where 1 <= index1 < index2 <= numbers.length.\n",
    "\n",
    "Return the indices of the two numbers, index1 and index2, added by one as an integer array [index1, index2] of length 2.\n",
    "\n",
    "The tests are generated such that there is exactly one solution. You may not use the same element twice.\n",
    "\n",
    "Your solution must use only constant extra space."
   ]
  },
  {
   "cell_type": "code",
   "execution_count": null,
   "metadata": {},
   "outputs": [],
   "source": [
    "class Solution:\n",
    "    def twoSum(self, numbers: List[int], target: int) -> List[int]:\n",
    "        left = 0\n",
    "        right = len(numbers)-1\n",
    "        while left < right:\n",
    "            current_sum = numbers[left] + numbers[right]\n",
    "            if current_sum == target:\n",
    "                return [left+1, right+ 1]\n",
    "            elif current_sum < target:\n",
    "                left += 1\n",
    "            else:\n",
    "                right -= 1\n",
    "        return []                \n",
    "                \n",
    "                \n"
   ]
  },
  {
   "cell_type": "markdown",
   "metadata": {},
   "source": [
    "# 15  3sum\n",
    "\n",
    "Given an integer array nums, return all the triplets [nums[i], nums[j], nums[k]] such that i != j, i != k, and j != k, and nums[i] + nums[j] + nums[k] == 0.\n",
    "\n",
    "Notice that the solution set must not contain duplicate triplets."
   ]
  },
  {
   "cell_type": "code",
   "execution_count": null,
   "metadata": {},
   "outputs": [],
   "source": [
    "class Solution:\n",
    "    def threeSum(self, nums:List[int])-> List[List[int]]:\n",
    "        \n",
    "        nums.sort()\n",
    "        result = []\n",
    "        \n",
    "        for i in range(len(nums)-2): #note the -2\n",
    "            #Taking care of 1 duplicate. if there is a duplicate, you just move the index ahead by 1\n",
    "            if i > 0 and nums[i] == nums[i-1]:\n",
    "                continue  #moves the I by 1 as it sees the duplicate previous number\n",
    "            \n",
    "            left = i +1\n",
    "            right = len(nums) - 1 #Note the nums -1\n",
    "            while left < right: #When left == right, we would be using the same element twice, which is not allowed when finding triplets of distinct elements\n",
    "                current_sum = nums[i] + nums[left] + nums[right]\n",
    "                \n",
    "                if current_sum == 0:\n",
    "                    result.append([nums[i], nums[right], nums[left]])\n",
    "                    \n",
    "                    #Taking care of the second duplicate number\n",
    "                    while left < right and nums[left] == nums[left+1]:\n",
    "                        left +=1\n",
    "                    #Taking care of the 3rd duplicte numbers\n",
    "                    while left < right and nums[right] == nums[right-1]:\n",
    "                        right -= 1\n",
    "                    \n",
    "                    left += 1  #After skipping duplicates, you still want to continue searching for valid triplest with the same nums[i]\n",
    "                    right -=1\n",
    "                \n",
    "                elif current_sum <0:\n",
    "                    left += 1\n",
    "                \n",
    "                else:\n",
    "                    right -= 1\n",
    "                    \n",
    "        return result\n",
    "                  \n",
    "                    \n",
    "            "
   ]
  },
  {
   "cell_type": "markdown",
   "metadata": {},
   "source": [
    "# 42 Trapping Rain Water\n",
    " Given n non-negative integers representing an elevation map where the width of each bar is 1, compute how much water it can trap after raining.\n",
    "\n",
    " The key insight is that for any given position, the amount of water that can be trapped depends on the minimum of the highest bars to its left and right, minus the height of the current bar1. For example, if we have:\n",
    "A bar of height 2 at current position\n",
    "Maximum height of 5 to the left\n",
    "Maximum height of 4 to the right\n",
    "Then water trapped = min(5,4) - 2 = 2 units\n",
    "\n",
    " "
   ]
  },
  {
   "cell_type": "code",
   "execution_count": 4,
   "metadata": {},
   "outputs": [],
   "source": [
    "from typing import List\n",
    "class Solution:\n",
    "    def trap(self, height:List[int])-> int:\n",
    "        \n",
    "        n = len(height)\n",
    "        sum = 0\n",
    "        \n",
    "        #lets create left max and right max\n",
    "        \n",
    "        left_max = [0] * n\n",
    "        right_max = [0] * n\n",
    "        \n",
    "        \n",
    "        #First and last elements\n",
    "        left_max[0] = height[0]\n",
    "        right_max[n-1] = height[n-1]\n",
    "        \n",
    "        #left max\n",
    "        \n",
    "        for i in range(1,n):\n",
    "            left_max[i] = max(left_max[i-1], height[i])  \n",
    "            \n",
    "        ##Rght max\n",
    "        \n",
    "        for i in range(n-2,-1,-1):\n",
    "            right_max[i] = max(right_max[i+1], height[i])  #note, right_max starts from n-2 because right_max[n-1] is already filled/\n",
    "            \n",
    "        \n",
    "        \n",
    "        for i in range(n):\n",
    "            sum += min(left_max[i], right_max[i]) - height[i]\n",
    "        \n",
    "        return sum\n",
    "        \n",
    "        \n",
    "        \n",
    "        "
   ]
  },
  {
   "cell_type": "markdown",
   "metadata": {},
   "source": [
    "# 16. 3Sum Closest\n",
    "\n",
    "Given an integer array nums of length n and an integer target, find three integers in nums such that the sum is closest to target.\n",
    "\n",
    "Return the sum of the three integers.\n",
    "\n",
    "You may assume that each input would have exactly one solution."
   ]
  },
  {
   "cell_type": "markdown",
   "metadata": {},
   "source": []
  },
  {
   "cell_type": "markdown",
   "metadata": {},
   "source": [
    "# 242. Valid Anagram\n",
    "\n",
    "Given two strings s and t, return true if t is an anagram of s, and false otherwise."
   ]
  },
  {
   "cell_type": "code",
   "execution_count": null,
   "metadata": {},
   "outputs": [],
   "source": [
    "from collections import Counter\n",
    "\n",
    "class Solution:\n",
    "    def isAnagram(self, s:str, t:str) -> bool:\n",
    "        count_dict_s = Counter(s)\n",
    "        count_dict_t = Counter(t)\n",
    "\n",
    "        if set(s) != set(t):\n",
    "            return False\n",
    "        \n",
    "\n",
    "\n",
    "        for letter in count_dict_s:\n",
    "            if letter not in count_dict_t or count_dict_s[letter] != count_dict_t[letter]:\n",
    "                return False\n",
    "        return True\n",
    "            \n",
    "    "
   ]
  },
  {
   "cell_type": "code",
   "execution_count": 7,
   "metadata": {},
   "outputs": [
    {
     "name": "stdout",
     "output_type": "stream",
     "text": [
      "1\n",
      "1\n",
      "2\n",
      "1\n",
      "1\n"
     ]
    }
   ],
   "source": [
    "from collections import Counter\n",
    "\n",
    "s = \"pranay\"\n",
    "\n",
    "count_dict_s = Counter(s)\n",
    "\n",
    "for letter in count_dict_s:\n",
    "    print(count_dict_s[letter])"
   ]
  },
  {
   "cell_type": "code",
   "execution_count": null,
   "metadata": {},
   "outputs": [],
   "source": []
  },
  {
   "cell_type": "markdown",
   "metadata": {},
   "source": []
  }
 ],
 "metadata": {
  "kernelspec": {
   "display_name": "base",
   "language": "python",
   "name": "python3"
  },
  "language_info": {
   "codemirror_mode": {
    "name": "ipython",
    "version": 3
   },
   "file_extension": ".py",
   "mimetype": "text/x-python",
   "name": "python",
   "nbconvert_exporter": "python",
   "pygments_lexer": "ipython3",
   "version": "3.11.5"
  }
 },
 "nbformat": 4,
 "nbformat_minor": 2
}

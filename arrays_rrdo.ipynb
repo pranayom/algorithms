{
 "cells": [
  {
   "cell_type": "markdown",
   "metadata": {},
   "source": [
    "# 1. Two SUM\n",
    "\n",
    "Given an array of integers nums and an integer target, return indices of the two numbers such that they add up to target.\n",
    "\n",
    "You may assume that each input would have exactly one solution, and you may not use the same element twice.\n",
    "\n",
    "You can return the answer in any order."
   ]
  },
  {
   "cell_type": "code",
   "execution_count": 8,
   "metadata": {},
   "outputs": [],
   "source": [
    "from typing import List\n",
    "class Solution:\n",
    "    def twoSum(self, nums:List[int], target:int)->List[int]:\n",
    "        for i in range(len(nums)):\n",
    "            for j in range(i+1, len(nums)):\n",
    "                if nums[i] + nums[j] == target:\n",
    "                    return [i,j]\n",
    "        return []"
   ]
  },
  {
   "cell_type": "code",
   "execution_count": 9,
   "metadata": {},
   "outputs": [
    {
     "data": {
      "text/plain": [
       "[0, 1]"
      ]
     },
     "execution_count": 9,
     "metadata": {},
     "output_type": "execute_result"
    }
   ],
   "source": [
    "solution = Solution()\n",
    "solution.twoSum([2,7,11,15], 9)"
   ]
  },
  {
   "cell_type": "code",
   "execution_count": null,
   "metadata": {},
   "outputs": [],
   "source": [
    "#Optmial solution - Use a map\n",
    "\n",
    "from typing import List\n",
    "class Solution:\n",
    "    def twoSum(self, nums:List[int], target:int)->List[int]:\n",
    "        map = {}\n",
    "        for i in range(len(nums)):\n",
    "            remaining = target - nums[i]\n",
    "            if remaining in map:\n",
    "                return (i, map[remaining])\n",
    "            else:\n",
    "                map[nums[i]] = i\n",
    "            \n",
    "        return False\n",
    "\n"
   ]
  },
  {
   "cell_type": "markdown",
   "metadata": {},
   "source": [
    "# 167 Two Sum II - Input Array Is Sorted\n",
    "\n",
    "Given a 1-indexed array of integers numbers that is already sorted in non-decreasing order, find two numbers such that they add up to a specific target number. Let these two numbers be numbers[index1] and numbers[index2] where 1 <= index1 < index2 <= numbers.length.\n",
    "\n",
    "Return the indices of the two numbers, index1 and index2, added by one as an integer array [index1, index2] of length 2.\n",
    "\n",
    "The tests are generated such that there is exactly one solution. You may not use the same element twice.\n",
    "\n",
    "Your solution must use only constant extra space."
   ]
  },
  {
   "cell_type": "code",
   "execution_count": null,
   "metadata": {},
   "outputs": [],
   "source": [
    "class Solution:\n",
    "    def twoSum(self, numbers: List[int], target: int) -> List[int]:\n",
    "        left = 0\n",
    "        right = len(numbers)-1\n",
    "        while left < right:\n",
    "            current_sum = numbers[left] + numbers[right]\n",
    "            if current_sum == target:\n",
    "                return [left+1, right+ 1]\n",
    "            elif current_sum < target:\n",
    "                left += 1\n",
    "            else:\n",
    "                right -= 1\n",
    "        return []                \n",
    "                \n",
    "                \n"
   ]
  },
  {
   "cell_type": "markdown",
   "metadata": {},
   "source": [
    "# 15  3sum\n",
    "\n",
    "Given an integer array nums, return all the triplets [nums[i], nums[j], nums[k]] such that i != j, i != k, and j != k, and nums[i] + nums[j] + nums[k] == 0.\n",
    "\n",
    "Notice that the solution set must not contain duplicate triplets."
   ]
  },
  {
   "cell_type": "code",
   "execution_count": null,
   "metadata": {},
   "outputs": [],
   "source": [
    "class Solution:\n",
    "    def threeSum(self, nums:List[int])-> List[List[int]]:\n",
    "        \n",
    "        nums.sort()\n",
    "        result = []\n",
    "        \n",
    "        for i in range(len(nums)-2): #note the -2\n",
    "            #Taking care of 1 duplicate. if there is a duplicate, you just move the index ahead by 1\n",
    "            if i > 0 and nums[i] == nums[i-1]:\n",
    "                continue  #moves the I by 1 as it sees the duplicate previous number\n",
    "            \n",
    "            left = i +1\n",
    "            right = len(nums) - 1 #Note the nums -1\n",
    "            while left < right: #When left == right, we would be using the same element twice, which is not allowed when finding triplets of distinct elements\n",
    "                current_sum = nums[i] + nums[left] + nums[right]\n",
    "                \n",
    "                if current_sum == 0:\n",
    "                    result.append([nums[i], nums[right], nums[left]])\n",
    "                    \n",
    "                    #Taking care of the second duplicate number\n",
    "                    if nums[left] == nums[left+1]:\n",
    "                        left +=1\n",
    "                    #Taking care of the 3rd duplicte numbers\n",
    "                    if nums[right] == nums[right-1]:\n",
    "                        right -= 1\n",
    "                    \n",
    "                    left += 1  #After skipping duplicates, you still want to continue searching for valid triplest with the same nums[i]\n",
    "                    right -=1\n",
    "                \n",
    "                elif current_sum <0:\n",
    "                    left += 1\n",
    "                \n",
    "                else:\n",
    "                    right -= 1\n",
    "                    \n",
    "        return result\n",
    "                  \n",
    "                    \n",
    "            "
   ]
  },
  {
   "cell_type": "markdown",
   "metadata": {},
   "source": []
  }
 ],
 "metadata": {
  "kernelspec": {
   "display_name": "base",
   "language": "python",
   "name": "python3"
  },
  "language_info": {
   "codemirror_mode": {
    "name": "ipython",
    "version": 3
   },
   "file_extension": ".py",
   "mimetype": "text/x-python",
   "name": "python",
   "nbconvert_exporter": "python",
   "pygments_lexer": "ipython3",
   "version": "3.11.5"
  }
 },
 "nbformat": 4,
 "nbformat_minor": 2
}

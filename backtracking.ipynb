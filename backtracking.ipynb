{
 "cells": [
  {
   "cell_type": "markdown",
   "metadata": {},
   "source": [
    "# 79 Word Search\n",
    "Given an m x n grid of characters board and a string word, return true if the word exists in the grid.\n",
    "\n",
    "The word can be constructed from letters of sequentially adjacent cells, where adjacent cells are horizontally or vertically neighboring. The same letter cell may not be used more than once."
   ]
  },
  {
   "cell_type": "code",
   "execution_count": 3,
   "metadata": {},
   "outputs": [],
   "source": [
    "class Solution:\n",
    "  def dfs(self, board, word, i, j, k):\n",
    "    # check if current coordinates are out of grid or the current cell doesn't match the current character of the word\n",
    "    if not 0 <= i < len(board) or not 0 <= j < len(board[0]) or board[i][j] != word[k]:\n",
    "      return False\n",
    "    # check if we have reached the end of the word\n",
    "    if k == len(word) - 1:\n",
    "      return True\n",
    "    # mark the current cell as visited by replacing it with '$'\n",
    "    tmp, board[i][j] = board[i][j], '$'\n",
    "    # check all 4 adjacent cells recursively\n",
    "    res = self.dfs(board, word, i+1, j, k+1) or \\\n",
    "          self.dfs(board, word, i-1, j, k+1) or \\\n",
    "          self.dfs(board, word, i, j+1, k+1) or \\\n",
    "          self.dfs(board, word, i, j-1, k+1)\n",
    "    # backtrack by replacing the current cell with its original value\n",
    "    board[i][j] = tmp\n",
    "    return res\n",
    "\n",
    "  def exist(self, board, word):\n",
    "    for i in range(len(board)):\n",
    "      for j in range(len(board[0])):\n",
    "        # start the search from every cell\n",
    "        if self.dfs(board, word, i, j, 0):\n",
    "          return True\n",
    "    return False"
   ]
  },
  {
   "cell_type": "code",
   "execution_count": 4,
   "metadata": {},
   "outputs": [],
   "source": [
    "def main():\n",
    "  sol = Solution()\n",
    "  # Test Case 1\n",
    "  board = [\n",
    "    ['A','B','C','E'],\n",
    "    ['S','F','C','S'],\n",
    "    ['A','D','E','E']\n",
    "  ]\n",
    "  word = \"ABCCED\"\n",
    "  print(sol.exist(board, word))"
   ]
  },
  {
   "cell_type": "code",
   "execution_count": 5,
   "metadata": {},
   "outputs": [
    {
     "name": "stdout",
     "output_type": "stream",
     "text": [
      "True\n"
     ]
    }
   ],
   "source": [
    "main()"
   ]
  },
  {
   "cell_type": "markdown",
   "metadata": {},
   "source": [
    "# 39 Combination sum\n",
    "\n",
    "Given an array of distinct integers candidates and a target integer target, return a list of all unique combinations of candidates where the chosen numbers sum to target. You may return the combinations in any order.\n",
    "\n",
    "The same number may be chosen from candidates an unlimited number of times. Two combinations are unique if the \n",
    "frequency\n",
    " of at least one of the chosen numbers is different.\n",
    "\n",
    "The test cases are generated such that the number of unique combinations that sum up to target is less than 150 combinations for the given input."
   ]
  },
  {
   "cell_type": "code",
   "execution_count": null,
   "metadata": {},
   "outputs": [],
   "source": [
    "from typing import List\n",
    "class Solution:\n",
    "    def combinationSum( self, candidates:List[int], target:int)-> List"
   ]
  }
 ],
 "metadata": {
  "kernelspec": {
   "display_name": "base",
   "language": "python",
   "name": "python3"
  },
  "language_info": {
   "codemirror_mode": {
    "name": "ipython",
    "version": 3
   },
   "file_extension": ".py",
   "mimetype": "text/x-python",
   "name": "python",
   "nbconvert_exporter": "python",
   "pygments_lexer": "ipython3",
   "version": "3.11.5"
  }
 },
 "nbformat": 4,
 "nbformat_minor": 2
}

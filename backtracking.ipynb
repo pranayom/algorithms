{
 "cells": [
  {
   "cell_type": "markdown",
   "metadata": {},
   "source": [
    "# 79 Word Search\n",
    "Given an m x n grid of characters board and a string word, return true if the word exists in the grid.\n",
    "\n",
    "The word can be constructed from letters of sequentially adjacent cells, where adjacent cells are horizontally or vertically neighboring. The same letter cell may not be used more than once."
   ]
  },
  {
   "cell_type": "code",
   "execution_count": 3,
   "metadata": {},
   "outputs": [],
   "source": [
    "class Solution:\n",
    "  def dfs(self, board, word, i, j, k):\n",
    "    # check if current coordinates are out of grid or the current cell doesn't match the current character of the word\n",
    "    if not 0 <= i < len(board) or not 0 <= j < len(board[0]) or board[i][j] != word[k]:\n",
    "      return False\n",
    "    # check if we have reached the end of the word\n",
    "    if k == len(word) - 1:\n",
    "      return True\n",
    "    # mark the current cell as visited by replacing it with '$'\n",
    "    tmp, board[i][j] = board[i][j], '$'\n",
    "    # check all 4 adjacent cells recursively\n",
    "    res = self.dfs(board, word, i+1, j, k+1) or \\\n",
    "          self.dfs(board, word, i-1, j, k+1) or \\\n",
    "          self.dfs(board, word, i, j+1, k+1) or \\\n",
    "          self.dfs(board, word, i, j-1, k+1)\n",
    "    # backtrack by replacing the current cell with its original value\n",
    "    board[i][j] = tmp\n",
    "    return res\n",
    "\n",
    "  def exist(self, board, word):\n",
    "    for i in range(len(board)):\n",
    "      for j in range(len(board[0])):\n",
    "        # start the search from every cell\n",
    "        if self.dfs(board, word, i, j, 0):\n",
    "          return True\n",
    "    return False"
   ]
  },
  {
   "cell_type": "code",
   "execution_count": 4,
   "metadata": {},
   "outputs": [],
   "source": [
    "def main():\n",
    "  sol = Solution()\n",
    "  # Test Case 1\n",
    "  board = [\n",
    "    ['A','B','C','E'],\n",
    "    ['S','F','C','S'],\n",
    "    ['A','D','E','E']\n",
    "  ]\n",
    "  word = \"ABCCED\"\n",
    "  print(sol.exist(board, word))"
   ]
  },
  {
   "cell_type": "code",
   "execution_count": 5,
   "metadata": {},
   "outputs": [
    {
     "name": "stdout",
     "output_type": "stream",
     "text": [
      "True\n"
     ]
    }
   ],
   "source": [
    "main()"
   ]
  },
  {
   "cell_type": "markdown",
   "metadata": {},
   "source": [
    "# 39 Combination sum\n",
    "\n",
    "Given an array of distinct integers candidates and a target integer target, return a list of all unique combinations of candidates where the chosen numbers sum to target. You may return the combinations in any order.\n",
    "\n",
    "The same number may be chosen from candidates an unlimited number of times. Two combinations are unique if the \n",
    "frequency\n",
    " of at least one of the chosen numbers is different.\n",
    "\n",
    "The test cases are generated such that the number of unique combinations that sum up to target is less than 150 combinations for the given input."
   ]
  },
  {
   "cell_type": "code",
   "execution_count": null,
   "metadata": {},
   "outputs": [],
   "source": [
    "from typing import List\n",
    "class Solution:\n",
    "    def combinationSum( self, candidates:List[int], target:int)-> List[List[int]]:\n",
    "        results = []\n",
    "        candidates.sort()\n",
    "        \n",
    "        def backtrack(start_index, current_combination, current_sum):\n",
    "            if current_sum == target:\n",
    "                results.append(list(current_combination))\n",
    "                return\n",
    "            if current_sum> target:\n",
    "                return\n",
    "            for i in range(start_index, len(candidates)):  #dont forget here the start index\n",
    "                current_combination.append(candidates[i])\n",
    "                backtrack(i, current_combination, current_sum + candidates[i])  #dont forget the i here\n",
    "                current_combination.pop()\n",
    "            \n",
    "        backtrack(0,[],0)\n",
    "        \n",
    "        return results\n",
    "            \n",
    "            "
   ]
  },
  {
   "cell_type": "markdown",
   "metadata": {},
   "source": [
    "# 40 Combination sum 2\n",
    "\n",
    "Given a collection of candidate numbers (candidates) and a target number (target), find all unique combinations in candidates where the candidate numbers sum to target.\n",
    "\n",
    "Each number in candidates may only be used once in the combination.\n",
    "\n",
    "Note: The solution set must not contain duplicate combinations."
   ]
  },
  {
   "cell_type": "code",
   "execution_count": null,
   "metadata": {},
   "outputs": [],
   "source": [
    "from typing import List\n",
    "class Solution:\n",
    "    def combinationSum2(self, candidates:List[int], target: int)-> List[List[int]]:\n",
    "        results = []\n",
    "        \n",
    "        def backtrack(start_index, current_combination, current_sum):\n",
    "            #bases cases\n",
    "            if current_sum == target:\n",
    "                results.append(List(current_combination))\n",
    "                return\n",
    "            \n",
    "            if current_sum > target:\n",
    "                return  #do nothing\n",
    "            \n",
    "            for i in range(start_index, len(candidates)):\n",
    "                current_combination.append(candidates[i])\n",
    "                \n",
    "                backtrack(i+1, current_combination, current_sum + candidates[i])\n",
    "                \n",
    "                current_combination.pop()\n",
    "                    \n",
    "        candidates.sort()\n",
    "        backtrack(0, [], 0)\n",
    "        return results\n",
    "                    \n",
    "            \n",
    "            \n",
    "            \n",
    "            "
   ]
  },
  {
   "cell_type": "markdown",
   "metadata": {},
   "source": [
    "# 78 Subsets\n",
    "Given an integer array nums of unique elements, return all possible \n",
    "subsets\n",
    " (the power set).\n",
    "\n",
    "The solution set must not contain duplicate subsets. Return the solution in any order."
   ]
  },
  {
   "cell_type": "markdown",
   "metadata": {},
   "source": [
    "Every element has 2 choices: include it or skip it. This binary decision leads to \n",
    "2**n\n",
    "\n",
    "  total subsets (including empty set).\n",
    "\n",
    "Key Visualization Tools\n",
    "\n",
    "\n",
    "Decision Tree: Imagine building subsets by making yes/no choices at each node\n",
    "\n",
    "Left branch = include element\n",
    "\n",
    "Right branch = exclude element"
   ]
  },
  {
   "cell_type": "code",
   "execution_count": null,
   "metadata": {},
   "outputs": [],
   "source": [
    "from typing import List\n",
    "class Solution:\n",
    "    def subsets(self, nums: List[int]) -> List[List[int]]:\n",
    "        result = []\n",
    "        current_subset =[]\n",
    "        \n",
    "        def backtrack(start):\n",
    "            result.append(current_subset.copy())\n",
    "\n",
    "            for i in range(start, len(nums)):\n",
    "                current_subset.append(nums[i])               \n",
    "                backtrack(i+1)\n",
    "                current_subset.pop()\n",
    "                \n",
    "        backtrack(0)\n",
    "        return result\n",
    "                \n",
    "                \n",
    "                \n",
    "                \n",
    "                \n",
    "        "
   ]
  },
  {
   "cell_type": "markdown",
   "metadata": {},
   "source": []
  }
 ],
 "metadata": {
  "kernelspec": {
   "display_name": "base",
   "language": "python",
   "name": "python3"
  },
  "language_info": {
   "codemirror_mode": {
    "name": "ipython",
    "version": 3
   },
   "file_extension": ".py",
   "mimetype": "text/x-python",
   "name": "python",
   "nbconvert_exporter": "python",
   "pygments_lexer": "ipython3",
   "version": "3.11.5"
  }
 },
 "nbformat": 4,
 "nbformat_minor": 2
}

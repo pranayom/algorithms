{
 "cells": [
  {
   "cell_type": "markdown",
   "metadata": {},
   "source": [
    "## Linked List"
   ]
  },
  {
   "cell_type": "code",
   "execution_count": 13,
   "metadata": {},
   "outputs": [],
   "source": [
    "class Node:\n",
    "    def __init__(self, data):\n",
    "        self.data = data\n",
    "        self.next_element = None\n"
   ]
  },
  {
   "cell_type": "code",
   "execution_count": 14,
   "metadata": {},
   "outputs": [],
   "source": [
    "class LinkedList:\n",
    "    def __init__(self):\n",
    "        self.head_node = None"
   ]
  },
  {
   "cell_type": "markdown",
   "metadata": {},
   "source": [
    "## get_head()\n",
    "\n",
    "\n",
    "This method simply returns the head node of our linked list\n",
    "\n",
    "Time complexity is O(1) as we just return out the head"
   ]
  },
  {
   "cell_type": "code",
   "execution_count": 32,
   "metadata": {},
   "outputs": [],
   "source": [
    "class LinkedList:\n",
    "    def __init__(self):\n",
    "        self.head_node = None #5\n",
    "        \n",
    "    def get_head(self):\n",
    "        return self.head_node\n"
   ]
  },
  {
   "cell_type": "code",
   "execution_count": 10,
   "metadata": {},
   "outputs": [
    {
     "name": "stdout",
     "output_type": "stream",
     "text": [
      "None\n"
     ]
    }
   ],
   "source": [
    "lst = LinkedList()\n",
    "print(lst.get_head()) #5"
   ]
  },
  {
   "cell_type": "markdown",
   "metadata": {},
   "source": [
    "## is_empty()\n",
    "\n",
    "The basic condition for our list to be considered empty is that there are no nodes in the list. This implies that head points to None.\n",
    "\n",
    "Time complexity is O(1)"
   ]
  },
  {
   "cell_type": "code",
   "execution_count": 20,
   "metadata": {},
   "outputs": [],
   "source": [
    "class LinkedList:\n",
    "    def __init__(self):\n",
    "        self.head_node = None\n",
    "        \n",
    "    def get_head(self):\n",
    "        return self.head_node\n",
    "    \n",
    "    def is_empty(self):\n",
    "        return self.head_node == None"
   ]
  },
  {
   "cell_type": "code",
   "execution_count": 12,
   "metadata": {},
   "outputs": [
    {
     "name": "stdout",
     "output_type": "stream",
     "text": [
      "True\n"
     ]
    }
   ],
   "source": [
    "lst = LinkedList()  # Linked List created\n",
    "print(lst.is_empty())  # Returns true"
   ]
  },
  {
   "cell_type": "markdown",
   "metadata": {},
   "source": [
    "## Single LinkedList Insertion\n"
   ]
  },
  {
   "cell_type": "markdown",
   "metadata": {},
   "source": [
    "The three types of insertion strategies used in singly linked-lists are:\n",
    "\n",
    "Insertion at the head\n",
    "\n",
    "Insertion at the tail\n",
    "\n",
    "Insertion at the kth index"
   ]
  },
  {
   "cell_type": "code",
   "execution_count": 34,
   "metadata": {},
   "outputs": [],
   "source": [
    "class LinkedList:\n",
    "    def __init__(self):\n",
    "        self.head_node= None\n",
    "        \n",
    "    def get_head(self):\n",
    "        return self.head_node\n",
    "    \n",
    "    #Insertion at head\n",
    "    \n",
    "    def insert_at_head(self, data):\n",
    "        #Create a new node containing a specified value\n",
    "        temp_node = Node(data)\n",
    "        #The new node pointss to the same node as the head\n",
    "        temp_node.next_element = self.head_node\n",
    "        self.head_node = temp_node #Make the head point to the new node        \n",
    "        return self.head_node #return the new list\n",
    "    \n",
    "    def is_empty(self):\n",
    "        return self.head_node == None\n",
    "        \n",
    "        \n",
    "    def print_list(self):\n",
    "        if (self.is_empty()):\n",
    "            print(\"List is empty\")\n",
    "            return False\n",
    "        temp = self.head_node\n",
    "        while temp.next_element is not None:\n",
    "            print(temp.data, end= ' -> ')\n",
    "            temp = temp.next_element\n",
    "        print(temp.data, end = ' -> None')\n",
    "        return True\n",
    "            \n",
    "        "
   ]
  },
  {
   "cell_type": "code",
   "execution_count": 19,
   "metadata": {},
   "outputs": [
    {
     "name": "stdout",
     "output_type": "stream",
     "text": [
      "List is empty\n",
      "Inserting values in list\n",
      "9 -> 8 -> 7 -> 6 -> 5 -> 4 -> 3 -> 2 -> 1 -> None"
     ]
    },
    {
     "data": {
      "text/plain": [
       "True"
      ]
     },
     "execution_count": 19,
     "metadata": {},
     "output_type": "execute_result"
    }
   ],
   "source": [
    "\n",
    "list = LinkedList()\n",
    "list.print_list()\n",
    "\n",
    "print(\"Inserting values in list\")\n",
    "for i in range(1, 10):\n",
    "    list.insert_at_head(i)\n",
    "list.print_list()"
   ]
  },
  {
   "cell_type": "markdown",
   "metadata": {},
   "source": [
    "## Delete at head"
   ]
  },
  {
   "cell_type": "code",
   "execution_count": 29,
   "metadata": {},
   "outputs": [],
   "source": [
    "def delete_at_head(lst):\n",
    "    first_element = lst.get_head()\n",
    "    \n",
    "    #if list is not empty then link delete_at_headto the next element of first element\n",
    "    \n",
    "    if first_element is not None:\n",
    "        lst.head_node = first_element.next_element\n",
    "        first_element.next_element = None\n",
    "    return\n"
   ]
  },
  {
   "cell_type": "code",
   "execution_count": 35,
   "metadata": {},
   "outputs": [
    {
     "name": "stdout",
     "output_type": "stream",
     "text": [
      "10 -> 9 -> 8 -> 7 -> 6 -> 5 -> 4 -> 3 -> 2 -> 1 -> 0 -> None"
     ]
    },
    {
     "data": {
      "text/plain": [
       "True"
      ]
     },
     "execution_count": 35,
     "metadata": {},
     "output_type": "execute_result"
    }
   ],
   "source": [
    "lst = LinkedList()\n",
    "\n",
    "for i in range(11):\n",
    "    lst.insert_at_head(i)\n",
    "    \n",
    "lst.print_list()"
   ]
  },
  {
   "cell_type": "code",
   "execution_count": 36,
   "metadata": {},
   "outputs": [
    {
     "name": "stdout",
     "output_type": "stream",
     "text": [
      "9 -> 8 -> 7 -> 6 -> 5 -> 4 -> 3 -> 2 -> 1 -> 0 -> None"
     ]
    },
    {
     "data": {
      "text/plain": [
       "True"
      ]
     },
     "execution_count": 36,
     "metadata": {},
     "output_type": "execute_result"
    }
   ],
   "source": [
    "delete_at_head(lst)\n",
    "\n",
    "lst.print_list()"
   ]
  },
  {
   "cell_type": "markdown",
   "metadata": {},
   "source": [
    "## Insert at tail"
   ]
  },
  {
   "cell_type": "markdown",
   "metadata": {},
   "source": [
    "Given the head of a linked list and a target, value, return the updated linked list head after adding the target value at the end of the linked list."
   ]
  },
  {
   "cell_type": "code",
   "execution_count": 6,
   "metadata": {},
   "outputs": [],
   "source": [
    "from LinkedListNode import LinkedListNode\n",
    "from LinkedList import LinkedList\n"
   ]
  },
  {
   "cell_type": "code",
   "execution_count": 7,
   "metadata": {},
   "outputs": [],
   "source": [
    "def print_list_with_forward_arrow(linked_list_node):\n",
    "    temp = linked_list_node\n",
    "    while temp:\n",
    "        print(temp.data, end=\" \")  # print node value\n",
    "        \n",
    "        temp = temp.next\n",
    "        if temp:\n",
    "            print(\"→\", end=\" \")\n",
    "        else:\n",
    "            # If this is the last node, print null at the end\n",
    "            print(\"→ null\", end=\" \")\n"
   ]
  },
  {
   "cell_type": "code",
   "execution_count": 13,
   "metadata": {},
   "outputs": [],
   "source": [
    "def insert_at_tail(head, value):\n",
    "    new_node = LinkedListNode(value)\n",
    "    \n",
    "    if head is None:\n",
    "        head = new_node\n",
    "        return head\n",
    "    \n",
    "    current = head\n",
    "    while current.next:\n",
    "        current = current.next  #Move the current till the tail\n",
    "        \n",
    "    \n",
    "    current.next = new_node\n",
    "    return head"
   ]
  },
  {
   "cell_type": "code",
   "execution_count": 14,
   "metadata": {},
   "outputs": [
    {
     "name": "stdout",
     "output_type": "stream",
     "text": [
      "1.\tInput linked list: 1 → 2 → 3 → 4 → 5 → null \n",
      "\tNew node to be added: 4\n",
      "\tUpdated linked list: 1 → 2 → 3 → 4 → 5 → 4 → null \n",
      "----------------------------------------------------------------------------------------------------\n",
      "2.\tInput linked list: -1 → -2 → -3 → -4 → -6 → null \n",
      "\tNew node to be added: -5\n",
      "\tUpdated linked list: -1 → -2 → -3 → -4 → -6 → -5 → null \n",
      "----------------------------------------------------------------------------------------------------\n",
      "3.\tInput linked list: 3 → 2 → 1 → null \n",
      "\tNew node to be added: 2\n",
      "\tUpdated linked list: 3 → 2 → 1 → 2 → null \n",
      "----------------------------------------------------------------------------------------------------\n",
      "4.\tInput linked list: \n",
      "\tNew node to be added: 0\n",
      "\tUpdated linked list: 0 → null \n",
      "----------------------------------------------------------------------------------------------------\n",
      "5.\tInput linked list: 1 → 2 → null \n",
      "\tNew node to be added: -98\n",
      "\tUpdated linked list: 1 → 2 → -98 → null \n",
      "----------------------------------------------------------------------------------------------------\n"
     ]
    }
   ],
   "source": [
    "\n",
    "\n",
    "inputs = [\n",
    "    [1, 2, 3, 4, 5],\n",
    "    [-1, -2, -3, -4, -6],\n",
    "    [3, 2, 1],\n",
    "    [],\n",
    "    [1, 2],\n",
    "]\n",
    "\n",
    "values = [4, -5, 2, 0, -98]\n",
    "\n",
    "for i in range(len(inputs)):\n",
    "    input_linked_list = LinkedList()\n",
    "    input_linked_list.create_linked_list(inputs[i])\n",
    "    \n",
    "    print(i+1, \".\\tInput linked list: \", sep=\"\", end=\"\")\n",
    "    print_list_with_forward_arrow(input_linked_list.head)\n",
    "    \n",
    "    print(\"\\n\\tNew node to be added: \", values[i], sep=\"\", end=\"\")\n",
    "    \n",
    "    print(\"\\n\\tUpdated linked list: \", end=\"\")\n",
    "    print_list_with_forward_arrow(insert_at_tail(input_linked_list.head, values[i]))\n",
    "    print(\"\\n\", \"-\" * 100, sep='')"
   ]
  },
  {
   "cell_type": "markdown",
   "metadata": {},
   "source": [
    "## Search in a singly Linked List\n"
   ]
  },
  {
   "cell_type": "markdown",
   "metadata": {},
   "source": [
    "Given the head of a singly linked list, search for a specific value. If the value is found, return TRUE; otherwise, return FALSE."
   ]
  },
  {
   "cell_type": "code",
   "execution_count": 17,
   "metadata": {},
   "outputs": [],
   "source": [
    "def search_linkedlist_for_value(head, value):\n",
    "    current_node = head\n",
    "    while current_node:\n",
    "        if current_node.data == value:\n",
    "            return True\n",
    "        current_node = current_node.next\n",
    "    return False"
   ]
  },
  {
   "cell_type": "markdown",
   "metadata": {},
   "source": [
    "Time complexity = O(n)\n",
    "\n",
    "Space complexity = O(1)"
   ]
  },
  {
   "cell_type": "code",
   "execution_count": 18,
   "metadata": {},
   "outputs": [
    {
     "name": "stdout",
     "output_type": "stream",
     "text": [
      "1.\tInput linked list: 10 → 20 → 30 → 40 → 50 → null \n",
      "\tSearched value:  50\n",
      "\n",
      "\tSingly linked list value found :  True\n",
      "\n",
      " ----------------------------------------------------------------------------------------------------\n",
      "2.\tInput linked list: -1 → -2 → -3 → -4 → -5 → -6 → null \n",
      "\tSearched value:  -7\n",
      "\n",
      "\tSingly linked list value found :  False\n",
      "\n",
      " ----------------------------------------------------------------------------------------------------\n",
      "3.\tInput linked list: 3 → 2 → 1 → null \n",
      "\tSearched value:  3\n",
      "\n",
      "\tSingly linked list value found :  True\n",
      "\n",
      " ----------------------------------------------------------------------------------------------------\n",
      "4.\tInput linked list: null\n",
      "\tSearched value:  55\n",
      "\n",
      "\tSingly linked list value found :  False\n",
      "\n",
      " ----------------------------------------------------------------------------------------------------\n",
      "5.\tInput linked list: 12 → null \n",
      "\tSearched value:  12\n",
      "\n",
      "\tSingly linked list value found :  True\n",
      "\n",
      " ----------------------------------------------------------------------------------------------------\n"
     ]
    }
   ],
   "source": [
    "inputs = [\n",
    "    [10, 20, 30, 40, 50],\n",
    "    [-1, -2, -3, -4, -5, -6],\n",
    "    [3, 2, 1],\n",
    "    [],\n",
    "    [12],\n",
    "]\n",
    "value = [50, -7, 3, 55, 12]\n",
    "\n",
    "for i in range(len(inputs)):\n",
    "    input_linked_list = LinkedList()\n",
    "    input_linked_list.create_linked_list(inputs[i])\n",
    "    if len(inputs[i]) == 0:\n",
    "        print(i+1, \".\\tInput linked list: null\", sep=\"\", end=\"\")\n",
    "    else:\n",
    "        print(i+1, \".\\tInput linked list: \", sep=\"\", end=\"\")\n",
    "    print_list_with_forward_arrow(input_linked_list.head)\n",
    "    print(\"\\n\\tSearched value: \", value[i] )\n",
    "    print(\"\\n\\tSingly linked list value found : \", search_linkedlist_for_value(input_linked_list.head, value[i]) )\n",
    "    print(\"\\n\", \"-\"*100)"
   ]
  },
  {
   "cell_type": "markdown",
   "metadata": {},
   "source": [
    "## Method 2 - Searching the value in a linked list recursively"
   ]
  },
  {
   "cell_type": "code",
   "execution_count": 20,
   "metadata": {},
   "outputs": [],
   "source": [
    "def search(head, value):\n",
    "    current_node = head\n",
    "    return searchRecursive(current_node, value)\n",
    "\n",
    "def searchRecursive(node, value):\n",
    "    #base case\n",
    "    if (not node):\n",
    "        return False\n",
    "    if (node.data == value):\n",
    "        return True\n",
    "    return searchRecursive(node.next, value) #Note here node.next is used"
   ]
  },
  {
   "cell_type": "markdown",
   "metadata": {},
   "source": [
    "Time Complexity - O(n)\n",
    "\n",
    "Space Complexity - O(n)\n",
    "\n",
    "\n",
    "The primary difference in space complexity stems from how the methods traverse the list:\n",
    "The iterative method uses a single loop, maintaining constant space usage.\n",
    "The recursive method creates a new function call for each node, potentially using space proportional to the list's length."
   ]
  },
  {
   "cell_type": "code",
   "execution_count": 21,
   "metadata": {},
   "outputs": [
    {
     "name": "stdout",
     "output_type": "stream",
     "text": [
      "1.\tInput linked list: 10 → 20 → 30 → 40 → 50 → null \n",
      "\tSearched value:  50\n",
      "\n",
      "\tSingly linked list value found :  True\n",
      "\n",
      " ----------------------------------------------------------------------------------------------------\n",
      "2.\tInput linked list: -1 → -2 → -3 → -4 → -5 → -6 → null \n",
      "\tSearched value:  -7\n",
      "\n",
      "\tSingly linked list value found :  False\n",
      "\n",
      " ----------------------------------------------------------------------------------------------------\n",
      "3.\tInput linked list: 3 → 2 → 1 → null \n",
      "\tSearched value:  3\n",
      "\n",
      "\tSingly linked list value found :  True\n",
      "\n",
      " ----------------------------------------------------------------------------------------------------\n",
      "4.\tInput linked list: null\n",
      "\tSearched value:  55\n",
      "\n",
      "\tSingly linked list value found :  False\n",
      "\n",
      " ----------------------------------------------------------------------------------------------------\n",
      "5.\tInput linked list: 12 → null \n",
      "\tSearched value:  12\n",
      "\n",
      "\tSingly linked list value found :  True\n",
      "\n",
      " ----------------------------------------------------------------------------------------------------\n"
     ]
    }
   ],
   "source": [
    "inputs = [\n",
    "    [10, 20, 30, 40, 50],\n",
    "    [-1, -2, -3, -4, -5, -6],\n",
    "    [3, 2, 1],\n",
    "    [],\n",
    "    [12],\n",
    "]\n",
    "value = [50, -7, 3, 55, 12]\n",
    "\n",
    "for i in range(len(inputs)):\n",
    "    input_linked_list = LinkedList()\n",
    "    input_linked_list.create_linked_list(inputs[i])\n",
    "    if len(inputs[i]) == 0:\n",
    "        print(i+1, \".\\tInput linked list: null\", sep=\"\", end=\"\")\n",
    "    else:\n",
    "        print(i+1, \".\\tInput linked list: \", sep=\"\", end=\"\")\n",
    "    print_list_with_forward_arrow(input_linked_list.head)\n",
    "    print(\"\\n\\tSearched value: \", value[i] )\n",
    "    print(\"\\n\\tSingly linked list value found : \", search(input_linked_list.head, value[i]) )\n",
    "    print(\"\\n\", \"-\"*100)\n"
   ]
  },
  {
   "cell_type": "markdown",
   "metadata": {},
   "source": []
  },
  {
   "cell_type": "markdown",
   "metadata": {},
   "source": []
  },
  {
   "cell_type": "markdown",
   "metadata": {},
   "source": [
    "## Deletion by Value\n",
    "\n",
    "Given the head of a singly linked list and a value to be deleted from the linked list, if the value exists in the linked list, delete the value and return TRUE. Otherwise, return FALSE."
   ]
  },
  {
   "cell_type": "code",
   "execution_count": 26,
   "metadata": {},
   "outputs": [],
   "source": [
    "def del_list_value(head, value):\n",
    "    previous = None\n",
    "    current = head\n",
    "    deleted = False\n",
    "    \n",
    "    if current.data == value:\n",
    "        head = head.next\n",
    "        deleted = True\n",
    "        return deleted\n",
    "    \n",
    "    while current is not None:\n",
    "        if current.data == value:\n",
    "            previous.next = current.next\n",
    "            current.next = None #assigning no value to the deleted current node\n",
    "            deleted = True\n",
    "            break\n",
    "        previous = current\n",
    "        current = current.next\n",
    "        \n",
    "    return deleted\n"
   ]
  },
  {
   "cell_type": "markdown",
   "metadata": {},
   "source": [
    "Time complexity - O(n)\n",
    "\n",
    "Space complexity - O(1)"
   ]
  },
  {
   "cell_type": "code",
   "execution_count": 27,
   "metadata": {},
   "outputs": [
    {
     "name": "stdout",
     "output_type": "stream",
     "text": [
      "1.\tInput linked list: 10 → 20 → 30 → 40 → 50 → null \n",
      "\tValue to be deleted: 30\n",
      "\n",
      "\tResult:  True\n",
      " ----------------------------------------------------------------------------------------------------\n",
      "2.\tInput linked list: -1 → -2 → -3 → -4 → -5 → -6 → null \n",
      "\tValue to be deleted: -8\n",
      "\n",
      "\tResult:  False\n",
      " ----------------------------------------------------------------------------------------------------\n",
      "3.\tInput linked list: 3 → 2 → 1 → null \n",
      "\tValue to be deleted: 3\n",
      "\n",
      "\tResult:  True\n",
      " ----------------------------------------------------------------------------------------------------\n",
      "4.\tInput linked list: 12 → null \n",
      "\tValue to be deleted: 12\n",
      "\n",
      "\tResult:  True\n",
      " ----------------------------------------------------------------------------------------------------\n",
      "5.\tInput linked list: 1 → 2 → null \n",
      "\tValue to be deleted: 1\n",
      "\n",
      "\tResult:  True\n",
      " ----------------------------------------------------------------------------------------------------\n"
     ]
    }
   ],
   "source": [
    "inputs = [\n",
    "    [10, 20, 30, 40, 50],\n",
    "    [-1, -2, -3, -4, -5, -6],\n",
    "    [3, 2, 1],\n",
    "    [12],\n",
    "    [1, 2],\n",
    "]\n",
    "\n",
    "values = [30, -8, 3, 12, 1]\n",
    "\n",
    "for i in range(len(inputs)):\n",
    "    input_linked_list = LinkedList()\n",
    "    input_linked_list.create_linked_list(inputs[i])\n",
    "    print(i+1, \".\\tInput linked list: \", sep=\"\", end=\"\")\n",
    "    print_list_with_forward_arrow(input_linked_list.head)\n",
    "    print(\"\\n\\tValue to be deleted: \", values[i], sep=\"\", end=\"\")\n",
    "    print(\"\\n\\n\\tResult: \", del_list_value(input_linked_list.head, values[i]), end=\"\")\n",
    "    print(\"\\n\", \"-\"*100)"
   ]
  },
  {
   "cell_type": "markdown",
   "metadata": {},
   "source": [
    "## Find the length of the linked list\n",
    "\n",
    "Given the head of a singly linked list, find the length of the linked list."
   ]
  },
  {
   "cell_type": "code",
   "execution_count": 29,
   "metadata": {},
   "outputs": [],
   "source": [
    "def list_length(head):\n",
    "    current_node = head\n",
    "    count = 0\n",
    "    if current_node is None:\n",
    "        return count\n",
    "    while current_node is not None:\n",
    "        current_node = current_node.next\n",
    "        count += 1\n",
    "    return count\n",
    "        "
   ]
  },
  {
   "cell_type": "markdown",
   "metadata": {},
   "source": [
    "Time Complexity - O(n)\n",
    "\n",
    "Space Complexity - O(1)\n",
    "\n"
   ]
  },
  {
   "cell_type": "code",
   "execution_count": 30,
   "metadata": {},
   "outputs": [
    {
     "name": "stdout",
     "output_type": "stream",
     "text": [
      "1.\tInput linked list: 10 → 20 → 30 → 40 → 50 → null \n",
      "\tLength of linked list: 5\n",
      "\n",
      " ----------------------------------------------------------------------------------------------------\n",
      "2.\tInput linked list: -1 → -2 → -3 → -4 → -5 → -6 → null \n",
      "\tLength of linked list: 6\n",
      "\n",
      " ----------------------------------------------------------------------------------------------------\n",
      "3.\tInput linked list: 3 → 2 → 1 → null \n",
      "\tLength of linked list: 3\n",
      "\n",
      " ----------------------------------------------------------------------------------------------------\n",
      "4.\tInput linked list: null\n",
      "\tLength of linked list: 0\n",
      "\n",
      " ----------------------------------------------------------------------------------------------------\n",
      "5.\tInput linked list: 12 → null \n",
      "\tLength of linked list: 1\n",
      "\n",
      " ----------------------------------------------------------------------------------------------------\n"
     ]
    }
   ],
   "source": [
    "\n",
    "inputs = [\n",
    "    [10, 20, 30, 40, 50],\n",
    "    [-1, -2, -3, -4, -5, -6],\n",
    "    [3, 2, 1],\n",
    "    [],\n",
    "    [12],\n",
    "]\n",
    "\n",
    "for i in range(len(inputs)):\n",
    "    input_linked_list = LinkedList()\n",
    "    input_linked_list.create_linked_list(inputs[i])\n",
    "    if len(inputs[i]) == 0:\n",
    "        print(i+1, \".\\tInput linked list: null\", sep=\"\", end=\"\")\n",
    "    else:\n",
    "        print(i+1, \".\\tInput linked list: \", sep=\"\", end=\"\")\n",
    "    print_list_with_forward_arrow(input_linked_list.head)\n",
    "    print(\"\\n\\tLength of linked list: \", end=\"\")\n",
    "    print(list_length(input_linked_list.head))\n",
    "    print(\"\\n\", \"-\"*100)\n"
   ]
  },
  {
   "cell_type": "markdown",
   "metadata": {},
   "source": [
    "## Reverse a linked list\n",
    "Given the head of a singly linked list, reverse the linked list and return its updated head."
   ]
  },
  {
   "cell_type": "code",
   "execution_count": null,
   "metadata": {},
   "outputs": [],
   "source": [
    "#method 1 iteratively\n",
    "\n",
    "def reverse_linked_list(head):\n",
    "    curr = head\n",
    "    prev = None\n",
    "    while curr:\n",
    "        temp = curr.next\n",
    "        curr.next = prev\n",
    "        prev = curr\n",
    "        curr = temp\n",
    "    return prev  #because curr will move tp None and prev will become current - the new head\n",
    "    "
   ]
  },
  {
   "cell_type": "code",
   "execution_count": null,
   "metadata": {},
   "outputs": [],
   "source": []
  },
  {
   "cell_type": "code",
   "execution_count": null,
   "metadata": {},
   "outputs": [],
   "source": []
  },
  {
   "cell_type": "markdown",
   "metadata": {},
   "source": []
  }
 ],
 "metadata": {
  "kernelspec": {
   "display_name": "base",
   "language": "python",
   "name": "python3"
  },
  "language_info": {
   "codemirror_mode": {
    "name": "ipython",
    "version": 3
   },
   "file_extension": ".py",
   "mimetype": "text/x-python",
   "name": "python",
   "nbconvert_exporter": "python",
   "pygments_lexer": "ipython3",
   "version": "3.11.5"
  }
 },
 "nbformat": 4,
 "nbformat_minor": 2
}

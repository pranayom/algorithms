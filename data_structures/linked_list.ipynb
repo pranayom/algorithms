{
 "cells": [
  {
   "cell_type": "markdown",
   "metadata": {},
   "source": [
    "## Linked List"
   ]
  },
  {
   "cell_type": "code",
   "execution_count": 13,
   "metadata": {},
   "outputs": [],
   "source": [
    "class Node:\n",
    "    def __init__(self, data):\n",
    "        self.data = data\n",
    "        self.next_element = None\n"
   ]
  },
  {
   "cell_type": "code",
   "execution_count": 14,
   "metadata": {},
   "outputs": [],
   "source": [
    "class LinkedList:\n",
    "    def __init__(self):\n",
    "        self.head_node = None"
   ]
  },
  {
   "cell_type": "markdown",
   "metadata": {},
   "source": [
    "## get_head()\n",
    "\n",
    "\n",
    "This method simply returns the head node of our linked list\n",
    "\n",
    "Time complexity is O(1) as we just return out the head"
   ]
  },
  {
   "cell_type": "code",
   "execution_count": 32,
   "metadata": {},
   "outputs": [],
   "source": [
    "class LinkedList:\n",
    "    def __init__(self):\n",
    "        self.head_node = None #5\n",
    "        \n",
    "    def get_head(self):\n",
    "        return self.head_node\n"
   ]
  },
  {
   "cell_type": "code",
   "execution_count": 10,
   "metadata": {},
   "outputs": [
    {
     "name": "stdout",
     "output_type": "stream",
     "text": [
      "None\n"
     ]
    }
   ],
   "source": [
    "lst = LinkedList()\n",
    "print(lst.get_head()) #5"
   ]
  },
  {
   "cell_type": "markdown",
   "metadata": {},
   "source": [
    "## is_empty()\n",
    "\n",
    "The basic condition for our list to be considered empty is that there are no nodes in the list. This implies that head points to None.\n",
    "\n",
    "Time complexity is O(1)"
   ]
  },
  {
   "cell_type": "code",
   "execution_count": 20,
   "metadata": {},
   "outputs": [],
   "source": [
    "class LinkedList:\n",
    "    def __init__(self):\n",
    "        self.head_node = None\n",
    "        \n",
    "    def get_head(self):\n",
    "        return self.head_node\n",
    "    \n",
    "    def is_empty(self):\n",
    "        return self.head_node == None"
   ]
  },
  {
   "cell_type": "code",
   "execution_count": 12,
   "metadata": {},
   "outputs": [
    {
     "name": "stdout",
     "output_type": "stream",
     "text": [
      "True\n"
     ]
    }
   ],
   "source": [
    "lst = LinkedList()  # Linked List created\n",
    "print(lst.is_empty())  # Returns true"
   ]
  },
  {
   "cell_type": "markdown",
   "metadata": {},
   "source": [
    "## Single LinkedList Insertion\n"
   ]
  },
  {
   "cell_type": "markdown",
   "metadata": {},
   "source": [
    "The three types of insertion strategies used in singly linked-lists are:\n",
    "\n",
    "Insertion at the head\n",
    "\n",
    "Insertion at the tail\n",
    "\n",
    "Insertion at the kth index"
   ]
  },
  {
   "cell_type": "code",
   "execution_count": 34,
   "metadata": {},
   "outputs": [],
   "source": [
    "class LinkedList:\n",
    "    def __init__(self):\n",
    "        self.head_node= None\n",
    "        \n",
    "    def get_head(self):\n",
    "        return self.head_node\n",
    "    \n",
    "    #Insertion at head\n",
    "    \n",
    "    def insert_at_head(self, data):\n",
    "        #Create a new node containing a specified value\n",
    "        temp_node = Node(data)\n",
    "        #The new node pointss to the same node as the head\n",
    "        temp_node.next_element = self.head_node\n",
    "        self.head_node = temp_node #Make the head point to the new node        \n",
    "        return self.head_node #return the new list\n",
    "    \n",
    "    def is_empty(self):\n",
    "        return self.head_node == None\n",
    "        \n",
    "        \n",
    "    def print_list(self):\n",
    "        if (self.is_empty()):\n",
    "            print(\"List is empty\")\n",
    "            return False\n",
    "        temp = self.head_node\n",
    "        while temp.next_element is not None:\n",
    "            print(temp.data, end= ' -> ')\n",
    "            temp = temp.next_element\n",
    "        print(temp.data, end = ' -> None')\n",
    "        return True\n",
    "            \n",
    "        "
   ]
  },
  {
   "cell_type": "code",
   "execution_count": 19,
   "metadata": {},
   "outputs": [
    {
     "name": "stdout",
     "output_type": "stream",
     "text": [
      "List is empty\n",
      "Inserting values in list\n",
      "9 -> 8 -> 7 -> 6 -> 5 -> 4 -> 3 -> 2 -> 1 -> None"
     ]
    },
    {
     "data": {
      "text/plain": [
       "True"
      ]
     },
     "execution_count": 19,
     "metadata": {},
     "output_type": "execute_result"
    }
   ],
   "source": [
    "\n",
    "list = LinkedList()\n",
    "list.print_list()\n",
    "\n",
    "print(\"Inserting values in list\")\n",
    "for i in range(1, 10):\n",
    "    list.insert_at_head(i)\n",
    "list.print_list()"
   ]
  },
  {
   "cell_type": "markdown",
   "metadata": {},
   "source": [
    "## Delete at head"
   ]
  },
  {
   "cell_type": "code",
   "execution_count": 29,
   "metadata": {},
   "outputs": [],
   "source": [
    "def delete_at_head(lst):\n",
    "    first_element = lst.get_head()\n",
    "    \n",
    "    #if list is not empty then link delete_at_headto the next element of first element\n",
    "    \n",
    "    if first_element is not None:\n",
    "        lst.head_node = first_element.next_element\n",
    "        first_element.next_element = None\n",
    "    return\n"
   ]
  },
  {
   "cell_type": "code",
   "execution_count": 35,
   "metadata": {},
   "outputs": [
    {
     "name": "stdout",
     "output_type": "stream",
     "text": [
      "10 -> 9 -> 8 -> 7 -> 6 -> 5 -> 4 -> 3 -> 2 -> 1 -> 0 -> None"
     ]
    },
    {
     "data": {
      "text/plain": [
       "True"
      ]
     },
     "execution_count": 35,
     "metadata": {},
     "output_type": "execute_result"
    }
   ],
   "source": [
    "lst = LinkedList()\n",
    "\n",
    "for i in range(11):\n",
    "    lst.insert_at_head(i)\n",
    "    \n",
    "lst.print_list()"
   ]
  },
  {
   "cell_type": "code",
   "execution_count": 36,
   "metadata": {},
   "outputs": [
    {
     "name": "stdout",
     "output_type": "stream",
     "text": [
      "9 -> 8 -> 7 -> 6 -> 5 -> 4 -> 3 -> 2 -> 1 -> 0 -> None"
     ]
    },
    {
     "data": {
      "text/plain": [
       "True"
      ]
     },
     "execution_count": 36,
     "metadata": {},
     "output_type": "execute_result"
    }
   ],
   "source": [
    "delete_at_head(lst)\n",
    "\n",
    "lst.print_list()"
   ]
  },
  {
   "cell_type": "markdown",
   "metadata": {},
   "source": []
  }
 ],
 "metadata": {
  "kernelspec": {
   "display_name": "base",
   "language": "python",
   "name": "python3"
  },
  "language_info": {
   "codemirror_mode": {
    "name": "ipython",
    "version": 3
   },
   "file_extension": ".py",
   "mimetype": "text/x-python",
   "name": "python",
   "nbconvert_exporter": "python",
   "pygments_lexer": "ipython3",
   "version": "3.11.5"
  }
 },
 "nbformat": 4,
 "nbformat_minor": 2
}

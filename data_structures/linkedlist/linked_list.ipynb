{
 "cells": [
  {
   "cell_type": "code",
   "execution_count": 4,
   "metadata": {},
   "outputs": [],
   "source": [
    "from LinkedListNode import LinkedListNode\n",
    "from LinkedList import LinkedList"
   ]
  },
  {
   "cell_type": "code",
   "execution_count": 5,
   "metadata": {},
   "outputs": [],
   "source": [
    "def print_list_with_forward_arrow(linked_list_node):\n",
    "    temp = linked_list_node\n",
    "    while temp:\n",
    "        print(temp.data, end=\" \")  # print node value\n",
    "        \n",
    "        temp = temp.next\n",
    "        if temp:\n",
    "            print(\"→\", end=\" \")\n",
    "        else:\n",
    "            # If this is the last node, print null at the end\n",
    "            print(\"→ null\", end=\" \")\n",
    "            \n",
    "\n",
    "\n",
    "def print_list_with_forward_arrow_cycle(linked_list_node):\n",
    "    temp = linked_list_node\n",
    "    while temp:\n",
    "        print(temp.data, end=\" \")  # print node value\n",
    "        \n",
    "        temp = temp.next\n",
    "        if temp:\n",
    "            print(\"→\", end=\" \")     "
   ]
  },
  {
   "cell_type": "markdown",
   "metadata": {},
   "source": [
    "## Linked List"
   ]
  },
  {
   "cell_type": "code",
   "execution_count": 9,
   "metadata": {},
   "outputs": [],
   "source": [
    "class Node:\n",
    "    def __init__(self, data):\n",
    "        self.data = data\n",
    "        self.next_element = None\n"
   ]
  },
  {
   "cell_type": "code",
   "execution_count": 10,
   "metadata": {},
   "outputs": [],
   "source": [
    "class LinkedList:\n",
    "    def __init__(self):\n",
    "        self.head_node = None"
   ]
  },
  {
   "cell_type": "markdown",
   "metadata": {},
   "source": [
    "## get_head()\n",
    "\n",
    "\n",
    "This method simply returns the head node of our linked list\n",
    "\n",
    "Time complexity is O(1) as we just return out the head"
   ]
  },
  {
   "cell_type": "code",
   "execution_count": 32,
   "metadata": {},
   "outputs": [],
   "source": [
    "class LinkedList:\n",
    "    def __init__(self):\n",
    "        self.head_node = None #5\n",
    "        \n",
    "    def get_head(self):\n",
    "        return self.head_node\n"
   ]
  },
  {
   "cell_type": "code",
   "execution_count": 10,
   "metadata": {},
   "outputs": [
    {
     "name": "stdout",
     "output_type": "stream",
     "text": [
      "None\n"
     ]
    }
   ],
   "source": [
    "lst = LinkedList()\n",
    "print(lst.get_head()) #5"
   ]
  },
  {
   "cell_type": "markdown",
   "metadata": {},
   "source": [
    "## is_empty()\n",
    "\n",
    "The basic condition for our list to be considered empty is that there are no nodes in the list. This implies that head points to None.\n",
    "\n",
    "Time complexity is O(1)"
   ]
  },
  {
   "cell_type": "code",
   "execution_count": 20,
   "metadata": {},
   "outputs": [],
   "source": [
    "class LinkedList:\n",
    "    def __init__(self):\n",
    "        self.head_node = None\n",
    "        \n",
    "    def get_head(self):\n",
    "        return self.head_node\n",
    "    \n",
    "    def is_empty(self):\n",
    "        return self.head_node == None"
   ]
  },
  {
   "cell_type": "code",
   "execution_count": 12,
   "metadata": {},
   "outputs": [
    {
     "name": "stdout",
     "output_type": "stream",
     "text": [
      "True\n"
     ]
    }
   ],
   "source": [
    "lst = LinkedList()  # Linked List created\n",
    "print(lst.is_empty())  # Returns true"
   ]
  },
  {
   "cell_type": "markdown",
   "metadata": {},
   "source": [
    "## Single LinkedList Insertion\n"
   ]
  },
  {
   "cell_type": "markdown",
   "metadata": {},
   "source": [
    "The three types of insertion strategies used in singly linked-lists are:\n",
    "\n",
    "Insertion at the head\n",
    "\n",
    "Insertion at the tail\n",
    "\n",
    "Insertion at the kth index"
   ]
  },
  {
   "cell_type": "code",
   "execution_count": 34,
   "metadata": {},
   "outputs": [],
   "source": [
    "class LinkedList:\n",
    "    def __init__(self):\n",
    "        self.head_node= None\n",
    "        \n",
    "    def get_head(self):\n",
    "        return self.head_node\n",
    "    \n",
    "    #Insertion at head\n",
    "    \n",
    "    def insert_at_head(self, data):\n",
    "        #Create a new node containing a specified value\n",
    "        temp_node = Node(data)\n",
    "        #The new node pointss to the same node as the head\n",
    "        temp_node.next_element = self.head_node\n",
    "        self.head_node = temp_node #Make the head point to the new node        \n",
    "        return self.head_node #return the new list\n",
    "    \n",
    "    def is_empty(self):\n",
    "        return self.head_node == None\n",
    "        \n",
    "        \n",
    "    def print_list(self):\n",
    "        if (self.is_empty()):\n",
    "            print(\"List is empty\")\n",
    "            return False\n",
    "        temp = self.head_node\n",
    "        while temp.next_element is not None:\n",
    "            print(temp.data, end= ' -> ')\n",
    "            temp = temp.next_element\n",
    "        print(temp.data, end = ' -> None')\n",
    "        return True\n",
    "            \n",
    "        "
   ]
  },
  {
   "cell_type": "code",
   "execution_count": 19,
   "metadata": {},
   "outputs": [
    {
     "name": "stdout",
     "output_type": "stream",
     "text": [
      "List is empty\n",
      "Inserting values in list\n",
      "9 -> 8 -> 7 -> 6 -> 5 -> 4 -> 3 -> 2 -> 1 -> None"
     ]
    },
    {
     "data": {
      "text/plain": [
       "True"
      ]
     },
     "execution_count": 19,
     "metadata": {},
     "output_type": "execute_result"
    }
   ],
   "source": [
    "\n",
    "list = LinkedList()\n",
    "list.print_list()\n",
    "\n",
    "print(\"Inserting values in list\")\n",
    "for i in range(1, 10):\n",
    "    list.insert_at_head(i)\n",
    "list.print_list()"
   ]
  },
  {
   "cell_type": "markdown",
   "metadata": {},
   "source": [
    "## Delete at head"
   ]
  },
  {
   "cell_type": "code",
   "execution_count": 29,
   "metadata": {},
   "outputs": [],
   "source": [
    "def delete_at_head(lst):\n",
    "    first_element = lst.get_head()\n",
    "    \n",
    "    #if list is not empty then link delete_at_headto the next element of first element\n",
    "    \n",
    "    if first_element is not None:\n",
    "        lst.head_node = first_element.next_element\n",
    "        first_element.next_element = None\n",
    "    return\n"
   ]
  },
  {
   "cell_type": "code",
   "execution_count": 35,
   "metadata": {},
   "outputs": [
    {
     "name": "stdout",
     "output_type": "stream",
     "text": [
      "10 -> 9 -> 8 -> 7 -> 6 -> 5 -> 4 -> 3 -> 2 -> 1 -> 0 -> None"
     ]
    },
    {
     "data": {
      "text/plain": [
       "True"
      ]
     },
     "execution_count": 35,
     "metadata": {},
     "output_type": "execute_result"
    }
   ],
   "source": [
    "lst = LinkedList()\n",
    "\n",
    "for i in range(11):\n",
    "    lst.insert_at_head(i)\n",
    "    \n",
    "lst.print_list()"
   ]
  },
  {
   "cell_type": "code",
   "execution_count": 36,
   "metadata": {},
   "outputs": [
    {
     "name": "stdout",
     "output_type": "stream",
     "text": [
      "9 -> 8 -> 7 -> 6 -> 5 -> 4 -> 3 -> 2 -> 1 -> 0 -> None"
     ]
    },
    {
     "data": {
      "text/plain": [
       "True"
      ]
     },
     "execution_count": 36,
     "metadata": {},
     "output_type": "execute_result"
    }
   ],
   "source": [
    "delete_at_head(lst)\n",
    "\n",
    "lst.print_list()"
   ]
  },
  {
   "cell_type": "markdown",
   "metadata": {},
   "source": [
    "## Insert at tail"
   ]
  },
  {
   "cell_type": "markdown",
   "metadata": {},
   "source": [
    "Given the head of a linked list and a target, value, return the updated linked list head after adding the target value at the end of the linked list."
   ]
  },
  {
   "cell_type": "code",
   "execution_count": 11,
   "metadata": {},
   "outputs": [],
   "source": [
    "from LinkedListNode import LinkedListNode\n",
    "from LinkedList import LinkedList\n"
   ]
  },
  {
   "cell_type": "code",
   "execution_count": 12,
   "metadata": {},
   "outputs": [],
   "source": [
    "def print_list_with_forward_arrow(linked_list_node):\n",
    "    temp = linked_list_node\n",
    "    while temp:\n",
    "        print(temp.data, end=\" \")  # print node value\n",
    "        \n",
    "        temp = temp.next\n",
    "        if temp:\n",
    "            print(\"→\", end=\" \")\n",
    "        else:\n",
    "            # If this is the last node, print null at the end\n",
    "            print(\"→ null\", end=\" \")\n",
    "            \n",
    "\n",
    "\n",
    "def print_list_with_forward_arrow_cycle(linked_list_node):\n",
    "    temp = linked_list_node\n",
    "    while temp:\n",
    "        print(temp.data, end=\" \")  # print node value\n",
    "        \n",
    "        temp = temp.next\n",
    "        if temp:\n",
    "            print(\"→\", end=\" \")           \n"
   ]
  },
  {
   "cell_type": "code",
   "execution_count": 13,
   "metadata": {},
   "outputs": [],
   "source": [
    "def insert_at_tail(head, value):\n",
    "    new_node = LinkedListNode(value)\n",
    "    \n",
    "    if head is None:\n",
    "        head = new_node\n",
    "        return head\n",
    "    \n",
    "    current = head\n",
    "    while current.next:\n",
    "        current = current.next  #Move the current till the tail\n",
    "        \n",
    "    \n",
    "    current.next = new_node\n",
    "    return head"
   ]
  },
  {
   "cell_type": "code",
   "execution_count": 14,
   "metadata": {},
   "outputs": [
    {
     "name": "stdout",
     "output_type": "stream",
     "text": [
      "1.\tInput linked list: 1 → 2 → 3 → 4 → 5 → null \n",
      "\tNew node to be added: 4\n",
      "\tUpdated linked list: 1 → 2 → 3 → 4 → 5 → 4 → null \n",
      "----------------------------------------------------------------------------------------------------\n",
      "2.\tInput linked list: -1 → -2 → -3 → -4 → -6 → null \n",
      "\tNew node to be added: -5\n",
      "\tUpdated linked list: -1 → -2 → -3 → -4 → -6 → -5 → null \n",
      "----------------------------------------------------------------------------------------------------\n",
      "3.\tInput linked list: 3 → 2 → 1 → null \n",
      "\tNew node to be added: 2\n",
      "\tUpdated linked list: 3 → 2 → 1 → 2 → null \n",
      "----------------------------------------------------------------------------------------------------\n",
      "4.\tInput linked list: \n",
      "\tNew node to be added: 0\n",
      "\tUpdated linked list: 0 → null \n",
      "----------------------------------------------------------------------------------------------------\n",
      "5.\tInput linked list: 1 → 2 → null \n",
      "\tNew node to be added: -98\n",
      "\tUpdated linked list: 1 → 2 → -98 → null \n",
      "----------------------------------------------------------------------------------------------------\n"
     ]
    }
   ],
   "source": [
    "\n",
    "\n",
    "inputs = [\n",
    "    [1, 2, 3, 4, 5],\n",
    "    [-1, -2, -3, -4, -6],\n",
    "    [3, 2, 1],\n",
    "    [],\n",
    "    [1, 2],\n",
    "]\n",
    "\n",
    "values = [4, -5, 2, 0, -98]\n",
    "\n",
    "for i in range(len(inputs)):\n",
    "    input_linked_list = LinkedList()\n",
    "    input_linked_list.create_linked_list(inputs[i])\n",
    "    \n",
    "    print(i+1, \".\\tInput linked list: \", sep=\"\", end=\"\")\n",
    "    print_list_with_forward_arrow(input_linked_list.head)\n",
    "    \n",
    "    print(\"\\n\\tNew node to be added: \", values[i], sep=\"\", end=\"\")\n",
    "    \n",
    "    print(\"\\n\\tUpdated linked list: \", end=\"\")\n",
    "    print_list_with_forward_arrow(insert_at_tail(input_linked_list.head, values[i]))\n",
    "    print(\"\\n\", \"-\" * 100, sep='')"
   ]
  },
  {
   "cell_type": "markdown",
   "metadata": {},
   "source": [
    "## Search in a singly Linked List\n"
   ]
  },
  {
   "cell_type": "markdown",
   "metadata": {},
   "source": [
    "Given the head of a singly linked list, search for a specific value. If the value is found, return TRUE; otherwise, return FALSE."
   ]
  },
  {
   "cell_type": "code",
   "execution_count": 17,
   "metadata": {},
   "outputs": [],
   "source": [
    "def search_linkedlist_for_value(head, value):\n",
    "    current_node = head\n",
    "    while current_node:\n",
    "        if current_node.data == value:\n",
    "            return True\n",
    "        current_node = current_node.next\n",
    "    return False"
   ]
  },
  {
   "cell_type": "markdown",
   "metadata": {},
   "source": [
    "Time complexity = O(n)\n",
    "\n",
    "Space complexity = O(1)"
   ]
  },
  {
   "cell_type": "code",
   "execution_count": 18,
   "metadata": {},
   "outputs": [
    {
     "name": "stdout",
     "output_type": "stream",
     "text": [
      "1.\tInput linked list: 10 → 20 → 30 → 40 → 50 → null \n",
      "\tSearched value:  50\n",
      "\n",
      "\tSingly linked list value found :  True\n",
      "\n",
      " ----------------------------------------------------------------------------------------------------\n",
      "2.\tInput linked list: -1 → -2 → -3 → -4 → -5 → -6 → null \n",
      "\tSearched value:  -7\n",
      "\n",
      "\tSingly linked list value found :  False\n",
      "\n",
      " ----------------------------------------------------------------------------------------------------\n",
      "3.\tInput linked list: 3 → 2 → 1 → null \n",
      "\tSearched value:  3\n",
      "\n",
      "\tSingly linked list value found :  True\n",
      "\n",
      " ----------------------------------------------------------------------------------------------------\n",
      "4.\tInput linked list: null\n",
      "\tSearched value:  55\n",
      "\n",
      "\tSingly linked list value found :  False\n",
      "\n",
      " ----------------------------------------------------------------------------------------------------\n",
      "5.\tInput linked list: 12 → null \n",
      "\tSearched value:  12\n",
      "\n",
      "\tSingly linked list value found :  True\n",
      "\n",
      " ----------------------------------------------------------------------------------------------------\n"
     ]
    }
   ],
   "source": [
    "inputs = [\n",
    "    [10, 20, 30, 40, 50],\n",
    "    [-1, -2, -3, -4, -5, -6],\n",
    "    [3, 2, 1],\n",
    "    [],\n",
    "    [12],\n",
    "]\n",
    "value = [50, -7, 3, 55, 12]\n",
    "\n",
    "for i in range(len(inputs)):\n",
    "    input_linked_list = LinkedList()\n",
    "    input_linked_list.create_linked_list(inputs[i])\n",
    "    if len(inputs[i]) == 0:\n",
    "        print(i+1, \".\\tInput linked list: null\", sep=\"\", end=\"\")\n",
    "    else:\n",
    "        print(i+1, \".\\tInput linked list: \", sep=\"\", end=\"\")\n",
    "    print_list_with_forward_arrow(input_linked_list.head)\n",
    "    print(\"\\n\\tSearched value: \", value[i] )\n",
    "    print(\"\\n\\tSingly linked list value found : \", search_linkedlist_for_value(input_linked_list.head, value[i]) )\n",
    "    print(\"\\n\", \"-\"*100)"
   ]
  },
  {
   "cell_type": "markdown",
   "metadata": {},
   "source": [
    "## Method 2 - Searching the value in a linked list recursively"
   ]
  },
  {
   "cell_type": "code",
   "execution_count": 20,
   "metadata": {},
   "outputs": [],
   "source": [
    "def search(head, value):\n",
    "    current_node = head\n",
    "    return searchRecursive(current_node, value)\n",
    "\n",
    "def searchRecursive(node, value):\n",
    "    #base case\n",
    "    if (not node):\n",
    "        return False\n",
    "    if (node.data == value):\n",
    "        return True\n",
    "    return searchRecursive(node.next, value) #Note here node.next is used"
   ]
  },
  {
   "cell_type": "markdown",
   "metadata": {},
   "source": [
    "Time Complexity - O(n)\n",
    "\n",
    "Space Complexity - O(n)\n",
    "\n",
    "\n",
    "The primary difference in space complexity stems from how the methods traverse the list:\n",
    "The iterative method uses a single loop, maintaining constant space usage.\n",
    "The recursive method creates a new function call for each node, potentially using space proportional to the list's length."
   ]
  },
  {
   "cell_type": "code",
   "execution_count": 21,
   "metadata": {},
   "outputs": [
    {
     "name": "stdout",
     "output_type": "stream",
     "text": [
      "1.\tInput linked list: 10 → 20 → 30 → 40 → 50 → null \n",
      "\tSearched value:  50\n",
      "\n",
      "\tSingly linked list value found :  True\n",
      "\n",
      " ----------------------------------------------------------------------------------------------------\n",
      "2.\tInput linked list: -1 → -2 → -3 → -4 → -5 → -6 → null \n",
      "\tSearched value:  -7\n",
      "\n",
      "\tSingly linked list value found :  False\n",
      "\n",
      " ----------------------------------------------------------------------------------------------------\n",
      "3.\tInput linked list: 3 → 2 → 1 → null \n",
      "\tSearched value:  3\n",
      "\n",
      "\tSingly linked list value found :  True\n",
      "\n",
      " ----------------------------------------------------------------------------------------------------\n",
      "4.\tInput linked list: null\n",
      "\tSearched value:  55\n",
      "\n",
      "\tSingly linked list value found :  False\n",
      "\n",
      " ----------------------------------------------------------------------------------------------------\n",
      "5.\tInput linked list: 12 → null \n",
      "\tSearched value:  12\n",
      "\n",
      "\tSingly linked list value found :  True\n",
      "\n",
      " ----------------------------------------------------------------------------------------------------\n"
     ]
    }
   ],
   "source": [
    "inputs = [\n",
    "    [10, 20, 30, 40, 50],\n",
    "    [-1, -2, -3, -4, -5, -6],\n",
    "    [3, 2, 1],\n",
    "    [],\n",
    "    [12],\n",
    "]\n",
    "value = [50, -7, 3, 55, 12]\n",
    "\n",
    "for i in range(len(inputs)):\n",
    "    input_linked_list = LinkedList()\n",
    "    input_linked_list.create_linked_list(inputs[i])\n",
    "    if len(inputs[i]) == 0:\n",
    "        print(i+1, \".\\tInput linked list: null\", sep=\"\", end=\"\")\n",
    "    else:\n",
    "        print(i+1, \".\\tInput linked list: \", sep=\"\", end=\"\")\n",
    "    print_list_with_forward_arrow(input_linked_list.head)\n",
    "    print(\"\\n\\tSearched value: \", value[i] )\n",
    "    print(\"\\n\\tSingly linked list value found : \", search(input_linked_list.head, value[i]) )\n",
    "    print(\"\\n\", \"-\"*100)\n"
   ]
  },
  {
   "cell_type": "markdown",
   "metadata": {},
   "source": []
  },
  {
   "cell_type": "markdown",
   "metadata": {},
   "source": []
  },
  {
   "cell_type": "markdown",
   "metadata": {},
   "source": [
    "## Deletion by Value\n",
    "\n",
    "Given the head of a singly linked list and a value to be deleted from the linked list, if the value exists in the linked list, delete the value and return TRUE. Otherwise, return FALSE."
   ]
  },
  {
   "cell_type": "code",
   "execution_count": 26,
   "metadata": {},
   "outputs": [],
   "source": [
    "def del_list_value(head, value):\n",
    "    previous = None\n",
    "    current = head\n",
    "    deleted = False\n",
    "    \n",
    "    if current.data == value:\n",
    "        head = head.next\n",
    "        deleted = True\n",
    "        return deleted\n",
    "    \n",
    "    while current is not None:\n",
    "        if current.data == value:\n",
    "            previous.next = current.next\n",
    "            current.next = None #assigning no value to the deleted current node\n",
    "            deleted = True\n",
    "            break\n",
    "        previous = current\n",
    "        current = current.next\n",
    "        \n",
    "    return deleted\n"
   ]
  },
  {
   "cell_type": "markdown",
   "metadata": {},
   "source": [
    "Time complexity - O(n)\n",
    "\n",
    "Space complexity - O(1)"
   ]
  },
  {
   "cell_type": "code",
   "execution_count": 27,
   "metadata": {},
   "outputs": [
    {
     "name": "stdout",
     "output_type": "stream",
     "text": [
      "1.\tInput linked list: 10 → 20 → 30 → 40 → 50 → null \n",
      "\tValue to be deleted: 30\n",
      "\n",
      "\tResult:  True\n",
      " ----------------------------------------------------------------------------------------------------\n",
      "2.\tInput linked list: -1 → -2 → -3 → -4 → -5 → -6 → null \n",
      "\tValue to be deleted: -8\n",
      "\n",
      "\tResult:  False\n",
      " ----------------------------------------------------------------------------------------------------\n",
      "3.\tInput linked list: 3 → 2 → 1 → null \n",
      "\tValue to be deleted: 3\n",
      "\n",
      "\tResult:  True\n",
      " ----------------------------------------------------------------------------------------------------\n",
      "4.\tInput linked list: 12 → null \n",
      "\tValue to be deleted: 12\n",
      "\n",
      "\tResult:  True\n",
      " ----------------------------------------------------------------------------------------------------\n",
      "5.\tInput linked list: 1 → 2 → null \n",
      "\tValue to be deleted: 1\n",
      "\n",
      "\tResult:  True\n",
      " ----------------------------------------------------------------------------------------------------\n"
     ]
    }
   ],
   "source": [
    "inputs = [\n",
    "    [10, 20, 30, 40, 50],\n",
    "    [-1, -2, -3, -4, -5, -6],\n",
    "    [3, 2, 1],\n",
    "    [12],\n",
    "    [1, 2],\n",
    "]\n",
    "\n",
    "values = [30, -8, 3, 12, 1]\n",
    "\n",
    "for i in range(len(inputs)):\n",
    "    input_linked_list = LinkedList()\n",
    "    input_linked_list.create_linked_list(inputs[i])\n",
    "    print(i+1, \".\\tInput linked list: \", sep=\"\", end=\"\")\n",
    "    print_list_with_forward_arrow(input_linked_list.head)\n",
    "    print(\"\\n\\tValue to be deleted: \", values[i], sep=\"\", end=\"\")\n",
    "    print(\"\\n\\n\\tResult: \", del_list_value(input_linked_list.head, values[i]), end=\"\")\n",
    "    print(\"\\n\", \"-\"*100)"
   ]
  },
  {
   "cell_type": "markdown",
   "metadata": {},
   "source": [
    "## Find the length of the linked list\n",
    "\n",
    "Given the head of a singly linked list, find the length of the linked list."
   ]
  },
  {
   "cell_type": "code",
   "execution_count": 29,
   "metadata": {},
   "outputs": [],
   "source": [
    "def list_length(head):\n",
    "    current_node = head\n",
    "    count = 0\n",
    "    if current_node is None:\n",
    "        return count\n",
    "    while current_node is not None:\n",
    "        current_node = current_node.next\n",
    "        count += 1\n",
    "    return count\n",
    "        "
   ]
  },
  {
   "cell_type": "markdown",
   "metadata": {},
   "source": [
    "Time Complexity - O(n)\n",
    "\n",
    "Space Complexity - O(1)\n",
    "\n"
   ]
  },
  {
   "cell_type": "code",
   "execution_count": 30,
   "metadata": {},
   "outputs": [
    {
     "name": "stdout",
     "output_type": "stream",
     "text": [
      "1.\tInput linked list: 10 → 20 → 30 → 40 → 50 → null \n",
      "\tLength of linked list: 5\n",
      "\n",
      " ----------------------------------------------------------------------------------------------------\n",
      "2.\tInput linked list: -1 → -2 → -3 → -4 → -5 → -6 → null \n",
      "\tLength of linked list: 6\n",
      "\n",
      " ----------------------------------------------------------------------------------------------------\n",
      "3.\tInput linked list: 3 → 2 → 1 → null \n",
      "\tLength of linked list: 3\n",
      "\n",
      " ----------------------------------------------------------------------------------------------------\n",
      "4.\tInput linked list: null\n",
      "\tLength of linked list: 0\n",
      "\n",
      " ----------------------------------------------------------------------------------------------------\n",
      "5.\tInput linked list: 12 → null \n",
      "\tLength of linked list: 1\n",
      "\n",
      " ----------------------------------------------------------------------------------------------------\n"
     ]
    }
   ],
   "source": [
    "\n",
    "inputs = [\n",
    "    [10, 20, 30, 40, 50],\n",
    "    [-1, -2, -3, -4, -5, -6],\n",
    "    [3, 2, 1],\n",
    "    [],\n",
    "    [12],\n",
    "]\n",
    "\n",
    "for i in range(len(inputs)):\n",
    "    input_linked_list = LinkedList()\n",
    "    input_linked_list.create_linked_list(inputs[i])\n",
    "    if len(inputs[i]) == 0:\n",
    "        print(i+1, \".\\tInput linked list: null\", sep=\"\", end=\"\")\n",
    "    else:\n",
    "        print(i+1, \".\\tInput linked list: \", sep=\"\", end=\"\")\n",
    "    print_list_with_forward_arrow(input_linked_list.head)\n",
    "    print(\"\\n\\tLength of linked list: \", end=\"\")\n",
    "    print(list_length(input_linked_list.head))\n",
    "    print(\"\\n\", \"-\"*100)\n"
   ]
  },
  {
   "cell_type": "markdown",
   "metadata": {},
   "source": [
    "## Reverse a linked list\n",
    "Given the head of a singly linked list, reverse the linked list and return its updated head."
   ]
  },
  {
   "cell_type": "code",
   "execution_count": null,
   "metadata": {},
   "outputs": [],
   "source": [
    "#method 1 iteratively\n",
    "\n",
    "def reverse_linked_list(head):\n",
    "    curr = head\n",
    "    prev = None\n",
    "    while curr:\n",
    "        temp = curr.next\n",
    "        curr.next = prev\n",
    "        prev = curr\n",
    "        curr = temp\n",
    "    return prev  #because curr will move tp None and prev will become current - the new head\n",
    "    "
   ]
  },
  {
   "cell_type": "markdown",
   "metadata": {},
   "source": [
    "Space complexity - O(1)\n",
    "Time complexity - O(n)\n",
    "\n",
    "The time complexity is O(n) because both solutions iterate through the linked list once, where n is the number of nodes in the list. The space complexity is O(1) as they use a constant amount of extra space regardless of the input size."
   ]
  },
  {
   "cell_type": "code",
   "execution_count": 1,
   "metadata": {},
   "outputs": [],
   "source": [
    "# method 2  Recursively\n",
    "\n",
    "def reverse_linked_list(head):\n",
    "    \n",
    "    #Base case\n",
    "    if head is None or head.next is None:\n",
    "        return head\n",
    "    \n",
    "    #Recursive case\n",
    "    rest = reverse_linked_list(head.next)\n",
    "    head.next.next = head\n",
    "    head.next = None\n",
    "    \n",
    "    return rest"
   ]
  },
  {
   "cell_type": "markdown",
   "metadata": {},
   "source": [
    "Time complexity -O(n)\n",
    "Space complexity - O(n)"
   ]
  },
  {
   "cell_type": "code",
   "execution_count": 5,
   "metadata": {},
   "outputs": [
    {
     "name": "stdout",
     "output_type": "stream",
     "text": [
      "1.\tInput linked list: 10 → 20 → 30 → 40 → 50 → null \n",
      "\tReversed linked list: 50 → 40 → 30 → 20 → 10 → null \n",
      " ----------------------------------------------------------------------------------------------------\n",
      "2.\tInput linked list: -1 → -2 → -3 → -4 → -5 → -6 → null \n",
      "\tReversed linked list: -6 → -5 → -4 → -3 → -2 → -1 → null \n",
      " ----------------------------------------------------------------------------------------------------\n",
      "3.\tInput linked list: 3 → 2 → 1 → null \n",
      "\tReversed linked list: 1 → 2 → 3 → null \n",
      " ----------------------------------------------------------------------------------------------------\n",
      "4.\tInput linked list: 12 → null \n",
      "\tReversed linked list: 12 → null \n",
      " ----------------------------------------------------------------------------------------------------\n",
      "5.\tInput linked list: 1 → 2 → null \n",
      "\tReversed linked list: 2 → 1 → null \n",
      " ----------------------------------------------------------------------------------------------------\n"
     ]
    }
   ],
   "source": [
    "inputs = [\n",
    "    [10, 20, 30, 40, 50],\n",
    "    [-1, -2, -3, -4, -5, -6],\n",
    "    [3, 2, 1],\n",
    "    [12],\n",
    "    [1, 2],\n",
    "]\n",
    "\n",
    "for i in range(len(inputs)):\n",
    "    input_linked_list = LinkedList()\n",
    "    input_linked_list.create_linked_list(inputs[i])\n",
    "    print(i+1, \".\\tInput linked list: \", sep=\"\", end=\"\")\n",
    "    print_list_with_forward_arrow(input_linked_list.head)\n",
    "    print(\"\\n\\tReversed linked list: \", end=\"\")\n",
    "    print_list_with_forward_arrow(reverse_linked_list(input_linked_list.head))\n",
    "    print(\"\\n\", \"-\"*100)"
   ]
  },
  {
   "cell_type": "markdown",
   "metadata": {},
   "source": [
    "## Linked list cycle\n",
    "\n",
    "Given the head of a linked list, check whether or not a cycle is present in the linked list. A cycle is present in a linked list if at least one node can be reached again by traversing the next pointer. If a cycle exists, return TRUE; otherwise, return FALSE."
   ]
  },
  {
   "cell_type": "code",
   "execution_count": 16,
   "metadata": {},
   "outputs": [],
   "source": [
    "def hasCycle(head: LinkedListNode)-> bool:\n",
    "    slow, fast = head, head\n",
    "    while fast and fast.next:\n",
    "        slow = slow.next\n",
    "        fast = fast.next.next\n",
    "        if slow == fast:\n",
    "            return True\n",
    "    return False"
   ]
  },
  {
   "cell_type": "code",
   "execution_count": 17,
   "metadata": {},
   "outputs": [
    {
     "name": "stdout",
     "output_type": "stream",
     "text": [
      "1.\tInput: 2 → 4 → 6 → 8 → 10 → 12 \n",
      "\tPosition: 0\n",
      "\n",
      "\tDetected cycle = True\n",
      "---------------------------------------------------------------------------------------------------- \n",
      "\n",
      "2.\tInput: 1 → 3 → 5 → 7 → 9 → 11 → null \n",
      "\tPosition: -1\n",
      "\n",
      "\tDetected cycle = False\n",
      "---------------------------------------------------------------------------------------------------- \n",
      "\n",
      "3.\tInput: 0 → 1 → 2 → 3 → 4 → 6 \n",
      "\tPosition: 1\n",
      "\n",
      "\tDetected cycle = True\n",
      "---------------------------------------------------------------------------------------------------- \n",
      "\n",
      "4.\tInput: 3 → 4 → 7 → 9 → 11 → 17 → null \n",
      "\tPosition: -1\n",
      "\n",
      "\tDetected cycle = False\n",
      "---------------------------------------------------------------------------------------------------- \n",
      "\n",
      "5.\tInput: 5 → 1 → 4 → 9 → 2 → 3 \n",
      "\tPosition: 2\n",
      "\n",
      "\tDetected cycle = True\n",
      "---------------------------------------------------------------------------------------------------- \n",
      "\n"
     ]
    }
   ],
   "source": [
    "input = (\n",
    "            [2, 4, 6, 8, 10, 12],\n",
    "            [1, 3, 5, 7, 9, 11],\n",
    "            [0, 1, 2, 3, 4, 6],\n",
    "            [3, 4, 7, 9, 11, 17],\n",
    "            [5, 1, 4, 9, 2, 3],\n",
    "        )\n",
    "pos = [0, -1, 1, -1, 2]\n",
    "j = 1\n",
    "\n",
    "for i in range(len(input)):\n",
    "\n",
    "    input_linked_list = LinkedList()\n",
    "    input_linked_list.create_linked_list(input[i])\n",
    "    print(f\"{j}.\\tInput: \", sep=\"\", end=\"\")\n",
    "    if pos[i] == -1:\n",
    "        print_list_with_forward_arrow(input_linked_list.head)\n",
    "    else:\n",
    "        print_list_with_forward_arrow_cycle(input_linked_list.head)\n",
    "    print(\"\\n\\tPosition:\", pos[i])\n",
    "    if pos[i] != -1:\n",
    "        length = input_linked_list.get_length(input_linked_list.head)\n",
    "        last_node = input_linked_list.get_node(input_linked_list.head, length - 1)\n",
    "        last_node.next = input_linked_list.get_node(input_linked_list.head, pos[i])\n",
    "\n",
    "    print(f\"\\n\\tDetected cycle = {hasCycle(input_linked_list.head)}\")\n",
    "    j += 1\n",
    "    print(\"-\"*100, \"\\n\")"
   ]
  },
  {
   "cell_type": "markdown",
   "metadata": {},
   "source": [
    "## Middle of the linked list\n",
    "\n",
    "Given the head of a singly linked list, return the middle node of the linked list. If there are two middle nodes, return the second middle node. "
   ]
  },
  {
   "cell_type": "code",
   "execution_count": 6,
   "metadata": {},
   "outputs": [],
   "source": [
    "from typing import Optional\n",
    "def middleNode(head: Optional[LinkedListNode]) -> Optional[LinkedListNode]:\n",
    "    slow, fast = head, head\n",
    "    while fast and fast.next:\n",
    "        slow = slow.next\n",
    "        fast = fast.next.next\n",
    "    return slow\n",
    "    \n",
    "    "
   ]
  },
  {
   "cell_type": "markdown",
   "metadata": {},
   "source": [
    "Time complexity O(n)\n",
    "\n",
    "Space complexity O(n)"
   ]
  },
  {
   "cell_type": "code",
   "execution_count": 14,
   "metadata": {},
   "outputs": [
    {
     "name": "stdout",
     "output_type": "stream",
     "text": [
      "1.\tInput linked list: 7 → 10 → 14 → 21 → 22 → null \n",
      "\tMiddle Node: 14\n",
      "----------------------------------------------------------------------------------------------------\n",
      "2.\tInput linked list: 3 → 6 → 9 → 12 → null \n",
      "\tMiddle Node: 9\n",
      "----------------------------------------------------------------------------------------------------\n",
      "3.\tInput linked list: 23 → 19 → 15 → 22 → 34 → 76 → 12 → null \n",
      "\tMiddle Node: 22\n",
      "----------------------------------------------------------------------------------------------------\n",
      "4.\tInput linked list: 5 → null \n",
      "\tMiddle Node: 5\n",
      "----------------------------------------------------------------------------------------------------\n",
      "5.\tInput linked list: 1 → 3 → 5 → 7 → 9 → 11 → 6 → null \n",
      "\tMiddle Node: 7\n",
      "----------------------------------------------------------------------------------------------------\n"
     ]
    }
   ],
   "source": [
    "input = (\n",
    "[7, 10, 14, 21, 22],\n",
    "[3, 6, 9, 12],\n",
    "[23, 19, 15, 22, 34, 76, 12],\n",
    "[5],\n",
    "[1, 3, 5, 7, 9, 11,6],\n",
    ")\n",
    "\n",
    "for i in range(len(input)):\n",
    "    input_linked_list = LinkedList()\n",
    "    input_linked_list.create_linked_list(input[i])\n",
    "    print(i+1, \".\\tInput linked list: \", sep=\"\", end=\"\")\n",
    "    print_list_with_forward_arrow(input_linked_list.head)\n",
    "    print(\"\\n\\tMiddle Node: \", end=\"\")\n",
    "    print(middleNode(input_linked_list.head).data)\n",
    "    print(\"-\"*100)\n"
   ]
  },
  {
   "cell_type": "markdown",
   "metadata": {},
   "source": [
    "## Remove duplicates from sorted Linked list\n",
    "\n",
    "Given the head of a singly linked list, remove any duplicate nodes from the a sorted list in place, ensuring that only one occurrence of each value is retained in the modified list."
   ]
  },
  {
   "cell_type": "code",
   "execution_count": 18,
   "metadata": {},
   "outputs": [],
   "source": [
    "def remove_duplicates(head: Optional[LinkedListNode]) -> Optional[LinkedListNode]:\n",
    "    curr = head\n",
    "    while curr:\n",
    "        while curr.next and curr.next.data == curr.data:\n",
    "            curr.next = curr.next.next\n",
    "        curr = curr.next\n",
    "    return head"
   ]
  },
  {
   "cell_type": "markdown",
   "metadata": {},
   "source": [
    "## Remove duplicates from an unsorted Linked List\n",
    "Given the head of a singly linked list, remove any duplicate nodes from the an unsorted list in place, ensuring that only one occurrence of each value is retained in the modified list.\n",
    "\n"
   ]
  },
  {
   "cell_type": "code",
   "execution_count": 9,
   "metadata": {},
   "outputs": [],
   "source": [
    "from typing import Optional\n",
    "\n",
    "def remove_duplicates_unsorted(head: Optional[LinkedListNode]) -> Optional[LinkedListNode]:\n",
    "    if not head or not head.next:\n",
    "        return head  #if head is none, it returns head (None) if head.,next is none it returns the head\n",
    "    \n",
    "    current = head\n",
    "    while current:\n",
    "        runner = current\n",
    "        while runner.next:\n",
    "            if current.data == runner.next.data:\n",
    "                runner.next = runner.next.next   #This inner loop will only work with runner and keep deleting duplicates\n",
    "            else:\n",
    "                runner = runner.next\n",
    "        current = current.next\n",
    "    return head\n",
    "                \n",
    "    \n",
    "    \n",
    "    "
   ]
  },
  {
   "cell_type": "code",
   "execution_count": 7,
   "metadata": {},
   "outputs": [
    {
     "name": "stdout",
     "output_type": "stream",
     "text": [
      "1.\tInput linked list: 30 → 20 → 30 → 10 → 50 → null \n",
      "\tLinked list without duplicates: 30 → 20 → 10 → 50 → null \n",
      " ----------------------------------------------------------------------------------------------------\n",
      "2.\tInput linked list: -7 → -7 → -22 → -1 → -5 → -5 → null \n",
      "\tLinked list without duplicates: -7 → -22 → -1 → -5 → null \n",
      " ----------------------------------------------------------------------------------------------------\n",
      "3.\tInput linked list: 1 → 1 → 1 → null \n",
      "\tLinked list without duplicates: 1 → null \n",
      " ----------------------------------------------------------------------------------------------------\n",
      "4.\tInput linked list: 9 → -9 → 9 → null \n",
      "\tLinked list without duplicates: 9 → -9 → null \n",
      " ----------------------------------------------------------------------------------------------------\n",
      "5.\tInput linked list: 1 → -2 → -2 → null \n",
      "\tLinked list without duplicates: 1 → -2 → null \n",
      " ----------------------------------------------------------------------------------------------------\n"
     ]
    }
   ],
   "source": [
    "inputs = [\n",
    "        [30, 20, 30, 10, 50],\n",
    "        [-7, -7, -22, -1, -5, -5],\n",
    "        [1, 1, 1],\n",
    "        [9, -9, 9],\n",
    "        [1, -2, -2],\n",
    "    ]\n",
    "\n",
    "for i in range(len(inputs)):\n",
    "    input_linked_list = LinkedList()\n",
    "    input_linked_list.create_linked_list(inputs[i])\n",
    "    print(i + 1, \".\\tInput linked list: \", sep=\"\", end=\"\")\n",
    "    print_list_with_forward_arrow(input_linked_list.head)\n",
    "    print(\"\\n\\tLinked list without duplicates: \", sep=\"\", end=\"\")\n",
    "    print_list_with_forward_arrow(remove_duplicates_unsorted(input_linked_list.head))\n",
    "\n",
    "    print(\"\\n\", \"-\" * 100)\n"
   ]
  },
  {
   "cell_type": "markdown",
   "metadata": {},
   "source": [
    "## Union and intersection of Linked Lists\n",
    "\n",
    "Given the heads of two linked lists, head1 and head2, as inputs. Implement the union and intersection functions for the linked lists. The order of elements in the output lists doesn’t matter.\n",
    "\n",
    "Here’s how you will implement the functions:\n",
    "\n",
    "Union: This function will take two linked lists as input and return a new linked list containing all the unique elements.\n",
    "\n",
    "Intersection: This function will take two linked lists as input and return all the common elements between them as a new linked list."
   ]
  },
  {
   "cell_type": "code",
   "execution_count": 8,
   "metadata": {},
   "outputs": [],
   "source": [
    "#Union\n",
    "\n",
    "def union(head1, head2):\n",
    "    if head1 is None:\n",
    "        return head2\n",
    "    if head2 is None:\n",
    "        return head1\n",
    "    \n",
    "    current = head1\n",
    "    while current.next:\n",
    "        current = current.next\n",
    "    current.next = head2\n",
    "    remove_duplicates_unsorted(head1)\n",
    "    return head1"
   ]
  },
  {
   "cell_type": "markdown",
   "metadata": {},
   "source": []
  },
  {
   "cell_type": "code",
   "execution_count": 10,
   "metadata": {},
   "outputs": [
    {
     "name": "stdout",
     "output_type": "stream",
     "text": [
      "1.\tInput linked list 1: 1 → 2 → 3 → 4 → 5 → 6 → 7 → 8 → 9 → null \n",
      "\tInput linked list 2: 7 → 8 → 9 → 10 → 11 → 12 → 13 → 14 → null \n",
      "\n",
      "\tUnion: 1 → 2 → 3 → 4 → 5 → 6 → 7 → 8 → 9 → 10 → 11 → 12 → 13 → 14 → null \n",
      " ----------------------------------------------------------------------------------------------------\n",
      "2.\tInput linked list 1: 1 → 1 → 2 → 2 → 3 → 3 → 4 → 4 → 5 → null \n",
      "\tInput linked list 2: 1 → 2 → 3 → 4 → 5 → 6 → null \n",
      "\n",
      "\tUnion: 1 → 2 → 3 → 4 → 5 → 6 → null \n",
      " ----------------------------------------------------------------------------------------------------\n",
      "3.\tInput linked list 1: -45 → 34 → -54 → 45 → -65 → 54 → null \n",
      "\tInput linked list 2: 3 → 2 → 1 → null \n",
      "\n",
      "\tUnion: -45 → 34 → -54 → 45 → -65 → 54 → 3 → 2 → 1 → null \n",
      " ----------------------------------------------------------------------------------------------------\n",
      "4.\tInput linked list 1: 12 → null \n",
      "\tInput linked list 2: 12 → null \n",
      "\n",
      "\tUnion: 12 → null \n",
      " ----------------------------------------------------------------------------------------------------\n",
      "5.\tInput linked list 1: 0 → 1 → 2 → null \n",
      "\tInput linked list 2: 3 → 4 → 5 → null \n",
      "\n",
      "\tUnion: 0 → 1 → 2 → 3 → 4 → 5 → null \n",
      " ----------------------------------------------------------------------------------------------------\n"
     ]
    }
   ],
   "source": [
    "union_list = [\n",
    "    [1, 2, 3, 4, 5, 6, 7, 8, 9],\n",
    "    [1, 1, 2, 2, 3, 3, 4, 4, 5],\n",
    "    [-45, 34, -54, 45, -65, 54],\n",
    "    [12],\n",
    "    [0, 1, 2],\n",
    "]\n",
    "\n",
    "input_list2 = [\n",
    "    [7, 8, 9, 10, 11, 12, 13, 14],\n",
    "    [1, 2, 3, 4, 5, 6],\n",
    "    [3, 2, 1],\n",
    "    [12],\n",
    "    [3, 4, 5],\n",
    "]\n",
    "\n",
    "\n",
    "for i in range(len(union_list)):\n",
    "        input_linked_list1 = LinkedList()\n",
    "        input_linked_list2 = LinkedList()\n",
    "        input_linked_list3 = LinkedList()\n",
    "\n",
    "        input_linked_list1.create_linked_list(union_list[i])\n",
    "        input_linked_list3.create_linked_list(input_list2[i])\n",
    "        \n",
    "        print(i+1, \".\\tInput linked list 1: \", sep=\"\", end=\"\")\n",
    "        print_list_with_forward_arrow(input_linked_list1.head)\n",
    "        \n",
    "        print(\"\\n\\tInput linked list 2: \", sep=\"\", end=\"\")\n",
    "        print_list_with_forward_arrow(input_linked_list3.head)\n",
    "        \n",
    "        print(\"\\n\\n\\tUnion: \", end=\"\")\n",
    "        print_list_with_forward_arrow(union(input_linked_list1.head, input_linked_list3.head))\n",
    "\n",
    "\n",
    "        print(\"\\n\", \"-\"*100)\n"
   ]
  },
  {
   "cell_type": "code",
   "execution_count": 12,
   "metadata": {},
   "outputs": [],
   "source": [
    "def intersection(head1, head2):\n",
    "    result = None\n",
    "    current1 = head1\n",
    "    while current1:\n",
    "        current2 = head2\n",
    "        while current2:\n",
    "            if current1.data == current2.data and not exists_in_result(current1.data, result):\n",
    "                result = insert_at_head(current1.data, result)  #changed the order from the original Educative code\n",
    "            current2 = current2.next\n",
    "        current1 = current1.next\n",
    "    return result\n",
    "\n",
    "def exists_in_result(data, head):\n",
    "    current = head\n",
    "    while current:\n",
    "        if data == current.data:\n",
    "            return True\n",
    "        current = current.next\n",
    "    return False\n",
    "\n",
    "def insert_at_head(data, head):\n",
    "    new_node = LinkedListNode(data)\n",
    "    new_node.next = result\n",
    "    return new_node\n",
    "        \n",
    "        "
   ]
  },
  {
   "cell_type": "code",
   "execution_count": null,
   "metadata": {},
   "outputs": [],
   "source": [
    "intersection_list = [\n",
    "    [1, 2, 3, 4, 5, 6, 7, 8, 9],\n",
    "    [1, 1, 2, 2, 3, 3, 4, 4, 5],\n",
    "    [-45, 34, -54, 45, -65, 54],\n",
    "    [12],\n",
    "    [0, 1, 2],\n",
    "]\n",
    "\n",
    "input_list2 = [\n",
    "    [7, 8, 9, 10, 11, 12, 13, 14],\n",
    "    [1, 2, 3, 4, 5, 6],\n",
    "    [3, 2, 1],\n",
    "    [12],\n",
    "    [3, 4, 5],\n",
    "]\n",
    "\n"
   ]
  },
  {
   "cell_type": "markdown",
   "metadata": {},
   "source": [
    "## Return nth node from end\n",
    "\n",
    "Given the head of a Linked List, return nth node from the end of the list"
   ]
  },
  {
   "cell_type": "code",
   "execution_count": 2,
   "metadata": {},
   "outputs": [],
   "source": [
    "def find_nth_node(head, n):\n",
    "    left, right = head, head\n",
    "    \n",
    "    while n>0 and right:\n",
    "        right = right.next\n",
    "        n -=1\n",
    "        \n",
    "    while right:\n",
    "        left = left.next\n",
    "        right = right.next\n",
    "    return left\n",
    "        "
   ]
  },
  {
   "cell_type": "markdown",
   "metadata": {},
   "source": [
    "Time Complexity O(N)\n",
    "\n",
    "Space complexity O(1)"
   ]
  },
  {
   "cell_type": "code",
   "execution_count": 8,
   "metadata": {},
   "outputs": [
    {
     "name": "stdout",
     "output_type": "stream",
     "text": [
      "1.\tInput linked list: 7 → 10 → 14 → 21 → 22 → null \n",
      "\tn:  4\n",
      "\n",
      "\tNode returned: 10\n",
      "----------------------------------------------------------------------------------------------------\n",
      "2.\tInput linked list: 3 → 6 → 9 → 12 → null \n",
      "\tn:  2\n",
      "\n",
      "\tNode returned: 9\n",
      "----------------------------------------------------------------------------------------------------\n",
      "3.\tInput linked list: 23 → 19 → 15 → 22 → 34 → 76 → 12 → null \n",
      "\tn:  6\n",
      "\n",
      "\tNode returned: 19\n",
      "----------------------------------------------------------------------------------------------------\n",
      "4.\tInput linked list: 5 → null \n",
      "\tn:  1\n",
      "\n",
      "\tNode returned: 5\n",
      "----------------------------------------------------------------------------------------------------\n",
      "5.\tInput linked list: 1 → 3 → 5 → 7 → 9 → 11 → 6 → null \n",
      "\tn:  3\n",
      "\n",
      "\tNode returned: 9\n",
      "----------------------------------------------------------------------------------------------------\n"
     ]
    }
   ],
   "source": [
    "input_data = (\n",
    "    [7, 10, 14, 21, 22],\n",
    "    [3, 6, 9, 12],\n",
    "    [23, 19, 15, 22, 34, 76, 12],\n",
    "    [5],\n",
    "    [1, 3, 5, 7, 9, 11, 6],\n",
    ")\n",
    "n = [4, 2, 6, 1, 3]\n",
    "for i in range(len(input_data)):\n",
    "    index = n[i]\n",
    "    input_linked_list = LinkedList()\n",
    "    input_linked_list.create_linked_list(input_data[i])\n",
    "    print(\"{0}.\\tInput linked list: \".format(i+1), end=\"\")\n",
    "    print_list_with_forward_arrow(input_linked_list.head)\n",
    "    print(\"\\n\\tn: \", index)\n",
    "    print(\"\\n\\tNode returned:\", find_nth_node(input_linked_list.head, index).data)\n",
    "    print(\"-\" * 100)"
   ]
  },
  {
   "cell_type": "markdown",
   "metadata": {},
   "source": [
    "## Remove nth node from a Linked list\n",
    "\n",
    "Given a head remove the nth node of a linked list (Note this is different from the earlier problem)\n",
    "\n",
    "While in the earlier problem we were just able to return the left pointer because it pointed to the nth node, here you have to remove the nth node so you need to get the position of the node previous to the left node. This can be done by adding a dummy before the head node. so now the lft node will actually be pointing to the previous node which you can connect to the node after the nth node using\n",
    "\n",
    "left.next = left.next.next"
   ]
  },
  {
   "cell_type": "code",
   "execution_count": 9,
   "metadata": {},
   "outputs": [],
   "source": [
    "def remove_nth_node(head, n):\n",
    "    dummy = LinkedListNode(0, head)  #initialise the dummy node to 0 or any other value and its next pointer should be head e.g. dummy -> head\n",
    "    left = dummy\n",
    "    right = head\n",
    "    \n",
    "    while n >0 and right:\n",
    "        right = right.next\n",
    "        n -=1\n",
    "        \n",
    "    while right:\n",
    "        left = left.next\n",
    "        right = right.next\n",
    "        \n",
    "    #delete\n",
    "    left.next = left.next.next\n",
    "    return dummy.next \n",
    "    "
   ]
  },
  {
   "cell_type": "markdown",
   "metadata": {},
   "source": [
    "## Determine if a double linked list is a plaindrome or not\n",
    "\n",
    "Given the head of a doubly linked list, check whether the doubly linked list is a palindrome or not. Return TRUE if it is a palindrome; otherwise, return FALSE."
   ]
  },
  {
   "cell_type": "code",
   "execution_count": 3,
   "metadata": {},
   "outputs": [],
   "source": [
    "from doubly_linked_list import DoublyLinkedList\n",
    "from doubly_print_list import print_list_with_arrows\n",
    "\n",
    "\n",
    "def is_palindrome(head):\n",
    "    start = head  \n",
    "    end = get_tail_node(head)  \n",
    "\n",
    "    # If list is empty, it is a palindrome\n",
    "    if start is None:  \n",
    "        return True\n",
    "\n",
    "    # Otherwise, traverse list from both sides\n",
    "    while start != end and start.prev != end:  \n",
    "\n",
    "        # If data mismatches at any point, list is not a palindrome\n",
    "        if start.data != end.data:  \n",
    "            return False\n",
    "        start = start.next\n",
    "        end = end.prev\n",
    "\n",
    "    #  If data didn't mismatch at any point, list is a palindrome\n",
    "    return True  \n",
    "\n",
    "def get_tail_node(head):\n",
    "    temp = head\n",
    "    while temp.next is not None:\n",
    "        temp = temp.next\n",
    "    return temp\n"
   ]
  },
  {
   "cell_type": "code",
   "execution_count": 4,
   "metadata": {},
   "outputs": [
    {
     "name": "stdout",
     "output_type": "stream",
     "text": [
      "1.\tDoubly Linked List: 2 ⟷ 4 ⟷ 6 ⟷ 4 ⟷ 2 ⟶ null \n",
      "\n",
      "\tIs it a palindrome? Yes\n",
      "---------------------------------------------------------------------------------------------------- \n",
      "\n",
      "2.\tDoubly Linked List: 0 ⟷ 3 ⟷ 5 ⟷ 5 ⟷ 0 ⟶ null \n",
      "\n",
      "\tIs it a palindrome? No\n",
      "---------------------------------------------------------------------------------------------------- \n",
      "\n",
      "3.\tDoubly Linked List: 9 ⟷ 7 ⟷ 4 ⟷ 4 ⟷ 7 ⟷ 9 ⟶ null \n",
      "\n",
      "\tIs it a palindrome? Yes\n",
      "---------------------------------------------------------------------------------------------------- \n",
      "\n",
      "4.\tDoubly Linked List: 5 ⟷ 4 ⟷ 7 ⟷ 9 ⟷ 4 ⟷ 5 ⟶ null \n",
      "\n",
      "\tIs it a palindrome? No\n",
      "---------------------------------------------------------------------------------------------------- \n",
      "\n",
      "5.\tDoubly Linked List: 5 ⟷ 9 ⟷ 8 ⟷ 3 ⟷ 8 ⟷ 9 ⟷ 5 ⟶ null \n",
      "\n",
      "\tIs it a palindrome? Yes\n",
      "---------------------------------------------------------------------------------------------------- \n",
      "\n"
     ]
    }
   ],
   "source": [
    "input = (\n",
    "            [2, 4, 6, 4, 2],\n",
    "            [0, 3, 5, 5, 0],\n",
    "            [9, 7, 4, 4, 7, 9],\n",
    "            [5, 4, 7, 9, 4, 5],\n",
    "            [5, 9, 8, 3, 8, 9, 5],\n",
    "        )\n",
    "j = 1\n",
    "\n",
    "for i in range(len(input)):\n",
    "    input_linked_list = DoublyLinkedList()\n",
    "    input_linked_list.create_linked_list(input[i])\n",
    "    head = input_linked_list.head\n",
    "    print(j, \".\\tDoubly Linked List:\", end=\" \", sep=\"\")\n",
    "    print_list_with_arrows(head)\n",
    "    print(\"\\n\\n\\tIs it a palindrome?\", \"Yes\" if is_palindrome(head) else \"No\")\n",
    "    j += 1\n",
    "    print(\"-\"*100, \"\\n\")"
   ]
  },
  {
   "cell_type": "markdown",
   "metadata": {},
   "source": []
  }
 ],
 "metadata": {
  "kernelspec": {
   "display_name": "llm_env",
   "language": "python",
   "name": "llm_env"
  },
  "language_info": {
   "codemirror_mode": {
    "name": "ipython",
    "version": 3
   },
   "file_extension": ".py",
   "mimetype": "text/x-python",
   "name": "python",
   "nbconvert_exporter": "python",
   "pygments_lexer": "ipython3",
   "version": "3.11.5"
  }
 },
 "nbformat": 4,
 "nbformat_minor": 2
}

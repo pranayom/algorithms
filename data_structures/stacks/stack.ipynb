{
 "cells": [
  {
   "cell_type": "markdown",
   "metadata": {},
   "source": [
    "Stacks follow the Last in First Out (LIFO) ordering. This means that the last element added is the element on the top and the first element added is at the bottom.\n",
    "\n",
    "push(element)\tInserts an element at the top\n",
    "\n",
    "pop()\tRemoves an element from the top and returns it\n",
    "\n",
    "peek()\tReturns the top element of the stack\n",
    "\n",
    "IsEmpty()\tReturns a boolean 1 if the stack is empty\n",
    "\n",
    "size()\tReturns the size of the stack"
   ]
  },
  {
   "cell_type": "code",
   "execution_count": 2,
   "metadata": {},
   "outputs": [],
   "source": [
    "class MyStack:\n",
    "    def __init__(self):\n",
    "        self.stack_list = []\n",
    "        self.stack_size = 0\n",
    "        \n",
    "    def is_empty(self):\n",
    "        return self.stack_size == 0\n",
    "    \n",
    "    def peek(self):\n",
    "        if self.is_empty():\n",
    "            return None\n",
    "        else:\n",
    "            return self.stack_list[-1]\n",
    "    \n",
    "    def size(self):\n",
    "        return self.stack_size\n",
    "            "
   ]
  },
  {
   "cell_type": "code",
   "execution_count": 7,
   "metadata": {},
   "outputs": [],
   "source": [
    "#adding the push(element) and pop operations\n",
    "class MyStack:\n",
    "    def __init__(self):\n",
    "        self.stack_list = []\n",
    "        self.stack_size = 0\n",
    "        \n",
    "    def is_empty(self):\n",
    "        return self.stack_size == 0\n",
    "    \n",
    "    def peek(self):\n",
    "        if self.is_empty():\n",
    "            return None\n",
    "        else:\n",
    "            return self.stack_list[-1]\n",
    "    \n",
    "    def size(self):\n",
    "        return self.stack_size\n",
    "    \n",
    "    def push(self, value):\n",
    "        self.stack_size += 1\n",
    "        return self.stack_list.append(value)\n",
    "    \n",
    "    def pop(self):\n",
    "        if self.is_empty():\n",
    "            return None\n",
    "        self.stack_size -= 1\n",
    "        return self.stack_list.pop()\n",
    "    \n",
    "    \n",
    "\n",
    "\n"
   ]
  },
  {
   "cell_type": "markdown",
   "metadata": {},
   "source": [
    "Operation                 Time Complexity\n",
    "\n",
    "push(element)\t             O(1)\n",
    "\n",
    "pop()\t                     O(1)\n",
    "\n",
    "peek()\t                     O(1)\n",
    "\n",
    "is_empty()\t                 O(1)\n",
    "\n",
    "size()\t                     O(1)"
   ]
  },
  {
   "cell_type": "markdown",
   "metadata": {},
   "source": [
    "## Queues \n",
    "Queues are slightly trickier to implement as compared to stacks because we have to keep track of both ends of the array. The elements are inserted from the back and removed from the front."
   ]
  },
  {
   "cell_type": "markdown",
   "metadata": {},
   "source": [
    "enqueue(element)\tinserts element at the end of the queue\n",
    "\n",
    "dequeue()\tremoves an element from the start of the queue\n",
    "\n",
    "front()\treturns the first element of the queue\n",
    "\n",
    "rear()\treturns the last element inserted into the queue\n",
    "\n",
    "isEmpty()\tchecks if the queue is empty\n",
    "\n",
    "size()\treturns the size of the queue"
   ]
  },
  {
   "cell_type": "code",
   "execution_count": null,
   "metadata": {},
   "outputs": [],
   "source": []
  },
  {
   "cell_type": "markdown",
   "metadata": {},
   "source": []
  }
 ],
 "metadata": {
  "kernelspec": {
   "display_name": "llm_env",
   "language": "python",
   "name": "llm_env"
  },
  "language_info": {
   "codemirror_mode": {
    "name": "ipython",
    "version": 3
   },
   "file_extension": ".py",
   "mimetype": "text/x-python",
   "name": "python",
   "nbconvert_exporter": "python",
   "pygments_lexer": "ipython3",
   "version": "3.11.5"
  }
 },
 "nbformat": 4,
 "nbformat_minor": 2
}

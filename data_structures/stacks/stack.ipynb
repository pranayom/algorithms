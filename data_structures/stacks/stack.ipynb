{
 "cells": [
  {
   "cell_type": "markdown",
   "metadata": {},
   "source": [
    "Stacks follow the Last in First Out (LIFO) ordering. This means that the last element added is the element on the top and the first element added is at the bottom.\n",
    "\n",
    "push(element)\tInserts an element at the top\n",
    "\n",
    "pop()\tRemoves an element from the top and returns it\n",
    "\n",
    "peek()\tReturns the top element of the stack\n",
    "\n",
    "IsEmpty()\tReturns a boolean 1 if the stack is empty\n",
    "\n",
    "size()\tReturns the size of the stack"
   ]
  },
  {
   "cell_type": "code",
   "execution_count": 2,
   "metadata": {},
   "outputs": [],
   "source": [
    "class MyStack:\n",
    "    def __init__(self):\n",
    "        self.stack_list = []\n",
    "        self.stack_size = 0\n",
    "        \n",
    "    def is_empty(self):\n",
    "        return self.stack_size == 0\n",
    "    \n",
    "    def peek(self):\n",
    "        if self.is_empty():\n",
    "            return None\n",
    "        else:\n",
    "            return self.stack_list[-1]\n",
    "    \n",
    "    def size(self):\n",
    "        return self.stack_size\n",
    "            "
   ]
  },
  {
   "cell_type": "code",
   "execution_count": 2,
   "metadata": {},
   "outputs": [],
   "source": [
    "#adding the push(element) and pop operations\n",
    "class MyStack:\n",
    "    def __init__(self):\n",
    "        self.stack_list = []\n",
    "        self.stack_size = 0\n",
    "        \n",
    "    def is_empty(self):\n",
    "        return self.stack_size == 0\n",
    "    \n",
    "    def peek(self):\n",
    "        if self.is_empty():\n",
    "            return None\n",
    "        else:\n",
    "            return self.stack_list[-1]\n",
    "    \n",
    "    def size(self):\n",
    "        return self.stack_size\n",
    "    \n",
    "    def push(self, value):\n",
    "        self.stack_size += 1\n",
    "        return self.stack_list.append(value)\n",
    "    \n",
    "    def pop(self):\n",
    "        if self.is_empty():\n",
    "            return None\n",
    "        self.stack_size -= 1\n",
    "        return self.stack_list.pop()\n",
    "    \n",
    "    \n",
    "\n",
    "\n"
   ]
  },
  {
   "cell_type": "markdown",
   "metadata": {},
   "source": [
    "Operation                 Time Complexity\n",
    "\n",
    "push(element)\t             O(1)\n",
    "\n",
    "pop()\t                     O(1)\n",
    "\n",
    "peek()\t                     O(1)\n",
    "\n",
    "is_empty()\t                 O(1)\n",
    "\n",
    "size()\t                     O(1)"
   ]
  },
  {
   "cell_type": "markdown",
   "metadata": {},
   "source": [
    "## Queues \n",
    "Queues are slightly trickier to implement as compared to stacks because we have to keep track of both ends of the array. The elements are inserted from the back and removed from the front."
   ]
  },
  {
   "cell_type": "markdown",
   "metadata": {},
   "source": [
    "enqueue(element)\tinserts element at the end of the queue\n",
    "\n",
    "dequeue()\tremoves an element from the start of the queue\n",
    "\n",
    "front()\treturns the first element of the queue\n",
    "\n",
    "rear()\treturns the last element inserted into the queue\n",
    "\n",
    "isEmpty()\tchecks if the queue is empty\n",
    "\n",
    "size()\treturns the size of the queue"
   ]
  },
  {
   "cell_type": "markdown",
   "metadata": {},
   "source": [
    "## Generate Binary Numbers From 1 to n Using a Queue\n",
    "Given a number n, generate a list of binary numbers from  1 to n in the form of a string using a queue."
   ]
  },
  {
   "cell_type": "code",
   "execution_count": 3,
   "metadata": {},
   "outputs": [],
   "source": [
    "from Queue import MyQueue\n",
    "\n",
    "def find_bin(n):\n",
    "    result = []\n",
    "    queue = MyQueue()\n",
    "    \n",
    "    #Put 1 in the queue\n",
    "    queue.enqueue(1)\n",
    "    \n",
    "    for i in  range(n):\n",
    "        \n",
    "        #Dequeue the front element of the queue\n",
    "        result.append(str(queue.dequeue()))\n",
    "        \n",
    "        s1 = result[i] + \"0\"\n",
    "        s2 = result[i] + \"1\"\n",
    "        \n",
    "        #Enqueue the new binary numbers back into the queue\n",
    "        queue.enqueue(s1)\n",
    "        queue.enqueue(s2)\n",
    "        \n",
    "    return result\n",
    "               "
   ]
  },
  {
   "cell_type": "markdown",
   "metadata": {},
   "source": [
    "Time Complexity is O(N) - n binary numbers are generated\n",
    "\n",
    "Space Complexity is O(N) - n binary numbers are generated\n",
    "\n"
   ]
  },
  {
   "cell_type": "code",
   "execution_count": 4,
   "metadata": {},
   "outputs": [
    {
     "name": "stdout",
     "output_type": "stream",
     "text": [
      "1.\tn: 1\n",
      "\n",
      "\tBinary numbers  ['1']\n",
      "----------------------------------------------------------------------------------------------------\n",
      "2.\tn: 3\n",
      "\n",
      "\tBinary numbers  ['1', '10', '11']\n",
      "----------------------------------------------------------------------------------------------------\n",
      "3.\tn: 5\n",
      "\n",
      "\tBinary numbers  ['1', '10', '11', '100', '101']\n",
      "----------------------------------------------------------------------------------------------------\n",
      "4.\tn: 9\n",
      "\n",
      "\tBinary numbers  ['1', '10', '11', '100', '101', '110', '111', '1000', '1001']\n",
      "----------------------------------------------------------------------------------------------------\n",
      "5.\tn: 11\n",
      "\n",
      "\tBinary numbers  ['1', '10', '11', '100', '101', '110', '111', '1000', '1001', '1010', '1011']\n",
      "----------------------------------------------------------------------------------------------------\n"
     ]
    }
   ],
   "source": [
    "inputs = [1, 3, 5, 9, 11]\n",
    "for i in range(len(inputs)):\n",
    "    print(i+1, \".\\tn: \", inputs[i], sep=\"\")\n",
    "    print(\"\\n\\tBinary numbers \", find_bin(inputs[i]))\n",
    "    print(\"-\" * 100)"
   ]
  },
  {
   "cell_type": "markdown",
   "metadata": {},
   "source": [
    "## Design a data structure TwoStacks, that represents two stacks using a single list, where both stacks share the same list for storing elements.\n",
    "\n",
    "The following operations must be supported:\n",
    "\n",
    "push1(value): Takes an integer value and inserts it into the first stack.\n",
    "\n",
    "push2(value): Takes an integer value and inserts it into the second stack.\n",
    "\n",
    "pop1(): Removes the top element from the first stack and returns it.\n",
    "\n",
    "pop2(): Removes the top element from the second stack and returns it."
   ]
  },
  {
   "cell_type": "code",
   "execution_count": null,
   "metadata": {},
   "outputs": [],
   "source": [
    "class TwoStacks:\n",
    "    def __init__(self,n):\n",
    "        self.size = n\n",
    "        self.arr = [0] * n\n",
    "        self.top1 = -1\n",
    "        self.top2 = self.size #Note that in terms of array indexing in Python this means top 2 is 1 more than the last index of the array\n",
    "        \n",
    "    def push1(self,value):\n",
    "        if self.top1 < self.top2 - 1: #self.top2 -1 indicates the last index / cell of the array\n",
    "            self.top1 += 1\n",
    "            self.arr[self.top1] = value\n",
    "        else:\n",
    "            print(\"Stackoverflow\")\n",
    "            exit(1)\n",
    "    \n",
    "    def push2(self, value):\n",
    "        if self.top1 < self.top2 - 1:\n",
    "            self.top2 -= 1\n",
    "            self.arr[self.top2] = value\n",
    "        else:\n",
    "            print(\"Stackoverflow\")\n",
    "            exit(1)\n",
    "            \n",
    "    def pop1(self):\n",
    "        if self.top1 >= 0:\n",
    "            value = self.arr[self.top1]\n",
    "            self.top1 -= 1\n",
    "            return value\n",
    "        else:\n",
    "            print(\"Stack underflow\")\n",
    "            exit(1)\n",
    "    \n",
    "    \n",
    "    def pop2(self):\n",
    "        if self.top2 < self.size:\n",
    "            value = self.arr[self.top2]\n",
    "            self.top2 += 1\n",
    "            return value\n",
    "        else:\n",
    "            print(\"Stack underflow\")\n",
    "            exit(1)\n",
    "            \n",
    "            \n",
    "        \n",
    "    \n",
    "        \n",
    "        "
   ]
  },
  {
   "cell_type": "markdown",
   "metadata": {},
   "source": [
    "## Reverse first k elements of  Queue\n",
    "\n",
    "Given a queue and a number k, reverse the order of the first k elements in queue. If k is less than \n",
    "0 , if k exceeds queue size, or if queue is empty, return NULL. Otherwise, return the modified queue."
   ]
  },
  {
   "cell_type": "code",
   "execution_count": 4,
   "metadata": {},
   "outputs": [],
   "source": [
    "from Queue import MyQueue\n",
    "\n",
    "def reverse_k_queue(queue, k):\n",
    "    if k < 0 or k > queue.size() or queue.is_empty():\n",
    "        return None\n",
    "    temp_stack = MyStack()\n",
    "    for i in range(k):\n",
    "        temp_val = queue.dequeue()\n",
    "        temp_stack.push(temp_val)\n",
    "    while temp_stack.size >0:\n",
    "        temp_val = temp_stack.pop()\n",
    "        queue.enqueue(temp_val)\n",
    "        temp_stack -=1 \n",
    "    for i in range(queue.size()-k):\n",
    "        temp_val= queue.dequeue()\n",
    "        queue.enqueue(temp_val)\n",
    "    return queue\n",
    "        \n",
    "    \n",
    "    \n",
    "\n",
    "        \n"
   ]
  },
  {
   "cell_type": "markdown",
   "metadata": {},
   "source": []
  }
 ],
 "metadata": {
  "kernelspec": {
   "display_name": "llm_env",
   "language": "python",
   "name": "llm_env"
  },
  "language_info": {
   "codemirror_mode": {
    "name": "ipython",
    "version": 3
   },
   "file_extension": ".py",
   "mimetype": "text/x-python",
   "name": "python",
   "nbconvert_exporter": "python",
   "pygments_lexer": "ipython3",
   "version": "3.11.5"
  }
 },
 "nbformat": 4,
 "nbformat_minor": 2
}

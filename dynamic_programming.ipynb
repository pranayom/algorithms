{
 "cells": [
  {
   "cell_type": "markdown",
   "metadata": {
    "vscode": {
     "languageId": "plaintext"
    }
   },
   "source": [
    "# 62 Grid traveller\n",
    "\n",
    "There is a robot on an m x n grid. The robot is initially located at the top-left corner (i.e., grid[0][0]). The robot tries to move to the bottom-right corner (i.e., grid[m - 1][n - 1]). The robot can only move either down or right at any point in time.\n",
    "\n",
    "Given the two integers m and n, return the number of possible unique paths that the robot can take to reach the bottom-right corner.\n",
    "\n",
    "The test cases are generated so that the answer will be less than or equal to 2 * 109."
   ]
  },
  {
   "cell_type": "code",
   "execution_count": 1,
   "metadata": {},
   "outputs": [],
   "source": [
    "class Solution:\n",
    "    def uniquePaths(self, m:int, n:int) -> int:\n",
    "        def dp(m, n, memo = {}):\n",
    "            key = str(m) + ',' + str(n)\n",
    "            \n",
    "            if key in memo: \n",
    "                return memo[key]\n",
    "            \n",
    "            #Base cases\n",
    "            if m ==1 and n ==1:\n",
    "                return 1\n",
    "            if m ==0 or n == 0:\n",
    "                return 0\n",
    "            \n",
    "            memo[key] = dp(m-1,n, memo) + dp(m,n-1,memo)\n",
    "            \n",
    "            return memo[key]\n",
    "        return dp(m,n)\n",
    "        \n",
    "            \n"
   ]
  },
  {
   "cell_type": "markdown",
   "metadata": {},
   "source": [
    "\n",
    "# 39 Combination sum\n",
    "Given an array of distinct integers candidates and a target integer target, return a list of all unique combinations of candidates where the chosen numbers sum to target. You may return the combinations in any order.\n",
    "\n",
    "The same number may be chosen from candidates an unlimited number of times. Two combinations are unique if the \n",
    "frequency\n",
    " of at least one of the chosen numbers is different.\n",
    "\n",
    "The test cases are generated such that the number of unique combinations that sum up to target is less than 150 combinations for the given input."
   ]
  },
  {
   "cell_type": "code",
   "execution_count": 11,
   "metadata": {},
   "outputs": [],
   "source": [
    "#Lets create a recursion problem out of it\n",
    "\n",
    "from typing import List\n",
    "\n",
    "def canSum(targetSum, numbers):\n",
    "    if targetSum == 0:\n",
    "        return True\n",
    "    if targetSum <0:\n",
    "        return False\n",
    "    for num in numbers:\n",
    "        remainder = targetSum - num\n",
    "        if canSum(remainder, numbers) == True:\n",
    "            return True\n",
    "    return False"
   ]
  },
  {
   "cell_type": "code",
   "execution_count": 12,
   "metadata": {},
   "outputs": [
    {
     "data": {
      "text/plain": [
       "True"
      ]
     },
     "execution_count": 12,
     "metadata": {},
     "output_type": "execute_result"
    }
   ],
   "source": [
    "canSum(7,[2,3]) #True"
   ]
  },
  {
   "cell_type": "code",
   "execution_count": 13,
   "metadata": {},
   "outputs": [
    {
     "data": {
      "text/plain": [
       "True"
      ]
     },
     "execution_count": 13,
     "metadata": {},
     "output_type": "execute_result"
    }
   ],
   "source": [
    "canSum(8, [2,3,5]) #True"
   ]
  },
  {
   "cell_type": "code",
   "execution_count": 14,
   "metadata": {},
   "outputs": [
    {
     "data": {
      "text/plain": [
       "False"
      ]
     },
     "execution_count": 14,
     "metadata": {},
     "output_type": "execute_result"
    }
   ],
   "source": [
    "canSum(7,[2.4])"
   ]
  },
  {
   "cell_type": "code",
   "execution_count": 15,
   "metadata": {},
   "outputs": [
    {
     "ename": "KeyboardInterrupt",
     "evalue": "",
     "output_type": "error",
     "traceback": [
      "\u001b[1;31m---------------------------------------------------------------------------\u001b[0m",
      "\u001b[1;31mKeyboardInterrupt\u001b[0m                         Traceback (most recent call last)",
      "Cell \u001b[1;32mIn[15], line 1\u001b[0m\n\u001b[1;32m----> 1\u001b[0m canSum(\u001b[38;5;241m300\u001b[39m, [\u001b[38;5;241m7\u001b[39m,\u001b[38;5;241m14\u001b[39m])\n",
      "Cell \u001b[1;32mIn[11], line 12\u001b[0m, in \u001b[0;36mcanSum\u001b[1;34m(targetSum, numbers)\u001b[0m\n\u001b[0;32m     10\u001b[0m \u001b[38;5;28;01mfor\u001b[39;00m num \u001b[38;5;129;01min\u001b[39;00m numbers:\n\u001b[0;32m     11\u001b[0m     remainder \u001b[38;5;241m=\u001b[39m targetSum \u001b[38;5;241m-\u001b[39m num\n\u001b[1;32m---> 12\u001b[0m     \u001b[38;5;28;01mif\u001b[39;00m canSum(remainder, numbers) \u001b[38;5;241m==\u001b[39m \u001b[38;5;28;01mTrue\u001b[39;00m:\n\u001b[0;32m     13\u001b[0m         \u001b[38;5;28;01mreturn\u001b[39;00m \u001b[38;5;28;01mTrue\u001b[39;00m\n\u001b[0;32m     14\u001b[0m \u001b[38;5;28;01mreturn\u001b[39;00m \u001b[38;5;28;01mFalse\u001b[39;00m\n",
      "Cell \u001b[1;32mIn[11], line 12\u001b[0m, in \u001b[0;36mcanSum\u001b[1;34m(targetSum, numbers)\u001b[0m\n\u001b[0;32m     10\u001b[0m \u001b[38;5;28;01mfor\u001b[39;00m num \u001b[38;5;129;01min\u001b[39;00m numbers:\n\u001b[0;32m     11\u001b[0m     remainder \u001b[38;5;241m=\u001b[39m targetSum \u001b[38;5;241m-\u001b[39m num\n\u001b[1;32m---> 12\u001b[0m     \u001b[38;5;28;01mif\u001b[39;00m canSum(remainder, numbers) \u001b[38;5;241m==\u001b[39m \u001b[38;5;28;01mTrue\u001b[39;00m:\n\u001b[0;32m     13\u001b[0m         \u001b[38;5;28;01mreturn\u001b[39;00m \u001b[38;5;28;01mTrue\u001b[39;00m\n\u001b[0;32m     14\u001b[0m \u001b[38;5;28;01mreturn\u001b[39;00m \u001b[38;5;28;01mFalse\u001b[39;00m\n",
      "    \u001b[1;31m[... skipping similar frames: canSum at line 12 (29 times)]\u001b[0m\n",
      "Cell \u001b[1;32mIn[11], line 12\u001b[0m, in \u001b[0;36mcanSum\u001b[1;34m(targetSum, numbers)\u001b[0m\n\u001b[0;32m     10\u001b[0m \u001b[38;5;28;01mfor\u001b[39;00m num \u001b[38;5;129;01min\u001b[39;00m numbers:\n\u001b[0;32m     11\u001b[0m     remainder \u001b[38;5;241m=\u001b[39m targetSum \u001b[38;5;241m-\u001b[39m num\n\u001b[1;32m---> 12\u001b[0m     \u001b[38;5;28;01mif\u001b[39;00m canSum(remainder, numbers) \u001b[38;5;241m==\u001b[39m \u001b[38;5;28;01mTrue\u001b[39;00m:\n\u001b[0;32m     13\u001b[0m         \u001b[38;5;28;01mreturn\u001b[39;00m \u001b[38;5;28;01mTrue\u001b[39;00m\n\u001b[0;32m     14\u001b[0m \u001b[38;5;28;01mreturn\u001b[39;00m \u001b[38;5;28;01mFalse\u001b[39;00m\n",
      "Cell \u001b[1;32mIn[11], line 5\u001b[0m, in \u001b[0;36mcanSum\u001b[1;34m(targetSum, numbers)\u001b[0m\n\u001b[0;32m      1\u001b[0m \u001b[38;5;66;03m#Lets create a recursion problem out of it\u001b[39;00m\n\u001b[0;32m      3\u001b[0m \u001b[38;5;28;01mfrom\u001b[39;00m \u001b[38;5;21;01mtyping\u001b[39;00m \u001b[38;5;28;01mimport\u001b[39;00m List\n\u001b[1;32m----> 5\u001b[0m \u001b[38;5;28;01mdef\u001b[39;00m \u001b[38;5;21mcanSum\u001b[39m(targetSum, numbers):\n\u001b[0;32m      6\u001b[0m     \u001b[38;5;28;01mif\u001b[39;00m targetSum \u001b[38;5;241m==\u001b[39m \u001b[38;5;241m0\u001b[39m:\n\u001b[0;32m      7\u001b[0m         \u001b[38;5;28;01mreturn\u001b[39;00m \u001b[38;5;28;01mTrue\u001b[39;00m\n",
      "\u001b[1;31mKeyboardInterrupt\u001b[0m: "
     ]
    }
   ],
   "source": [
    "canSum(300, [7,14]) #False"
   ]
  },
  {
   "cell_type": "code",
   "execution_count": 37,
   "metadata": {},
   "outputs": [],
   "source": [
    "\n",
    "def canSum_2(targetSum: int, numbers: List[int]) -> bool:\n",
    "    def dp(targetSum, numbers, memo = {}):\n",
    "        if targetSum in memo:\n",
    "            return memo[targetSum]\n",
    "        if targetSum == 0:\n",
    "            return True\n",
    "        if targetSum < 0:\n",
    "            return False\n",
    "        for num in numbers:\n",
    "            remainder = targetSum - num\n",
    "            if dp(remainder, numbers, memo) == True:\n",
    "                memo[targetSum] = True\n",
    "                return True\n",
    "        memo[targetSum] = False\n",
    "        return False\n",
    "    return dp(targetSum, numbers)\n",
    "\n"
   ]
  },
  {
   "cell_type": "code",
   "execution_count": 38,
   "metadata": {},
   "outputs": [
    {
     "data": {
      "text/plain": [
       "True"
      ]
     },
     "execution_count": 38,
     "metadata": {},
     "output_type": "execute_result"
    }
   ],
   "source": [
    "canSum_2(7,[2,3]) #True"
   ]
  },
  {
   "cell_type": "code",
   "execution_count": 39,
   "metadata": {},
   "outputs": [
    {
     "data": {
      "text/plain": [
       "False"
      ]
     },
     "execution_count": 39,
     "metadata": {},
     "output_type": "execute_result"
    }
   ],
   "source": [
    "canSum_2(7,[2.4])"
   ]
  },
  {
   "cell_type": "code",
   "execution_count": 47,
   "metadata": {},
   "outputs": [],
   "source": [
    "#How sum problem using recursion\n",
    "\n",
    "def howSum(targetSum, numbers):\n",
    "    if targetSum == 0:\n",
    "        return []\n",
    "    if targetSum <0:\n",
    "        return None\n",
    "    for num in numbers:\n",
    "        remainder = targetSum - num\n",
    "        remainder_result = howSum(remainder, numbers)\n",
    "        if remainder_result != None:\n",
    "            remainder_result += [num]\n",
    "            return remainder_result\n",
    "           \n",
    "    return None"
   ]
  },
  {
   "cell_type": "code",
   "execution_count": 20,
   "metadata": {},
   "outputs": [
    {
     "data": {
      "text/plain": [
       "[3, 2, 2]"
      ]
     },
     "execution_count": 20,
     "metadata": {},
     "output_type": "execute_result"
    }
   ],
   "source": [
    "howSum(7, [2,3])"
   ]
  },
  {
   "cell_type": "code",
   "execution_count": 56,
   "metadata": {},
   "outputs": [],
   "source": [
    "#using dynamic programming\n",
    "class Solution:\n",
    "    def howSum(self, targetSum, numbers):\n",
    "        def dp(targetSum, numbers, memo = {}):\n",
    "            if targetSum in memo:\n",
    "                return memo[targetSum]\n",
    "            if targetSum == 0:\n",
    "                return []\n",
    "            if targetSum <0:\n",
    "                return None\n",
    "            for num in numbers:\n",
    "                remainder = targetSum - num\n",
    "                remainder_result = dp(remainder, numbers, memo)\n",
    "                if remainder_result != None:\n",
    "                    memo[targetSum] = remainder_result + [num] #note you cannot use remainder_result.append(num) because append returns None\n",
    "                    return memo[targetSum]\n",
    "            memo[targetSum] = None\n",
    "            return None\n",
    "        return dp(targetSum, numbers)"
   ]
  },
  {
   "cell_type": "code",
   "execution_count": 59,
   "metadata": {},
   "outputs": [
    {
     "name": "stdout",
     "output_type": "stream",
     "text": [
      "Test 1 - Target: 7, Numbers: [2, 3]\n",
      "Result: [3, 2, 2]\n",
      "Expected: [3, 2, 2]\n",
      "Pass\n",
      "\n",
      "Test 2 - Target: 7, Numbers: [5, 3, 4, 7]\n",
      "Result: [4, 3]\n",
      "Expected: Any combination summing to 7\n",
      "Pass\n",
      "\n",
      "Test 3 - Target: 7, Numbers: [2, 4]\n",
      "Result: None\n",
      "Expected: None\n",
      "Pass\n",
      "\n",
      "Test 4 - Target: 0, Numbers: [1, 2, 3]\n",
      "Result: []\n",
      "Expected: []\n",
      "Pass\n",
      "\n",
      "Test 5 - Target: 100, Numbers: [2, 3, 5]\n",
      "Result: [2, 2, 2, 2, 2, 2, 2, 2, 2, 2, 2, 2, 2, 2, 2, 2, 2, 2, 2, 2, 2, 2, 2, 2, 2, 2, 2, 2, 2, 2, 2, 2, 2, 2, 2, 2, 2, 2, 2, 2, 2, 2, 2, 2, 2, 2, 2, 2, 2, 2]\n",
      "Expected: Any combination summing to 100\n",
      "Pass\n"
     ]
    }
   ],
   "source": [
    "# Create test cases class\n",
    "class TestHowSum:\n",
    "    def run_tests(self):\n",
    "        solution = Solution()\n",
    "        \n",
    "        # Test case 1: Basic case with a solution\n",
    "        result1 = solution.howSum(7, [2, 3])\n",
    "        print(f\"Test 1 - Target: 7, Numbers: [2, 3]\")\n",
    "        print(f\"Result: {result1}\")\n",
    "        print(f\"Expected: [3, 2, 2]\")\n",
    "        print(\"Pass\" if result1 is not None and sum(result1) == 7 else \"Fail\")\n",
    "        print()\n",
    "        \n",
    "        # Test case 2: Multiple possible solutions\n",
    "        result2 = solution.howSum(7, [5, 3, 4, 7])\n",
    "        print(f\"Test 2 - Target: 7, Numbers: [5, 3, 4, 7]\")\n",
    "        print(f\"Result: {result2}\")\n",
    "        print(f\"Expected: Any combination summing to 7\")\n",
    "        print(\"Pass\" if result2 is not None and sum(result2) == 7 else \"Fail\")\n",
    "        print()\n",
    "        \n",
    "        # Test case 3: No solution exists\n",
    "        result3 = solution.howSum(7, [2, 4])\n",
    "        print(f\"Test 3 - Target: 7, Numbers: [2, 4]\")\n",
    "        print(f\"Result: {result3}\")\n",
    "        print(f\"Expected: None\")\n",
    "        print(\"Pass\" if result3 is None else \"Fail\")\n",
    "        print()\n",
    "        \n",
    "        # Test case 4: Zero target sum\n",
    "        result4 = solution.howSum(0, [1, 2, 3])\n",
    "        print(f\"Test 4 - Target: 0, Numbers: [1, 2, 3]\")\n",
    "        print(f\"Result: {result4}\")\n",
    "        print(f\"Expected: []\")\n",
    "        print(\"Pass\" if result4 == [] else \"Fail\")\n",
    "        print()\n",
    "        \n",
    "        # Test case 5: Larger target sum\n",
    "        result5 = solution.howSum(100, [2, 3, 5])\n",
    "        print(f\"Test 5 - Target: 100, Numbers: [2, 3, 5]\")\n",
    "        print(f\"Result: {result5}\")\n",
    "        print(f\"Expected: Any combination summing to 100\")\n",
    "        print(\"Pass\" if result5 is not None and sum(result5) == 100 else \"Fail\")\n",
    "\n",
    "# Run the tests\n",
    "tester = TestHowSum()\n",
    "tester.run_tests()"
   ]
  },
  {
   "cell_type": "code",
   "execution_count": 62,
   "metadata": {},
   "outputs": [],
   "source": [
    "#Best sum - How to add up the numbers in the array to get the target sum and length should be shortest\n",
    "\n",
    "def bestSum(targetSum, numbers):\n",
    "    if targetSum == 0:\n",
    "        return []\n",
    "    if targetSum < 0:\n",
    "        return None\n",
    "    shortestCombination = None\n",
    "    for num in numbers:\n",
    "        remainder = targetSum - num\n",
    "        remainder_result = bestSum(remainder, numbers)\n",
    "        if remainder_result != None:\n",
    "            remainder_result += [num]\n",
    "            if shortestCombination == None or len(remainder_result) < len(shortestCombination):\n",
    "                shortestCombination = remainder_result\n",
    "    return shortestCombination\n",
    "    \n",
    "    \n",
    "            "
   ]
  },
  {
   "cell_type": "code",
   "execution_count": 63,
   "metadata": {},
   "outputs": [
    {
     "data": {
      "text/plain": [
       "[7]"
      ]
     },
     "execution_count": 63,
     "metadata": {},
     "output_type": "execute_result"
    }
   ],
   "source": [
    "bestSum(7, [5,3,4,7])"
   ]
  },
  {
   "cell_type": "code",
   "execution_count": 64,
   "metadata": {},
   "outputs": [
    {
     "data": {
      "text/plain": [
       "[5, 3]"
      ]
     },
     "execution_count": 64,
     "metadata": {},
     "output_type": "execute_result"
    }
   ],
   "source": [
    "bestSum(8, [2,3,5])"
   ]
  },
  {
   "cell_type": "code",
   "execution_count": 65,
   "metadata": {},
   "outputs": [
    {
     "data": {
      "text/plain": [
       "[4, 4]"
      ]
     },
     "execution_count": 65,
     "metadata": {},
     "output_type": "execute_result"
    }
   ],
   "source": [
    "bestSum(8, [1,4,5])"
   ]
  },
  {
   "cell_type": "code",
   "execution_count": 66,
   "metadata": {},
   "outputs": [
    {
     "name": "stdout",
     "output_type": "stream",
     "text": [
      "Unexpected exception formatting exception. Falling back to standard exception\n"
     ]
    },
    {
     "name": "stderr",
     "output_type": "stream",
     "text": [
      "Traceback (most recent call last):\n",
      "  File \"c:\\Users\\prana\\anaconda3\\Lib\\site-packages\\IPython\\core\\interactiveshell.py\", line 3553, in run_code\n",
      "    exec(code_obj, self.user_global_ns, self.user_ns)\n",
      "  File \"C:\\Users\\prana\\AppData\\Local\\Temp\\ipykernel_5840\\2647774696.py\", line 1, in <module>\n",
      "    bestSum(100, [1,2,5,25])\n",
      "  File \"C:\\Users\\prana\\AppData\\Local\\Temp\\ipykernel_5840\\607246915.py\", line 11, in bestSum\n",
      "    remainder_result = bestSum(remainder, numbers)\n",
      "                       ^^^^^^^^^^^^^^^^^^^^^^^^^^^\n",
      "  File \"C:\\Users\\prana\\AppData\\Local\\Temp\\ipykernel_5840\\607246915.py\", line 11, in bestSum\n",
      "    remainder_result = bestSum(remainder, numbers)\n",
      "                       ^^^^^^^^^^^^^^^^^^^^^^^^^^^\n",
      "  File \"C:\\Users\\prana\\AppData\\Local\\Temp\\ipykernel_5840\\607246915.py\", line 11, in bestSum\n",
      "    remainder_result = bestSum(remainder, numbers)\n",
      "                       ^^^^^^^^^^^^^^^^^^^^^^^^^^^\n",
      "  [Previous line repeated 82 more times]\n",
      "  File \"C:\\Users\\prana\\AppData\\Local\\Temp\\ipykernel_5840\\607246915.py\", line -1, in bestSum\n",
      "KeyboardInterrupt\n",
      "\n",
      "During handling of the above exception, another exception occurred:\n",
      "\n",
      "Traceback (most recent call last):\n",
      "  File \"c:\\Users\\prana\\anaconda3\\Lib\\site-packages\\IPython\\core\\interactiveshell.py\", line 2144, in showtraceback\n",
      "    stb = self.InteractiveTB.structured_traceback(\n",
      "          ^^^^^^^^^^^^^^^^^^^^^^^^^^^^^^^^^^^^^^^^\n",
      "  File \"c:\\Users\\prana\\anaconda3\\Lib\\site-packages\\IPython\\core\\ultratb.py\", line 1435, in structured_traceback\n",
      "    return FormattedTB.structured_traceback(\n",
      "           ^^^^^^^^^^^^^^^^^^^^^^^^^^^^^^^^^\n",
      "  File \"c:\\Users\\prana\\anaconda3\\Lib\\site-packages\\IPython\\core\\ultratb.py\", line 1326, in structured_traceback\n",
      "    return VerboseTB.structured_traceback(\n",
      "           ^^^^^^^^^^^^^^^^^^^^^^^^^^^^^^^\n",
      "  File \"c:\\Users\\prana\\anaconda3\\Lib\\site-packages\\IPython\\core\\ultratb.py\", line 1173, in structured_traceback\n",
      "    formatted_exception = self.format_exception_as_a_whole(etype, evalue, etb, number_of_lines_of_context,\n",
      "                          ^^^^^^^^^^^^^^^^^^^^^^^^^^^^^^^^^^^^^^^^^^^^^^^^^^^^^^^^^^^^^^^^^^^^^^^^^^^^^^^^\n",
      "  File \"c:\\Users\\prana\\anaconda3\\Lib\\site-packages\\IPython\\core\\ultratb.py\", line 1088, in format_exception_as_a_whole\n",
      "    frames.append(self.format_record(record))\n",
      "                  ^^^^^^^^^^^^^^^^^^^^^^^^^^\n",
      "  File \"c:\\Users\\prana\\anaconda3\\Lib\\site-packages\\IPython\\core\\ultratb.py\", line 970, in format_record\n",
      "    frame_info.lines, Colors, self.has_colors, lvals\n",
      "    ^^^^^^^^^^^^^^^^\n",
      "  File \"c:\\Users\\prana\\anaconda3\\Lib\\site-packages\\IPython\\core\\ultratb.py\", line 792, in lines\n",
      "    return self._sd.lines\n",
      "           ^^^^^^^^^^^^^^\n",
      "  File \"c:\\Users\\prana\\anaconda3\\Lib\\site-packages\\stack_data\\utils.py\", line 145, in cached_property_wrapper\n",
      "    value = obj.__dict__[self.func.__name__] = self.func(obj)\n",
      "                                               ^^^^^^^^^^^^^^\n",
      "  File \"c:\\Users\\prana\\anaconda3\\Lib\\site-packages\\stack_data\\core.py\", line 698, in lines\n",
      "    pieces = self.included_pieces\n",
      "             ^^^^^^^^^^^^^^^^^^^^\n",
      "  File \"c:\\Users\\prana\\anaconda3\\Lib\\site-packages\\stack_data\\utils.py\", line 145, in cached_property_wrapper\n",
      "    value = obj.__dict__[self.func.__name__] = self.func(obj)\n",
      "                                               ^^^^^^^^^^^^^^\n",
      "  File \"c:\\Users\\prana\\anaconda3\\Lib\\site-packages\\stack_data\\core.py\", line 649, in included_pieces\n",
      "    pos = scope_pieces.index(self.executing_piece)\n",
      "                             ^^^^^^^^^^^^^^^^^^^^\n",
      "  File \"c:\\Users\\prana\\anaconda3\\Lib\\site-packages\\stack_data\\utils.py\", line 145, in cached_property_wrapper\n",
      "    value = obj.__dict__[self.func.__name__] = self.func(obj)\n",
      "                                               ^^^^^^^^^^^^^^\n",
      "  File \"c:\\Users\\prana\\anaconda3\\Lib\\site-packages\\stack_data\\core.py\", line 628, in executing_piece\n",
      "    return only(\n",
      "           ^^^^^\n",
      "  File \"c:\\Users\\prana\\anaconda3\\Lib\\site-packages\\executing\\executing.py\", line 164, in only\n",
      "    raise NotOneValueFound('Expected one value, found 0')\n",
      "executing.executing.NotOneValueFound: Expected one value, found 0\n"
     ]
    }
   ],
   "source": [
    "bestSum(100, [1,2,5,25])"
   ]
  },
  {
   "cell_type": "code",
   "execution_count": 3,
   "metadata": {},
   "outputs": [],
   "source": [
    "#Best sum using memoization\n",
    "\n",
    "class Solution:\n",
    "    def bestSum(self, targetSum, numbers):\n",
    "        def dp(targetSum, memo = {}):\n",
    "            if targetSum in memo:\n",
    "                return memo[targetSum]\n",
    "            if targetSum == 0:\n",
    "                return []\n",
    "            if targetSum < 0:\n",
    "                return None\n",
    "            shortestCombination = None\n",
    "            for num in numbers:\n",
    "                remainder = targetSum - num\n",
    "                remainder_result = dp(remainder, memo)\n",
    "                if remainder_result != None:\n",
    "                    combination = remainder_result + [num]\n",
    "                    if shortestCombination == None or len(combination) < len(shortestCombination):\n",
    "                        shortestCombination = combination\n",
    "            memo[targetSum] = shortestCombination\n",
    "            return shortestCombination"
   ]
  },
  {
   "cell_type": "code",
   "execution_count": 5,
   "metadata": {},
   "outputs": [],
   "source": [
    "#wrong version\n",
    "\n",
    "def canConstruct(target, wordBank):\n",
    "    if target == \"\":\n",
    "        return True\n",
    "    for word in wordBank:\n",
    "        remaining_word = target.removeprefix(word)\n",
    "        remaining_result = canConstruct(remaining_word,wordBank)\n",
    "        \n",
    "        if remaining_result:\n",
    "            return True\n",
    "    return False\n",
    "    "
   ]
  },
  {
   "cell_type": "markdown",
   "metadata": {},
   "source": [
    "#why the above code is wrong:\n",
    "target = \"abcdef\"\n",
    "wordBank = [\"gh\", \"ij\", \"kl\", \"ab\"]\n",
    "In this case, your code processes it like this:\n",
    "For word \"gh\":\n",
    "removeprefix(\"gh\") returns \"abcdef\" unchanged\n",
    "Makes recursive call with \"abcdef\" again\n",
    "This creates an infinite loop since the string never changes\n",
    "For word \"ij\":\n",
    "Same issue: removeprefix(\"ij\") returns \"abcdef\"\n",
    "Another unnecessary recursive call\n",
    "The code keeps making recursive calls with the same string \"abcdef\", eventually hitting the"
   ]
  },
  {
   "cell_type": "code",
   "execution_count": 6,
   "metadata": {},
   "outputs": [
    {
     "ename": "RecursionError",
     "evalue": "maximum recursion depth exceeded while calling a Python object",
     "output_type": "error",
     "traceback": [
      "\u001b[1;31m---------------------------------------------------------------------------\u001b[0m",
      "\u001b[1;31mRecursionError\u001b[0m                            Traceback (most recent call last)",
      "Cell \u001b[1;32mIn[6], line 1\u001b[0m\n\u001b[1;32m----> 1\u001b[0m canConstruct(\u001b[38;5;124m\"\u001b[39m\u001b[38;5;124mskateboard\u001b[39m\u001b[38;5;124m\"\u001b[39m, [\u001b[38;5;124m\"\u001b[39m\u001b[38;5;124mska\u001b[39m\u001b[38;5;124m\"\u001b[39m, \u001b[38;5;124m\"\u001b[39m\u001b[38;5;124mte\u001b[39m\u001b[38;5;124m\"\u001b[39m, \u001b[38;5;124m\"\u001b[39m\u001b[38;5;124mboar\u001b[39m\u001b[38;5;124m\"\u001b[39m, \u001b[38;5;124m\"\u001b[39m\u001b[38;5;124md\u001b[39m\u001b[38;5;124m\"\u001b[39m, \u001b[38;5;124m\"\u001b[39m\u001b[38;5;124mesc\u001b[39m\u001b[38;5;124m\"\u001b[39m])\n",
      "Cell \u001b[1;32mIn[5], line 6\u001b[0m, in \u001b[0;36mcanConstruct\u001b[1;34m(target, wordBank)\u001b[0m\n\u001b[0;32m      4\u001b[0m \u001b[38;5;28;01mfor\u001b[39;00m word \u001b[38;5;129;01min\u001b[39;00m wordBank:\n\u001b[0;32m      5\u001b[0m     remaining_word \u001b[38;5;241m=\u001b[39m target\u001b[38;5;241m.\u001b[39mremoveprefix(word)\n\u001b[1;32m----> 6\u001b[0m     remaining_result \u001b[38;5;241m=\u001b[39m canConstruct(remaining_word,wordBank)\n\u001b[0;32m      8\u001b[0m     \u001b[38;5;28;01mif\u001b[39;00m remaining_result:\n\u001b[0;32m      9\u001b[0m         \u001b[38;5;28;01mreturn\u001b[39;00m \u001b[38;5;28;01mTrue\u001b[39;00m\n",
      "Cell \u001b[1;32mIn[5], line 6\u001b[0m, in \u001b[0;36mcanConstruct\u001b[1;34m(target, wordBank)\u001b[0m\n\u001b[0;32m      4\u001b[0m \u001b[38;5;28;01mfor\u001b[39;00m word \u001b[38;5;129;01min\u001b[39;00m wordBank:\n\u001b[0;32m      5\u001b[0m     remaining_word \u001b[38;5;241m=\u001b[39m target\u001b[38;5;241m.\u001b[39mremoveprefix(word)\n\u001b[1;32m----> 6\u001b[0m     remaining_result \u001b[38;5;241m=\u001b[39m canConstruct(remaining_word,wordBank)\n\u001b[0;32m      8\u001b[0m     \u001b[38;5;28;01mif\u001b[39;00m remaining_result:\n\u001b[0;32m      9\u001b[0m         \u001b[38;5;28;01mreturn\u001b[39;00m \u001b[38;5;28;01mTrue\u001b[39;00m\n",
      "    \u001b[1;31m[... skipping similar frames: canConstruct at line 6 (2969 times)]\u001b[0m\n",
      "Cell \u001b[1;32mIn[5], line 6\u001b[0m, in \u001b[0;36mcanConstruct\u001b[1;34m(target, wordBank)\u001b[0m\n\u001b[0;32m      4\u001b[0m \u001b[38;5;28;01mfor\u001b[39;00m word \u001b[38;5;129;01min\u001b[39;00m wordBank:\n\u001b[0;32m      5\u001b[0m     remaining_word \u001b[38;5;241m=\u001b[39m target\u001b[38;5;241m.\u001b[39mremoveprefix(word)\n\u001b[1;32m----> 6\u001b[0m     remaining_result \u001b[38;5;241m=\u001b[39m canConstruct(remaining_word,wordBank)\n\u001b[0;32m      8\u001b[0m     \u001b[38;5;28;01mif\u001b[39;00m remaining_result:\n\u001b[0;32m      9\u001b[0m         \u001b[38;5;28;01mreturn\u001b[39;00m \u001b[38;5;28;01mTrue\u001b[39;00m\n",
      "Cell \u001b[1;32mIn[5], line 5\u001b[0m, in \u001b[0;36mcanConstruct\u001b[1;34m(target, wordBank)\u001b[0m\n\u001b[0;32m      3\u001b[0m     \u001b[38;5;28;01mreturn\u001b[39;00m \u001b[38;5;28;01mTrue\u001b[39;00m\n\u001b[0;32m      4\u001b[0m \u001b[38;5;28;01mfor\u001b[39;00m word \u001b[38;5;129;01min\u001b[39;00m wordBank:\n\u001b[1;32m----> 5\u001b[0m     remaining_word \u001b[38;5;241m=\u001b[39m target\u001b[38;5;241m.\u001b[39mremoveprefix(word)\n\u001b[0;32m      6\u001b[0m     remaining_result \u001b[38;5;241m=\u001b[39m canConstruct(remaining_word,wordBank)\n\u001b[0;32m      8\u001b[0m     \u001b[38;5;28;01mif\u001b[39;00m remaining_result:\n",
      "\u001b[1;31mRecursionError\u001b[0m: maximum recursion depth exceeded while calling a Python object"
     ]
    }
   ],
   "source": [
    "canConstruct(\"skateboard\", [\"ska\", \"te\", \"boar\", \"d\", \"esc\"])"
   ]
  },
  {
   "cell_type": "code",
   "execution_count": 7,
   "metadata": {},
   "outputs": [],
   "source": [
    "def canConstruct(target, wordBank):\n",
    "    if target == \"\":\n",
    "        return True\n",
    "    for word in wordBank:\n",
    "        if target.startswith(word):\n",
    "            remaining_word = target[len(word):]\n",
    "            if canConstruct(remaining_word, wordBank):\n",
    "                return True\n",
    "    return False\n",
    "            "
   ]
  },
  {
   "cell_type": "code",
   "execution_count": 8,
   "metadata": {},
   "outputs": [
    {
     "data": {
      "text/plain": [
       "True"
      ]
     },
     "execution_count": 8,
     "metadata": {},
     "output_type": "execute_result"
    }
   ],
   "source": [
    "canConstruct(\"abcdef\", [\"ab\", \"abc\", \"cd\", \"def\", \"abcd\"])"
   ]
  },
  {
   "cell_type": "code",
   "execution_count": 9,
   "metadata": {},
   "outputs": [
    {
     "data": {
      "text/plain": [
       "False"
      ]
     },
     "execution_count": 9,
     "metadata": {},
     "output_type": "execute_result"
    }
   ],
   "source": [
    "canConstruct(\"skateboard\", [\"bo\", \"rd\", \"ate\", \"t\", \"ska\", \"sk\", \"boar\"])"
   ]
  },
  {
   "cell_type": "code",
   "execution_count": 15,
   "metadata": {},
   "outputs": [],
   "source": [
    "class Solution:\n",
    "    def canConstruct(self, target, wordBank):\n",
    "        def dp(target, wordBank, memo = {}):\n",
    "            if target in memo:\n",
    "                return memo[target]\n",
    "            if target == \"\":\n",
    "                return True\n",
    "            for word in wordBank:\n",
    "                if target.startswith(word):\n",
    "                    remaining_word = target[len(word):]\n",
    "                    if dp(remaining_word, wordBank, memo):\n",
    "                        memo[target] = True\n",
    "                        return True\n",
    "            memo[target] = False  #Dont forget this\n",
    "            return False\n",
    "        return dp(target, wordBank)\n",
    "    \n",
    "                        "
   ]
  },
  {
   "cell_type": "code",
   "execution_count": 17,
   "metadata": {},
   "outputs": [
    {
     "name": "stdout",
     "output_type": "stream",
     "text": [
      "Total tests: 10\n",
      "Passed: 10\n",
      "Failed: 0\n"
     ]
    },
    {
     "data": {
      "text/plain": [
       "True"
      ]
     },
     "execution_count": 17,
     "metadata": {},
     "output_type": "execute_result"
    }
   ],
   "source": [
    "def test_canConstruct():\n",
    "    solution = Solution()\n",
    "    test_cases = [\n",
    "        # Basic test cases\n",
    "        {\"target\": \"abcdef\", \"wordBank\": [\"ab\", \"abc\", \"cd\", \"def\", \"abcd\"], \"expected\": True},\n",
    "        {\"target\": \"skateboard\", \"wordBank\": [\"bo\", \"rd\", \"ate\", \"t\", \"ska\", \"sk\", \"boar\"], \"expected\": False},\n",
    "        \n",
    "        # Empty string cases\n",
    "        {\"target\": \"\", \"wordBank\": [\"a\", \"b\", \"c\"], \"expected\": True},\n",
    "        {\"target\": \"\", \"wordBank\": [], \"expected\": True},\n",
    "        \n",
    "        # Single character cases\n",
    "        {\"target\": \"a\", \"wordBank\": [\"a\"], \"expected\": True},\n",
    "        {\"target\": \"a\", \"wordBank\": [\"b\"], \"expected\": False},\n",
    "        \n",
    "        # Repetitive pattern cases\n",
    "        {\"target\": \"aaaa\", \"wordBank\": [\"a\"], \"expected\": True},\n",
    "        {\"target\": \"enterapotentpot\", \"wordBank\": [\"a\", \"p\", \"ent\", \"enter\", \"ot\", \"o\", \"t\"], \"expected\": True},\n",
    "        \n",
    "        # Long string with no solution\n",
    "        {\"target\": \"eeeeeeeeeeeeeeeeeeeeeeeeeeeeeeeeeeeeeeef\", \n",
    "         \"wordBank\": [\"e\", \"ee\", \"eee\", \"eeee\", \"eeeee\"], \n",
    "         \"expected\": False},\n",
    "         \n",
    "        # Overlapping words case\n",
    "        {\"target\": \"purple\", \"wordBank\": [\"purp\", \"p\", \"ur\", \"le\", \"purpl\"], \"expected\": True}\n",
    "    ]\n",
    "\n",
    "    passed = 0\n",
    "    failed = 0\n",
    "    \n",
    "    for i, case in enumerate(test_cases):\n",
    "        result = solution.canConstruct(case[\"target\"], case[\"wordBank\"])\n",
    "        if result == case[\"expected\"]:\n",
    "            passed += 1\n",
    "        else:\n",
    "            failed += 1\n",
    "            print(f\"Test case {i+1} failed:\")\n",
    "            print(f\"Target: {case['target']}\")\n",
    "            print(f\"WordBank: {case['wordBank']}\")\n",
    "            print(f\"Expected: {case['expected']}, Got: {result}\\n\")\n",
    "    \n",
    "    print(f\"Total tests: {len(test_cases)}\")\n",
    "    print(f\"Passed: {passed}\")\n",
    "    print(f\"Failed: {failed}\")\n",
    "    \n",
    "    return passed == len(test_cases)\n",
    "\n",
    "# Run the tests\n",
    "test_canConstruct()"
   ]
  },
  {
   "cell_type": "code",
   "execution_count": 18,
   "metadata": {},
   "outputs": [],
   "source": [
    "def countConstruct(target, wordBank):\n",
    "    if target == \"\":\n",
    "        return 1\n",
    "    totalCount = 0\n",
    "    \n",
    "    for word in wordBank:\n",
    "        if target.startswith(word):\n",
    "            remaining_word = target[len(word):]\n",
    "            numWaysForRest = countConstruct(remaining_word, wordBank)\n",
    "            totalCount += numWaysForRest\n",
    "            \n",
    "    return totalCount\n",
    "            "
   ]
  },
  {
   "cell_type": "code",
   "execution_count": 19,
   "metadata": {},
   "outputs": [
    {
     "name": "stdout",
     "output_type": "stream",
     "text": [
      "2\n",
      "1\n",
      "0\n"
     ]
    }
   ],
   "source": [
    "print(countConstruct(\"purple\", [\"purp\", \"p\", \"ur\", \"le\", \"purpl\"]))  # Should return 2\n",
    "print(countConstruct(\"abcdef\", [\"ab\", \"abc\", \"cd\", \"def\", \"abcd\"]))  # Should return 1\n",
    "print(countConstruct(\"skateboard\", [\"bo\", \"rd\", \"ate\", \"t\", \"ska\", \"sk\", \"boar\"]))  # Should return 0"
   ]
  },
  {
   "cell_type": "code",
   "execution_count": 20,
   "metadata": {},
   "outputs": [],
   "source": [
    "#Using memoization\n",
    "\n",
    "class Solution:\n",
    "    def countConstruct(self, target, wordBank):\n",
    "        def dp(target, wordBank, memo={}):\n",
    "            if target in memo:\n",
    "                return memo[target]\n",
    "            if target == \"\":\n",
    "                return 1\n",
    "            total_count = 0\n",
    "            for word in wordBank:\n",
    "                if target.startswith(word):\n",
    "                    remaining_word = target[len(word):]\n",
    "                    numWaysForREST = dp(remaining_word,memo)\n",
    "                    total_count += numWaysForREST\n",
    "            memo[target] = total_count  #Note we memoize after we have explored all the words hence it will be outside the loop\n",
    "            return total_count\n",
    "        return dp(target, wordBank)\n",
    "            "
   ]
  },
  {
   "cell_type": "markdown",
   "metadata": {},
   "source": [
    "# 70 Climbing stairs\n",
    "\n",
    "You are climbing a staircase. It takes n steps to reach the top.\n",
    "\n",
    "Each time you can either climb 1 or 2 steps. In how many distinct ways can you climb to the top?"
   ]
  },
  {
   "cell_type": "code",
   "execution_count": 12,
   "metadata": {},
   "outputs": [],
   "source": [
    "#This is basically a fibannoci series \n",
    "#Two base cases if n = 1, you can climb in 1 step - f(1) = 1\n",
    "#if n = 2, you can climb in 1+1, or directly using 2 steps. f(2) = 2\n",
    "#Note this is similar to fibonnaci series\n",
    "\n",
    "#Climbing starts using recursion\n",
    "\n",
    "def fib(n):\n",
    "    if n == 1 :\n",
    "        return 1\n",
    "    if n ==2:\n",
    "        return 2\n",
    "    else:\n",
    "        return fib(n-1) + fib(n-2)\n",
    "\n",
    "\n"
   ]
  },
  {
   "cell_type": "code",
   "execution_count": 13,
   "metadata": {},
   "outputs": [
    {
     "data": {
      "text/plain": [
       "3"
      ]
     },
     "execution_count": 13,
     "metadata": {},
     "output_type": "execute_result"
    }
   ],
   "source": [
    "fib(3)"
   ]
  },
  {
   "cell_type": "code",
   "execution_count": 14,
   "metadata": {},
   "outputs": [
    {
     "data": {
      "text/plain": [
       "13"
      ]
     },
     "execution_count": 14,
     "metadata": {},
     "output_type": "execute_result"
    }
   ],
   "source": [
    "fib(6)"
   ]
  },
  {
   "cell_type": "code",
   "execution_count": null,
   "metadata": {},
   "outputs": [
    {
     "data": {
      "text/plain": [
       "12586269025"
      ]
     },
     "execution_count": 5,
     "metadata": {},
     "output_type": "execute_result"
    }
   ],
   "source": [
    "#fib(50)"
   ]
  },
  {
   "cell_type": "code",
   "execution_count": 15,
   "metadata": {},
   "outputs": [],
   "source": [
    "#Using memoization\n",
    "class Solution:\n",
    "    def fib(self,n):\n",
    "        def dp(n, memo ={}):\n",
    "            if n in memo:\n",
    "                return memo[n]\n",
    "            if n == 1 :\n",
    "                return 1\n",
    "            if n ==2:\n",
    "                return 2\n",
    "            memo[n] = dp(n-1, memo) + dp(n-2, memo)\n",
    "            return memo[n]\n",
    "        return dp(n)\n",
    "            \n",
    "    \n",
    "\n"
   ]
  },
  {
   "cell_type": "code",
   "execution_count": 16,
   "metadata": {},
   "outputs": [
    {
     "name": "stdout",
     "output_type": "stream",
     "text": [
      "13\n",
      "20365011074\n"
     ]
    }
   ],
   "source": [
    "solution = Solution()\n",
    "print(solution.fib(6))\n",
    "print(solution.fib(50))"
   ]
  },
  {
   "cell_type": "code",
   "execution_count": 17,
   "metadata": {},
   "outputs": [],
   "source": [
    "#using tabulation\n",
    "\n",
    "#Using memoization\n",
    "class Solution:\n",
    "    def climbStairs(self, n:int):\n",
    "        if n ==1:\n",
    "            return 1\n",
    "        if n ==2:\n",
    "            return 2\n",
    "        dp = [0] * n\n",
    "        dp[0] = 1\n",
    "        dp[1] = 2\n",
    "        \n",
    "        for i in range(2,n):  #this will start from 2 and end with n-1\n",
    "            dp[i] = dp[i-2] + dp[i-1]\n",
    "            \n",
    "        return dp[n-1]\n",
    "            \n",
    "            \n",
    "        \n"
   ]
  },
  {
   "cell_type": "code",
   "execution_count": 18,
   "metadata": {},
   "outputs": [
    {
     "name": "stdout",
     "output_type": "stream",
     "text": [
      "13\n",
      "20365011074\n"
     ]
    }
   ],
   "source": [
    "solution = Solution()\n",
    "print(solution.climbStairs(6))\n",
    "print(solution.climbStairs(50))\n"
   ]
  },
  {
   "cell_type": "markdown",
   "metadata": {},
   "source": [
    "# 746. Min Cost Climbing Stairs\n",
    "\n",
    "\n",
    "You are given an integer array cost where cost[i] is the cost of ith step on a staircase. Once you pay the cost, you can either climb one or two steps.\n",
    "\n",
    "You can either start from the step with index 0, or the step with index 1.\n",
    "\n",
    "Return the minimum cost to reach the top of the floor.\n",
    "\n",
    " \n"
   ]
  },
  {
   "cell_type": "code",
   "execution_count": 22,
   "metadata": {},
   "outputs": [],
   "source": [
    "#Using recursion\n",
    "\n",
    "from typing import List\n",
    "\n",
    "class Solution:\n",
    "    def minCostClimbingStairs(self, cost: List[int]) -> int:\n",
    "        n = len(cost)\n",
    "        def min_cost(n):\n",
    "            if n == 0 or n == 1:\n",
    "                return 0  #no cost if index is 0 or 1 as given by the question\n",
    "            \n",
    "            return min(cost[n-1] + min_cost(n-1), cost[n-2] + min_cost(n-2))\n",
    "            \n",
    "        return min_cost(n)   #The whole idea is to cross or set free from the staircase as min cost - since len of stairs is n-1 we want min cost at n"
   ]
  },
  {
   "cell_type": "code",
   "execution_count": 24,
   "metadata": {},
   "outputs": [
    {
     "name": "stdout",
     "output_type": "stream",
     "text": [
      "15\n",
      "6\n"
     ]
    }
   ],
   "source": [
    "solution = Solution()\n",
    "print(solution.minCostClimbingStairs([10,15,20]))\n",
    "\n",
    "print(solution.minCostClimbingStairs([1,100,1,1,1,100,1,1,100,1]))"
   ]
  },
  {
   "cell_type": "code",
   "execution_count": 29,
   "metadata": {},
   "outputs": [],
   "source": [
    "#using top down dp (memoization)\n",
    "\n",
    "class Solution:\n",
    "    def minCostClimbingStairs(self, cost: List[int]) -> int:\n",
    "        n = len(cost)\n",
    "        memo = {0:0, 1:0}\n",
    "        def min_cost(n):\n",
    "            if n in memo:\n",
    "                return memo[n]\n",
    "                  #no cost if index is 0 or 1 as given by the question\n",
    "            else:                               \n",
    "                memo[n] = min(cost[n-1] + min_cost(n-1), cost[n-2] + min_cost(n-2))\n",
    "            return memo[n]\n",
    "            \n",
    "        return min_cost(n) "
   ]
  },
  {
   "cell_type": "code",
   "execution_count": 30,
   "metadata": {},
   "outputs": [
    {
     "name": "stdout",
     "output_type": "stream",
     "text": [
      "15\n",
      "6\n"
     ]
    }
   ],
   "source": [
    "solution = Solution()\n",
    "print(solution.minCostClimbingStairs([10,15,20]))\n",
    "\n",
    "print(solution.minCostClimbingStairs([1,100,1,1,1,100,1,1,100,1]))"
   ]
  },
  {
   "cell_type": "code",
   "execution_count": 31,
   "metadata": {},
   "outputs": [],
   "source": [
    "#using bottom up Tabulation appraoch\n",
    "\n",
    "class Solution:\n",
    "    def minCostClimbingStairs(self, cost: List[int]) -> int:\n",
    "        n = len(cost)\n",
    "        \n",
    "        dp = [0] * (n+1)\n",
    "        \n",
    "        for i in range(2, n+1): #its range is n+1 so it will basically calculate dp[n] and dp[n] is the n+1 th element of the dp array\n",
    "            dp[i] = min(dp[i-2] + cost[i-2], dp[i-1] + cost[i-1])\n",
    "        return dp[-1]\n",
    "            "
   ]
  },
  {
   "cell_type": "markdown",
   "metadata": {},
   "source": [
    "# 198 House robber\n",
    "\n",
    "You are a professional robber planning to rob houses along a street. Each house has a certain amount of money stashed, the only constraint stopping you from robbing each of them is that adjacent houses have security systems connected and it will automatically contact the police if two adjacent houses were broken into on the same night.\n",
    "\n",
    "Given an integer array nums representing the amount of money of each house, return the maximum amount of money you can rob tonight without alerting the police.\n",
    "\n"
   ]
  },
  {
   "cell_type": "code",
   "execution_count": 3,
   "metadata": {},
   "outputs": [],
   "source": [
    "from typing import List\n",
    "\n",
    "#Recursion\n",
    "class Solution:\n",
    "    def rob(self, nums:List[int])->int:\n",
    "        \n",
    "        n = len(nums)\n",
    "        def max_rob(i):\n",
    "            if i == 0:\n",
    "                return nums[0]\n",
    "            if i ==1:\n",
    "                return max(nums[0], nums[1])\n",
    "            \n",
    "            steal = nums[i] + max_rob(i-2)\n",
    "            skip = max_rob(i-1)\n",
    "            \n",
    "            return max(steal, skip)\n",
    "        \n",
    "        return max_rob(n-1)\n",
    "        "
   ]
  },
  {
   "cell_type": "code",
   "execution_count": 4,
   "metadata": {},
   "outputs": [
    {
     "name": "stdout",
     "output_type": "stream",
     "text": [
      "12\n"
     ]
    }
   ],
   "source": [
    "nums = [2,7,9,3,1]\n",
    "solution = Solution()\n",
    "print(solution.rob(nums))"
   ]
  },
  {
   "cell_type": "code",
   "execution_count": 5,
   "metadata": {},
   "outputs": [
    {
     "name": "stdout",
     "output_type": "stream",
     "text": [
      "4\n"
     ]
    }
   ],
   "source": [
    "nums = [1,2,3,1]\n",
    "solution = Solution()\n",
    "print(solution.rob(nums))"
   ]
  },
  {
   "cell_type": "code",
   "execution_count": 12,
   "metadata": {},
   "outputs": [],
   "source": [
    "#Using memoization\n",
    "\n",
    "class Solution:\n",
    "    def rob(self, nums:List[int])->int:\n",
    "        n = len(nums)\n",
    "        if n ==1:\n",
    "            return nums[0]\n",
    "        if n ==2:\n",
    "            return max(nums[0], nums[1])\n",
    "        memo = {0:nums[0], 1: max(nums[0], nums[1])}\n",
    "        def max_rob(i):\n",
    "            if i in memo:\n",
    "                return memo[i]\n",
    "             \n",
    "            steal = nums[i] + max_rob(i-2)\n",
    "            skip = max_rob(i-1)\n",
    "            \n",
    "            memo[i] = max(steal, skip)\n",
    "            \n",
    "            return memo[i]\n",
    "        \n",
    "        return max_rob(n-1)\n",
    "        \n",
    "\n"
   ]
  },
  {
   "cell_type": "code",
   "execution_count": 13,
   "metadata": {},
   "outputs": [
    {
     "name": "stdout",
     "output_type": "stream",
     "text": [
      "4\n"
     ]
    }
   ],
   "source": [
    "nums = [1,2,3,1]\n",
    "solution = Solution()\n",
    "print(solution.rob(nums))"
   ]
  },
  {
   "cell_type": "code",
   "execution_count": 18,
   "metadata": {},
   "outputs": [],
   "source": [
    "#Using tabulation\n",
    "\n",
    "class Solution:\n",
    "    def rob(self, nums:List[int]) -> int:\n",
    "        n = len(nums)\n",
    "        \n",
    "        if n ==1:\n",
    "            return nums[0]\n",
    "        if n ==2:\n",
    "            return max(nums[0], nums[1])\n",
    "        \n",
    "        \n",
    "        dp = [0] * (n)\n",
    "        dp[0] = nums[0] #dp[i] denotes max amount stolen before state i thus dp[0] means max amount stolen till no houses reached\n",
    "        dp[1] = max(nums[0], nums[1]) #dp[1] indicates maximum amount till 1st house (nums[0]) \n",
    "        \n",
    "        \n",
    "        for i in range (2, n):\n",
    "            skip = dp[i-1]\n",
    "            steal = nums[i] + dp[i-2]  #note why it is nums[i-1] very similar to why dp[1] is nums[1]\n",
    "            dp[i] = max(skip, steal)\n",
    "            \n",
    "            \n",
    "            \n",
    "        return dp[-1]\n",
    "        \n",
    "        \n",
    "        \n",
    "        \n",
    "\n",
    "\n"
   ]
  },
  {
   "cell_type": "code",
   "execution_count": 17,
   "metadata": {},
   "outputs": [
    {
     "name": "stdout",
     "output_type": "stream",
     "text": [
      "4\n"
     ]
    }
   ],
   "source": [
    "nums = [1,2,3,1]\n",
    "solution = Solution()\n",
    "print(solution.rob(nums))"
   ]
  },
  {
   "cell_type": "markdown",
   "metadata": {},
   "source": [
    "# 213. House Robber II\n",
    "\n",
    "You are a professional robber planning to rob houses along a street. Each house has a certain amount of money stashed. All houses at this place are arranged in a circle. That means the first house is the neighbor of the last one. Meanwhile, adjacent houses have a security system connected, and it will automatically contact the police if two adjacent houses were broken into on the same night.\n",
    "\n",
    "Given an integer array nums representing the amount of money of each house, return the maximum amount of money you can rob tonight without alerting the police."
   ]
  },
  {
   "cell_type": "code",
   "execution_count": 19,
   "metadata": {},
   "outputs": [
    {
     "ename": "SyntaxError",
     "evalue": "incomplete input (2378518829.py, line 2)",
     "output_type": "error",
     "traceback": [
      "\u001b[1;36m  Cell \u001b[1;32mIn[19], line 2\u001b[1;36m\u001b[0m\n\u001b[1;33m    def rob(self, nums: List[int]) -> int:\u001b[0m\n\u001b[1;37m                                          ^\u001b[0m\n\u001b[1;31mSyntaxError\u001b[0m\u001b[1;31m:\u001b[0m incomplete input\n"
     ]
    }
   ],
   "source": [
    "class Solution:\n",
    "    def rob(self, nums: List[int]) -> int:\n",
    "        n = len(nums)\n",
    "        "
   ]
  },
  {
   "cell_type": "markdown",
   "metadata": {},
   "source": []
  }
 ],
 "metadata": {
  "kernelspec": {
   "display_name": "base",
   "language": "python",
   "name": "python3"
  },
  "language_info": {
   "codemirror_mode": {
    "name": "ipython",
    "version": 3
   },
   "file_extension": ".py",
   "mimetype": "text/x-python",
   "name": "python",
   "nbconvert_exporter": "python",
   "pygments_lexer": "ipython3",
   "version": "3.11.5"
  }
 },
 "nbformat": 4,
 "nbformat_minor": 2
}

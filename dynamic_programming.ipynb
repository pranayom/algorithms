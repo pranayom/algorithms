{
 "cells": [
  {
   "cell_type": "markdown",
   "metadata": {
    "vscode": {
     "languageId": "plaintext"
    }
   },
   "source": [
    "# 62 Grid traveller\n",
    "\n",
    "There is a robot on an m x n grid. The robot is initially located at the top-left corner (i.e., grid[0][0]). The robot tries to move to the bottom-right corner (i.e., grid[m - 1][n - 1]). The robot can only move either down or right at any point in time.\n",
    "\n",
    "Given the two integers m and n, return the number of possible unique paths that the robot can take to reach the bottom-right corner.\n",
    "\n",
    "The test cases are generated so that the answer will be less than or equal to 2 * 109."
   ]
  },
  {
   "cell_type": "code",
   "execution_count": null,
   "metadata": {},
   "outputs": [],
   "source": [
    "class Solution:\n",
    "    def uniquePaths(self, m:int, n:int) -> int:\n",
    "        def dp(m, n, memo = {}):\n",
    "            key = str(m) + ',' + str(n)\n",
    "            \n",
    "            if key in memo: \n",
    "                return memo[key]\n",
    "            \n",
    "            #Base cases\n",
    "            if m ==1 and n ==1:\n",
    "                return 1\n",
    "            if m ==0 or n == 0:\n",
    "                return 0\n",
    "            \n",
    "            memo[key] = dp(m-1,n, memo) + dep(m,n-1,memo)\n",
    "            \n",
    "            return memo[key]\n",
    "        return dp(m,n)\n",
    "        \n",
    "            \n"
   ]
  },
  {
   "cell_type": "code",
   "execution_count": null,
   "metadata": {},
   "outputs": [],
   "source": []
  }
 ],
 "metadata": {
  "language_info": {
   "name": "python"
  }
 },
 "nbformat": 4,
 "nbformat_minor": 2
}

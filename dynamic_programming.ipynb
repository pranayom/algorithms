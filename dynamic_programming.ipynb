{
 "cells": [
  {
   "cell_type": "markdown",
   "metadata": {
    "vscode": {
     "languageId": "plaintext"
    }
   },
   "source": [
    "# 62 Grid traveller\n",
    "\n",
    "There is a robot on an m x n grid. The robot is initially located at the top-left corner (i.e., grid[0][0]). The robot tries to move to the bottom-right corner (i.e., grid[m - 1][n - 1]). The robot can only move either down or right at any point in time.\n",
    "\n",
    "Given the two integers m and n, return the number of possible unique paths that the robot can take to reach the bottom-right corner.\n",
    "\n",
    "The test cases are generated so that the answer will be less than or equal to 2 * 109."
   ]
  },
  {
   "cell_type": "code",
   "execution_count": 1,
   "metadata": {},
   "outputs": [],
   "source": [
    "class Solution:\n",
    "    def uniquePaths(self, m:int, n:int) -> int:\n",
    "        def dp(m, n, memo = {}):\n",
    "            key = str(m) + ',' + str(n)\n",
    "            \n",
    "            if key in memo: \n",
    "                return memo[key]\n",
    "            \n",
    "            #Base cases\n",
    "            if m ==1 and n ==1:\n",
    "                return 1\n",
    "            if m ==0 or n == 0:\n",
    "                return 0\n",
    "            \n",
    "            memo[key] = dp(m-1,n, memo) + dp(m,n-1,memo)\n",
    "            \n",
    "            return memo[key]\n",
    "        return dp(m,n)\n",
    "        \n",
    "            \n"
   ]
  },
  {
   "cell_type": "markdown",
   "metadata": {},
   "source": [
    "\n",
    "# 39 Combination sum\n",
    "Given an array of distinct integers candidates and a target integer target, return a list of all unique combinations of candidates where the chosen numbers sum to target. You may return the combinations in any order.\n",
    "\n",
    "The same number may be chosen from candidates an unlimited number of times. Two combinations are unique if the \n",
    "frequency\n",
    " of at least one of the chosen numbers is different.\n",
    "\n",
    "The test cases are generated such that the number of unique combinations that sum up to target is less than 150 combinations for the given input."
   ]
  },
  {
   "cell_type": "code",
   "execution_count": 11,
   "metadata": {},
   "outputs": [],
   "source": [
    "#Lets create a recursion problem out of it\n",
    "\n",
    "from typing import List\n",
    "\n",
    "def canSum(targetSum, numbers):\n",
    "    if targetSum == 0:\n",
    "        return True\n",
    "    if targetSum <0:\n",
    "        return False\n",
    "    for num in numbers:\n",
    "        remainder = targetSum - num\n",
    "        if canSum(remainder, numbers) == True:\n",
    "            return True\n",
    "    return False"
   ]
  },
  {
   "cell_type": "code",
   "execution_count": 12,
   "metadata": {},
   "outputs": [
    {
     "data": {
      "text/plain": [
       "True"
      ]
     },
     "execution_count": 12,
     "metadata": {},
     "output_type": "execute_result"
    }
   ],
   "source": [
    "canSum(7,[2,3]) #True"
   ]
  },
  {
   "cell_type": "code",
   "execution_count": 13,
   "metadata": {},
   "outputs": [
    {
     "data": {
      "text/plain": [
       "True"
      ]
     },
     "execution_count": 13,
     "metadata": {},
     "output_type": "execute_result"
    }
   ],
   "source": [
    "canSum(8, [2,3,5]) #True"
   ]
  },
  {
   "cell_type": "code",
   "execution_count": 14,
   "metadata": {},
   "outputs": [
    {
     "data": {
      "text/plain": [
       "False"
      ]
     },
     "execution_count": 14,
     "metadata": {},
     "output_type": "execute_result"
    }
   ],
   "source": [
    "canSum(7,[2.4])"
   ]
  },
  {
   "cell_type": "code",
   "execution_count": 15,
   "metadata": {},
   "outputs": [
    {
     "ename": "KeyboardInterrupt",
     "evalue": "",
     "output_type": "error",
     "traceback": [
      "\u001b[1;31m---------------------------------------------------------------------------\u001b[0m",
      "\u001b[1;31mKeyboardInterrupt\u001b[0m                         Traceback (most recent call last)",
      "Cell \u001b[1;32mIn[15], line 1\u001b[0m\n\u001b[1;32m----> 1\u001b[0m canSum(\u001b[38;5;241m300\u001b[39m, [\u001b[38;5;241m7\u001b[39m,\u001b[38;5;241m14\u001b[39m])\n",
      "Cell \u001b[1;32mIn[11], line 12\u001b[0m, in \u001b[0;36mcanSum\u001b[1;34m(targetSum, numbers)\u001b[0m\n\u001b[0;32m     10\u001b[0m \u001b[38;5;28;01mfor\u001b[39;00m num \u001b[38;5;129;01min\u001b[39;00m numbers:\n\u001b[0;32m     11\u001b[0m     remainder \u001b[38;5;241m=\u001b[39m targetSum \u001b[38;5;241m-\u001b[39m num\n\u001b[1;32m---> 12\u001b[0m     \u001b[38;5;28;01mif\u001b[39;00m canSum(remainder, numbers) \u001b[38;5;241m==\u001b[39m \u001b[38;5;28;01mTrue\u001b[39;00m:\n\u001b[0;32m     13\u001b[0m         \u001b[38;5;28;01mreturn\u001b[39;00m \u001b[38;5;28;01mTrue\u001b[39;00m\n\u001b[0;32m     14\u001b[0m \u001b[38;5;28;01mreturn\u001b[39;00m \u001b[38;5;28;01mFalse\u001b[39;00m\n",
      "Cell \u001b[1;32mIn[11], line 12\u001b[0m, in \u001b[0;36mcanSum\u001b[1;34m(targetSum, numbers)\u001b[0m\n\u001b[0;32m     10\u001b[0m \u001b[38;5;28;01mfor\u001b[39;00m num \u001b[38;5;129;01min\u001b[39;00m numbers:\n\u001b[0;32m     11\u001b[0m     remainder \u001b[38;5;241m=\u001b[39m targetSum \u001b[38;5;241m-\u001b[39m num\n\u001b[1;32m---> 12\u001b[0m     \u001b[38;5;28;01mif\u001b[39;00m canSum(remainder, numbers) \u001b[38;5;241m==\u001b[39m \u001b[38;5;28;01mTrue\u001b[39;00m:\n\u001b[0;32m     13\u001b[0m         \u001b[38;5;28;01mreturn\u001b[39;00m \u001b[38;5;28;01mTrue\u001b[39;00m\n\u001b[0;32m     14\u001b[0m \u001b[38;5;28;01mreturn\u001b[39;00m \u001b[38;5;28;01mFalse\u001b[39;00m\n",
      "    \u001b[1;31m[... skipping similar frames: canSum at line 12 (29 times)]\u001b[0m\n",
      "Cell \u001b[1;32mIn[11], line 12\u001b[0m, in \u001b[0;36mcanSum\u001b[1;34m(targetSum, numbers)\u001b[0m\n\u001b[0;32m     10\u001b[0m \u001b[38;5;28;01mfor\u001b[39;00m num \u001b[38;5;129;01min\u001b[39;00m numbers:\n\u001b[0;32m     11\u001b[0m     remainder \u001b[38;5;241m=\u001b[39m targetSum \u001b[38;5;241m-\u001b[39m num\n\u001b[1;32m---> 12\u001b[0m     \u001b[38;5;28;01mif\u001b[39;00m canSum(remainder, numbers) \u001b[38;5;241m==\u001b[39m \u001b[38;5;28;01mTrue\u001b[39;00m:\n\u001b[0;32m     13\u001b[0m         \u001b[38;5;28;01mreturn\u001b[39;00m \u001b[38;5;28;01mTrue\u001b[39;00m\n\u001b[0;32m     14\u001b[0m \u001b[38;5;28;01mreturn\u001b[39;00m \u001b[38;5;28;01mFalse\u001b[39;00m\n",
      "Cell \u001b[1;32mIn[11], line 5\u001b[0m, in \u001b[0;36mcanSum\u001b[1;34m(targetSum, numbers)\u001b[0m\n\u001b[0;32m      1\u001b[0m \u001b[38;5;66;03m#Lets create a recursion problem out of it\u001b[39;00m\n\u001b[0;32m      3\u001b[0m \u001b[38;5;28;01mfrom\u001b[39;00m \u001b[38;5;21;01mtyping\u001b[39;00m \u001b[38;5;28;01mimport\u001b[39;00m List\n\u001b[1;32m----> 5\u001b[0m \u001b[38;5;28;01mdef\u001b[39;00m \u001b[38;5;21mcanSum\u001b[39m(targetSum, numbers):\n\u001b[0;32m      6\u001b[0m     \u001b[38;5;28;01mif\u001b[39;00m targetSum \u001b[38;5;241m==\u001b[39m \u001b[38;5;241m0\u001b[39m:\n\u001b[0;32m      7\u001b[0m         \u001b[38;5;28;01mreturn\u001b[39;00m \u001b[38;5;28;01mTrue\u001b[39;00m\n",
      "\u001b[1;31mKeyboardInterrupt\u001b[0m: "
     ]
    }
   ],
   "source": [
    "canSum(300, [7,14]) #False"
   ]
  },
  {
   "cell_type": "code",
   "execution_count": 37,
   "metadata": {},
   "outputs": [],
   "source": [
    "\n",
    "def canSum_2(targetSum: int, numbers: List[int]) -> bool:\n",
    "    def dp(targetSum, numbers, memo = {}):\n",
    "        if targetSum in memo:\n",
    "            return memo[targetSum]\n",
    "        if targetSum == 0:\n",
    "            return True\n",
    "        if targetSum < 0:\n",
    "            return False\n",
    "        for num in numbers:\n",
    "            remainder = targetSum - num\n",
    "            if dp(remainder, numbers, memo) == True:\n",
    "                memo[targetSum] = True\n",
    "                return True\n",
    "        memo[targetSum] = False\n",
    "        return False\n",
    "    return dp(targetSum, numbers)\n",
    "\n"
   ]
  },
  {
   "cell_type": "code",
   "execution_count": 38,
   "metadata": {},
   "outputs": [
    {
     "data": {
      "text/plain": [
       "True"
      ]
     },
     "execution_count": 38,
     "metadata": {},
     "output_type": "execute_result"
    }
   ],
   "source": [
    "canSum_2(7,[2,3]) #True"
   ]
  },
  {
   "cell_type": "code",
   "execution_count": 39,
   "metadata": {},
   "outputs": [
    {
     "data": {
      "text/plain": [
       "False"
      ]
     },
     "execution_count": 39,
     "metadata": {},
     "output_type": "execute_result"
    }
   ],
   "source": [
    "canSum_2(7,[2.4])"
   ]
  },
  {
   "cell_type": "code",
   "execution_count": 47,
   "metadata": {},
   "outputs": [],
   "source": [
    "#How sum problem using recursion\n",
    "\n",
    "def howSum(targetSum, numbers):\n",
    "    if targetSum == 0:\n",
    "        return []\n",
    "    if targetSum <0:\n",
    "        return None\n",
    "    for num in numbers:\n",
    "        remainder = targetSum - num\n",
    "        remainder_result = howSum(remainder, numbers)\n",
    "        if remainder_result != None:\n",
    "            remainder_result += [num]\n",
    "            return remainder_result\n",
    "           \n",
    "    return None"
   ]
  },
  {
   "cell_type": "code",
   "execution_count": 20,
   "metadata": {},
   "outputs": [
    {
     "data": {
      "text/plain": [
       "[3, 2, 2]"
      ]
     },
     "execution_count": 20,
     "metadata": {},
     "output_type": "execute_result"
    }
   ],
   "source": [
    "howSum(7, [2,3])"
   ]
  },
  {
   "cell_type": "code",
   "execution_count": 48,
   "metadata": {},
   "outputs": [],
   "source": [
    "#using dynamic programming\n",
    "class Solution:\n",
    "    def howSum(self, targetSum, numbers):\n",
    "        def dp(targetSum, numbers, memo = {}):\n",
    "            if targetSum in memo:\n",
    "                return memo[targetSum]\n",
    "            if targetSum == 0:\n",
    "                return []\n",
    "            if targetSum <0:\n",
    "                return None\n",
    "            for num in numbers:\n",
    "                remainder = targetSum - num\n",
    "                remainder_result = dp(remainder, numbers, memo)\n",
    "                if remainder_result != None:\n",
    "                    memo[targetSum] = remainder_result + [num] #note you cannot use remainder_result.append(num) because append returns None\n",
    "                    return memo[targetSum]\n",
    "            memo[targetSum] = None\n",
    "            return None\n",
    "        return dp(targetSum, numbers)"
   ]
  },
  {
   "cell_type": "code",
   "execution_count": 49,
   "metadata": {},
   "outputs": [
    {
     "name": "stdout",
     "output_type": "stream",
     "text": [
      "Test 1 - Target: 7, Numbers: [2, 3]\n",
      "Result: [3, 2, 2]\n",
      "Expected: [3, 2, 2]\n",
      "Pass\n",
      "\n",
      "Test 2 - Target: 7, Numbers: [5, 3, 4, 7]\n",
      "Result: [4, 3]\n",
      "Expected: Any combination summing to 7\n",
      "Pass\n",
      "\n",
      "Test 3 - Target: 7, Numbers: [2, 4]\n",
      "Result: None\n",
      "Expected: None\n",
      "Pass\n",
      "\n",
      "Test 4 - Target: 0, Numbers: [1, 2, 3]\n",
      "Result: []\n",
      "Expected: []\n",
      "Pass\n",
      "\n",
      "Test 5 - Target: 8, Numbers: [2, 3, 5]\n",
      "Result: [2, 2, 2, 2]\n",
      "Expected: Any combination summing to 8\n",
      "Pass\n"
     ]
    }
   ],
   "source": [
    "# Create test cases class\n",
    "class TestHowSum:\n",
    "    def run_tests(self):\n",
    "        solution = Solution()\n",
    "        \n",
    "        # Test case 1: Basic case with a solution\n",
    "        result1 = solution.howSum(7, [2, 3])\n",
    "        print(f\"Test 1 - Target: 7, Numbers: [2, 3]\")\n",
    "        print(f\"Result: {result1}\")\n",
    "        print(f\"Expected: [3, 2, 2]\")\n",
    "        print(\"Pass\" if result1 is not None and sum(result1) == 7 else \"Fail\")\n",
    "        print()\n",
    "        \n",
    "        # Test case 2: Multiple possible solutions\n",
    "        result2 = solution.howSum(7, [5, 3, 4, 7])\n",
    "        print(f\"Test 2 - Target: 7, Numbers: [5, 3, 4, 7]\")\n",
    "        print(f\"Result: {result2}\")\n",
    "        print(f\"Expected: Any combination summing to 7\")\n",
    "        print(\"Pass\" if result2 is not None and sum(result2) == 7 else \"Fail\")\n",
    "        print()\n",
    "        \n",
    "        # Test case 3: No solution exists\n",
    "        result3 = solution.howSum(7, [2, 4])\n",
    "        print(f\"Test 3 - Target: 7, Numbers: [2, 4]\")\n",
    "        print(f\"Result: {result3}\")\n",
    "        print(f\"Expected: None\")\n",
    "        print(\"Pass\" if result3 is None else \"Fail\")\n",
    "        print()\n",
    "        \n",
    "        # Test case 4: Zero target sum\n",
    "        result4 = solution.howSum(0, [1, 2, 3])\n",
    "        print(f\"Test 4 - Target: 0, Numbers: [1, 2, 3]\")\n",
    "        print(f\"Result: {result4}\")\n",
    "        print(f\"Expected: []\")\n",
    "        print(\"Pass\" if result4 == [] else \"Fail\")\n",
    "        print()\n",
    "        \n",
    "        # Test case 5: Larger target sum\n",
    "        result5 = solution.howSum(8, [2, 3, 5])\n",
    "        print(f\"Test 5 - Target: 8, Numbers: [2, 3, 5]\")\n",
    "        print(f\"Result: {result5}\")\n",
    "        print(f\"Expected: Any combination summing to 8\")\n",
    "        print(\"Pass\" if result5 is not None and sum(result5) == 8 else \"Fail\")\n",
    "\n",
    "# Run the tests\n",
    "tester = TestHowSum()\n",
    "tester.run_tests()"
   ]
  },
  {
   "cell_type": "code",
   "execution_count": null,
   "metadata": {},
   "outputs": [],
   "source": []
  }
 ],
 "metadata": {
  "kernelspec": {
   "display_name": "base",
   "language": "python",
   "name": "python3"
  },
  "language_info": {
   "codemirror_mode": {
    "name": "ipython",
    "version": 3
   },
   "file_extension": ".py",
   "mimetype": "text/x-python",
   "name": "python",
   "nbconvert_exporter": "python",
   "pygments_lexer": "ipython3",
   "version": "3.11.5"
  }
 },
 "nbformat": 4,
 "nbformat_minor": 2
}

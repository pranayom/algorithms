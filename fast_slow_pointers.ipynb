{
 "cells": [
  {
   "cell_type": "markdown",
   "metadata": {
    "vscode": {
     "languageId": "xml"
    }
   },
   "source": [
    "Write an algorithm to determine if a number n is a happy number or not.\n",
    "\n",
    "Conditions for a number n to be happy\n",
    "1) Starting with the number n, replace numbers with the square of it digits\n",
    "2) Repeat the process until\n",
    "  a) The number equals 1 which will depict that the given number n is a happy number\n",
    "  b) The number n enters a cycle which depicts that the given number is not a happy number\n",
    "\n",
    "Return True if n is a happy number and false if not.\n"
   ]
  },
  {
   "cell_type": "markdown",
   "metadata": {},
   "source": []
  },
  {
   "cell_type": "code",
   "execution_count": 1,
   "metadata": {},
   "outputs": [
    {
     "data": {
      "text/plain": [
       "7"
      ]
     },
     "execution_count": 1,
     "metadata": {},
     "output_type": "execute_result"
    }
   ],
   "source": [
    "597%10"
   ]
  },
  {
   "cell_type": "code",
   "execution_count": 1,
   "metadata": {},
   "outputs": [],
   "source": [
    "def sum_of_squared_digits(number):\n",
    "    sum = 0\n",
    "    while number >0:\n",
    "        digit = number%10\n",
    "        number = number//10\n",
    "        sum += digit**2\n",
    "    return sum"
   ]
  },
  {
   "cell_type": "code",
   "execution_count": 2,
   "metadata": {},
   "outputs": [],
   "source": [
    "def is_happy_number(n):\n",
    "    slow_pointer = n\n",
    "    fast_pointer = sum_of_squared_digits(n)\n",
    "    \n",
    "    while fast_pointer != 1 and slow_pointer != fast_pointer:\n",
    "        slow_pointer= sum_of_squared_digits(slow_pointer)\n",
    "        fast_pointer = sum_of_squared_digits(sum_of_squared_digits(fast_pointer))\n",
    "    if fast_pointer ==1:\n",
    "        return True\n",
    "    return False"
   ]
  },
  {
   "cell_type": "code",
   "execution_count": 3,
   "metadata": {},
   "outputs": [
    {
     "name": "stdout",
     "output_type": "stream",
     "text": [
      "1.\tInput Number: 1\n",
      "\n",
      "\tIs it a happy number?  True\n",
      "----------------------------------------------------------------------------------------------------\n",
      "2.\tInput Number: 5\n",
      "\n",
      "\tIs it a happy number?  False\n",
      "----------------------------------------------------------------------------------------------------\n",
      "3.\tInput Number: 19\n",
      "\n",
      "\tIs it a happy number?  True\n",
      "----------------------------------------------------------------------------------------------------\n",
      "4.\tInput Number: 25\n",
      "\n",
      "\tIs it a happy number?  False\n",
      "----------------------------------------------------------------------------------------------------\n",
      "5.\tInput Number: 7\n",
      "\n",
      "\tIs it a happy number?  True\n",
      "----------------------------------------------------------------------------------------------------\n"
     ]
    }
   ],
   "source": [
    "inputs = [1, 5, 19, 25, 7]\n",
    "for i in range(len(inputs)):\n",
    "    print(i+1, \".\\tInput Number: \", inputs[i], sep=\"\")\n",
    "    print(\"\\n\\tIs it a happy number? \", is_happy_number(inputs[i]))\n",
    "    print(\"-\" * 100)"
   ]
  },
  {
   "cell_type": "markdown",
   "metadata": {},
   "source": [
    "## Linkedlist cycle\n",
    "\n",
    "Check whether or not a linked list contains a cycle. If a cycle exists, return TRUE. Otherwise, return FALSE. The cycle means that at least one node can be reached again by traversing the next pointer."
   ]
  },
  {
   "cell_type": "code",
   "execution_count": 1,
   "metadata": {},
   "outputs": [],
   "source": [
    "def detect_cycle(head):\n",
    "    if head is None:\n",
    "        return False\n",
    "    \n",
    "    #Initialize two pointers, slow and fast, to the head of the Linkedlist\n",
    "    slow, fast = head, head\n",
    "    \n",
    "    while fast and fast.next:\n",
    "        slow = slow.next\n",
    "        fast = fast.next.next\n",
    "        \n",
    "        if slow == fast:  #Note here the slow = fast is in the while loop\n",
    "            return True\n",
    "    return False\n",
    "    \n",
    "    \n"
   ]
  },
  {
   "cell_type": "markdown",
   "metadata": {},
   "source": [
    "## Middle of the linked list\n",
    "\n",
    "Given the head of a singly linked list, return the middle node of the linked list. If the number of nodes in the linked list is even, there will be two middle nodes, so return the second one."
   ]
  },
  {
   "cell_type": "code",
   "execution_count": 2,
   "metadata": {},
   "outputs": [],
   "source": [
    "def middle_linked_list(head):\n",
    "    if head is None:\n",
    "        return None\n",
    "    #Initialize slow and fast pointyers to the head of the linked list\n",
    "    slow, fast = head, head\n",
    "    while fast.next and fast.next:\n",
    "        slow = slow.next\n",
    "        fast = fast.next.next\n",
    "    return slow\n",
    "    "
   ]
  },
  {
   "cell_type": "markdown",
   "metadata": {},
   "source": []
  }
 ],
 "metadata": {
  "kernelspec": {
   "display_name": "base",
   "language": "python",
   "name": "python3"
  },
  "language_info": {
   "codemirror_mode": {
    "name": "ipython",
    "version": 3
   },
   "file_extension": ".py",
   "mimetype": "text/x-python",
   "name": "python",
   "nbconvert_exporter": "python",
   "pygments_lexer": "ipython3",
   "version": "3.11.5"
  }
 },
 "nbformat": 4,
 "nbformat_minor": 2
}

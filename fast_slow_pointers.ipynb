{
 "cells": [
  {
   "cell_type": "markdown",
   "metadata": {
    "vscode": {
     "languageId": "xml"
    }
   },
   "source": [
    "Write an algorithm to determine if a number n is a happy number or not.\n",
    "\n",
    "Conditions for a number n to be happy\n",
    "1) Starting with the number n, replace numbers with the square of it digits\n",
    "2) Repeat the process until\n",
    "  a) The number equals 1 which will depict that the given number n is a happy number\n",
    "  b) The number n enters a cycle which depicts that the given number is not a happy number\n",
    "\n",
    "Return True if n is a happy number and false if not.\n"
   ]
  },
  {
   "cell_type": "markdown",
   "metadata": {},
   "source": []
  }
 ],
 "metadata": {
  "language_info": {
   "name": "python"
  }
 },
 "nbformat": 4,
 "nbformat_minor": 2
}

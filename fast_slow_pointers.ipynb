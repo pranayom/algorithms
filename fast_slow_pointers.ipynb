{
 "cells": [
  {
   "cell_type": "markdown",
   "metadata": {
    "vscode": {
     "languageId": "xml"
    }
   },
   "source": [
    "Write an algorithm to determine if a number n is a happy number or not.\n",
    "\n",
    "Conditions for a number n to be happy\n",
    "1) Starting with the number n, replace numbers with the square of it digits\n",
    "2) Repeat the process until\n",
    "  a) The number equals 1 which will depict that the given number n is a happy number\n",
    "  b) The number n enters a cycle which depicts that the given number is not a happy number\n",
    "\n",
    "Return True if n is a happy number and false if not.\n"
   ]
  },
  {
   "cell_type": "markdown",
   "metadata": {},
   "source": []
  },
  {
   "cell_type": "code",
   "execution_count": 1,
   "metadata": {},
   "outputs": [
    {
     "data": {
      "text/plain": [
       "7"
      ]
     },
     "execution_count": 1,
     "metadata": {},
     "output_type": "execute_result"
    }
   ],
   "source": [
    "597%10"
   ]
  },
  {
   "cell_type": "code",
   "execution_count": 1,
   "metadata": {},
   "outputs": [],
   "source": [
    "def sum_of_squared_digits(number):\n",
    "    sum = 0\n",
    "    while number >0:\n",
    "        digit = number%10\n",
    "        number = number//10\n",
    "        sum += digit**2\n",
    "    return sum"
   ]
  },
  {
   "cell_type": "code",
   "execution_count": 2,
   "metadata": {},
   "outputs": [],
   "source": [
    "def is_happy_number(n):\n",
    "    slow_pointer = n\n",
    "    fast_pointer = sum_of_squared_digits(n)\n",
    "    \n",
    "    while fast_pointer != 1 and slow_pointer != fast_pointer:\n",
    "        slow_pointer= sum_of_squared_digits(slow_pointer)\n",
    "        fast_pointer = sum_of_squared_digits(sum_of_squared_digits(fast_pointer))\n",
    "    if fast_pointer ==1:\n",
    "        return True\n",
    "    return False"
   ]
  },
  {
   "cell_type": "code",
   "execution_count": 3,
   "metadata": {},
   "outputs": [
    {
     "name": "stdout",
     "output_type": "stream",
     "text": [
      "1.\tInput Number: 1\n",
      "\n",
      "\tIs it a happy number?  True\n",
      "----------------------------------------------------------------------------------------------------\n",
      "2.\tInput Number: 5\n",
      "\n",
      "\tIs it a happy number?  False\n",
      "----------------------------------------------------------------------------------------------------\n",
      "3.\tInput Number: 19\n",
      "\n",
      "\tIs it a happy number?  True\n",
      "----------------------------------------------------------------------------------------------------\n",
      "4.\tInput Number: 25\n",
      "\n",
      "\tIs it a happy number?  False\n",
      "----------------------------------------------------------------------------------------------------\n",
      "5.\tInput Number: 7\n",
      "\n",
      "\tIs it a happy number?  True\n",
      "----------------------------------------------------------------------------------------------------\n"
     ]
    }
   ],
   "source": [
    "inputs = [1, 5, 19, 25, 7]\n",
    "for i in range(len(inputs)):\n",
    "    print(i+1, \".\\tInput Number: \", inputs[i], sep=\"\")\n",
    "    print(\"\\n\\tIs it a happy number? \", is_happy_number(inputs[i]))\n",
    "    print(\"-\" * 100)"
   ]
  },
  {
   "cell_type": "markdown",
   "metadata": {},
   "source": [
    "## Linkedlist cycle\n",
    "\n",
    "Check whether or not a linked list contains a cycle. If a cycle exists, return TRUE. Otherwise, return FALSE. The cycle means that at least one node can be reached again by traversing the next pointer."
   ]
  },
  {
   "cell_type": "code",
   "execution_count": 1,
   "metadata": {},
   "outputs": [],
   "source": [
    "def detect_cycle(head):\n",
    "    if head is None:\n",
    "        return False\n",
    "    \n",
    "    #Initialize two pointers, slow and fast, to the head of the Linkedlist\n",
    "    slow, fast = head, head\n",
    "    \n",
    "    while fast and fast.next:\n",
    "        slow = slow.next\n",
    "        fast = fast.next.next\n",
    "        \n",
    "        if slow == fast:  #Note here the slow = fast is in the while loop\n",
    "            return True\n",
    "    return False\n",
    "    \n",
    "    \n"
   ]
  },
  {
   "cell_type": "markdown",
   "metadata": {},
   "source": [
    "## Middle of the linked list\n",
    "\n",
    "Given the head of a singly linked list, return the middle node of the linked list. If the number of nodes in the linked list is even, there will be two middle nodes, so return the second one."
   ]
  },
  {
   "cell_type": "code",
   "execution_count": 2,
   "metadata": {},
   "outputs": [],
   "source": [
    "def middle_linked_list(head):\n",
    "    if head is None:\n",
    "        return None\n",
    "    #Initialize slow and fast pointyers to the head of the linked list\n",
    "    slow, fast = head, head\n",
    "    while fast.next and fast.next:\n",
    "        slow = slow.next\n",
    "        fast = fast.next.next\n",
    "    return slow\n",
    "    "
   ]
  },
  {
   "cell_type": "markdown",
   "metadata": {},
   "source": [
    "## Circular array loop\n",
    "\n",
    "We are given a circular array of non-zero integers, nums, where each integer represents the number of steps to be taken either forward or backward from its current index. Positive values indicate forward movement, while negative values imply backward movement. When reaching either end of the array, the traversal wraps around to the opposite end.\n",
    "\n",
    "The input array may contain a cycle, which is a sequence of indexes characterized by the following:\n",
    "\n",
    "The sequence starts and ends at the same index.\n",
    "The length of the sequence is at least two.\n",
    "The loop must be in a single direction, forward or backward.\n",
    "\n",
    " https://www.youtube.com/watch?v=2hVinjU-5SA&t=22s"
   ]
  },
  {
   "cell_type": "code",
   "execution_count": 14,
   "metadata": {},
   "outputs": [],
   "source": [
    "#Helper functions\n",
    "\n",
    "#function to calculate next step\n",
    "\n",
    "def next_step(pointer, value, size):  #pointer = current index, value = current value of the array, size = size of the array\n",
    "    result = (pointer + value) % size\n",
    "    if result <0:\n",
    "        result += size\n",
    "    return result\n",
    "    \n",
    "    #next step ensures we stay with the bounds of 0 to size while allowing forward and backward movements\n",
    "    \n",
    "#detecting cycle\n",
    "def is_not_cycle(nums, prev_direction, pointer):\n",
    "    \n",
    "    current_direction = nums[pointer] >=0 #current direction is true if current element is 0 or positive else its false\n",
    "    if (prev_direction!=current_direction) or (abs(nums[pointer]%len(nums))==0):\n",
    "        return True\n",
    "    else:\n",
    "        return False\n",
    "        # If current direction and previous direction is different or moving a pointer takes back to the same value,\n",
    "        # then the cycle is not possible, we return True, otherwise return False.\n",
    "        "
   ]
  },
  {
   "cell_type": "code",
   "execution_count": 17,
   "metadata": {},
   "outputs": [],
   "source": [
    "def circular_array_loop(nums):\n",
    "    size = len(nums)\n",
    "    for i in range(size):\n",
    "        slow = fast = i  #setting slow and fast pointer to current value\n",
    "        \n",
    "        forward = nums[i] > 0 \n",
    "        \n",
    "        while True:\n",
    "            slow = next_step(slow, nums[slow], size)  #moving slow pointer once based on the value of the element (nums[slow])\n",
    "            if is_not_cycle(nums, forward, slow): #if it violates the condition of being a cycle no point wasting slow and fast pointer movement\n",
    "                break\n",
    "            \n",
    "            #move fast pointer once\n",
    "            fast = next_step(fast,nums[fast],size)\n",
    "            if is_not_cycle(nums, forward, fast):\n",
    "                break\n",
    "            #move fast pointer once again\n",
    "            fast = next_step(fast,nums[fast],size)\n",
    "            if is_not_cycle(nums, forward, fast):\n",
    "                break\n",
    "            \n",
    "            \n",
    "            if slow == fast:\n",
    "                return True\n",
    "    return False\n",
    "            \n",
    "            "
   ]
  },
  {
   "cell_type": "code",
   "execution_count": 18,
   "metadata": {},
   "outputs": [
    {
     "name": "stdout",
     "output_type": "stream",
     "text": [
      "1.\tCircular array = [-2, -3, -9]\n",
      "\n",
      "\tFound loop = False\n",
      "---------------------------------------------------------------------------------------------------- \n",
      "\n",
      "2.\tCircular array = [-5, -4, -3, -2, -1]\n",
      "\n",
      "\tFound loop = True\n",
      "---------------------------------------------------------------------------------------------------- \n",
      "\n",
      "3.\tCircular array = [-1, -2, -3, -4, -5]\n",
      "\n",
      "\tFound loop = False\n",
      "---------------------------------------------------------------------------------------------------- \n",
      "\n",
      "4.\tCircular array = [2, 1, -1, -2]\n",
      "\n",
      "\tFound loop = False\n",
      "---------------------------------------------------------------------------------------------------- \n",
      "\n",
      "5.\tCircular array = [-1, -2, -3, -4, -5, 6]\n",
      "\n",
      "\tFound loop = False\n",
      "---------------------------------------------------------------------------------------------------- \n",
      "\n",
      "6.\tCircular array = [1, 2, -3, 3, 4, 7, 1]\n",
      "\n",
      "\tFound loop = True\n",
      "---------------------------------------------------------------------------------------------------- \n",
      "\n",
      "7.\tCircular array = [2, 2, 2, 7, 2, -1, 2, -1, -1]\n",
      "\n",
      "\tFound loop = True\n",
      "---------------------------------------------------------------------------------------------------- \n",
      "\n"
     ]
    }
   ],
   "source": [
    "input = (\n",
    "        [-2, -3, -9],\n",
    "        [-5, -4, -3, -2, -1],\n",
    "        [-1, -2, -3, -4, -5],\n",
    "        [2, 1, -1, -2],\n",
    "        [-1, -2, -3, -4, -5, 6],\n",
    "        [1, 2, -3, 3, 4, 7, 1],\n",
    "        [2, 2, 2, 7, 2, -1, 2, -1, -1]\n",
    "        )\n",
    "num = 1\n",
    "\n",
    "for i in input:\n",
    "    print(f\"{num}.\\tCircular array = {i}\")\n",
    "    print(f\"\\n\\tFound loop = {circular_array_loop(i)}\")\n",
    "    print(\"-\"*100, \"\\n\")\n",
    "    num += 1\n"
   ]
  },
  {
   "cell_type": "markdown",
   "metadata": {},
   "source": [
    "## Linked list palindrome\n",
    "\n",
    "Given the head of a linked list, your task is to check whether the linked list is a palindrome or not. Return TRUE if the linked list is a palindrome; otherwise, return FALSE."
   ]
  },
  {
   "cell_type": "code",
   "execution_count": 1,
   "metadata": {},
   "outputs": [],
   "source": [
    "def palindrome(head):\n",
    "    slow = head\n",
    "    fast = head\n",
    "    \n",
    "    while fast and fast.next:\n",
    "        fast = fast.next.next\n",
    "        slow = slow.next\n",
    "    revert_data = reverse_linked_list(slow)\n",
    "    check = compare_two_halves(head,revert_data)\n",
    "    \n",
    "    reverse_linked_list(revert_data)\n",
    "    \n",
    "    if check:\n",
    "        return True\n",
    "    return False\n",
    "\n",
    "    \n"
   ]
  },
  {
   "cell_type": "code",
   "execution_count": 5,
   "metadata": {},
   "outputs": [],
   "source": [
    "#Good picture reference : https://blog.devgenius.io/reverse-a-linked-list-iterative-and-recursive-methods-c-e2399eb8f085\n",
    "\n",
    "def reverse_linked_list(slow_ptr):\n",
    "    prev = None\n",
    "    next = None\n",
    "    curr = slow_ptr\n",
    "    \n",
    "    while curr is not None:\n",
    "        next = curr.next\n",
    "        curr.next = prev\n",
    "        prev = curr\n",
    "        curr = next\n",
    "    return prev\n",
    "\n",
    "def compare_two_halves(first_half, second_half):\n",
    "    while first_half and second_half:\n",
    "        if first_half.data != second_half.data:\n",
    "            return False\n",
    "        else:\n",
    "            first_half = first_half.next\n",
    "            second_half = second_half.next\n",
    "    return True\n",
    "        \n",
    "\n",
    "class LinkedList:\n",
    "    # __init__ will be used to make a LinkedList type object.\n",
    "    def __init__(self):\n",
    "        self.head = None\n",
    "\n",
    "    # insert_node_at_head method will insert a LinkedListNode at head\n",
    "    # of a linked list.\n",
    "    def insert_node_at_head(self, node):\n",
    "        if self.head:\n",
    "            node.next = self.head\n",
    "            self.head = node\n",
    "        else:\n",
    "            self.head = node\n",
    "\n",
    "    # create_linked_list method will create the linked list using the\n",
    "    # given integer array with the help of InsertAthead method.\n",
    "    def create_linked_list(self, lst):\n",
    "        for x in reversed(lst):\n",
    "            new_node = LinkedListNode(x)\n",
    "            self.insert_node_at_head(new_node)\n",
    "    \n",
    "    # __str__(self) method will display the elements of linked list.\n",
    "    def __str__(self):\n",
    "        result = \"\"\n",
    "        temp = self.head\n",
    "        while temp:\n",
    "            result += str(temp.data)\n",
    "            temp = temp.next\n",
    "            if temp:\n",
    "                result += \", \"\n",
    "        result += \"\"\n",
    "        return result\n",
    "\n",
    "class LinkedListNode:\n",
    "    # __init__ will be used to make a LinkedListNode type object.\n",
    "    def __init__(self, data, next=None):\n",
    "        self.data = data\n",
    "        self.next = next"
   ]
  },
  {
   "cell_type": "code",
   "execution_count": 7,
   "metadata": {},
   "outputs": [
    {
     "name": "stdout",
     "output_type": "stream",
     "text": [
      "1.\tLinked List: 2 → 4 → 6 → 4 → 2 → null \n",
      "\tIs it a palindrome? Yes\n",
      "---------------------------------------------------------------------------------------------------- \n",
      "\n",
      "2.\tLinked List: 0 → 3 → 5 → 5 → 0 → null \n",
      "\tIs it a palindrome? No\n",
      "---------------------------------------------------------------------------------------------------- \n",
      "\n",
      "3.\tLinked List: 9 → 7 → 4 → 4 → 7 → 9 → null \n",
      "\tIs it a palindrome? Yes\n",
      "---------------------------------------------------------------------------------------------------- \n",
      "\n",
      "4.\tLinked List: 5 → 4 → 7 → 9 → 4 → 5 → null \n",
      "\tIs it a palindrome? No\n",
      "---------------------------------------------------------------------------------------------------- \n",
      "\n",
      "5.\tLinked List: 5 → 9 → 8 → 3 → 8 → 9 → 5 → null \n",
      "\tIs it a palindrome? Yes\n",
      "---------------------------------------------------------------------------------------------------- \n",
      "\n"
     ]
    }
   ],
   "source": [
    "# Template for printing the linked list with forward arrows\n",
    "\n",
    "def print_list_with_forward_arrow(linked_list_node):\n",
    "    temp = linked_list_node\n",
    "    while temp:\n",
    "        print(temp.data, end=\" \")  # print node value\n",
    "        \n",
    "        temp = temp.next\n",
    "        if temp:\n",
    "            print(\"→\", end=\" \")\n",
    "        else:\n",
    "            # if this is the last node, print null at the end\n",
    "            print(\"→ null\", end=\" \")\n",
    "\n",
    "input = (\n",
    "            [2, 4, 6, 4, 2],\n",
    "            [0, 3, 5, 5, 0],\n",
    "            [9, 7, 4, 4, 7, 9],\n",
    "            [5, 4, 7, 9, 4, 5],\n",
    "            [5, 9, 8, 3, 8, 9, 5],\n",
    "        )\n",
    "j = 1\n",
    "\n",
    "for i in range(len(input)):\n",
    "    input_linked_list = LinkedList()\n",
    "    input_linked_list.create_linked_list(input[i])\n",
    "    print(j, \".\\tLinked List:\", end=\" \", sep=\"\")\n",
    "    print_list_with_forward_arrow(input_linked_list.head)\n",
    "    head = input_linked_list.head\n",
    "    print(\"\\n\\tIs it a palindrome?\", \"Yes\" if palindrome(head) else \"No\")\n",
    "    j += 1\n",
    "    print(\"-\"*100, \"\\n\")\n"
   ]
  },
  {
   "cell_type": "code",
   "execution_count": null,
   "metadata": {},
   "outputs": [],
   "source": []
  }
 ],
 "metadata": {
  "kernelspec": {
   "display_name": "base",
   "language": "python",
   "name": "python3"
  },
  "language_info": {
   "codemirror_mode": {
    "name": "ipython",
    "version": 3
   },
   "file_extension": ".py",
   "mimetype": "text/x-python",
   "name": "python",
   "nbconvert_exporter": "python",
   "pygments_lexer": "ipython3",
   "version": "3.11.5"
  }
 },
 "nbformat": 4,
 "nbformat_minor": 2
}

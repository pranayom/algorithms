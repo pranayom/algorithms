{
 "cells": [
  {
   "cell_type": "markdown",
   "metadata": {},
   "source": [
    "Give me the solution of Leetcode problem 417. Pacific Atlantic Water Flow. First explain the intution and then give the full Python code with comments. After this walk through the code using an example, be as detailed as possible"
   ]
  },
  {
   "cell_type": "markdown",
   "metadata": {},
   "source": [
    "graphs can be represented in Python using dictionary based adjacency lists"
   ]
  },
  {
   "cell_type": "code",
   "execution_count": 1,
   "metadata": {},
   "outputs": [],
   "source": [
    "# Simple dictionary representation\n",
    "graph = {\n",
    "    'A': ['B', 'C'],\n",
    "    'B': ['A', 'D', 'E'],\n",
    "    'C': ['A', 'F'],\n",
    "    'D': ['B'],\n",
    "    'E': ['B', 'F'],\n",
    "    'F': ['C', 'E']\n",
    "}"
   ]
  },
  {
   "cell_type": "code",
   "execution_count": 2,
   "metadata": {},
   "outputs": [],
   "source": [
    "#implement a graph uisng class based implementation\n",
    "\n",
    "class Graph:\n",
    "    def __init__(self):\n",
    "        self.vertices = {}\n",
    "        \n",
    "    def add_vertex(self, vertex):\n",
    "       if vertex not in self.vertices:\n",
    "           self.vertices[vertex] = []\n",
    "           \n",
    "    def add_edge(self, from_vertex, to_vertex):\n",
    "        if from_vertex not in self.vertices:\n",
    "            self.vertices[from_vertex] = []\n",
    "        if to_vertex not in self.vertices:\n",
    "            self.vertices[to_vertex] = []\n",
    "        self.vertices[from_vertex].append(to_vertex)"
   ]
  },
  {
   "cell_type": "code",
   "execution_count": 3,
   "metadata": {},
   "outputs": [],
   "source": [
    "graph = {\n",
    "    'A': ['C', 'B'],\n",
    "    'B': [ 'D' ],\n",
    "    'C': ['E'],\n",
    "    'D': ['F'],\n",
    "    'E': [],\n",
    "    'F': []\n",
    "}"
   ]
  },
  {
   "cell_type": "code",
   "execution_count": 10,
   "metadata": {},
   "outputs": [],
   "source": [
    "#creating a depth first search for the above graph\n",
    "\n",
    "def depthFirstSearch(graph, starting_node):\n",
    "    dfs_stack = [starting_node]\n",
    "    while dfs_stack:\n",
    "        current = dfs_stack.pop()\n",
    "        print(current)\n",
    "        for next_node in graph[current]:\n",
    "            dfs_stack.append(next_node)"
   ]
  },
  {
   "cell_type": "code",
   "execution_count": 11,
   "metadata": {},
   "outputs": [
    {
     "name": "stdout",
     "output_type": "stream",
     "text": [
      "A\n",
      "B\n",
      "D\n",
      "F\n",
      "C\n",
      "E\n"
     ]
    }
   ],
   "source": [
    "depthFirstSearch(graph, \"A\")"
   ]
  },
  {
   "cell_type": "code",
   "execution_count": 12,
   "metadata": {},
   "outputs": [],
   "source": [
    "#depth first search using recursion\n",
    "\n",
    "def depthFirstSearch(graph, starting_node):\n",
    "    print(starting_node)\n",
    "    for next_node in graph[starting_node]:\n",
    "        depthFirstSearch(graph, next_node)\n",
    "\n"
   ]
  },
  {
   "cell_type": "code",
   "execution_count": 13,
   "metadata": {},
   "outputs": [
    {
     "name": "stdout",
     "output_type": "stream",
     "text": [
      "A\n",
      "C\n",
      "E\n",
      "B\n",
      "D\n",
      "F\n"
     ]
    }
   ],
   "source": [
    "depthFirstSearch(graph, \"A\")"
   ]
  },
  {
   "cell_type": "code",
   "execution_count": 18,
   "metadata": {},
   "outputs": [],
   "source": [
    "from collections import deque\n",
    "x = deque([1,2,3,4])"
   ]
  },
  {
   "cell_type": "code",
   "execution_count": 19,
   "metadata": {},
   "outputs": [
    {
     "name": "stdout",
     "output_type": "stream",
     "text": [
      "deque([1, 2, 3, 4])\n"
     ]
    }
   ],
   "source": [
    "print(x)"
   ]
  },
  {
   "cell_type": "code",
   "execution_count": 20,
   "metadata": {},
   "outputs": [
    {
     "name": "stdout",
     "output_type": "stream",
     "text": [
      "deque([1, 2, 3, 4, 7])\n"
     ]
    }
   ],
   "source": [
    "x.append(7)\n",
    "print(x)"
   ]
  },
  {
   "cell_type": "code",
   "execution_count": 22,
   "metadata": {},
   "outputs": [
    {
     "name": "stdout",
     "output_type": "stream",
     "text": [
      "deque([2, 3, 4, 7])\n"
     ]
    }
   ],
   "source": [
    "x.popleft()\n",
    "print(x)"
   ]
  },
  {
   "cell_type": "code",
   "execution_count": 26,
   "metadata": {},
   "outputs": [],
   "source": [
    "from collections import deque\n",
    "def breadthFirstSearch(graph, starting_node):\n",
    "    bfs_queue = deque(starting_node)\n",
    "    while bfs_queue:\n",
    "        current = bfs_queue.popleft()\n",
    "        print(current)\n",
    "        for next_node in graph[current]:\n",
    "            bfs_queue.append(next_node)\n",
    "        \n",
    "    "
   ]
  },
  {
   "cell_type": "code",
   "execution_count": 27,
   "metadata": {},
   "outputs": [
    {
     "name": "stdout",
     "output_type": "stream",
     "text": [
      "A\n",
      "C\n",
      "B\n",
      "E\n",
      "D\n",
      "F\n"
     ]
    }
   ],
   "source": [
    "breadthFirstSearch(graph, \"A\")"
   ]
  },
  {
   "cell_type": "markdown",
   "metadata": {},
   "source": [
    "# 200. Number of Islands\n",
    "\n",
    "Given an m x n 2D binary grid grid which represents a map of '1's (land) and '0's (water), return the number of islands.\n",
    "\n",
    "An island is surrounded by water and is formed by connecting adjacent lands horizontally or vertically. You may assume all four edges of the grid are all surrounded by water."
   ]
  },
  {
   "cell_type": "code",
   "execution_count": null,
   "metadata": {},
   "outputs": [],
   "source": [
    "from typing import List\n",
    "class Solution:\n",
    "    def numIslands(self, grid: List[List[str]]) -> int:\n",
    "        \n",
    "        "
   ]
  },
  {
   "cell_type": "code",
   "execution_count": 1,
   "metadata": {},
   "outputs": [],
   "source": [
    "grid = [\n",
    "    ['1', '1', '0', '0', '0'],\n",
    "    ['1', '1', '0', '0', '0'],\n",
    "    ['0', '0', '1', '0', '0'],\n",
    "    ['0', '0', '0', '1', '1']\n",
    "]"
   ]
  },
  {
   "cell_type": "code",
   "execution_count": null,
   "metadata": {},
   "outputs": [],
   "source": [
    "class Solution:\n",
    "    def numIslands(self, grid: List[List[str]]) -> int:\n",
    "        if not grid:\n",
    "            return 0\n",
    "        def dfs(i,j):\n",
    "            if i < 0 or i >= len(grid) or j < 0 or j >= len(grid[0]) or grid[i][j] == 0:\n",
    "                return\n",
    "            grid[i][j] = 0 #Marking it as visited\n",
    "            dfs(i+1,j)\n",
    "            dfs(i-1, j)\n",
    "            dfs(i, j+1)\n",
    "            dfs(i, j-1)\n",
    "        \n",
    "        count = 0\n",
    "        for i in range(len(grid)):\n",
    "            for j in range(len(grid[0])):\n",
    "                if grid[i][j] ==1:\n",
    "                    count += 1\n",
    "                    dfs(i,j)\n",
    "        return count\n",
    "            \n",
    "            "
   ]
  },
  {
   "cell_type": "code",
   "execution_count": 2,
   "metadata": {},
   "outputs": [],
   "source": [
    "from typing import List\n",
    "class Solution:\n",
    "    def maxAreaOfIsland(self, grid: List[List[str]]) -> int:\n",
    "        if not grid:\n",
    "            return 0\n",
    "        def dfs(i,j):\n",
    "            if i < 0 or i >= len(grid) or j < 0 or j >= len(grid[0]) or grid[i][j] == 0:\n",
    "                return 0\n",
    "            else:\n",
    "                grid[i][j] = 0\n",
    "                return 1 + dfs(i+1,j) + dfs(i-1,j) + dfs(i,j+1) + dfs(i + j-1)\n",
    "                \n",
    "        \n",
    "        max_area = 0\n",
    "        for i in range(len(grid)):\n",
    "            for j in range(len(grid[0])):\n",
    "                if grid[i][j] ==1:\n",
    "                    max_area = max(max_area, dfs(i,j))\n",
    "        return max_area"
   ]
  },
  {
   "cell_type": "markdown",
   "metadata": {},
   "source": [
    "# 133 Clone graph\n",
    "\n",
    "Given a reference of a node in a connected undirected graph.\n",
    "\n",
    "Return a deep copy (clone) of the graph.\n",
    "\n",
    "Each node in the graph contains a value (int) and a list (List[Node]) of its neighbors.\n",
    "\n",
    "\"\"\"\n",
    "\n",
    "class Node:\n",
    "\n",
    "   def __init__(self, val = 0, neighbors = None):\n",
    "\n",
    "       self.val = val\n",
    "\n",
    "       self.neighbors = neighbors if neighbors is not None else []\n",
    " \"\"\"\n",
    "\n",
    " "
   ]
  },
  {
   "cell_type": "code",
   "execution_count": 1,
   "metadata": {},
   "outputs": [],
   "source": [
    "from typing import Optional\n",
    "\n",
    "class Node:\n",
    "    def __init__(self, val = 0, neighbors = None):\n",
    "        self.val = val\n",
    "        self.neighbors = neighbors if neighbors is not None else []\n",
    "        \n",
    "class Solution:\n",
    "    def cloneGraph(self, node: Optional['Node']) -> Optional['Node']:\n",
    "        if not node:\n",
    "            return None\n",
    "        \n",
    "        visited = {}\n",
    "        \n",
    "        def clone(node):\n",
    "            if node in visited:\n",
    "                return visited[node]\n",
    "            \n",
    "            clone_node = Node(node.val)\n",
    "            visited[node] = clone_node\n",
    "            \n",
    "            for neighbor in node.neighbors:\n",
    "                clone_node.neighbors.append(clone(neighbor))\n",
    "                \n",
    "            return clone_node\n",
    "        \n",
    "        return clone(node)\n",
    "        "
   ]
  },
  {
   "cell_type": "code",
   "execution_count": 2,
   "metadata": {},
   "outputs": [],
   "source": [
    "#Iterative solution for 133\n",
    "\n",
    "class Solution:\n",
    "    def cloneGraph(self, node):\n",
    "        if not node:\n",
    "            return None\n",
    "            \n",
    "        stack = [node]\n",
    "        clones = {node: Node(node.val, [])}\n",
    "        \n",
    "        while stack:\n",
    "            current = stack.pop()\n",
    "            \n",
    "            for neighbor in current.neighbors:\n",
    "                if neighbor not in clones:\n",
    "                    clones[neighbor] = Node(neighbor.val, [])\n",
    "                    stack.append(neighbor)\n",
    "                clones[current].neighbors.append(clones[neighbor])\n",
    "                \n",
    "        return clones[node]"
   ]
  },
  {
   "cell_type": "markdown",
   "metadata": {},
   "source": [
    "# WALLS AND GATES\n",
    "\n",
    "You are given a m×n 2D rooms initialized with these three possible values:\n",
    "\n",
    "-1 - A wall or an obstacle\n",
    "\n",
    "0 - A gate.\n",
    "\n",
    "INF - Infinity means an empty room. We use the integer 2^31 - 1 = 2147483647 to represent INF.\n",
    "\n",
    "Fill each empty room with the distance to its nearest gate. If it is impossible to reach a gate, it should be filled with INF.\n",
    "\n",
    "Assume the grid can only be traversed up, down, left, or right."
   ]
  },
  {
   "cell_type": "code",
   "execution_count": 4,
   "metadata": {},
   "outputs": [],
   "source": [
    "from collections import deque\n",
    "\n",
    "def walls_and_gates(rooms):\n",
    "    if not rooms:\n",
    "        return\n",
    "    rows, cols = len(rooms), len(rooms[0])\n",
    "    queue = deque()\n",
    "    \n",
    "    for r in rows:\n",
    "        for c in cols:\n",
    "            if rooms[r][c] == 0:\n",
    "                queue.append((r,c))  #This adds all the gates to the queue.Idea is to do bfs from gates\n",
    "                \n",
    "    directions = [(1,0), (-1,0),(0,1), (0,-1)]\n",
    "    while queue:\n",
    "        r,c = queue.popleft()\n",
    "        for dx, dy in directions:\n",
    "            nr, nc = r + dx, c + dy\n",
    "            if (0 <=nr < rows   and \n",
    "                0 <= nc < cols and\n",
    "                rooms[nr][nc] == 2147483647):   #only if the cell is inf [empty room]\n",
    "                rooms[nr][nc] = rooms[r][c] + 1  # you need tp replace infinity with the distance from the door\n",
    "                queue.append((nr,nc))\n",
    "        \n",
    "    "
   ]
  },
  {
   "cell_type": "markdown",
   "metadata": {},
   "source": [
    "# 994 Rotting Oranges\n",
    "\n",
    "You are given an m x n grid where each cell can have one of three values:\n",
    "\n",
    "0 representing an empty cell,\n",
    "1 representing a fresh orange, or\n",
    "2 representing a rotten orange.\n",
    "Every minute, any fresh orange that is 4-directionally adjacent to a rotten orange becomes rotten.\n",
    "\n",
    "Return the minimum number of minutes that must elapse until no cell has a fresh orange. If this is impossible, return -1."
   ]
  },
  {
   "cell_type": "markdown",
   "metadata": {},
   "source": []
  },
  {
   "cell_type": "code",
   "execution_count": 5,
   "metadata": {},
   "outputs": [],
   "source": [
    "from typing import List\n",
    "class Solution:\n",
    "    def orangesRotting(self, grid: List[List[int]]) -> int:\n",
    "        EMPTY, FRESH, ROTTEN = 0,1,2\n",
    "        rows, cols = len(grid), len(grid[0])\n",
    "        num_fresh = 0\n",
    "        \n",
    "        queue = deque()\n",
    "        \n",
    "        for r in range(rows):\n",
    "            for c in range(cols):\n",
    "                if grid[r][c] == ROTTEN:\n",
    "                    queue.append((r,c))\n",
    "                elif grid[r][c] == FRESH:\n",
    "                    num_fresh += 1\n",
    "                    \n",
    "        if num_fresh == 0:\n",
    "            return 0\n",
    "        \n",
    "        #Directions for adjacent cells\n",
    "        directions = [(0,1), (0,-1), (1,0), (-1,0)]\n",
    "        \n",
    "        minutes = -1  #\n",
    "        \n",
    "        #Process rotten organges level by level \n",
    "        while queue:\n",
    "            minutes += 1           \n",
    "            \n",
    "            #Process all rottent eggs at the current minute\n",
    "            for _ in range(len(queue)):  # This will take into account all the current rotten eggs\n",
    "                row, col = queue.popleft()\n",
    "                \n",
    "                for dx, dy in directions:\n",
    "                    new_row, new_col = row + dx, col +dy\n",
    "                    if (0 <= new_row < rows and\n",
    "                    0 <= new_col < cols and \n",
    "                    grid[new_row][new_col] == FRESH):\n",
    "                        grid[new_row][new_col] = ROTTEN  #Making the fresh organges rotten\n",
    "                        num_fresh -= 1\n",
    "                        queue.append((new_row, new_col))\n",
    "            \n",
    "        return minutes if num_fresh == 0 else -1\n",
    "                        \n",
    "                        \n",
    "                \n",
    "        \n",
    "        \n",
    "        \n",
    "                    \n",
    "        "
   ]
  },
  {
   "cell_type": "markdown",
   "metadata": {},
   "source": [
    "The reason for starting at -1:\n",
    "We increment minutes before processing each level\n",
    "The first increment happens before processing the initial rotten oranges\n",
    "We don't want to count the initial state as a minute\n",
    "Starting at -1 ensures the first level is processed at minute 0"
   ]
  },
  {
   "cell_type": "markdown",
   "metadata": {},
   "source": [
    "# 417 Pacific Atlantic Water Flow\n",
    "\n",
    "There is an m x n rectangular island that borders both the Pacific Ocean and Atlantic Ocean. The Pacific Ocean touches the island's left and top edges, and the Atlantic Ocean touches the island's right and bottom edges.\n",
    "\n",
    "The island is partitioned into a grid of square cells. You are given an m x n integer matrix heights where heights[r][c] represents the height above sea level of the cell at coordinate (r, c).\n",
    "\n",
    "The island receives a lot of rain, and the rain water can flow to neighboring cells directly north, south, east, and west if the neighboring cell's height is less than or equal to the current cell's height. Water can flow from any cell adjacent to an ocean into the ocean.\n",
    "\n",
    "Return a 2D list of grid coordinates result where result[i] = [ri, ci] denotes that rain water can flow from cell (ri, ci) to both the Pacific and Atlantic oceans."
   ]
  },
  {
   "cell_type": "code",
   "execution_count": 5,
   "metadata": {},
   "outputs": [],
   "source": [
    "from typing import List\n",
    "\n",
    "class Solution:\n",
    "    def pacificAtlantic(self, heights: List[List[int]]) -> List[List[int]]:\n",
    "        if not heights or not heights[0]:\n",
    "            return []\n",
    "        \n",
    "        rows, cols = len(heights), len(heights[0])\n",
    "        \n",
    "        def dfs(i, j, reachable):\n",
    "            reachable.add((i,j))  #Marking the current cell as reachable\n",
    "            \n",
    "            #Check for adjacent sides\n",
    "            \n",
    "            for di, dj in [(1,0), (-1,0), (0,1), (0,-1)]:\n",
    "                new_i, new_j = i + di, j + dj\n",
    "                \n",
    "                #Check if new cell is within bounds, not visited and height is greater than current cell (i, j)\n",
    "                \n",
    "                if 0<=new_i<rows and 0<=new_j<cols and (new_i, new_j) not in reachable and heights[new_i][new_j]>= heights[i][j]:\n",
    "                    dfs(new_i, new_j, reachable)\n",
    "        \n",
    "        \n",
    "        #Sets to store reachable cells of Pacific and Atlantic\n",
    "        pacific_reachable = set()\n",
    "        atlantic_reachable = set()\n",
    "        \n",
    "        #DFS fpr left edge (Pacific) and right edge (atlantic)\n",
    "        \n",
    "        for row in range(rows):\n",
    "            dfs(row, 0 , pacific_reachable)\n",
    "            dfs(row, cols-1, atlantic_reachable)\n",
    "            \n",
    "        for col in range(cols):\n",
    "            dfs(0, col, pacific_reachable)\n",
    "            dfs(rows-1, col, atlantic_reachable)\n",
    "        \n",
    "        return list(pacific_reachable & atlantic_reachable)\n",
    "            \n",
    "                \n",
    "            "
   ]
  },
  {
   "cell_type": "markdown",
   "metadata": {},
   "source": [
    "# 130 You are given an m x n matrix board containing letters 'X' and 'O', capture regions that are surrounded:\n",
    "\n",
    "Connect: A cell is connected to adjacent cells horizontally or vertically.\n",
    "\n",
    "Region: To form a region connect every 'O' cell.\n",
    "\n",
    "Surround: The region is surrounded with 'X' cells if you can connect the region with 'X' cells and none of the region cells are on the edge of the board.\n",
    "\n",
    "A surrounded region is captured by replacing all 'O's with 'X's in the input matrix board."
   ]
  },
  {
   "cell_type": "code",
   "execution_count": null,
   "metadata": {},
   "outputs": [],
   "source": [
    "class Solution:\n",
    "    def solve(self, board: List[List[str]]) -> None:\n",
    "        \"\"\"\n",
    "        Do not return anything, modify board in-place instead.\n",
    "        \n",
    "        \"\"\"\n",
    "        if not board or not board[0]:\n",
    "            return \n",
    "        \n",
    "        rows, cols = len(board), len(board[0])\n",
    "        \n",
    "        def dfs(row, col):\n",
    "            # check bounds and only allow to pass if its a O\n",
    "            if row <0 or row >= rows or col < 0 or col >= cols or board[row][col] != 'O':\n",
    "                return\n",
    "            board[row][col] = 'T'\n",
    "            \n",
    "            for dx, dy in [(1,0), (-1,0), (0,1), (0,-1)]:\n",
    "                new_row , new_col = row + dx, col + dy\n",
    "                dfs(new_row, new_col)\n",
    "            \n",
    "            #Mark all borders as T\n",
    "            \n",
    "        for row in range(rows):\n",
    "            dfs(row, 0)         #left edge\n",
    "            dfs(row, cols-1)    #right edge\n",
    "            \n",
    "        for col in range(cols):\n",
    "            dfs(0, col)             #top edge\n",
    "            dfs(rows -1, col)       #bottom edge\n",
    "            \n",
    "        for row in range(rows):\n",
    "            for col in range(cols):\n",
    "                if board[row][col] == 'O':\n",
    "                    board[row][col] = 'X'\n",
    "                elif board[row][col] =='T':\n",
    "                    board[row][col] = 'O'\n",
    "                    \n",
    "\n",
    "                        \n",
    "                        "
   ]
  },
  {
   "cell_type": "markdown",
   "metadata": {},
   "source": [
    "# 207 Course Schedule\n",
    "\n",
    "There are a total of numCourses courses you have to take, labeled from 0 to numCourses - 1. You are given an array prerequisites where prerequisites[i] = [ai, bi] indicates that you must take course bi first if you want to take course ai.\n",
    "\n",
    "For example, the pair [0, 1], indicates that to take course 0 you have to first take course 1.\n",
    "Return true if you can finish all courses. Otherwise, return false.\n",
    "\n",
    " "
   ]
  },
  {
   "cell_type": "code",
   "execution_count": 17,
   "metadata": {},
   "outputs": [],
   "source": [
    "#Using indegree and BFS\n",
    "\n",
    "from typing import List\n",
    "\n",
    "from collections import defaultdict, deque\n",
    "\n",
    "class Solution:\n",
    "    def canFinish(self, numCourses:int, prerequisites:List[List[int]])-> bool:\n",
    "        #Create adjacency list \n",
    "        graph = defaultdict(list)\n",
    "        indegree = [0] * numCourses\n",
    "        \n",
    "        for course, prereq in prerequisites:\n",
    "            graph[prereq].append(course)\n",
    "            indegree[course] += 1\n",
    "            \n",
    "        #Initialize queue with courses having 0 indegree - that is no prerequistes\n",
    "        queue = deque([i for i in range(numCourses) if indegree[i] == 0])\n",
    "        \n",
    "        completed = 0\n",
    "        \n",
    "        #Process the queue in topological order\n",
    "        while queue:\n",
    "            current = queue.popleft()\n",
    "            completed += 1\n",
    "            \n",
    "            #Reduce indegree for all the dependent courses\n",
    "            for next_course in graph[current]:\n",
    "                indegree[next_course] -= 1\n",
    "                if indegree[next_course] == 0:  #if after reduction the indegree of next_cpurse is 0, append them to the queue\n",
    "                    queue.append(next_course)\n",
    "                    \n",
    "        return completed == numCourses\n",
    "                \n",
    "        \n",
    "        \n",
    "        \n",
    "            "
   ]
  },
  {
   "cell_type": "code",
   "execution_count": 18,
   "metadata": {},
   "outputs": [],
   "source": [
    "#Using dfs \n",
    "\n",
    "class Solution:\n",
    "    def canFinish(self, numCourses: int, prerequisites: List[List[int]]) -> bool:\n",
    "        # Create adjacency list\n",
    "        graph = [[] for _ in range(numCourses)]\n",
    "        for course, prereq in prerequisites:\n",
    "            graph[prereq].append(course)\n",
    "            \n",
    "        # Arrays to track visited nodes\n",
    "        visited = [False] * numCourses\n",
    "        path = [False] * numCourses\n",
    "        \n",
    "        def dfs(course):\n",
    "            # If node is in current path, we found a cycle\n",
    "            if path[course]:\n",
    "                return False\n",
    "            # If node was previously visited and validated, it's safe\n",
    "            if visited[course]:\n",
    "                return True\n",
    "                \n",
    "            path[course] = True\n",
    "            visited[course] = True\n",
    "            \n",
    "            # Check all dependent courses\n",
    "            for next_course in graph[course]:\n",
    "                if not dfs(next_course):\n",
    "                    return False\n",
    "                    \n",
    "            path[course] = False\n",
    "            return True\n",
    "        \n",
    "        # Check each course\n",
    "        for course in range(numCourses):\n",
    "            if not visited[course]:\n",
    "                if not dfs(course):\n",
    "                    return False\n",
    "        return True\n"
   ]
  },
  {
   "cell_type": "markdown",
   "metadata": {},
   "source": [
    "# 210 Course schedule II \n",
    "\n",
    "There are a total of numCourses courses you have to take, labeled from 0 to numCourses - 1. You are given an array prerequisites where prerequisites[i] = [ai, bi] indicates that you must take course bi first if you want to take course ai.\n",
    "\n",
    "For example, the pair [0, 1], indicates that to take course 0 you have to first take course 1.\n",
    "Return the ordering of courses you should take to finish all courses. If there are many valid answers, return any of them. If it is impossible to finish all courses, return an empty array."
   ]
  },
  {
   "cell_type": "code",
   "execution_count": 19,
   "metadata": {},
   "outputs": [],
   "source": [
    "from typing import List\n",
    "\n",
    "from collections import defaultdict, deque\n",
    "\n",
    "class Solution:\n",
    "    def findOrder(self, numCourses:int, prerequisites:List[List[int]])-> bool:\n",
    "        #Create adjacency list \n",
    "        graph = defaultdict(list)\n",
    "        indegree = [0] * numCourses\n",
    "    # Initialize a graph using a dictionary to map each course to its list of dependent courses\n",
    "        for course, prereq in prerequisites:\n",
    "            graph[prereq].append(course)\n",
    "            indegree[course] += 1\n",
    "            \n",
    "        #Initialize queue with courses having 0 indegree - that is no prerequistes\n",
    "        queue = deque([i for i in range(numCourses) if indegree[i] == 0])\n",
    "        \n",
    "        course_order = []\n",
    "        \n",
    "        #Process the queue in topological order\n",
    "        while queue:\n",
    "            current = queue.popleft()\n",
    "            course_order.append(current)\n",
    "            \n",
    "            #Reduce indegree for all the dependent courses\n",
    "            for next_course in graph[current]:\n",
    "                indegree[next_course] -= 1\n",
    "                if indegree[next_course] == 0:  #if after reduction the indegree of next_cpurse is 0, append them to the queue\n",
    "                    queue.append(next_course)\n",
    "                    \n",
    "        return course_order if len(course_order) == numCourses else []"
   ]
  },
  {
   "cell_type": "markdown",
   "metadata": {},
   "source": [
    "# Premium Graph Valid Tree\n",
    "\n",
    "Given n nodes labeled from 0 to n - 1 and a list of undirected edges (each edge is a pair of nodes), write a function to check whether these edges make up a valid tree."
   ]
  },
  {
   "cell_type": "markdown",
   "metadata": {},
   "source": [
    "Key intutions:\n",
    "1) Create adjacency list\n",
    "2) Created a visited set to track the nodes visited. If the current node is already there in the visited node, you know there is a cycle in the graph and it is not a valid tree.\n",
    "3) Do a dfs on each node.\n",
    "4) To ensure that you dont go back to the neighbor you have already visited and give a false impression of cycle, always check if the nodes neighbors are also its parent. If yes, keep continuing.\n",
    "5) In the end you just check two things - if the dfs passes any False (current node already in visited node) and number of nodes = len of visited\n"
   ]
  },
  {
   "cell_type": "code",
   "execution_count": 2,
   "metadata": {},
   "outputs": [],
   "source": [
    "from typing import List\n",
    "\n",
    "class Solution:\n",
    "    def validTree(self, n: int, edges: List[List[int]]) -> bool:\n",
    "        #edge case - ideally number of edges should be n-1\n",
    "        if len(edges) != n-1:\n",
    "            return False\n",
    "        \n",
    "        #creating the adjacency list\n",
    "        adj = defaultdict(list)\n",
    "        for n1,n2 in edges:\n",
    "            adj[n1].append(n2)\n",
    "            adj[n2].append(n1)\n",
    "            \n",
    "        visited = set()\n",
    "        \n",
    "        def dfs(node, parent):\n",
    "            visited.add(node)\n",
    "            \n",
    "            for neighbor in adj[node]:\n",
    "                if neighbor == parent:\n",
    "                    continue\n",
    "                if neighbor in visited or not dfs(neighbor, node):\n",
    "                    return False\n",
    "            return True\n",
    "                \n",
    "                \n",
    "        return dfs(0,-1) and len(visited) == n \n",
    "    \n",
    "    \n",
    "                \n",
    "        "
   ]
  },
  {
   "cell_type": "markdown",
   "metadata": {},
   "source": [
    "\n",
    "# 323 Number of Connected Components in an Undirected Graph\n",
    "There is an undirected graph with n nodes. There is also an edges array, where edges[i] = [a, b] means that there is an edge between node a and node b in the graph.\n",
    "\n",
    "The nodes are numbered from 0 to n - 1.\n",
    "\n",
    "Return the total number of connected components in that graph."
   ]
  },
  {
   "cell_type": "markdown",
   "metadata": {},
   "source": [
    "#Key intution\n",
    "1) First create a parent arrey where each node is its own parent\n",
    "\n",
    "2) Then do a find operation to find the parent of the node. You use path compression which means you keep on updating the parent of the node to the root node.\n",
    "This is like giving phone number of the final CEO directly to the employee. This is done to reduce the time complexity of the find operation.\n",
    "\n",
    "3) Then you process each edge to perform a union operation. You find the parent of the two nodes and if they are not same, you make one node the parent of the other node.\n",
    "4) finally you sum the components by counting nodes that are their own parents"
   ]
  },
  {
   "cell_type": "code",
   "execution_count": null,
   "metadata": {},
   "outputs": [],
   "source": [
    "from typing import List\n",
    "\n",
    "class Solution:\n",
    "    def countComponents(self, n: int, edges: List[List[int]]) -> int:\n",
    "        parent = [i for i in range(n)]\n",
    "        \n",
    "        def find(node):  #creating the find fucntion that will find root of the node through path compression\n",
    "            if parent[node] != node:\n",
    "                parent[node] = find(parent[node])\n",
    "            return parent[node]\n",
    "        \n",
    "        for a,b in edges:\n",
    "            parent[find(a)] = find(b)\n",
    "            \n",
    "        return sum(i==find(i) for i  in range(n))\n",
    "        "
   ]
  },
  {
   "cell_type": "markdown",
   "metadata": {},
   "source": []
  }
 ],
 "metadata": {
  "kernelspec": {
   "display_name": "base",
   "language": "python",
   "name": "python3"
  },
  "language_info": {
   "codemirror_mode": {
    "name": "ipython",
    "version": 3
   },
   "file_extension": ".py",
   "mimetype": "text/x-python",
   "name": "python",
   "nbconvert_exporter": "python",
   "pygments_lexer": "ipython3",
   "version": "3.11.5"
  }
 },
 "nbformat": 4,
 "nbformat_minor": 2
}

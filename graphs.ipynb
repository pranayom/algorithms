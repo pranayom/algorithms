{
 "cells": [
  {
   "cell_type": "markdown",
   "metadata": {},
   "source": [
    "graphs can be represented in Python using dictionary based adjacency lists"
   ]
  },
  {
   "cell_type": "code",
   "execution_count": 1,
   "metadata": {},
   "outputs": [],
   "source": [
    "# Simple dictionary representation\n",
    "graph = {\n",
    "    'A': ['B', 'C'],\n",
    "    'B': ['A', 'D', 'E'],\n",
    "    'C': ['A', 'F'],\n",
    "    'D': ['B'],\n",
    "    'E': ['B', 'F'],\n",
    "    'F': ['C', 'E']\n",
    "}"
   ]
  },
  {
   "cell_type": "code",
   "execution_count": 2,
   "metadata": {},
   "outputs": [],
   "source": [
    "#implement a graph uisng class based implementation\n",
    "\n",
    "class Graph:\n",
    "    def __init__(self):\n",
    "        self.vertices = {}\n",
    "        \n",
    "    def add_vertex(self, vertex):\n",
    "       if vertex not in self.vertices:\n",
    "           self.vertices[vertex] = []\n",
    "           \n",
    "    def add_edge(self, from_vertex, to_vertex):\n",
    "        if from_vertex not in self.vertices:\n",
    "            self.vertices[from_vertex] = []\n",
    "        if to_vertex not in self.vertices:\n",
    "            self.vertices[to_vertex] = []\n",
    "        self.vertices[from_vertex].append(to_vertex)"
   ]
  },
  {
   "cell_type": "code",
   "execution_count": 3,
   "metadata": {},
   "outputs": [],
   "source": [
    "graph = {\n",
    "    'A': ['C', 'B'],\n",
    "    'B': [ 'D' ],\n",
    "    'C': ['E'],\n",
    "    'D': ['F'],\n",
    "    'E': [],\n",
    "    'F': []\n",
    "}"
   ]
  },
  {
   "cell_type": "code",
   "execution_count": 10,
   "metadata": {},
   "outputs": [],
   "source": [
    "#creating a depth first search for the above graph\n",
    "\n",
    "def depthFirstSearch(graph, starting_node):\n",
    "    dfs_stack = [starting_node]\n",
    "    while dfs_stack:\n",
    "        current = dfs_stack.pop()\n",
    "        print(current)\n",
    "        for next_node in graph[current]:\n",
    "            dfs_stack.append(next_node)"
   ]
  },
  {
   "cell_type": "code",
   "execution_count": 11,
   "metadata": {},
   "outputs": [
    {
     "name": "stdout",
     "output_type": "stream",
     "text": [
      "A\n",
      "B\n",
      "D\n",
      "F\n",
      "C\n",
      "E\n"
     ]
    }
   ],
   "source": [
    "depthFirstSearch(graph, \"A\")"
   ]
  },
  {
   "cell_type": "code",
   "execution_count": 12,
   "metadata": {},
   "outputs": [],
   "source": [
    "#depth first search using recursion\n",
    "\n",
    "def depthFirstSearch(graph, starting_node):\n",
    "    print(starting_node)\n",
    "    for next_node in graph[starting_node]:\n",
    "        depthFirstSearch(graph, next_node)\n",
    "\n"
   ]
  },
  {
   "cell_type": "code",
   "execution_count": 13,
   "metadata": {},
   "outputs": [
    {
     "name": "stdout",
     "output_type": "stream",
     "text": [
      "A\n",
      "C\n",
      "E\n",
      "B\n",
      "D\n",
      "F\n"
     ]
    }
   ],
   "source": [
    "depthFirstSearch(graph, \"A\")"
   ]
  },
  {
   "cell_type": "code",
   "execution_count": 18,
   "metadata": {},
   "outputs": [],
   "source": [
    "from collections import deque\n",
    "x = deque([1,2,3,4])"
   ]
  },
  {
   "cell_type": "code",
   "execution_count": 19,
   "metadata": {},
   "outputs": [
    {
     "name": "stdout",
     "output_type": "stream",
     "text": [
      "deque([1, 2, 3, 4])\n"
     ]
    }
   ],
   "source": [
    "print(x)"
   ]
  },
  {
   "cell_type": "code",
   "execution_count": 20,
   "metadata": {},
   "outputs": [
    {
     "name": "stdout",
     "output_type": "stream",
     "text": [
      "deque([1, 2, 3, 4, 7])\n"
     ]
    }
   ],
   "source": [
    "x.append(7)\n",
    "print(x)"
   ]
  },
  {
   "cell_type": "code",
   "execution_count": 22,
   "metadata": {},
   "outputs": [
    {
     "name": "stdout",
     "output_type": "stream",
     "text": [
      "deque([2, 3, 4, 7])\n"
     ]
    }
   ],
   "source": [
    "x.popleft()\n",
    "print(x)"
   ]
  },
  {
   "cell_type": "code",
   "execution_count": 26,
   "metadata": {},
   "outputs": [],
   "source": [
    "from collections import deque\n",
    "def breadthFirstSearch(graph, starting_node):\n",
    "    bfs_queue = deque(starting_node)\n",
    "    while bfs_queue:\n",
    "        current = bfs_queue.popleft()\n",
    "        print(current)\n",
    "        for next_node in graph[current]:\n",
    "            bfs_queue.append(next_node)\n",
    "        \n",
    "    "
   ]
  },
  {
   "cell_type": "code",
   "execution_count": 27,
   "metadata": {},
   "outputs": [
    {
     "name": "stdout",
     "output_type": "stream",
     "text": [
      "A\n",
      "C\n",
      "B\n",
      "E\n",
      "D\n",
      "F\n"
     ]
    }
   ],
   "source": [
    "breadthFirstSearch(graph, \"A\")"
   ]
  },
  {
   "cell_type": "markdown",
   "metadata": {},
   "source": [
    "# 200. Number of Islands\n",
    "\n",
    "Given an m x n 2D binary grid grid which represents a map of '1's (land) and '0's (water), return the number of islands.\n",
    "\n",
    "An island is surrounded by water and is formed by connecting adjacent lands horizontally or vertically. You may assume all four edges of the grid are all surrounded by water."
   ]
  },
  {
   "cell_type": "code",
   "execution_count": null,
   "metadata": {},
   "outputs": [],
   "source": [
    "from typing import List\n",
    "class Solution:\n",
    "    def numIslands(self, grid: List[List[str]]) -> int:\n",
    "        \n",
    "        "
   ]
  },
  {
   "cell_type": "code",
   "execution_count": 1,
   "metadata": {},
   "outputs": [],
   "source": [
    "grid = [\n",
    "    ['1', '1', '0', '0', '0'],\n",
    "    ['1', '1', '0', '0', '0'],\n",
    "    ['0', '0', '1', '0', '0'],\n",
    "    ['0', '0', '0', '1', '1']\n",
    "]"
   ]
  },
  {
   "cell_type": "code",
   "execution_count": null,
   "metadata": {},
   "outputs": [],
   "source": [
    "class Solution:\n",
    "    def numIslands(self, grid: List[List[str]]) -> int:\n",
    "        if not grid:\n",
    "            return 0\n",
    "        def dfs(i,j):\n",
    "            if i < 0 or i >= len(grid) or j < 0 or j >= len(grid[0]) or grid[i][j] == 0:\n",
    "                return\n",
    "            grid[i][j] = 0 #Marking it as visited\n",
    "            dfs(i+1,j)\n",
    "            dfs(i-1, j)\n",
    "            dfs(i, j+1)\n",
    "            dfs(i, j-1)\n",
    "        \n",
    "        count = 0\n",
    "        for i in range(len(grid)):\n",
    "            for j in range(len(grid[0])):\n",
    "                if grid[i][j] ==1:\n",
    "                    count += 1\n",
    "                    dfs(i,j)\n",
    "        return count\n",
    "            \n",
    "            "
   ]
  },
  {
   "cell_type": "code",
   "execution_count": 2,
   "metadata": {},
   "outputs": [],
   "source": [
    "from typing import List\n",
    "class Solution:\n",
    "    def maxAreaOfIsland(self, grid: List[List[str]]) -> int:\n",
    "        if not grid:\n",
    "            return 0\n",
    "        def dfs(i,j):\n",
    "            if i < 0 or i >= len(grid) or j < 0 or j >= len(grid[0]) or grid[i][j] == 0:\n",
    "                return 0\n",
    "            else:\n",
    "                grid[i][j] = 0\n",
    "                return 1 + dfs(i+1,j) + dfs(i-1,j) + dfs(i,j+1) + dfs(i + j-1)\n",
    "                \n",
    "        \n",
    "        max_area = 0\n",
    "        for i in range(len(grid)):\n",
    "            for j in range(len(grid[0])):\n",
    "                if grid[i][j] ==1:\n",
    "                    max_area = max(max_area, dfs(i,j))\n",
    "        return max_area"
   ]
  },
  {
   "cell_type": "markdown",
   "metadata": {},
   "source": [
    "# 133 Clone graph\n",
    "\n",
    "Given a reference of a node in a connected undirected graph.\n",
    "\n",
    "Return a deep copy (clone) of the graph.\n",
    "\n",
    "Each node in the graph contains a value (int) and a list (List[Node]) of its neighbors.\n",
    "\n",
    "\"\"\"\n",
    "\n",
    "class Node:\n",
    "\n",
    "   def __init__(self, val = 0, neighbors = None):\n",
    "\n",
    "       self.val = val\n",
    "\n",
    "       self.neighbors = neighbors if neighbors is not None else []\n",
    " \"\"\"\n",
    "\n",
    " "
   ]
  },
  {
   "cell_type": "code",
   "execution_count": 1,
   "metadata": {},
   "outputs": [],
   "source": [
    "from typing import Optional\n",
    "\n",
    "class Node:\n",
    "    def __init__(self, val = 0, neighbors = None):\n",
    "        self.val = val\n",
    "        self.neighbors = neighbors if neighbors is not None else []\n",
    "        \n",
    "class Solution:\n",
    "    def cloneGraph(self, node: Optional['Node']) -> Optional['Node']:\n",
    "        if not node:\n",
    "            return None\n",
    "        \n",
    "        visited = {}\n",
    "        \n",
    "        def clone(node):\n",
    "            if node in visited:\n",
    "                return visited[node]\n",
    "            \n",
    "            clone_node = Node(node.val)\n",
    "            visited[node] = clone_node\n",
    "            \n",
    "            for neighbor in node.neighbors:\n",
    "                clone_node.neighbors.append(clone(neighbor))\n",
    "                \n",
    "            return clone_node\n",
    "        \n",
    "        return clone(node)\n",
    "        "
   ]
  },
  {
   "cell_type": "code",
   "execution_count": 2,
   "metadata": {},
   "outputs": [],
   "source": [
    "#Iterative solution for 133\n",
    "\n",
    "class Solution:\n",
    "    def cloneGraph(self, node):\n",
    "        if not node:\n",
    "            return None\n",
    "            \n",
    "        stack = [node]\n",
    "        clones = {node: Node(node.val, [])}\n",
    "        \n",
    "        while stack:\n",
    "            current = stack.pop()\n",
    "            \n",
    "            for neighbor in current.neighbors:\n",
    "                if neighbor not in clones:\n",
    "                    clones[neighbor] = Node(neighbor.val, [])\n",
    "                    stack.append(neighbor)\n",
    "                clones[current].neighbors.append(clones[neighbor])\n",
    "                \n",
    "        return clones[node]"
   ]
  },
  {
   "cell_type": "markdown",
   "metadata": {},
   "source": [
    "# WALLS AND GATES\n",
    "\n",
    "You are given a m×n 2D rooms initialized with these three possible values:\n",
    "\n",
    "-1 - A wall or an obstacle\n",
    "\n",
    "0 - A gate.\n",
    "\n",
    "INF - Infinity means an empty room. We use the integer 2^31 - 1 = 2147483647 to represent INF.\n",
    "\n",
    "Fill each empty room with the distance to its nearest gate. If it is impossible to reach a gate, it should be filled with INF.\n",
    "\n",
    "Assume the grid can only be traversed up, down, left, or right."
   ]
  },
  {
   "cell_type": "code",
   "execution_count": 2,
   "metadata": {},
   "outputs": [],
   "source": [
    "from collections import deque\n",
    "\n",
    "def walls_and_gates(rooms):\n",
    "    if not rooms:\n",
    "        return\n",
    "    rows, cols = len(rooms), len(rooms[0])\n",
    "    queue = deque()\n",
    "    \n",
    "    for r in rows:\n",
    "        for c in cols:\n",
    "            if rooms[r][c] == 0:\n",
    "                queue.append(rooms[r][c])\n",
    "                \n",
    "    directions = [(1,0), (-1,0),(0,1), (0,-1)]\n",
    "    while queue:\n",
    "        r,c = queue.popleft()\n",
    "        for dr, dc in directions:\n",
    "            nr, nc = r + dr, c + dc\n",
    "            if (0 <=nr < rows   and \n",
    "                0 <= nc < cols and\n",
    "                rooms[nr][nc] == 2147483647):   #only if the cell is inf [empty room]\n",
    "                rooms[nr][nc] = rooms[r][c] + 1  # you need tp replace infinity with the distance from the door\n",
    "                queue.append((nr,nc))\n",
    "        \n",
    "    "
   ]
  },
  {
   "cell_type": "markdown",
   "metadata": {},
   "source": []
  }
 ],
 "metadata": {
  "kernelspec": {
   "display_name": "base",
   "language": "python",
   "name": "python3"
  },
  "language_info": {
   "codemirror_mode": {
    "name": "ipython",
    "version": 3
   },
   "file_extension": ".py",
   "mimetype": "text/x-python",
   "name": "python",
   "nbconvert_exporter": "python",
   "pygments_lexer": "ipython3",
   "version": "3.11.5"
  }
 },
 "nbformat": 4,
 "nbformat_minor": 2
}

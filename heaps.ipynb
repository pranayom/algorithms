{
 "cells": [
  {
   "cell_type": "markdown",
   "metadata": {},
   "source": [
    "\n",
    "# 703. Kth Largest Element in a Stream\n",
    "You are part of a university admissions office and need to keep track of the kth highest test score from applicants in real-time. This helps to determine cut-off marks for interviews and admissions dynamically as new applicants submit their scores.\n",
    "\n",
    "You are tasked to implement a class which, for a given integer k, maintains a stream of test scores and continuously returns the kth highest test score after a new score has been submitted. More specifically, we are looking for the kth highest score in the sorted list of all scores.\n",
    "\n",
    "Implement the KthLargest class:\n",
    "\n",
    "KthLargest(int k, int[] nums) Initializes the object with the integer k and the stream of test scores nums.\n",
    "int add(int val) Adds a new test score val to the stream and returns the element representing the kth largest element in the pool of test scores so far."
   ]
  },
  {
   "cell_type": "code",
   "execution_count": 2,
   "metadata": {},
   "outputs": [],
   "source": [
    "from typing import List\n",
    "class KthLargest:\n",
    "    def __init__(self, k:int, nums:List[int])->List[int]:\n",
    "        self.min_heap = []\n",
    "        self.k = k\n",
    "        for num in nums:\n",
    "            self.add(num)\n",
    "    def add(self, val:int)-> int:\n",
    "        heappush(self.min_heap, val)\n",
    "        if len(self.min_heap) > self.k:\n",
    "            heappop(self.min_heap)\n",
    "        return self.min_heap[0]\n",
    "        \n",
    "    "
   ]
  },
  {
   "cell_type": "markdown",
   "metadata": {},
   "source": [
    "# 1046. Last Stone Weight\n",
    "\n",
    "You are given an array of integers stones where stones[i] is the weight of the ith stone.\n",
    "\n",
    "We are playing a game with the stones. On each turn, we choose the heaviest two stones and smash them together. Suppose the heaviest two stones have weights x and y with x <= y. The result of this smash is:\n",
    "\n",
    "If x == y, both stones are destroyed, and\n",
    "If x != y, the stone of weight x is destroyed, and the stone of weight y has new weight y - x.\n",
    "At the end of the game, there is at most one stone left.\n",
    "\n",
    "Return the weight of the last remaining stone. If there are no stones left, return 0."
   ]
  },
  {
   "cell_type": "code",
   "execution_count": 3,
   "metadata": {},
   "outputs": [],
   "source": [
    "from typing import List\n",
    "\n",
    "from heapq import heapify, heappush, heappop\n",
    "class Solution:\n",
    "    def lastStoneWeight(self, stones: List[int]) -> int:\n",
    "        heap = [-stone for stone in stones]\n",
    "        heapify(heap)\n",
    "        while len(heap) > 1:\n",
    "            stone_largest = heappop(heap)\n",
    "            stone_nxt_largest = heappop(heap)\n",
    "            \n",
    "            if stone_largest != stone_nxt_largest:\n",
    "                heappush(heap, stone_largest-stone_nxt_largest)\n",
    "        return -heap[0] if heap else 0"
   ]
  },
  {
   "cell_type": "markdown",
   "metadata": {},
   "source": [
    "# 973. K Closest Points to Origin\n",
    "\n",
    "Given an array of points where points[i] = [xi, yi] represents a point on the X-Y plane and an integer k, return the k closest points to the origin (0, 0).\n",
    "\n",
    "The distance between two points on the X-Y plane is the Euclidean distance (i.e., √(x1 - x2)2 + (y1 - y2)2).\n",
    "\n",
    "You may return the answer in any order. The answer is guaranteed to be unique (except for the order that it is in)."
   ]
  },
  {
   "cell_type": "code",
   "execution_count": null,
   "metadata": {},
   "outputs": [],
   "source": [
    "from typing import List\n",
    "import numpy as np\n",
    "class Solution:\n",
    "    def kClosest(self, points: List[List[int]], k:int)-> List[List[int]]:\n",
    "        heap = []\n",
    "        for x,y in points:\n",
    "            dist = x*x + y*y\n",
    "            heap.push(heap, [-dist, [x,y]])\n",
    "            if len(heap) > k:\n",
    "                heappop(heap, (-dist, [x,y]))\n",
    "        return [point for (dist, point) in heap]\n",
    "                        \n",
    "        \n",
    "   \n",
    "        "
   ]
  },
  {
   "cell_type": "markdown",
   "metadata": {},
   "source": [
    "\n",
    "# 215. Kth Largest Element in an Array\n",
    "Given an integer array nums and an integer k, return the kth largest element in the array.\n",
    "\n",
    "Note that it is the kth largest element in the sorted order, not the kth distinct element.\n",
    "\n",
    "Can you solve it without sorting?"
   ]
  },
  {
   "cell_type": "code",
   "execution_count": null,
   "metadata": {},
   "outputs": [],
   "source": [
    "class Solution:\n",
    "    def findKthLargest(self, nums: List[int], k: int) -> int:\n",
    "        heap = [num for num in nums]\n",
    "        heapify(heap)\n",
    "        \n",
    "        while len(heap)> k:\n",
    "            heappop(heap)\n",
    "        return heap[0]"
   ]
  },
  {
   "cell_type": "markdown",
   "metadata": {},
   "source": [
    "# 621. Task Scheduler\n",
    "You are given an array of CPU tasks, each labeled with a letter from A to Z, and a number n. Each CPU interval can be idle or allow the completion of one task. Tasks can be completed in any order, but there's a constraint: there has to be a gap of at least n intervals between two tasks with the same label.\n",
    "\n",
    "Return the minimum number of CPU intervals required to complete all tasks.\n",
    "\n",
    " "
   ]
  },
  {
   "cell_type": "code",
   "execution_count": 7,
   "metadata": {},
   "outputs": [],
   "source": [
    "from collections import Counter\n",
    "\n",
    "class Solution:\n",
    "    def leastInterval(self, tasks:List[str], n:int)->int:\n",
    "        task_count = Counter(tasks)\n",
    "        max_heap = [-count for count in task_count]\n",
    "        heapq.heapify(max_heap)\n",
    "        \n",
    "        time = 0\n",
    "        queue = [] #[count, available time]\n",
    "        \n",
    "        while max_heap or queue:\n",
    "            time +=1\n",
    "            if max_heap:\n",
    "                count = heapq.heappop(max_heap) + 1 #we need to reduce count by 1, but since its negative we add 1\n",
    "                if count < 0:  #Remember we need to check if count > 0 but since its negative we check less than 0\n",
    "                    queue.append([count, time + n])\n",
    "            if queue and queue[0][1] <= time:\n",
    "                heapq.heappush(max_heap, queue.pop(0)[0])\n",
    "        return time\n",
    "                \n",
    "                    \n",
    "            "
   ]
  },
  {
   "cell_type": "markdown",
   "metadata": {},
   "source": []
  }
 ],
 "metadata": {
  "kernelspec": {
   "display_name": "base",
   "language": "python",
   "name": "python3"
  },
  "language_info": {
   "codemirror_mode": {
    "name": "ipython",
    "version": 3
   },
   "file_extension": ".py",
   "mimetype": "text/x-python",
   "name": "python",
   "nbconvert_exporter": "python",
   "pygments_lexer": "ipython3",
   "version": "3.11.5"
  }
 },
 "nbformat": 4,
 "nbformat_minor": 2
}

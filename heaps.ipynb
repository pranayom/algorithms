{
 "cells": [
  {
   "cell_type": "markdown",
   "metadata": {},
   "source": [
    "\n",
    "# 703. Kth Largest Element in a Stream\n",
    "You are part of a university admissions office and need to keep track of the kth highest test score from applicants in real-time. This helps to determine cut-off marks for interviews and admissions dynamically as new applicants submit their scores.\n",
    "\n",
    "You are tasked to implement a class which, for a given integer k, maintains a stream of test scores and continuously returns the kth highest test score after a new score has been submitted. More specifically, we are looking for the kth highest score in the sorted list of all scores.\n",
    "\n",
    "Implement the KthLargest class:\n",
    "\n",
    "KthLargest(int k, int[] nums) Initializes the object with the integer k and the stream of test scores nums.\n",
    "int add(int val) Adds a new test score val to the stream and returns the element representing the kth largest element in the pool of test scores so far."
   ]
  },
  {
   "cell_type": "code",
   "execution_count": 2,
   "metadata": {},
   "outputs": [],
   "source": [
    "from typing import List\n",
    "class KthLargest:\n",
    "    def __init__(self, k:int, nums:List[int])->List[int]:\n",
    "        self.min_heap = []\n",
    "        self.k = k\n",
    "        for num in nums:\n",
    "            self.add(num)\n",
    "    def add(self, val:int)-> int:\n",
    "        heappush(self.min_heap, val)\n",
    "        if len(self.min_heap) > self.k:\n",
    "            heappop(self.min_heap)\n",
    "        return self.min_heap[0]\n",
    "        \n",
    "    "
   ]
  },
  {
   "cell_type": "markdown",
   "metadata": {},
   "source": [
    "# 1046. Last Stone Weight\n",
    "\n",
    "You are given an array of integers stones where stones[i] is the weight of the ith stone.\n",
    "\n",
    "We are playing a game with the stones. On each turn, we choose the heaviest two stones and smash them together. Suppose the heaviest two stones have weights x and y with x <= y. The result of this smash is:\n",
    "\n",
    "If x == y, both stones are destroyed, and\n",
    "If x != y, the stone of weight x is destroyed, and the stone of weight y has new weight y - x.\n",
    "At the end of the game, there is at most one stone left.\n",
    "\n",
    "Return the weight of the last remaining stone. If there are no stones left, return 0."
   ]
  },
  {
   "cell_type": "code",
   "execution_count": 3,
   "metadata": {},
   "outputs": [],
   "source": [
    "from typing import List\n",
    "\n",
    "from heapq import heapify, heappush, heappop\n",
    "class Solution:\n",
    "    def lastStoneWeight(self, stones: List[int]) -> int:\n",
    "        heap = [-stone for stone in stones]\n",
    "        heapify(heap)\n",
    "        while len(heap) > 1:\n",
    "            stone_largest = heappop(heap)\n",
    "            stone_nxt_largest = heappop(heap)\n",
    "            \n",
    "            if stone_largest != stone_nxt_largest:\n",
    "                heappush(heap, stone_largest-stone_nxt_largest)\n",
    "        return -heap[0] if heap else 0"
   ]
  },
  {
   "cell_type": "markdown",
   "metadata": {},
   "source": []
  }
 ],
 "metadata": {
  "kernelspec": {
   "display_name": "base",
   "language": "python",
   "name": "python3"
  },
  "language_info": {
   "codemirror_mode": {
    "name": "ipython",
    "version": 3
   },
   "file_extension": ".py",
   "mimetype": "text/x-python",
   "name": "python",
   "nbconvert_exporter": "python",
   "pygments_lexer": "ipython3",
   "version": "3.11.5"
  }
 },
 "nbformat": 4,
 "nbformat_minor": 2
}

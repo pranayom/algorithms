{
 "cells": [
  {
   "cell_type": "markdown",
   "metadata": {},
   "source": [
    "# 962 : Maximum Width Ramp\n",
    "\n",
    "A ramp in an integer array nums is a pair (i, j) for which i < j and nums[i] <= nums[j]. The width of such a ramp is j - i.\n",
    "\n",
    "Given an integer array nums, return the maximum width of a ramp in nums. If there is no ramp in nums, return 0."
   ]
  },
  {
   "cell_type": "code",
   "execution_count": 4,
   "metadata": {},
   "outputs": [],
   "source": [
    "class Solution:\n",
    "    def maxWidthRamp(self, nums) -> int:\n",
    "        n = len(nums)\n",
    "        stack = []\n",
    "        max_width = 0\n",
    "\n",
    "        # Step 1: Build the stack of potential starting indices\n",
    "        for i in range(n):\n",
    "            if not stack or nums[i] < nums[stack[-1]]:\n",
    "                stack.append(i)\n",
    "\n",
    "        # Step 2: Iterate from right to left to find the maximum width ramp\n",
    "        for i in range(n - 1, -1, -1):\n",
    "            while stack and nums[i] >= nums[stack[-1]]:\n",
    "                max_width = max(max_width, i - stack.pop())\n",
    "\n",
    "        return max_width"
   ]
  },
  {
   "cell_type": "markdown",
   "metadata": {},
   "source": [
    "#670 Maximum swap\n",
    "\n",
    "You are given an integer num. You can swap two digits at most once to get the maximum valued number.\n",
    "\n",
    "Return the maximum valued number you can get."
   ]
  },
  {
   "cell_type": "markdown",
   "metadata": {},
   "source": [
    "# Approach 1\n",
    "#for each number create an array that takes in max number to the right. \n",
    "\n",
    "#The array should contain index of the max_right_index\n",
    "\n",
    "#Then if number in the max_right_index is same as index that means it is the max number, dont replace\n",
    "\n",
    "#If the number in the max_right_index is different and more than the actual index that means there is a bigger number on the right\n",
    "\n",
    "replace and break (since we need just one replacement)"
   ]
  },
  {
   "cell_type": "code",
   "execution_count": 23,
   "metadata": {},
   "outputs": [],
   "source": [
    "\n",
    "class Solution(object):\n",
    "    def maximumSwap(self, num):\n",
    "        \"\"\"\n",
    "        :type num: int\n",
    "        :rtype: int\n",
    "        \"\"\"  \n",
    "        s = list(str(num))\n",
    "        n = len(s)\n",
    "        max_right = [0]*n\n",
    "        max_right[n-1] = n-1\n",
    "        for i in range(n-2,-1,-1):\n",
    "            right_max_idx = max_right[i+1]\n",
    "            right_max_element = s[right_max_idx]\n",
    "            if s[i] < right_max_element:\n",
    "                max_right[i] = right_max_idx\n",
    "            else:\n",
    "                max_right[i] = i\n",
    "        for i in range(n):\n",
    "            max_right_id = max_right[i]\n",
    "            if s[i] < s[max_right_id]:\n",
    "                s[i],s[max_right_id] = s[max_right_id], s[i]\n",
    "                break\n",
    "        return int(\"\".join(s))   \n",
    "\n",
    "        \n",
    "        \n",
    "    "
   ]
  },
  {
   "cell_type": "code",
   "execution_count": 22,
   "metadata": {},
   "outputs": [
    {
     "name": "stdout",
     "output_type": "stream",
     "text": [
      "[0, 0, 0, 3]\n"
     ]
    }
   ],
   "source": [
    "max_swap("
   ]
  },
  {
   "cell_type": "code",
   "execution_count": 19,
   "metadata": {},
   "outputs": [],
   "source": [
    "nums = 3924\n",
    "nums_list = list(str(nums))"
   ]
  },
  {
   "cell_type": "code",
   "execution_count": 20,
   "metadata": {},
   "outputs": [
    {
     "data": {
      "text/plain": [
       "['3', '9', '2', '4']"
      ]
     },
     "execution_count": 20,
     "metadata": {},
     "output_type": "execute_result"
    }
   ],
   "source": [
    "nums_list"
   ]
  },
  {
   "cell_type": "markdown",
   "metadata": {},
   "source": [
    "Given an integer array nums, return true if any value appears at least twice in the array, and return false if every element is distinct."
   ]
  },
  {
   "cell_type": "markdown",
   "metadata": {},
   "source": []
  }
 ],
 "metadata": {
  "kernelspec": {
   "display_name": "base",
   "language": "python",
   "name": "python3"
  },
  "language_info": {
   "codemirror_mode": {
    "name": "ipython",
    "version": 3
   },
   "file_extension": ".py",
   "mimetype": "text/x-python",
   "name": "python",
   "nbconvert_exporter": "python",
   "pygments_lexer": "ipython3",
   "version": "3.11.5"
  }
 },
 "nbformat": 4,
 "nbformat_minor": 2
}

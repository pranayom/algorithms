{
 "cells": [
  {
   "cell_type": "markdown",
   "metadata": {},
   "source": [
    "# 962 : Maximum Width Ramp\n",
    "\n",
    "A ramp in an integer array nums is a pair (i, j) for which i < j and nums[i] <= nums[j]. The width of such a ramp is j - i.\n",
    "\n",
    "Given an integer array nums, return the maximum width of a ramp in nums. If there is no ramp in nums, return 0."
   ]
  },
  {
   "cell_type": "code",
   "execution_count": 4,
   "metadata": {},
   "outputs": [],
   "source": [
    "class Solution:\n",
    "    def maxWidthRamp(self, nums) -> int:\n",
    "        n = len(nums)\n",
    "        stack = []\n",
    "        max_width = 0\n",
    "\n",
    "        # Step 1: Build the stack of potential starting indices\n",
    "        for i in range(n):\n",
    "            if not stack or nums[i] < nums[stack[-1]]:\n",
    "                stack.append(i)\n",
    "\n",
    "        # Step 2: Iterate from right to left to find the maximum width ramp\n",
    "        for i in range(n - 1, -1, -1):\n",
    "            while stack and nums[i] >= nums[stack[-1]]:\n",
    "                max_width = max(max_width, i - stack.pop())\n",
    "\n",
    "        return max_width"
   ]
  },
  {
   "cell_type": "markdown",
   "metadata": {},
   "source": [
    "#670 Maximum swap\n",
    "\n",
    "You are given an integer num. You can swap two digits at most once to get the maximum valued number.\n",
    "\n",
    "Return the maximum valued number you can get."
   ]
  },
  {
   "cell_type": "markdown",
   "metadata": {},
   "source": [
    "# Approach 1\n",
    "#for each number create an array that takes in max number to the right. \n",
    "\n",
    "#The array should contain index of the max_right_index\n",
    "\n",
    "#Then if number in the max_right_index is same as index that means it is the max number, dont replace\n",
    "\n",
    "#If the number in the max_right_index is different and more than the actual index that means there is a bigger number on the right\n",
    "\n",
    "replace and break (since we need just one replacement)"
   ]
  },
  {
   "cell_type": "code",
   "execution_count": 23,
   "metadata": {},
   "outputs": [],
   "source": [
    "\n",
    "class Solution(object):\n",
    "    def maximumSwap(self, num):\n",
    "        \"\"\"\n",
    "        :type num: int\n",
    "        :rtype: int\n",
    "        \"\"\"  \n",
    "        s = list(str(num))\n",
    "        n = len(s)\n",
    "        max_right = [0]*n\n",
    "        max_right[n-1] = n-1\n",
    "        for i in range(n-2,-1,-1):\n",
    "            right_max_idx = max_right[i+1]\n",
    "            right_max_element = s[right_max_idx]\n",
    "            if s[i] < right_max_element:\n",
    "                max_right[i] = right_max_idx\n",
    "            else:\n",
    "                max_right[i] = i\n",
    "        for i in range(n):\n",
    "            max_right_id = max_right[i]\n",
    "            if s[i] < s[max_right_id]:\n",
    "                s[i],s[max_right_id] = s[max_right_id], s[i]\n",
    "                break\n",
    "        return int(\"\".join(s))   \n",
    "\n",
    "        \n",
    "        \n",
    "    "
   ]
  },
  {
   "cell_type": "code",
   "execution_count": 22,
   "metadata": {},
   "outputs": [
    {
     "name": "stdout",
     "output_type": "stream",
     "text": [
      "[0, 0, 0, 3]\n"
     ]
    }
   ],
   "source": [
    "max_swap("
   ]
  },
  {
   "cell_type": "code",
   "execution_count": 19,
   "metadata": {},
   "outputs": [],
   "source": [
    "nums = 3924\n",
    "nums_list = list(str(nums))"
   ]
  },
  {
   "cell_type": "code",
   "execution_count": 20,
   "metadata": {},
   "outputs": [
    {
     "data": {
      "text/plain": [
       "['3', '9', '2', '4']"
      ]
     },
     "execution_count": 20,
     "metadata": {},
     "output_type": "execute_result"
    }
   ],
   "source": [
    "nums_list"
   ]
  },
  {
   "cell_type": "markdown",
   "metadata": {},
   "source": [
    "# Contains duplicate\n",
    "Given an integer array nums, return true if any value appears at least twice in the array, and return false if every element is distinct."
   ]
  },
  {
   "cell_type": "code",
   "execution_count": 2,
   "metadata": {},
   "outputs": [],
   "source": [
    "class Solution:\n",
    "  def containsDuplicate(self, nums) -> bool:\n",
    "      unique_set = set()\n",
    "      \n",
    "      for num in nums:\n",
    "          if num in unique_set:\n",
    "              return True\n",
    "          unique_set.add(num)\n",
    "          \n",
    "      return False\n",
    "          \n",
    "      "
   ]
  },
  {
   "cell_type": "markdown",
   "metadata": {},
   "source": [
    "# Pangram\n",
    "\n",
    "A pangram is a sentence where every letter of the English alphabet appears at least once.\n",
    "\n",
    "Given a string sentence containing English letters (lower or upper-case), return true if sentence is a pangram, or false otherwise.\n",
    "\n",
    "Note: The given sentence might contain other characters like digits or spaces, your solution should handle these too."
   ]
  },
  {
   "cell_type": "code",
   "execution_count": 3,
   "metadata": {},
   "outputs": [],
   "source": [
    "class Solution:\n",
    "    def checkIfPangram(self, sentence):\n",
    "        seen = set()\n",
    "        for char in sentence:\n",
    "            char = char.lower()\n",
    "            \n",
    "            if char.isalpha():\n",
    "                seen.add(char)\n",
    "                \n",
    "        return len(seen) == 26\n",
    "                \n"
   ]
  },
  {
   "cell_type": "code",
   "execution_count": 4,
   "metadata": {},
   "outputs": [
    {
     "name": "stdout",
     "output_type": "stream",
     "text": [
      "True\n",
      "False\n",
      "True\n",
      "False\n",
      "True\n"
     ]
    }
   ],
   "source": [
    "sol = Solution()\n",
    "# Test cases\n",
    "print(sol.checkIfPangram(\"TheQuickBrownFoxJumpsOverTheLazyDog\")) # Expected output: True\n",
    "print(sol.checkIfPangram(\"This is not a pangram\")) # Expected output: False\n",
    "print(sol.checkIfPangram(\"abcdef ghijkl mnopqr stuvwxyz\")) # Expected output: True\n",
    "print(sol.checkIfPangram(\"\")) # Expected output: False\n",
    "print(sol.checkIfPangram(\"abcdefghijklmnopqrstuvwxyzABCDEFGHIJKLMNOPQRSTUVWXYZ\")) # Expected output: True\n"
   ]
  },
  {
   "cell_type": "code",
   "execution_count": 2,
   "metadata": {},
   "outputs": [
    {
     "data": {
      "text/plain": [
       "1"
      ]
     },
     "execution_count": 2,
     "metadata": {},
     "output_type": "execute_result"
    }
   ],
   "source": [
    "9%2"
   ]
  },
  {
   "cell_type": "code",
   "execution_count": 3,
   "metadata": {},
   "outputs": [],
   "source": [
    "nums = [5,12,17,18]\n",
    "nums_even = [x for x in nums if x%2==0]"
   ]
  },
  {
   "cell_type": "code",
   "execution_count": 4,
   "metadata": {},
   "outputs": [
    {
     "data": {
      "text/plain": [
       "[12, 18]"
      ]
     },
     "execution_count": 4,
     "metadata": {},
     "output_type": "execute_result"
    }
   ],
   "source": [
    "nums_even"
   ]
  },
  {
   "cell_type": "code",
   "execution_count": 6,
   "metadata": {},
   "outputs": [
    {
     "name": "stdout",
     "output_type": "stream",
     "text": [
      "1\n",
      "2\n",
      "3\n",
      "4\n"
     ]
    }
   ],
   "source": [
    "matrix = [[1,2], [3,4]]\n",
    "\n",
    "for row in matrix:\n",
    "    for num in row:\n",
    "     print(num)\n",
    "\n"
   ]
  },
  {
   "cell_type": "markdown",
   "metadata": {},
   "source": [
    "Pair Elements: Create tuples from two lists index-wise.\n",
    "\n",
    "list1 =[1,2], list2 = ['a', 'b'] → [(1, 'a'), (2, 'b')]"
   ]
  },
  {
   "cell_type": "code",
   "execution_count": 9,
   "metadata": {},
   "outputs": [
    {
     "data": {
      "text/plain": [
       "[(1, 'a'), (2, 'b')]"
      ]
     },
     "execution_count": 9,
     "metadata": {},
     "output_type": "execute_result"
    }
   ],
   "source": [
    "list_1 = [1,2]\n",
    "list_2 = ['a', 'b']\n",
    "\n",
    "combined_tup = [(x,y) for x, y in zip(list_1, list_2)]\n",
    "\n",
    "combined_tup"
   ]
  },
  {
   "cell_type": "markdown",
   "metadata": {},
   "source": [
    "String Uppercase: Convert strings in a list to uppercase.\n",
    "\n",
    "['apple', 'banana'] → ['APPLE', 'BANANA']"
   ]
  },
  {
   "cell_type": "code",
   "execution_count": 11,
   "metadata": {},
   "outputs": [
    {
     "data": {
      "text/plain": [
       "['APPLE', 'BANANA']"
      ]
     },
     "execution_count": 11,
     "metadata": {},
     "output_type": "execute_result"
    }
   ],
   "source": [
    "lower_string = ['apple', 'banana']\n",
    "\n",
    "upper_string = [text.upper() for text in lower_string]\n",
    "\n",
    "upper_string"
   ]
  },
  {
   "cell_type": "markdown",
   "metadata": {},
   "source": [
    "Even/Odd Labels: Replace numbers with 'Even' or 'Odd'.\n",
    "\n",
    "\n",
    "[3, 6, 8] → ['Odd', 'Even', 'Even']"
   ]
  },
  {
   "cell_type": "code",
   "execution_count": 15,
   "metadata": {},
   "outputs": [
    {
     "data": {
      "text/plain": [
       "['Odd', 'Even', 'Even']"
      ]
     },
     "execution_count": 15,
     "metadata": {},
     "output_type": "execute_result"
    }
   ],
   "source": [
    "nums = [3,6,8]\n",
    "\n",
    "num_label = [\"Even\" if x%2 ==0 else \"Odd\" for x in nums]\n",
    "num_label"
   ]
  },
  {
   "cell_type": "markdown",
   "metadata": {},
   "source": [
    "Divisible by 10: Filter numbers divisible by 10.\n",
    "\n",
    "[10, 25, 30] → [10, 30]"
   ]
  },
  {
   "cell_type": "code",
   "execution_count": 16,
   "metadata": {},
   "outputs": [
    {
     "data": {
      "text/plain": [
       "[10, 30]"
      ]
     },
     "execution_count": 16,
     "metadata": {},
     "output_type": "execute_result"
    }
   ],
   "source": [
    "nums = [10,25,30]\n",
    "\n",
    "div_10 = [x for x in nums if x%10 ==0]\n",
    "div_10"
   ]
  },
  {
   "cell_type": "markdown",
   "metadata": {},
   "source": [
    "Sum Digits: Calculate the sum of digits for each number.\n",
    "\n",
    "[123, 45, 67]-> [6, 9, 13]"
   ]
  },
  {
   "cell_type": "code",
   "execution_count": 22,
   "metadata": {},
   "outputs": [
    {
     "data": {
      "text/plain": [
       "[6, 9, 13]"
      ]
     },
     "execution_count": 22,
     "metadata": {},
     "output_type": "execute_result"
    }
   ],
   "source": [
    "nums = [123, 45, 67]\n",
    "\n",
    "num_sum = [sum(int(x) for x in str(d)) for d in nums]\n",
    "\n",
    "num_sum"
   ]
  },
  {
   "cell_type": "code",
   "execution_count": null,
   "metadata": {},
   "outputs": [],
   "source": [
    "nums = [123,45,67]\n",
    "\n",
    "num_sum = [sum(int(s) for s in str(d)) for d in nums]"
   ]
  },
  {
   "cell_type": "markdown",
   "metadata": {},
   "source": [
    "Index-Value Pairs: Generate tuples of index and value.\n",
    "\n",
    "['a', 'b'] → [(0, 'a'), (1, 'b')]"
   ]
  },
  {
   "cell_type": "code",
   "execution_count": 7,
   "metadata": {},
   "outputs": [
    {
     "data": {
      "text/plain": [
       "[(0, 'a'), (1, 'b'), (2, 'c')]"
      ]
     },
     "execution_count": 7,
     "metadata": {},
     "output_type": "execute_result"
    }
   ],
   "source": [
    "val = ['a', 'b', 'c']\n",
    "\n",
    "tup_val = [(i,v) for i,v in enumerate(val)]\n",
    "\n",
    "tup_val"
   ]
  },
  {
   "cell_type": "markdown",
   "metadata": {},
   "source": [
    "Nested Squares: Square elements in nested lists.\n",
    "\n",
    "[[2,3],[4]] → [[4,9],[16]]"
   ]
  },
  {
   "cell_type": "code",
   "execution_count": 11,
   "metadata": {},
   "outputs": [
    {
     "data": {
      "text/plain": [
       "[[4, 9], [16]]"
      ]
     },
     "execution_count": 11,
     "metadata": {},
     "output_type": "execute_result"
    }
   ],
   "source": [
    "list_nest = [[2,3], [4]]\n",
    "\n",
    "list_nest_square = [ [x**2 for x in num] for num in list_nest]\n",
    "\n",
    "list_nest_square\n"
   ]
  },
  {
   "cell_type": "code",
   "execution_count": null,
   "metadata": {},
   "outputs": [],
   "source": []
  },
  {
   "cell_type": "markdown",
   "metadata": {},
   "source": []
  }
 ],
 "metadata": {
  "kernelspec": {
   "display_name": "base",
   "language": "python",
   "name": "python3"
  },
  "language_info": {
   "codemirror_mode": {
    "name": "ipython",
    "version": 3
   },
   "file_extension": ".py",
   "mimetype": "text/x-python",
   "name": "python",
   "nbconvert_exporter": "python",
   "pygments_lexer": "ipython3",
   "version": "3.11.5"
  }
 },
 "nbformat": 4,
 "nbformat_minor": 2
}

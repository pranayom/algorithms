{
 "cells": [
  {
   "cell_type": "markdown",
   "metadata": {},
   "source": [
    "The linked list is an important and popular data structure with the following properties:\n",
    "\n",
    "The data elements are stored in memory in different locations that are connected through pointers. A pointer is an object that can store the memory address of a variable, and each data element points to the next data element and so on until the last element, which points to None.\n",
    "\n",
    "\n",
    "The length of the list can increase or decrease during the execution of the program."
   ]
  },
  {
   "cell_type": "code",
   "execution_count": 2,
   "metadata": {},
   "outputs": [],
   "source": [
    "#Lets create a node of Linked List\n",
    "\n",
    "class Node:\n",
    "    def __init__(self,data=None):\n",
    "        self.data = data\n",
    "        self.next = None"
   ]
  },
  {
   "cell_type": "markdown",
   "metadata": {},
   "source": [
    "We need to learn the following operations in order to use any linked lists in real-time applications.\n",
    "\n",
    "## Traversing the list\n",
    "\n",
    "## Inserting a data item in the list:\n",
    "\n",
    "Inserting a new data item (node) at the beginning\n",
    "\n",
    "Inserting a new data item (node) at the end of the list\n",
    "\n",
    "Inserting a new data item (node) in the middle/or at any given position in the list\n",
    "\n",
    "## Deleting an item from the list:\n",
    "\n",
    "Deleting the first node\n",
    "\n",
    "Deleting the last node\n",
    "\n",
    "Deleting a node in the middle/or at any given position in the list"
   ]
  },
  {
   "cell_type": "markdown",
   "metadata": {},
   "source": []
  }
 ],
 "metadata": {
  "kernelspec": {
   "display_name": "base",
   "language": "python",
   "name": "python3"
  },
  "language_info": {
   "codemirror_mode": {
    "name": "ipython",
    "version": 3
   },
   "file_extension": ".py",
   "mimetype": "text/x-python",
   "name": "python",
   "nbconvert_exporter": "python",
   "pygments_lexer": "ipython3",
   "version": "3.11.5"
  }
 },
 "nbformat": 4,
 "nbformat_minor": 2
}

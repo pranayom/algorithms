{
 "cells": [
  {
   "cell_type": "code",
   "execution_count": 3,
   "metadata": {},
   "outputs": [],
   "source": [
    "# Definition for a binary tree node.\n",
    "class TreeNode:\n",
    "     def __init__(self, val=0, left=None, right=None):\n",
    "         self.val = val\n",
    "         self.left = left\n",
    "         self.right = right\n",
    "\n",
    "from typing import Optional\n",
    "\n",
    "import numpy as np\n",
    "class Solution:\n",
    "    def isValidBST(self, root: Optional[TreeNode]) -> bool:\n",
    "        def is_valid(node,minn, maxx):\n",
    "            if not node:\n",
    "                return True\n",
    "            if (node.val <= minn or node.val >= maxx):\n",
    "                return False\n",
    "            \n",
    "            return is_valid(node.left, minn, node.val) and is_valid(node.right, node.val, maxx) #if we go to the left, maxx will update and minn, if we go to the right, minn wil update\n",
    "            \n",
    "        return is_valid(root, -np.inf, np.inf) #dont forget to return the function"
   ]
  },
  {
   "cell_type": "code",
   "execution_count": null,
   "metadata": {},
   "outputs": [],
   "source": [
    "#Using inorder traversal\n",
    "\n",
    "class Solution:\n",
    "    def isValidBST(self, root: TreeNode) -> bool:\n",
    "        def inOrder(node):\n",
    "            if not node:\n",
    "                return True  #True emsure that\n",
    "            if not inOrder(node.left):  #validate the left subtree. If the left subtree is invalid, immediately return False without checking further.\n",
    "                return False\n",
    "            if node <= self.prev:  #ensure you are comparing node.val with prev, remember use less than equal sign\n",
    "                return False\n",
    "            self.prev = node.val\n",
    "            return inOrder(node.right) #Since you are doing inorder - left, node, right\n",
    "        \n",
    "        self.prev = float('-inf')\n",
    "        return inOrder(root)\n",
    "            \n",
    "            "
   ]
  },
  {
   "cell_type": "markdown",
   "metadata": {},
   "source": [
    "# 114. Flatten Binary Tree to Linked List\n",
    "\n",
    "Given the root of a binary tree, flatten the tree into a \"linked list\":\n",
    "\n",
    "The \"linked list\" should use the same TreeNode class where the right child pointer points to the next node in the list and the left child pointer is always null.\n",
    "The \"linked list\" should be in the same order as a pre-order traversal of the binary tree."
   ]
  },
  {
   "cell_type": "code",
   "execution_count": null,
   "metadata": {},
   "outputs": [],
   "source": [
    "# Definition for a binary tree node.\n",
    "class TreeNode:\n",
    "     def __init__(self, val=0, left=None, right=None):\n",
    "         self.val = val\n",
    "         self.left = left\n",
    "         self.right = right\n",
    "\n",
    "class Solution:\n",
    "    def flatten(self, root:TreeNode):\n",
    "        \n",
    "        def flattenTree(node):\n",
    "        \n",
    "            if not node:\n",
    "                return None  #Check if there is no node and return None\n",
    "            \n",
    "            if not node.left and not node.right:  #if node doesnt have left or right subtrees just return the node\n",
    "                return node\n",
    "            \n",
    "            leftTail = flattenTree(node.left)\n",
    "            rightTail = flattenTree(node.right)\n",
    "            \n",
    "            if leftTail:\n",
    "                leftTail.right = node.right\n",
    "                node.right = node.left\n",
    "                node.left = None\n",
    "            return rightTail if rightTail else leftTail\n",
    "        \n",
    "        flattenTree(root)\n",
    "      \n",
    "    \n",
    "\n",
    "        "
   ]
  },
  {
   "cell_type": "markdown",
   "metadata": {},
   "source": [
    "# 124. Binary Tree Maximum Path Sum\n",
    "\n",
    "A path in a binary tree is a sequence of nodes where each pair of adjacent nodes in the sequence has an edge connecting them. A node can only appear in the sequence at most once. Note that the path does not need to pass through the root.\n",
    "\n",
    "The path sum of a path is the sum of the node's values in the path.\n",
    "\n",
    "Given the root of a binary tree, return the maximum path sum of any non-empty path."
   ]
  },
  {
   "cell_type": "markdown",
   "metadata": {},
   "source": [
    "# Inution\n",
    "\n",
    "#Post traversal\n",
    "\n",
    "Do a dfs\n",
    "\n",
    "Keep max_sum which should be the sum of the left max path and the right max path + the node val\n",
    "\n",
    "#remember when you return you will return only the node.val and max of left_sum or right_sum. reason is as you pass on the value to the root you can only pass left or right max path"
   ]
  },
  {
   "cell_type": "code",
   "execution_count": null,
   "metadata": {},
   "outputs": [],
   "source": [
    "class Solution:\n",
    "    def maxPathSum(self, root:TreeNode) -> int:\n",
    "        self.max_sum = float('-inf')\n",
    "        \n",
    "        def dfs(node:TreeNode) -> int:\n",
    "            if not node:\n",
    "                return 0\n",
    "            \n",
    "            left_max = max(0,dfs(node.left))  #Note you are recursing using dfs on the lft node\n",
    "            right_max = max(0,dfs(node.right))\n",
    "            \n",
    "            current_max_path = node.val + left_max + right_max\n",
    "            \n",
    "            #Update the max_sum\n",
    "            self.max_sum = max(self.max_sum, current_max_path)\n",
    "            \n",
    "            return node.val + max(left_max, right_max)\n",
    "        \n",
    "        dfs(root)  #dont forget to do a dfs on the root\n",
    "        return self.max_sum  #dont forget to return self.max_sum\n",
    "        \n",
    "    "
   ]
  },
  {
   "cell_type": "markdown",
   "metadata": {},
   "source": [
    "# 133 Clone graph\n",
    "\n",
    "Given a reference of a node in a connected undirected graph.\n",
    "\n",
    "Return a deep copy (clone) of the graph.\n",
    "\n",
    "Each node in the graph contains a value (int) and a list (List[Node]) of its neighbors.\n",
    "\n",
    "\"\"\"\n",
    "\n",
    "class Node:\n",
    "\n",
    "   def __init__(self, val = 0, neighbors = None):\n",
    "\n",
    "       self.val = val\n",
    "\n",
    "       self.neighbors = neighbors if neighbors is not None else []"
   ]
  },
  {
   "cell_type": "code",
   "execution_count": null,
   "metadata": {},
   "outputs": [],
   "source": [
    "#Recursion method\n",
    "\n",
    "class Node:\n",
    "   def __init__(self, val = 0, neighbors = None):\n",
    "       self.val = val\n",
    "       self.neighbors = neighbors if neighbors is not None else []\n",
    "\n",
    "class Solution:\n",
    "    def cloneGraph(self, node: Optional['Node']) -> Optional['Node']:\n",
    "        if not node:\n",
    "            return None\n",
    "        \n",
    "        visited = {}\n",
    "        \n",
    "        def clone(node):  #Note you are using \n",
    "            if node in visited:\n",
    "                return visited[node]\n",
    "            \n",
    "            clone_node = Node(val=node.val)\n",
    "            visited[node] = clone_node\n",
    "            \n",
    "            for neighbor in node.neighbors:\n",
    "                clone_node.neighbors.append(clone(neighbor))\n",
    "                \n",
    "            return clone_node\n",
    "        return clone(node)\n",
    "                "
   ]
  },
  {
   "cell_type": "markdown",
   "metadata": {},
   "source": [
    "  # 199. Binary Tree Right Side View\n",
    "\n",
    "    Given the root of a binary tree, imagine yourself standing on the right side of it, return the values of the nodes you can see ordered from top to bottom."
   ]
  },
  {
   "cell_type": "code",
   "execution_count": null,
   "metadata": {},
   "outputs": [],
   "source": [
    "from typing import List\n",
    "from collections import deque\n",
    "\n",
    "class TreeNode:\n",
    "    def __init__(self, val=0, left=None, right = None):\n",
    "        self.val = val\n",
    "        self.left = left\n",
    "        self.right = right\n",
    "    \n",
    "\n",
    "class Solution:\n",
    "    def rightSideView(self, root: TreeNode)-> List[int]:\n",
    "        if not root:\n",
    "            return []\n",
    "        \n",
    "        queue = deque()\n",
    "        queue.append(root)\n",
    "        result = []\n",
    "        \n",
    "        while queue:\n",
    "            level_length = len(queue)\n",
    "            for i in range(level_length):\n",
    "                node = queue.leftpop()\n",
    "                \n",
    "                if i == level_length -1:\n",
    "                    result.append(node.val)  #ensure you use node.val\n",
    "                \n",
    "                if node.left:\n",
    "                    queue.append(node.left)\n",
    "                    \n",
    "                if node.right:\n",
    "                    queue.append(node.right)\n",
    "                    \n",
    "        return result\n",
    "                "
   ]
  },
  {
   "cell_type": "markdown",
   "metadata": {},
   "source": [
    "#   1249. Minimum Remove to Make Valid Parentheses\n",
    "\n",
    "Given a string s of '(' , ')' and lowercase English characters.\n",
    "\n",
    "Your task is to remove the minimum number of parentheses ( '(' or ')', in any positions ) so that the resulting parentheses string is valid and return any valid string.\n",
    "\n",
    "Formally, a parentheses string is valid if and only if:\n",
    "\n",
    "It is the empty string, contains only lowercase characters, or\n",
    "It can be written as AB (A concatenated with B), where A and B are valid strings, or\n",
    "It can be written as (A), where A is a valid string."
   ]
  },
  {
   "cell_type": "code",
   "execution_count": null,
   "metadata": {},
   "outputs": [],
   "source": [
    "class Solution:\n",
    "    def minRemoveToMakeValid(self, s:str)"
   ]
  },
  {
   "cell_type": "markdown",
   "metadata": {},
   "source": []
  }
 ],
 "metadata": {
  "kernelspec": {
   "display_name": "base",
   "language": "python",
   "name": "python3"
  },
  "language_info": {
   "codemirror_mode": {
    "name": "ipython",
    "version": 3
   },
   "file_extension": ".py",
   "mimetype": "text/x-python",
   "name": "python",
   "nbconvert_exporter": "python",
   "pygments_lexer": "ipython3",
   "version": "3.11.5"
  }
 },
 "nbformat": 4,
 "nbformat_minor": 2
}

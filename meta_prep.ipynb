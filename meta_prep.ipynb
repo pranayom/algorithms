{
 "cells": [
  {
   "cell_type": "code",
   "execution_count": 3,
   "metadata": {},
   "outputs": [],
   "source": [
    "# Definition for a binary tree node.\n",
    "class TreeNode:\n",
    "     def __init__(self, val=0, left=None, right=None):\n",
    "         self.val = val\n",
    "         self.left = left\n",
    "         self.right = right\n",
    "\n",
    "from typing import Optional\n",
    "\n",
    "import numpy as np\n",
    "class Solution:\n",
    "    def isValidBST(self, root: Optional[TreeNode]) -> bool:\n",
    "        def is_valid(node,minn, maxx):\n",
    "            if not node:\n",
    "                return True\n",
    "            if (node.val <= minn or node.val >= maxx):\n",
    "                return False\n",
    "            \n",
    "            return is_valid(node.left, minn, node.val) and is_valid(node.right, node.val, maxx) #if we go to the left, maxx will update, if we go to the right, minn wil update\n",
    "            \n",
    "        return is_valid(root, -np.inf, np.inf) #dont forget to return the function"
   ]
  },
  {
   "cell_type": "code",
   "execution_count": null,
   "metadata": {},
   "outputs": [],
   "source": [
    "#Using inorder traversal\n",
    "\n",
    "class Solution:\n",
    "    def isValidBST(self, root: TreeNode) -> bool:\n",
    "        def inOrder(node):\n",
    "            if not node:\n",
    "                return False  #True emsure that\n",
    "            if not inOrder(node.left):  #validate the left subtree. If the left subtree is invalid, immediately return False without checking further.\n",
    "                return False\n",
    "            if node <= self.prev:  #ensure you are comparing node.val with prev, remember use less than equal sign\n",
    "                return False\n",
    "            self.prev = node.val\n",
    "            return inOrder(node.right)\n",
    "        \n",
    "        self.prev = float('-inf')\n",
    "        return inOrder(root)\n",
    "            \n",
    "            "
   ]
  }
 ],
 "metadata": {
  "kernelspec": {
   "display_name": "base",
   "language": "python",
   "name": "python3"
  },
  "language_info": {
   "codemirror_mode": {
    "name": "ipython",
    "version": 3
   },
   "file_extension": ".py",
   "mimetype": "text/x-python",
   "name": "python",
   "nbconvert_exporter": "python",
   "pygments_lexer": "ipython3",
   "version": "3.11.5"
  }
 },
 "nbformat": 4,
 "nbformat_minor": 2
}

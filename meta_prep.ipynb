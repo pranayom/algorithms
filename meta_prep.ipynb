{
 "cells": [
  {
   "cell_type": "code",
   "execution_count": 3,
   "metadata": {},
   "outputs": [],
   "source": [
    "# Definition for a binary tree node.\n",
    "class TreeNode:\n",
    "     def __init__(self, val=0, left=None, right=None):\n",
    "         self.val = val\n",
    "         self.left = left\n",
    "         self.right = right\n",
    "\n",
    "from typing import Optional\n",
    "\n",
    "import numpy as np\n",
    "class Solution:\n",
    "    def isValidBST(self, root: Optional[TreeNode]) -> bool:\n",
    "        def is_valid(node,minn, maxx):\n",
    "            if not node:\n",
    "                return True\n",
    "            if (node.val <= minn or node.val >= maxx):\n",
    "                return False\n",
    "            \n",
    "            return is_valid(node.left, minn, node.val) and is_valid(node.right, node.val, maxx) #if we go to the left, maxx will update, if we go to the right, minn wil update\n",
    "            \n",
    "        return is_valid(root, -np.inf, np.inf) #dont forget to return the function"
   ]
  },
  {
   "cell_type": "code",
   "execution_count": null,
   "metadata": {},
   "outputs": [],
   "source": [
    "#Using inorder traversal\n",
    "\n",
    "class Solution:\n",
    "    def isValidBST(self, root: TreeNode) -> bool:\n",
    "        def inOrder(node):\n",
    "            if not node:\n",
    "                return False  #True emsure that\n",
    "            if not inOrder(node.left):  #validate the left subtree. If the left subtree is invalid, immediately return False without checking further.\n",
    "                return False\n",
    "            if node <= self.prev:  #ensure you are comparing node.val with prev, remember use less than equal sign\n",
    "                return False\n",
    "            self.prev = node.val\n",
    "            return inOrder(node.right)\n",
    "        \n",
    "        self.prev = float('-inf')\n",
    "        return inOrder(root)\n",
    "            \n",
    "            "
   ]
  },
  {
   "cell_type": "markdown",
   "metadata": {},
   "source": [
    "# 124. Binary Tree Maximum Path Sum\n",
    "\n",
    "A path in a binary tree is a sequence of nodes where each pair of adjacent nodes in the sequence has an edge connecting them. A node can only appear in the sequence at most once. Note that the path does not need to pass through the root.\n",
    "\n",
    "The path sum of a path is the sum of the node's values in the path.\n",
    "\n",
    "Given the root of a binary tree, return the maximum path sum of any non-empty path."
   ]
  },
  {
   "cell_type": "markdown",
   "metadata": {},
   "source": [
    "# Inution\n",
    "\n",
    "#Post traversal\n",
    "\n",
    "Do a dfs\n",
    "\n",
    "Keep max_sum which should be the sum of the left max path and the right max path + the node val\n",
    "\n",
    "#remember when you return you will return only the node.val and max of left_sum or right_sum. reason is as you pass on the value to the root you can only pass left or right max path"
   ]
  },
  {
   "cell_type": "markdown",
   "metadata": {},
   "source": []
  }
 ],
 "metadata": {
  "kernelspec": {
   "display_name": "base",
   "language": "python",
   "name": "python3"
  },
  "language_info": {
   "codemirror_mode": {
    "name": "ipython",
    "version": 3
   },
   "file_extension": ".py",
   "mimetype": "text/x-python",
   "name": "python",
   "nbconvert_exporter": "python",
   "pygments_lexer": "ipython3",
   "version": "3.11.5"
  }
 },
 "nbformat": 4,
 "nbformat_minor": 2
}

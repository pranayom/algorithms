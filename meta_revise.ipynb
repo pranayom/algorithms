{
 "cells": [
  {
   "cell_type": "markdown",
   "id": "89079e3d",
   "metadata": {},
   "source": [
    "# 1 Two sum"
   ]
  },
  {
   "cell_type": "code",
   "execution_count": 2,
   "id": "569f6fb1",
   "metadata": {},
   "outputs": [],
   "source": [
    "from typing import List\n",
    "class Solution:\n",
    "    def twoSum(self, nums: List[int], target:int) -> List[int]:\n",
    "        map = {}\n",
    "        for i in range(len(nums)):\n",
    "            remaining = target - nums[i]\n",
    "            if remaining in map:\n",
    "                return [i, map[remaining]]\n",
    "            else:\n",
    "                map[nums[i]] = i\n",
    "\n",
    "        return False"
   ]
  },
  {
   "cell_type": "code",
   "execution_count": null,
   "id": "f9f69994",
   "metadata": {},
   "outputs": [],
   "source": []
  }
 ],
 "metadata": {
  "kernelspec": {
   "display_name": "base",
   "language": "python",
   "name": "python3"
  },
  "language_info": {
   "codemirror_mode": {
    "name": "ipython",
    "version": 3
   },
   "file_extension": ".py",
   "mimetype": "text/x-python",
   "name": "python",
   "nbconvert_exporter": "python",
   "pygments_lexer": "ipython3",
   "version": "3.11.5"
  }
 },
 "nbformat": 4,
 "nbformat_minor": 5
}

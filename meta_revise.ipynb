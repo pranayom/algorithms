{
 "cells": [
  {
   "cell_type": "markdown",
   "id": "89079e3d",
   "metadata": {},
   "source": [
    "# 1 Two sum"
   ]
  },
  {
   "cell_type": "code",
   "execution_count": 3,
   "id": "569f6fb1",
   "metadata": {},
   "outputs": [],
   "source": [
    "from typing import List\n",
    "class Solution:\n",
    "    def twoSum(self, nums: List[int], target:int) -> List[int]:\n",
    "        map = {}\n",
    "        for i in range(len(nums)):\n",
    "            remaining = target - nums[i]\n",
    "            if remaining in map:\n",
    "                return [i, map[remaining]]\n",
    "            else:\n",
    "                map[nums[i]] = i\n",
    "\n",
    "        return False\n",
    "    \n",
    "#Time complexity = O(n)\n",
    "#Space complexity = O(n)"
   ]
  },
  {
   "cell_type": "markdown",
   "id": "f9f69994",
   "metadata": {},
   "source": [
    "# 167. Two Sum II - Input Array Is Sorted\n",
    "\n"
   ]
  },
  {
   "cell_type": "code",
   "execution_count": 4,
   "id": "b6ca2309",
   "metadata": {},
   "outputs": [],
   "source": [
    "from typing import List\n",
    "class Solution:\n",
    "    def twoSum(self, nums: List[int], target:int)-> List[int]:\n",
    "        left = 0\n",
    "        right = len(nums) - 1\n",
    "\n",
    "        while left < right:\n",
    "            current_sum = nums[left] + nums[right]\n",
    "            if current_sum == target:\n",
    "                return [left+1, right+1]\n",
    "\n",
    "            elif current_sum < target:\n",
    "                left +=1\n",
    "            else:\n",
    "                right -=1\n",
    "        return []\n",
    "    \n",
    "\n",
    "#time_complexity = o(N)\n",
    "#space complexity = O(n)\n",
    "\n"
   ]
  },
  {
   "cell_type": "code",
   "execution_count": 5,
   "id": "f589ce32",
   "metadata": {},
   "outputs": [],
   "source": [
    "#https://gemini.google.com/app/0f786a4823cda04c"
   ]
  },
  {
   "cell_type": "markdown",
   "id": "eaeb4824",
   "metadata": {},
   "source": [
    "# 15. 3Sum\n"
   ]
  },
  {
   "cell_type": "code",
   "execution_count": null,
   "id": "d0829f7a",
   "metadata": {},
   "outputs": [],
   "source": [
    "from typing import List\n",
    "class Solution:\n",
    "    def threeSum(self, nums:List[int]) -> List[List[int]]:\n",
    "\n",
    "        nums.sort()\n",
    "        result = []\n",
    "\n",
    "        for i in range(len(nums)-2):\n",
    "            if i > 0 and nums[i] == nums[i-1]:\n",
    "                continue\n",
    "            \n",
    "            left = i+1\n",
    "            right = len(nums) - 1\n",
    "            \n",
    "            while left < right:\n",
    "                current_sum = nums[i] + nums[left] + nums[right]\n",
    "\n",
    "                if current_sum == 0:\n",
    "                    result.append([nums[i], nums[left], nums[right]])\n",
    "\n",
    "                    while left < right and nums[left] == nums[left+1]:\n",
    "                        left += 1\n",
    "                    while left < right and nums[right] == nums[right -1]:\n",
    "                        right -=1\n",
    "\n",
    "                    left += 1\n",
    "                    right -= 1\n",
    "\n",
    "                elif current_sum < 0:\n",
    "                    left += 1\n",
    "                else:\n",
    "                    right -= 1\n",
    "            \n",
    "        return result\n",
    "\n",
    "    \n",
    "            \n",
    "            \n",
    "\n",
    "\n",
    "\n",
    "\n",
    "\n",
    "\n",
    "\n"
   ]
  },
  {
   "cell_type": "code",
   "execution_count": null,
   "id": "8e3cd273",
   "metadata": {},
   "outputs": [],
   "source": [
    "class Solution:\n",
    "    def threeSum(self, nums:List[int])-> List[List[int]]:\n",
    "        \n",
    "        nums.sort()\n",
    "        result = []\n",
    "        \n",
    "        for i in range(len(nums)-2): #note the -2\n",
    "            #Taking care of 1 duplicate. if there is a duplicate, you just move the index ahead by 1\n",
    "            if i > 0 and nums[i] == nums[i-1]:\n",
    "                continue  #moves the I by 1 as it sees the duplicate previous number\n",
    "            \n",
    "            left = i +1\n",
    "            right = len(nums) - 1 #Note the nums -1\n",
    "            while left < right: #When left == right, we would be using the same element twice, which is not allowed when finding triplets of distinct elements\n",
    "                current_sum = nums[i] + nums[left] + nums[right]\n",
    "                \n",
    "                if current_sum == 0:\n",
    "                    result.append([nums[i], nums[right], nums[left]])\n",
    "                    \n",
    "                    #Taking care of the second duplicate number\n",
    "                    while left < right and nums[left] == nums[left+1]:\n",
    "                        left +=1\n",
    "                    #Taking care of the 3rd duplicte numbers\n",
    "                    while left < right and nums[right] == nums[right-1]:\n",
    "                        right -= 1\n",
    "                    \n",
    "                    left += 1  #After skipping duplicates, you still want to continue searching for valid triplest with the same nums[i]\n",
    "                    right -=1\n",
    "                \n",
    "                elif current_sum <0:\n",
    "                    left += 1\n",
    "                \n",
    "                else:\n",
    "                    right -= 1\n",
    "                    \n",
    "        return result\n",
    "                  "
   ]
  },
  {
   "cell_type": "markdown",
   "id": "c550d015",
   "metadata": {},
   "source": [
    "\n",
    "\n",
    "Given an m x n 2D binary grid grid which represents a map of '1's (land) and '0's (water), return the number of islands.\n",
    "\n",
    "An island is surrounded by water and is formed by connecting adjacent lands horizontally or vertically. You may assume all four edges of the grid are all surrounded by water."
   ]
  },
  {
   "cell_type": "code",
   "execution_count": null,
   "id": "f4500eef",
   "metadata": {},
   "outputs": [],
   "source": [
    "class Solution:\n",
    "    def numIslands(self, grid: List[List[str]]) -> int:\n",
    "        if not grid:\n",
    "            return 0\n",
    "        def dfs(i,j):\n",
    "            if i < 0 or i >= len(grid) or j < 0 or j >= len(grid[0]) or grid[i][j] == '0':\n",
    "                return\n",
    "            grid[i][j] = '0' #Marking it as visited\n",
    "            dfs(i+1,j)\n",
    "            dfs(i-1, j)\n",
    "            dfs(i, j+1)\n",
    "            dfs(i, j-1)\n",
    "        \n",
    "        count = 0\n",
    "        for i in range(len(grid)):\n",
    "            for j in range(len(grid[0])):\n",
    "                if grid[i][j] =='1':\n",
    "                    count += 1\n",
    "                    dfs(i,j)\n",
    "        return count"
   ]
  },
  {
   "cell_type": "markdown",
   "id": "32e6c360",
   "metadata": {},
   "source": [
    "Time complexity = O(N*M)\n",
    "Space Complexity = O(N*M)  #RECURSIVE STACK, WORST CASE, EVERY CELL IS 1\n",
    "\n"
   ]
  },
  {
   "cell_type": "markdown",
   "id": "9eaca77b",
   "metadata": {},
   "source": []
  }
 ],
 "metadata": {
  "kernelspec": {
   "display_name": "base",
   "language": "python",
   "name": "python3"
  },
  "language_info": {
   "codemirror_mode": {
    "name": "ipython",
    "version": 3
   },
   "file_extension": ".py",
   "mimetype": "text/x-python",
   "name": "python",
   "nbconvert_exporter": "python",
   "pygments_lexer": "ipython3",
   "version": "3.11.5"
  }
 },
 "nbformat": 4,
 "nbformat_minor": 5
}

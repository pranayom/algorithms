{
 "cells": [
  {
   "cell_type": "markdown",
   "id": "89079e3d",
   "metadata": {},
   "source": [
    "# 1 Two sum"
   ]
  },
  {
   "cell_type": "code",
   "execution_count": 3,
   "id": "569f6fb1",
   "metadata": {},
   "outputs": [],
   "source": [
    "from typing import List\n",
    "class Solution:\n",
    "    def twoSum(self, nums: List[int], target:int) -> List[int]:\n",
    "        map = {}\n",
    "        for i in range(len(nums)):\n",
    "            remaining = target - nums[i]\n",
    "            if remaining in map:\n",
    "                return [i, map[remaining]]\n",
    "            else:\n",
    "                map[nums[i]] = i\n",
    "\n",
    "        return False\n",
    "    \n",
    "#Time complexity = O(n)\n",
    "#Space complexity = O(n)"
   ]
  },
  {
   "cell_type": "markdown",
   "id": "f9f69994",
   "metadata": {},
   "source": [
    "# 167. Two Sum II - Input Array Is Sorted\n",
    "\n"
   ]
  },
  {
   "cell_type": "code",
   "execution_count": 4,
   "id": "b6ca2309",
   "metadata": {},
   "outputs": [],
   "source": [
    "from typing import List\n",
    "class Solution:\n",
    "    def twoSum(self, nums: List[int], target:int)-> List[int]:\n",
    "        left = 0\n",
    "        right = len(nums) - 1\n",
    "\n",
    "        while left < right:\n",
    "            current_sum = nums[left] + nums[right]\n",
    "            if current_sum == target:\n",
    "                return [left+1, right+1]\n",
    "\n",
    "            elif current_sum < target:\n",
    "                left +=1\n",
    "            else:\n",
    "                right -=1\n",
    "        return []\n",
    "    \n",
    "\n",
    "#time_complexity = o(N)\n",
    "#space complexity = O(n)\n",
    "\n"
   ]
  },
  {
   "cell_type": "code",
   "execution_count": 5,
   "id": "f589ce32",
   "metadata": {},
   "outputs": [],
   "source": [
    "#https://gemini.google.com/app/0f786a4823cda04c"
   ]
  },
  {
   "cell_type": "markdown",
   "id": "eaeb4824",
   "metadata": {},
   "source": [
    "# 15. 3Sum\n"
   ]
  },
  {
   "cell_type": "code",
   "execution_count": null,
   "id": "d0829f7a",
   "metadata": {},
   "outputs": [],
   "source": [
    "from typing import List\n",
    "class Solution:\n",
    "    def threeSum(self, nums:List[int]) -> List[List[int]]:\n",
    "\n",
    "        nums.sort()\n",
    "        result = []\n",
    "\n",
    "        for i in range(len(nums)-2):\n",
    "            if i > 0 and nums[i] == nums[i-1]:\n",
    "                continue\n",
    "            \n",
    "            left = i+1\n",
    "            right = len(nums) - 1\n",
    "            \n",
    "            while left < right:\n",
    "                current_sum = nums[i] + nums[left] + nums[right]\n",
    "\n",
    "                if current_sum == 0:\n",
    "                    result.append([nums[i], nums[left], nums[right]])\n",
    "\n",
    "                    while left < right and nums[left] == nums[left+1]:\n",
    "                        left += 1\n",
    "                    while left < right and nums[right] == nums[right -1]:\n",
    "                        right -=1\n",
    "\n",
    "                    left += 1\n",
    "                    right -= 1\n",
    "\n",
    "                elif current_sum < 0:\n",
    "                    left += 1\n",
    "                else:\n",
    "                    right -= 1\n",
    "            \n",
    "        return result\n",
    "\n",
    "    \n",
    " "
   ]
  },
  {
   "cell_type": "code",
   "execution_count": null,
   "id": "8e3cd273",
   "metadata": {},
   "outputs": [],
   "source": [
    "class Solution:\n",
    "    def threeSum(self, nums:List[int])-> List[List[int]]:\n",
    "        \n",
    "        nums.sort()\n",
    "        result = []\n",
    "        \n",
    "        for i in range(len(nums)-2): #note the -2\n",
    "            #Taking care of 1 duplicate. if there is a duplicate, you just move the index ahead by 1\n",
    "            if i > 0 and nums[i] == nums[i-1]:\n",
    "                continue  #moves the I by 1 as it sees the duplicate previous number\n",
    "            \n",
    "            left = i +1\n",
    "            right = len(nums) - 1 #Note the nums -1\n",
    "            while left < right: #When left == right, we would be using the same element twice, which is not allowed when finding triplets of distinct elements\n",
    "                current_sum = nums[i] + nums[left] + nums[right]\n",
    "                \n",
    "                if current_sum == 0:\n",
    "                    result.append([nums[i], nums[right], nums[left]])\n",
    "                    \n",
    "                    #Taking care of the second duplicate number\n",
    "                    while left < right and nums[left] == nums[left+1]:\n",
    "                        left +=1\n",
    "                    #Taking care of the 3rd duplicte numbers\n",
    "                    while left < right and nums[right] == nums[right-1]:\n",
    "                        right -= 1\n",
    "                    \n",
    "                    left += 1  #After skipping duplicates, you still want to continue searching for valid triplest with the same nums[i]\n",
    "                    right -=1\n",
    "                \n",
    "                elif current_sum <0:\n",
    "                    left += 1\n",
    "                \n",
    "                else:\n",
    "                    right -= 1\n",
    "                    \n",
    "        return result\n",
    "                  "
   ]
  },
  {
   "cell_type": "markdown",
   "id": "c550d015",
   "metadata": {},
   "source": [
    "\n",
    "\n",
    "Given an m x n 2D binary grid grid which represents a map of '1's (land) and '0's (water), return the number of islands.\n",
    "\n",
    "An island is surrounded by water and is formed by connecting adjacent lands horizontally or vertically. You may assume all four edges of the grid are all surrounded by water."
   ]
  },
  {
   "cell_type": "code",
   "execution_count": null,
   "id": "f4500eef",
   "metadata": {},
   "outputs": [],
   "source": [
    "class Solution:\n",
    "    def numIslands(self, grid: List[List[str]]) -> int:\n",
    "        if not grid:\n",
    "            return 0\n",
    "        def dfs(i,j):\n",
    "            if i < 0 or i >= len(grid) or j < 0 or j >= len(grid[0]) or grid[i][j] == '0':\n",
    "                return\n",
    "            grid[i][j] = '0' #Marking it as visited\n",
    "            dfs(i+1,j)\n",
    "            dfs(i-1, j)\n",
    "            dfs(i, j+1)\n",
    "            dfs(i, j-1)\n",
    "        \n",
    "        count = 0\n",
    "        for i in range(len(grid)):\n",
    "            for j in range(len(grid[0])):\n",
    "                if grid[i][j] =='1':\n",
    "                    count += 1\n",
    "                    dfs(i,j)\n",
    "        return count"
   ]
  },
  {
   "cell_type": "markdown",
   "id": "32e6c360",
   "metadata": {},
   "source": [
    "Time complexity = O(N*M)\n",
    "Space Complexity = O(N*M)  #RECURSIVE STACK, WORST CASE, EVERY CELL IS 1\n",
    "\n"
   ]
  },
  {
   "cell_type": "markdown",
   "id": "9eaca77b",
   "metadata": {},
   "source": [
    "# 98. Validate Binary Search Tree\n",
    "\n",
    "Given the root of a binary tree, determine if it is a valid binary search tree (BST).\n",
    "\n",
    "A valid BST is defined as follows:\n",
    "\n",
    "The left subtree of a node contains only nodes with keys less than the node's key.\n",
    "The right subtree of a node contains only nodes with keys greater than the node's key.\n",
    "Both the left and right subtrees must also be binary search trees."
   ]
  },
  {
   "cell_type": "code",
   "execution_count": 1,
   "id": "ca376c4b",
   "metadata": {},
   "outputs": [],
   "source": [
    "\n",
    "class TreeNode:\n",
    "    def __init__(self, val = 0, left = None, right = None):\n",
    "        self.val = val\n",
    "        self.left = left\n",
    "        self.right = right\n",
    "    \n",
    "    \n",
    "class Solution:\n",
    "    def isValidBST(self, root:TreeNode):\n",
    "        def is_valid(node, minn, maxx):\n",
    "            if not node:\n",
    "                return True\n",
    "            if node.val <= minn or node.val >= maxx:\n",
    "                return False\n",
    "            return is_valid(node.left, minn, node.val) and is_valid(node.right, node.val, maxx)\n",
    "        \n",
    "        return is_valid(root, float(\"-inf\"), float(\"inf\"))"
   ]
  },
  {
   "cell_type": "markdown",
   "id": "e7fb0676",
   "metadata": {},
   "source": [
    "https://www.perplexity.ai/search/give-a-code-walkthrough-step-b-TPcEKwlNTEi3SeFI23yXIQ\n",
    "\n",
    "# 49. Group Anagrams\n",
    "\n",
    "\n",
    "Given an array of strings strs, group the anagrams together. You can return the answer in any order.\n",
    "\n"
   ]
  },
  {
   "cell_type": "code",
   "execution_count": 2,
   "id": "ea34d257",
   "metadata": {},
   "outputs": [],
   "source": [
    "from collections import defaultdict\n",
    "from typing import List\n",
    "\n",
    "class Solution:\n",
    "    def groupAnagrams(self, strs: List[str])-> List[List[str]]:\n",
    "        anagrams = defaultdict(list)   #Note variable anagrams for dictionary\n",
    "        for s in strs:\n",
    "            count = [0] *26  #Note count\n",
    "            for c in s:\n",
    "                index = ord(c) - ord('a')  #Note index\n",
    "                count[index] += 1\n",
    "            keys = tuple(count)\n",
    "            anagrams[keys].append(s)\n",
    "            \n",
    "        return list(anagrams.values())\n",
    "            \n",
    "            "
   ]
  },
  {
   "cell_type": "markdown",
   "id": "e5af1118",
   "metadata": {},
   "source": [
    "#Time complexity = Has to run for each string in the strs list N, and for each character per string (assume max is m characters) Hence Time complexity = O (N X M)\n",
    "\n",
    "#Space complexity = default dict will hold N xM characters n\n",
    "n strings, each of length up to m are stored in the output groups and referenced in the dictionary"
   ]
  },
  {
   "cell_type": "markdown",
   "id": "9b78449a",
   "metadata": {},
   "source": [
    "# 26. Remove Duplicates from Sorted Array\n",
    "\n",
    "Given an integer array nums sorted in non-decreasing order, remove the duplicates in-place such that each unique element appears only once. The relative order of the elements should be kept the same. Then return the number of unique elements in nums.\n",
    "\n",
    "Consider the number of unique elements of nums to be k, to get accepted, you need to do the following things:\n",
    "\n",
    "Change the array nums such that the first k elements of nums contain the unique elements in the order they were present in nums initially. The remaining elements of nums are not important as well as the size of nums.\n",
    "Return k."
   ]
  },
  {
   "cell_type": "code",
   "execution_count": null,
   "id": "58581054",
   "metadata": {},
   "outputs": [
    {
     "ename": "",
     "evalue": "",
     "output_type": "error",
     "traceback": [
      "\u001b[1;31mThe Kernel crashed while executing code in the current cell or a previous cell. \n",
      "\u001b[1;31mPlease review the code in the cell(s) to identify a possible cause of the failure. \n",
      "\u001b[1;31mClick <a href='https://aka.ms/vscodeJupyterKernelCrash'>here</a> for more info. \n",
      "\u001b[1;31mView Jupyter <a href='command:jupyter.viewOutput'>log</a> for further details."
     ]
    }
   ],
   "source": [
    "from typing import List\n",
    "\n",
    "class Solution:\n",
    "    def removeDuplicates(self, nums: List[int]) -> int:\n",
    "        if not nums:\n",
    "            return 0\n",
    "        \n",
    "        k =1\n",
    "        for i in range(1,len(nums)):\n",
    "            if nums[i] != nums[k-1]:\n",
    "                nums[k] = nums[i]\n",
    "                k +=1\n",
    "                \n",
    "        return k\n",
    "    \n",
    "    #Time complexity = O(N)\n",
    "    #Space complexity = O(1)\n",
    "                "
   ]
  },
  {
   "cell_type": "markdown",
   "id": "ecc550fb",
   "metadata": {},
   "source": [
    "\n",
    "# 3. Longest Substring Without Repeating Characters\n",
    "Given a string s, find the length of the longest substring without duplicate characters.\n",
    "\n",
    "[3. Longest Substring Without Repeating Characters](https://www.perplexity.ai/search/explain-me-this-leetcode-probl-HAVh7TxcSlGK15mmYOexBg)"
   ]
  },
  {
   "cell_type": "code",
   "execution_count": null,
   "id": "f353fd25",
   "metadata": {},
   "outputs": [],
   "source": [
    "class Solution:\n",
    "    def lengthOfLongestSubstring(self, s:str) -> str:\n",
    "        max_length = 0\n",
    "        char_map = {}\n",
    "        left = 0     #Note max_length, char_map, right\n",
    "        \n",
    "        for right, char in enumerate(s):\n",
    "            if char in char_map and char_map[char] >= left:  #Note this condition and see Perplexity link\n",
    "                left = char_map[char] + 1\n",
    "            else:\n",
    "                max_length = max(max_length, right-left +1)\n",
    "            char_map[char] = right\n",
    "        return max_length\n",
    "            \n"
   ]
  },
  {
   "cell_type": "markdown",
   "id": "abc808c7",
   "metadata": {},
   "source": [
    "# 162. Find Peak Element\n",
    "\n",
    "A peak element is an element that is strictly greater than its neighbors.\n",
    "\n",
    "Given a 0-indexed integer array nums, find a peak element, and return its index. If the array contains multiple peaks, return the index to any of the peaks.\n",
    "\n",
    "You may imagine that nums[-1] = nums[n] = -∞. In other words, an element is always considered to be strictly greater than a neighbor that is outside the array.\n",
    "\n",
    "You must write an algorithm that runs in O(log n) time.\n",
    "\n",
    "https://www.perplexity.ai/search/for-the-code-below-class-solut-RMiY1lJiREevoalTSUQ50g"
   ]
  },
  {
   "cell_type": "code",
   "execution_count": null,
   "id": "29bf8e72",
   "metadata": {},
   "outputs": [],
   "source": [
    "class Solution:\n",
    "    def findPeakElement(self, nums:List[int]):\n",
    "        left=0\n",
    "        right = len(nums) - 1\n",
    "        \n",
    "        while left < right:   #Note only less than sign\n",
    "            mid = left + (right - left)//2\n",
    "            if nums[mid] > nums[mid+1]:\n",
    "                right = mid      #Note no mid - 1\n",
    "            else:\n",
    "                left = mid+1\n",
    "        return left\n",
    "            \n",
    "   #time complexity = O(logn)\n",
    "   #space compexity = O(1)"
   ]
  },
  {
   "cell_type": "markdown",
   "id": "9728fc68",
   "metadata": {},
   "source": [
    "# 199. Binary Tree Right Side View\n",
    "\n",
    "Given the root of a binary tree, imagine yourself standing on the right side of it, return the values of the nodes you can see ordered from top to bottom."
   ]
  },
  {
   "cell_type": "code",
   "execution_count": 2,
   "id": "67d981c6",
   "metadata": {},
   "outputs": [],
   "source": [
    "from collections import deque\n",
    "from typing import List\n",
    "\n",
    "class TreeNode:\n",
    "    def __init__(self, val=0, left=None, right =None):\n",
    "        self.val = val\n",
    "        self.left = None\n",
    "        self.right = None\n",
    "        \n",
    "class Solution:\n",
    "    def rightSideView(self, root:TreeNode) -> List[int]:\n",
    "        queue = deque()\n",
    "        queue.append(root)\n",
    "        results = []\n",
    "        \n",
    "        while queue:\n",
    "            level_length = len(queue)\n",
    "            for i in range(level_length):\n",
    "                node = queue.popleft()\n",
    "                if i == level_length -1:\n",
    "                    results.append(node.val)\n",
    "                if node.left:\n",
    "                    queue.append(node.left)\n",
    "                if node.right:\n",
    "                    queue.append(node.right)\n",
    "        \n",
    "        return results\n",
    "                \n",
    "        \n",
    "        \n",
    "        \n",
    "    "
   ]
  },
  {
   "cell_type": "markdown",
   "id": "f1ed3f2f",
   "metadata": {},
   "source": [
    "# 21. Merge Two Sorted Lists\n",
    "You are given the heads of two sorted linked lists list1 and list2.\n",
    "\n",
    "Merge the two lists into one sorted list. The list should be made by splicing together the nodes of the first two lists.\n",
    "\n",
    "Return the head of the merged linked list."
   ]
  },
  {
   "cell_type": "code",
   "execution_count": null,
   "id": "14778363",
   "metadata": {},
   "outputs": [],
   "source": [
    "class ListNode:\n",
    "    def __init__(self, val=0, next=None):\n",
    "        self.val = val\n",
    "        self.next = next\n",
    "\n",
    "class Solution:\n",
    "    def mergeTwoLists(self, list1: ListNode, list2: ListNode) -> ListNode:\n",
    "        if not list1:\n",
    "            return list2\n",
    "        if not list2:\n",
    "            return list1\n",
    "        \n",
    "        if list1.val < list2.val:  #Node here we are calculating the vals\n",
    "            list1.next = self.mergeTwoLists(list1.next, list2)\n",
    "            return list1\n",
    "        else:\n",
    "            list2.next = self.mergeTwoLists(list1, list2.next )\n",
    "            return list2"
   ]
  },
  {
   "cell_type": "markdown",
   "id": "b05e96fa",
   "metadata": {},
   "source": [
    "# 2. Add Two Numbers\n",
    "\n",
    "You are given two non-empty linked lists representing two non-negative integers. The digits are stored in reverse order, and each of their nodes contains a single digit. Add the two numbers and return the sum as a linked list.\n",
    "\n",
    "You may assume the two numbers do not contain any leading zero, except the number 0 itself."
   ]
  },
  {
   "cell_type": "code",
   "execution_count": null,
   "id": "e013e27e",
   "metadata": {},
   "outputs": [],
   "source": [
    "class ListNode:\n",
    "    def __init__(self, val=0, next=None):\n",
    "        self.val = val\n",
    "        self.next = next\n",
    "        \n",
    "#The key intution is to have 3 pointers, l1, l2 and curr. Also add a dummy node at the start of the result list\n",
    "\n",
    "class Solution:\n",
    "    def addTwoNumbers(self, l1, l2):\n",
    "        dummy = ListNode()\n",
    "        curr = dummy\n",
    "        carry = 0\n",
    "        \n",
    "        while l1 or l2 or carry:\n",
    "            v1 = l1.val if l1 else 0\n",
    "            v2 = l2.val if l2 else 0\n",
    "            \n",
    "            sum = v1 + v2 + carry\n",
    "            val = sum % 10\n",
    "            carry = sum //10\n",
    "            curr.next = ListNode(val)\n",
    "            \n",
    "            \n",
    "            #Update pointers\n",
    "            curr = curr.next\n",
    "            l1 = l1.next if l1 else None\n",
    "            l2 = l2.next if l2 else None\n",
    "            \n",
    "        return dummy.next\n",
    "            \n",
    "   "
   ]
  },
  {
   "cell_type": "markdown",
   "id": "02fd0ef9",
   "metadata": {},
   "source": [
    "# 20. Valid Parentheses\n",
    "\n",
    "Given a string s containing just the characters '(', ')', '{', '}', '[' and ']', determine if the input string is valid.\n",
    "\n",
    "An input string is valid if:\n",
    "\n",
    "Open brackets must be closed by the same type of brackets.\n",
    "Open brackets must be closed in the correct order.\n",
    "Every close bracket has a corresponding open bracket of the same type.\n",
    " "
   ]
  },
  {
   "cell_type": "code",
   "execution_count": 1,
   "id": "db2db47c",
   "metadata": {},
   "outputs": [],
   "source": [
    "class Solution:\n",
    "    def is_valid(self, s:str)-> bool:\n",
    "        stack =[]\n",
    "        mapping = { \")\":\"(\", \"]\":\"[\", \"}\":\"{\"}  #Remember every closing bracket should be first\n",
    "        \n",
    "        for char in s:\n",
    "            if char in mapping:\n",
    "                top_element = stack.pop() if stack else \"#\"\n",
    "                if mapping[char] != top_element:\n",
    "                    return False\n",
    "            else:\n",
    "                stack.append(char)\n",
    "        return not stack"
   ]
  },
  {
   "cell_type": "markdown",
   "id": "aabaa254",
   "metadata": {},
   "source": [
    "# 133. Clone Graph\n",
    "\n",
    "Given a reference of a node in a connected undirected graph. Return a deep copy (clone) of the graph.\n",
    "Each node in the graph contains a value (int) and a list (List[Node]) of its neighbors."
   ]
  },
  {
   "cell_type": "code",
   "execution_count": 2,
   "id": "0cf7d4ec",
   "metadata": {
    "vscode": {
     "languageId": "ruby"
    }
   },
   "outputs": [],
   "source": [
    "class Solution:\n",
    "    def cloneGraph(self, node):\n",
    "        if not node:\n",
    "            return None\n",
    "\n",
    "        visited = {}\n",
    "\n",
    "        def clone(node):\n",
    "            if node in visited:\n",
    "                return visited[node]\n",
    "            clone_node = Node(val = node.val)\n",
    "            visited[node] = clone_node\n",
    "\n",
    "            for neighbor in node.neigbhors:\n",
    "                clone_node.neigbhors.append(neighbor)\n",
    "\n",
    "            return clone_node\n",
    "        return clone(node)"
   ]
  },
  {
   "cell_type": "markdown",
   "id": "c0e1c8aa",
   "metadata": {},
   "source": [
    "# 921. Minimum Add to Make Parentheses Valid\n",
    "\n",
    "A parentheses string is valid if and only if:\n",
    "\n",
    "It is the empty string,\n",
    "It can be written as AB (A concatenated with B), where A and B are valid strings, or\n",
    "It can be written as (A), where A is a valid string.\n",
    "You are given a parentheses string s. In one move, you can insert a parenthesis at any position of the string.\n",
    "\n",
    "For example, if s = \"()))\", you can insert an opening parenthesis to be \"(()))\" or a closing parenthesis to be \"())))\".\n",
    "Return the minimum number of moves required to make s valid.\n",
    "\n",
    " "
   ]
  },
  {
   "cell_type": "code",
   "execution_count": null,
   "id": "cfa4e580",
   "metadata": {
    "vscode": {
     "languageId": "ruby"
    }
   },
   "outputs": [],
   "source": [
    "class Solution:\n",
    "    def minAddToMakeValid(self,s:str) -> int:\n",
    "        open = 0  #Number of open brackets that would need close brackets\n",
    "        additions = 0 #Number of open brackets that would be needed for close brackets\n",
    "\n",
    "        for char in s:\n",
    "            if char == \"(\":\n",
    "                open += 1\n",
    "            else:\n",
    "                if open >0:\n",
    "                    open -=1 \n",
    "                else:\n",
    "                    additions +=1\n",
    "        return open + additions\n",
    "\n",
    "    #time complexity - 0(n)\n",
    "    #space complexity - 0(1)"
   ]
  },
  {
   "cell_type": "markdown",
   "id": "240be935",
   "metadata": {},
   "source": []
  }
 ],
 "metadata": {
  "kernelspec": {
   "display_name": "base",
   "language": "python",
   "name": "python3"
  },
  "language_info": {
   "codemirror_mode": {
    "name": "ipython",
    "version": 3
   },
   "file_extension": ".py",
   "mimetype": "text/x-python",
   "name": "python",
   "nbconvert_exporter": "python",
   "pygments_lexer": "ipython3",
   "version": "3.11.5"
  }
 },
 "nbformat": 4,
 "nbformat_minor": 5
}

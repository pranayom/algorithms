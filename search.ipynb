{
 "cells": [
  {
   "cell_type": "code",
   "execution_count": 16,
   "metadata": {},
   "outputs": [],
   "source": [
    "#Binary search.\n",
    "\n",
    "def binary_search(sequence, target):\n",
    "    start_index = 0\n",
    "    end_index = len(sequence)-1\n",
    "    \n",
    "    while start_index <= end_index:\n",
    "        mid = start_index + (end_index-start_index)//2\n",
    "        \n",
    "        if sequence[mid] == target:\n",
    "            return True\n",
    "        elif sequence[mid] >  target:\n",
    "            end_index = mid-1\n",
    "        else:\n",
    "            start_index = mid +1\n",
    "    return False"
   ]
  },
  {
   "cell_type": "code",
   "execution_count": 17,
   "metadata": {},
   "outputs": [
    {
     "data": {
      "text/plain": [
       "True"
      ]
     },
     "execution_count": 17,
     "metadata": {},
     "output_type": "execute_result"
    }
   ],
   "source": [
    "array = [3,5,15,27,34,54,65,78,89,100]\n",
    "target = 27\n",
    "binary_search(array, target)"
   ]
  },
  {
   "cell_type": "code",
   "execution_count": 15,
   "metadata": {},
   "outputs": [
    {
     "data": {
      "text/plain": [
       "4"
      ]
     },
     "execution_count": 15,
     "metadata": {},
     "output_type": "execute_result"
    }
   ],
   "source": [
    "9//2"
   ]
  },
  {
   "cell_type": "code",
   "execution_count": 4,
   "metadata": {},
   "outputs": [],
   "source": [
    "#SELECTION SORT\n",
    "\n",
    "#step 1, finding smallest element in a array\n",
    "\n",
    "def find_smallest_element(array):\n",
    "    smallest_num = array[0]\n",
    "    for i in range(1, len(array)):\n",
    "        if array[i]<smallest_num:\n",
    "            smallest_num = array[i]\n",
    "    return smallest_num\n",
    "            \n",
    "            "
   ]
  },
  {
   "cell_type": "code",
   "execution_count": 9,
   "metadata": {},
   "outputs": [
    {
     "data": {
      "text/plain": [
       "-5"
      ]
     },
     "execution_count": 9,
     "metadata": {},
     "output_type": "execute_result"
    }
   ],
   "source": [
    "p = [2,5,61,2,1, -5, -5]\n",
    "find_smallest_element(p)"
   ]
  },
  {
   "cell_type": "code",
   "execution_count": 3,
   "metadata": {},
   "outputs": [
    {
     "data": {
      "text/plain": [
       "2"
      ]
     },
     "execution_count": 3,
     "metadata": {},
     "output_type": "execute_result"
    }
   ],
   "source": [
    "array[0]"
   ]
  },
  {
   "cell_type": "code",
   "execution_count": 1,
   "metadata": {},
   "outputs": [],
   "source": [
    "def searchMatrix(matrix, target):\n",
    "    if not matrix or not matrix[0]:\n",
    "        return False\n",
    "    \n",
    "    m, n = len(matrix), len(matrix[0])\n",
    "    left, right = 0, m * n - 1\n",
    "    \n",
    "    while left <= right:\n",
    "        mid = (left + right) // 2\n",
    "        row, col = mid // n, mid % n\n",
    "        value = matrix[row][col]\n",
    "        \n",
    "        if value == target:\n",
    "            return True\n",
    "        elif value < target:\n",
    "            left = mid + 1\n",
    "        else:\n",
    "            right = mid - 1\n",
    "    \n",
    "    return False\n",
    "\n",
    "# Example usage:\n",
    "# matrix = [\n",
    "#     [1,3,5,7],\n",
    "#     [10,11,16,20],\n",
    "#     [23,30,34,60]\n",
    "# ]\n",
    "# target = 3\n",
    "# result = searchMatrix(matrix, target)\n",
    "# print(result)  # Output: True"
   ]
  },
  {
   "cell_type": "markdown",
   "metadata": {},
   "source": [
    "## Search a 2D matrix\n",
    "You are given an m x n integer matrix matrix with the following two properties:\n",
    "\n",
    "Each row is sorted in non-decreasing order.\n",
    "The first integer of each row is greater than the last integer of the previous row.\n",
    "Given an integer target, return true if target is in matrix or false otherwise.\n",
    "\n",
    "You must write a solution in O(log(m * n)) time complexity.\n",
    "\n",
    " "
   ]
  },
  {
   "cell_type": "code",
   "execution_count": 4,
   "metadata": {},
   "outputs": [],
   "source": [
    "def searchMatrix(matrix, target):\n",
    "    if not matrix or not matrix[0]:\n",
    "        return False\n",
    "    \n",
    "    m,n = len(matrix), len(matrix[0]) #m = rows, n = columns\n",
    "    left, right = 0, m*n -1\n",
    "    \n",
    "    while left <= right:\n",
    "        mid = left + (right-left)//2\n",
    "        row, col = mid//n, mid%n\n",
    "        val = matrix[row][col]\n",
    "        if val == target:\n",
    "            return True\n",
    "        elif val < target:\n",
    "            left += 1\n",
    "        else:\n",
    "            right -= 1\n",
    "    \n",
    "    return False\n",
    "        \n",
    "    \n",
    "            \n",
    "            \n",
    "\n",
    "        \n",
    "   \n",
    "   \n",
    "   \n",
    "\n"
   ]
  },
  {
   "cell_type": "code",
   "execution_count": 2,
   "metadata": {},
   "outputs": [
    {
     "ename": "NameError",
     "evalue": "name 'List' is not defined",
     "output_type": "error",
     "traceback": [
      "\u001b[1;31m---------------------------------------------------------------------------\u001b[0m",
      "\u001b[1;31mNameError\u001b[0m                                 Traceback (most recent call last)",
      "Cell \u001b[1;32mIn[2], line 12\u001b[0m\n\u001b[0;32m      1\u001b[0m \u001b[38;5;66;03m# 875. Koko Eating Bananas\u001b[39;00m\n\u001b[0;32m      2\u001b[0m \n\u001b[0;32m      3\u001b[0m \u001b[38;5;66;03m# Strategy:\u001b[39;00m\n\u001b[1;32m   (...)\u001b[0m\n\u001b[0;32m      7\u001b[0m \u001b[38;5;66;03m# 4. If possible, try a smaller k. If not, try a larger k.\u001b[39;00m\n\u001b[0;32m      8\u001b[0m \u001b[38;5;66;03m# 5. Return the minimum k that allows eating all bananas within h hours.\u001b[39;00m\n\u001b[0;32m     10\u001b[0m \u001b[38;5;28;01mfrom\u001b[39;00m \u001b[38;5;21;01mmath\u001b[39;00m \u001b[38;5;28;01mimport\u001b[39;00m ceil  \u001b[38;5;66;03m# Import the ceil function from the math module\u001b[39;00m\n\u001b[1;32m---> 12\u001b[0m \u001b[38;5;28;01mclass\u001b[39;00m \u001b[38;5;21;01mSolution\u001b[39;00m:\n\u001b[0;32m     13\u001b[0m     \u001b[38;5;28;01mdef\u001b[39;00m \u001b[38;5;21mminEatingSpeed\u001b[39m(\u001b[38;5;28mself\u001b[39m, piles: List[\u001b[38;5;28mint\u001b[39m], h: \u001b[38;5;28mint\u001b[39m) \u001b[38;5;241m-\u001b[39m\u001b[38;5;241m>\u001b[39m \u001b[38;5;28mint\u001b[39m:\n\u001b[0;32m     14\u001b[0m         \u001b[38;5;66;03m# Helper function to check if Koko can eat all bananas at speed k\u001b[39;00m\n\u001b[0;32m     15\u001b[0m         \u001b[38;5;28;01mdef\u001b[39;00m \u001b[38;5;21mcanEatAll\u001b[39m(k):\n",
      "Cell \u001b[1;32mIn[2], line 13\u001b[0m, in \u001b[0;36mSolution\u001b[1;34m()\u001b[0m\n\u001b[0;32m     12\u001b[0m \u001b[38;5;28;01mclass\u001b[39;00m \u001b[38;5;21;01mSolution\u001b[39;00m:\n\u001b[1;32m---> 13\u001b[0m     \u001b[38;5;28;01mdef\u001b[39;00m \u001b[38;5;21mminEatingSpeed\u001b[39m(\u001b[38;5;28mself\u001b[39m, piles: List[\u001b[38;5;28mint\u001b[39m], h: \u001b[38;5;28mint\u001b[39m) \u001b[38;5;241m-\u001b[39m\u001b[38;5;241m>\u001b[39m \u001b[38;5;28mint\u001b[39m:\n\u001b[0;32m     14\u001b[0m         \u001b[38;5;66;03m# Helper function to check if Koko can eat all bananas at speed k\u001b[39;00m\n\u001b[0;32m     15\u001b[0m         \u001b[38;5;28;01mdef\u001b[39;00m \u001b[38;5;21mcanEatAll\u001b[39m(k):\n\u001b[0;32m     16\u001b[0m             \u001b[38;5;28;01mreturn\u001b[39;00m \u001b[38;5;28msum\u001b[39m(ceil(pile \u001b[38;5;241m/\u001b[39m k) \u001b[38;5;28;01mfor\u001b[39;00m pile \u001b[38;5;129;01min\u001b[39;00m piles) \u001b[38;5;241m<\u001b[39m\u001b[38;5;241m=\u001b[39m h  \u001b[38;5;66;03m# Calculate total hours needed and compare with h\u001b[39;00m\n",
      "\u001b[1;31mNameError\u001b[0m: name 'List' is not defined"
     ]
    }
   ],
   "source": [
    "# 875. Koko Eating Bananas\n",
    "\n",
    "# Strategy:\n",
    "# 1. Use binary search to find the minimum eating speed k.\n",
    "# 2. The range for k is from 1 to max(piles), as the maximum speed needed is the largest pile.\n",
    "# 3. For each k, calculate if Koko can eat all bananas within h hours.\n",
    "# 4. If possible, try a smaller k. If not, try a larger k.\n",
    "# 5. Return the minimum k that allows eating all bananas within h hours.\n",
    "\n",
    "from math import ceil  # Import the ceil function from the math module\n",
    "\n",
    "class Solution:\n",
    "    def minEatingSpeed(self, piles: List[int], h: int) -> int:\n",
    "        # Helper function to check if Koko can eat all bananas at speed k\n",
    "        def canEatAll(k):\n",
    "            return sum(ceil(pile / k) for pile in piles) <= h  # Calculate total hours needed and compare with h\n",
    "        \n",
    "        left, right = 1, max(piles)  # Initialize binary search range\n",
    "        while left < right:  # Continue while the search range is valid\n",
    "            mid = (left + right) // 2  # Calculate the middle point\n",
    "            if canEatAll(mid):  # If Koko can eat all bananas at this speed\n",
    "                right = mid  # Try a lower speed\n",
    "            else:  # If Koko can't eat all bananas at this speed\n",
    "                left = mid + 1  # Try a higher speed\n",
    "        \n",
    "        return left  # Return the minimum valid eating speed\n",
    "\n",
    "# Example usage:\n",
    "# solution = Solution()\n",
    "# print(solution.minEatingSpeed([3,6,7,11], 8))  # Output: 4\n",
    "# print(solution.minEatingSpeed([30,11,23,4,20], 5))  # Output: 30\n",
    "# print(solution.minEatingSpeed([30,11,23,4,20], 6))  # Output: 23"
   ]
  },
  {
   "cell_type": "markdown",
   "metadata": {},
   "source": [
    "time complexity - O(nlog(m))\n",
    "The time complexity O(n log m) comes from performing a binary search (log m) and checking all piles (n) in each iteration.\n",
    "space complexity -O(1)\n"
   ]
  },
  {
   "cell_type": "markdown",
   "metadata": {},
   "source": [
    "## 153. Find Minimum in Rotated Sorted Array\n",
    "Suppose an array of length n sorted in ascending order is rotated between 1 and n times. For example, the array nums = [0,1,2,4,5,6,7] might become:\n",
    "\n",
    "[4,5,6,7,0,1,2] if it was rotated 4 times.\n",
    "\n",
    "[0,1,2,4,5,6,7] if it was rotated 7 times.\n",
    "\n",
    "Notice that rotating an array [a[0], a[1], a[2], ..., a[n-1]] 1 time results in the array [a[n-1], a[0], a[1], a[2], ..., a[n-2]].\n",
    "\n",
    "Given the sorted rotated array nums of unique elements, return the minimum element of this array.\n",
    "\n",
    "You must write an algorithm that runs in O(log n) time."
   ]
  },
  {
   "cell_type": "code",
   "execution_count": null,
   "metadata": {},
   "outputs": [],
   "source": [
    "class Solution:\n",
    "    def findMin(self, nums: List[int]) -> int:\n",
    "        left, right = 0, len(nums) - 1\n",
    "\n",
    "        while left < right:\n",
    "            mid = left + (right - left) // 2\n",
    "\n",
    "            # If the middle element is greater than the rightmost element,\n",
    "            # the minimum is in the right half\n",
    "            if nums[mid] > nums[right]:\n",
    "                left = mid + 1\n",
    "            # Otherwise, the minimum is in the left half or is the middle element\n",
    "            else:\n",
    "                right = mid\n",
    "\n",
    "        # When left == right, we've found the minimum element\n",
    "        return nums[left]"
   ]
  },
  {
   "cell_type": "markdown",
   "metadata": {},
   "source": [
    "## 33. Search in Rotated Sorted Array\n",
    "\n",
    "There is an integer array nums sorted in ascending order (with distinct values).\n",
    "\n",
    "Prior to being passed to your function, nums is possibly rotated at an unknown pivot index k (1 <= k < nums.length) such that the resulting array is [nums[k], nums[k+1], ..., nums[n-1], nums[0], nums[1], ..., nums[k-1]] (0-indexed). For example, [0,1,2,4,5,6,7] might be rotated at pivot index 3 and become [4,5,6,7,0,1,2].\n",
    "\n",
    "Given the array nums after the possible rotation and an integer target, return the index of target if it is in nums, or -1 if it is not in nums.\n",
    "\n",
    "You must write an algorithm with O(log n) runtime complexity.\n",
    "\n",
    "Strategy:\n",
    "1. Use binary search to achieve O(log n) time complexity.\n",
    "2. Initialize two pointers, left and right, to the start and end of the array.\n",
    "3. While left <= right:\n",
    "   a. Find the middle element.\n",
    "   b. If the middle element is the target, return its index.\n",
    "   c. Check which half of the array is sorted:\n",
    "      - If left half is sorted:\n",
    "        - If target is in the range of left half, search there.\n",
    "        - Otherwise, search in the right half.\n",
    "      - If right half is sorted:\n",
    "        - If target is in the range of right half, search there.\n",
    "        - Otherwise, search in the left half.\n",
    "4. If the loop ends without finding the target, return -1.\n",
    "\n",
    "\n",
    "\n",
    " "
   ]
  },
  {
   "cell_type": "code",
   "execution_count": 1,
   "metadata": {},
   "outputs": [
    {
     "ename": "NameError",
     "evalue": "name 'List' is not defined",
     "output_type": "error",
     "traceback": [
      "\u001b[1;31m---------------------------------------------------------------------------\u001b[0m",
      "\u001b[1;31mNameError\u001b[0m                                 Traceback (most recent call last)",
      "Cell \u001b[1;32mIn[1], line 1\u001b[0m\n\u001b[1;32m----> 1\u001b[0m \u001b[38;5;28;01mclass\u001b[39;00m \u001b[38;5;21;01mSolution\u001b[39;00m:\n\u001b[0;32m      2\u001b[0m     \u001b[38;5;28;01mdef\u001b[39;00m \u001b[38;5;21msearch\u001b[39m(\u001b[38;5;28mself\u001b[39m, nums: List[\u001b[38;5;28mint\u001b[39m], target: \u001b[38;5;28mint\u001b[39m) \u001b[38;5;241m-\u001b[39m\u001b[38;5;241m>\u001b[39m \u001b[38;5;28mint\u001b[39m:\n\u001b[0;32m      3\u001b[0m         left, right \u001b[38;5;241m=\u001b[39m \u001b[38;5;241m0\u001b[39m, \u001b[38;5;28mlen\u001b[39m(nums) \u001b[38;5;241m-\u001b[39m \u001b[38;5;241m1\u001b[39m\n",
      "Cell \u001b[1;32mIn[1], line 2\u001b[0m, in \u001b[0;36mSolution\u001b[1;34m()\u001b[0m\n\u001b[0;32m      1\u001b[0m \u001b[38;5;28;01mclass\u001b[39;00m \u001b[38;5;21;01mSolution\u001b[39;00m:\n\u001b[1;32m----> 2\u001b[0m     \u001b[38;5;28;01mdef\u001b[39;00m \u001b[38;5;21msearch\u001b[39m(\u001b[38;5;28mself\u001b[39m, nums: List[\u001b[38;5;28mint\u001b[39m], target: \u001b[38;5;28mint\u001b[39m) \u001b[38;5;241m-\u001b[39m\u001b[38;5;241m>\u001b[39m \u001b[38;5;28mint\u001b[39m:\n\u001b[0;32m      3\u001b[0m         left, right \u001b[38;5;241m=\u001b[39m \u001b[38;5;241m0\u001b[39m, \u001b[38;5;28mlen\u001b[39m(nums) \u001b[38;5;241m-\u001b[39m \u001b[38;5;241m1\u001b[39m\n\u001b[0;32m      5\u001b[0m         \u001b[38;5;28;01mwhile\u001b[39;00m left \u001b[38;5;241m<\u001b[39m\u001b[38;5;241m=\u001b[39m right:\n",
      "\u001b[1;31mNameError\u001b[0m: name 'List' is not defined"
     ]
    }
   ],
   "source": [
    "class Solution:\n",
    "    def search(self, nums: List[int], target: int) -> int:\n",
    "        left, right = 0, len(nums) - 1\n",
    "        \n",
    "        while left <= right:\n",
    "            mid = (left + right) // 2\n",
    "            \n",
    "            # If we found the target, return its index\n",
    "            if nums[mid] == target:\n",
    "                return mid\n",
    "            \n",
    "            # Check if the left half is sorted\n",
    "            if nums[left] <= nums[mid]:\n",
    "                # If target is in the left half\n",
    "                if nums[left] <= target < nums[mid]:\n",
    "                    right = mid - 1\n",
    "                else:\n",
    "                    left = mid + 1\n",
    "            # If the right half is sorted\n",
    "            else:\n",
    "                # If target is in the right half\n",
    "                if nums[mid] < target <= nums[right]:\n",
    "                    left = mid + 1\n",
    "                else:\n",
    "                    right = mid - 1\n",
    "        \n",
    "        # If we didn't find the target\n",
    "        return -1"
   ]
  },
  {
   "cell_type": "markdown",
   "metadata": {},
   "source": []
  }
 ],
 "metadata": {
  "kernelspec": {
   "display_name": "base",
   "language": "python",
   "name": "python3"
  },
  "language_info": {
   "codemirror_mode": {
    "name": "ipython",
    "version": 3
   },
   "file_extension": ".py",
   "mimetype": "text/x-python",
   "name": "python",
   "nbconvert_exporter": "python",
   "pygments_lexer": "ipython3",
   "version": "3.11.5"
  }
 },
 "nbformat": 4,
 "nbformat_minor": 2
}

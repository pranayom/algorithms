{
 "cells": [
  {
   "cell_type": "code",
   "execution_count": 16,
   "metadata": {},
   "outputs": [],
   "source": [
    "#Binary search.\n",
    "\n",
    "def binary_search(sequence, target):\n",
    "    start_index = 0\n",
    "    end_index = len(sequence)-1\n",
    "    \n",
    "    while start_index <= end_index:\n",
    "        mid = start_index + (end_index-start_index)//2\n",
    "        \n",
    "        if sequence[mid] == target:\n",
    "            return True\n",
    "        elif sequence[mid] >  target:\n",
    "            end_index = mid-1\n",
    "        else:\n",
    "            start_index = mid +1\n",
    "    return False"
   ]
  },
  {
   "cell_type": "code",
   "execution_count": 17,
   "metadata": {},
   "outputs": [
    {
     "data": {
      "text/plain": [
       "True"
      ]
     },
     "execution_count": 17,
     "metadata": {},
     "output_type": "execute_result"
    }
   ],
   "source": [
    "array = [3,5,15,27,34,54,65,78,89,100]\n",
    "target = 27\n",
    "binary_search(array, target)"
   ]
  },
  {
   "cell_type": "code",
   "execution_count": 15,
   "metadata": {},
   "outputs": [
    {
     "data": {
      "text/plain": [
       "4"
      ]
     },
     "execution_count": 15,
     "metadata": {},
     "output_type": "execute_result"
    }
   ],
   "source": [
    "9//2"
   ]
  },
  {
   "cell_type": "code",
   "execution_count": 4,
   "metadata": {},
   "outputs": [],
   "source": [
    "#SELECTION SORT\n",
    "\n",
    "#step 1, finding smallest element in a array\n",
    "\n",
    "def find_smallest_element(array):\n",
    "    smallest_num = array[0]\n",
    "    for i in range(1, len(array)):\n",
    "        if array[i]<smallest_num:\n",
    "            smallest_num = array[i]\n",
    "    return smallest_num\n",
    "            \n",
    "            "
   ]
  },
  {
   "cell_type": "code",
   "execution_count": 9,
   "metadata": {},
   "outputs": [
    {
     "data": {
      "text/plain": [
       "-5"
      ]
     },
     "execution_count": 9,
     "metadata": {},
     "output_type": "execute_result"
    }
   ],
   "source": [
    "p = [2,5,61,2,1, -5, -5]\n",
    "find_smallest_element(p)"
   ]
  },
  {
   "cell_type": "code",
   "execution_count": 3,
   "metadata": {},
   "outputs": [
    {
     "data": {
      "text/plain": [
       "2"
      ]
     },
     "execution_count": 3,
     "metadata": {},
     "output_type": "execute_result"
    }
   ],
   "source": [
    "array[0]"
   ]
  },
  {
   "cell_type": "code",
   "execution_count": 1,
   "metadata": {},
   "outputs": [],
   "source": [
    "def searchMatrix(matrix, target):\n",
    "    if not matrix or not matrix[0]:\n",
    "        return False\n",
    "    \n",
    "    m, n = len(matrix), len(matrix[0])\n",
    "    left, right = 0, m * n - 1\n",
    "    \n",
    "    while left <= right:\n",
    "        mid = (left + right) // 2\n",
    "        row, col = mid // n, mid % n\n",
    "        value = matrix[row][col]\n",
    "        \n",
    "        if value == target:\n",
    "            return True\n",
    "        elif value < target:\n",
    "            left = mid + 1\n",
    "        else:\n",
    "            right = mid - 1\n",
    "    \n",
    "    return False\n",
    "\n",
    "# Example usage:\n",
    "# matrix = [\n",
    "#     [1,3,5,7],\n",
    "#     [10,11,16,20],\n",
    "#     [23,30,34,60]\n",
    "# ]\n",
    "# target = 3\n",
    "# result = searchMatrix(matrix, target)\n",
    "# print(result)  # Output: True"
   ]
  },
  {
   "cell_type": "markdown",
   "metadata": {},
   "source": [
    "## Search a 2D matrix\n",
    "You are given an m x n integer matrix matrix with the following two properties:\n",
    "\n",
    "Each row is sorted in non-decreasing order.\n",
    "The first integer of each row is greater than the last integer of the previous row.\n",
    "Given an integer target, return true if target is in matrix or false otherwise.\n",
    "\n",
    "You must write a solution in O(log(m * n)) time complexity.\n",
    "\n",
    " "
   ]
  },
  {
   "cell_type": "code",
   "execution_count": 4,
   "metadata": {},
   "outputs": [],
   "source": [
    "def searchMatrix(matrix, target):\n",
    "    if not matrix or not matrix[0]:\n",
    "        return False\n",
    "    \n",
    "    m,n = len(matrix), len(matrix[0]) #m = rows, n = columns\n",
    "    left, right = 0, m*n -1\n",
    "    \n",
    "    while left <= right:\n",
    "        mid = left + (right-left)//2\n",
    "        row, col = mid//n, mid%n\n",
    "        val = matrix[row][col]\n",
    "        if val == target:\n",
    "            return True\n",
    "        elif val < target:\n",
    "            left += 1\n",
    "        else:\n",
    "            right -= 1\n",
    "    \n",
    "    return False\n",
    "        \n",
    "    \n",
    "            \n",
    "            \n",
    "\n",
    "        \n",
    "   \n",
    "   \n",
    "   \n",
    "\n"
   ]
  },
  {
   "cell_type": "code",
   "execution_count": null,
   "metadata": {},
   "outputs": [],
   "source": []
  }
 ],
 "metadata": {
  "kernelspec": {
   "display_name": "base",
   "language": "python",
   "name": "python3"
  },
  "language_info": {
   "codemirror_mode": {
    "name": "ipython",
    "version": 3
   },
   "file_extension": ".py",
   "mimetype": "text/x-python",
   "name": "python",
   "nbconvert_exporter": "python",
   "pygments_lexer": "ipython3",
   "version": "3.11.5"
  }
 },
 "nbformat": 4,
 "nbformat_minor": 2
}

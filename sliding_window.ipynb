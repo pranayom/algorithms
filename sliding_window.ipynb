{
 "cells": [
  {
   "cell_type": "markdown",
   "metadata": {},
   "source": [
    "## Repeated DNA Sequences\n",
    "Given a string, s, that represents a DNA subsequence, and a number k , return all the contiguous subsequences (substrings) of length k  that occur more than once in the string. The order of the returned subsequences does not matter. If no repeated substring is found, the function should return an empty set."
   ]
  },
  {
   "cell_type": "code",
   "execution_count": null,
   "metadata": {},
   "outputs": [],
   "source": [
    "def find_repeated_sequence(s,k):\n",
    "    n = len(s)\n",
    "    \n",
    "    #Mapping value of characters\n",
    "    mapping = {\"A\":1, \"C\":2 , \"T\":3, \"G\":4}\n",
    "    \n",
    "    base_value = 4 #since there are 4 characters\n",
    "    numbers = [0] * n\n",
    "    "
   ]
  },
  {
   "cell_type": "code",
   "execution_count": 1,
   "metadata": {},
   "outputs": [
    {
     "name": "stdout",
     "output_type": "stream",
     "text": [
      "[0, 0, 0, 0, 0, 0, 0]\n"
     ]
    }
   ],
   "source": [
    "numbers = [0] * 7\n",
    "print(numbers)"
   ]
  },
  {
   "cell_type": "code",
   "execution_count": 2,
   "metadata": {},
   "outputs": [],
   "source": [
    "#adding the hash function\n",
    "\n",
    "def find_repeated_sequences(s,k):\n",
    "    n = len(s)\n",
    "    \n",
    "    mapping = {\"A\":1, \"C\":2 , \"T\":3, \"G\":4}\n",
    "    \n",
    "    #basevalue\n",
    "    a=4\n",
    "    \n",
    "    numbers = [0]*n\n",
    "    for i in range(n):\n",
    "        numbers[i] = mapping.get(s[i])\n",
    "        \n",
    "    #current hash value\n",
    "    hash_value = 0\n",
    "    \n",
    "    hash_set = set()  #hashset to store the unique hash values\n",
    "    output = set()\n",
    "    \n",
    "    for i in range(n-k+1):\n",
    "        if i == 0:\n",
    "            for j in range(k):\n",
    "                hash_value += numbers[j]*(a**(k-j-1))\n",
    "        else:\n",
    "            previous_hash_value = hash_value\n",
    "            hash_value = ((previous_hash_value - numbers[i-1] * (a **(k-1)))*a)+ numbers[i+k-1]\n",
    "            \n",
    "        if hash_value in hash_set:\n",
    "            output.add(s[i:i+k])\n",
    "        \n",
    "        hash_set.add(hash_value)\n",
    "    return output\n",
    "        "
   ]
  },
  {
   "cell_type": "code",
   "execution_count": 3,
   "metadata": {},
   "outputs": [
    {
     "name": "stdout",
     "output_type": "stream",
     "text": [
      "1 .\tInput sequence: ACGT \n",
      "\tk: 3 \n",
      "\n",
      "\tRepeated sequences: set()\n",
      "----------------------------------------------------------------------------------------------------\n",
      "2 .\tInput sequence: AGACCTAGAC \n",
      "\tk: 3 \n",
      "\n",
      "\tRepeated sequences: {'AGA', 'GAC'}\n",
      "----------------------------------------------------------------------------------------------------\n",
      "3 .\tInput sequence: AAAAACCCCCAAAAACCCCCC \n",
      "\tk: 8 \n",
      "\n",
      "\tRepeated sequences: {'AAACCCCC', 'AAAAACCC', 'AAAACCCC'}\n",
      "----------------------------------------------------------------------------------------------------\n",
      "4 .\tInput sequence: GGGGGGGGGGGGGGGGGGGGGGGGG \n",
      "\tk: 12 \n",
      "\n",
      "\tRepeated sequences: {'GGGGGGGGGGGG'}\n",
      "----------------------------------------------------------------------------------------------------\n",
      "5 .\tInput sequence: TTTTTCCCCCCCTTTTTTCCCCCCCTTTTTTT \n",
      "\tk: 10 \n",
      "\n",
      "\tRepeated sequences: {'TTTTCCCCCC', 'CCCCTTTTTT', 'CCCCCTTTTT', 'TTTTTCCCCC', 'CCCCCCCTTT', 'TTTCCCCCCC', 'TTCCCCCCCT', 'CCCCCCTTTT', 'TCCCCCCCTT'}\n",
      "----------------------------------------------------------------------------------------------------\n",
      "6 .\tInput sequence: TTTTTGGGTTTTCCA \n",
      "\tk: 14 \n",
      "\n",
      "\tRepeated sequences: set()\n",
      "----------------------------------------------------------------------------------------------------\n",
      "7 .\tInput sequence: AAAAAACCCCCCCAAAAAAAACCCCCCCTG \n",
      "\tk: 10 \n",
      "\n",
      "\tRepeated sequences: {'AAACCCCCCC', 'AAAACCCCCC', 'AAAAAACCCC', 'AAAAACCCCC'}\n",
      "----------------------------------------------------------------------------------------------------\n",
      "8 .\tInput sequence: ATATATATATATATAT \n",
      "\tk: 6 \n",
      "\n",
      "\tRepeated sequences: {'ATATAT', 'TATATA'}\n",
      "----------------------------------------------------------------------------------------------------\n"
     ]
    }
   ],
   "source": [
    "inputs_string = [\"ACGT\", \"AGACCTAGAC\", \"AAAAACCCCCAAAAACCCCCC\", \"GGGGGGGGGGGGGGGGGGGGGGGGG\",\n",
    "                    \"TTTTTCCCCCCCTTTTTTCCCCCCCTTTTTTT\", \"TTTTTGGGTTTTCCA\",\n",
    "                    \"AAAAAACCCCCCCAAAAAAAACCCCCCCTG\", \"ATATATATATATATAT\"]\n",
    "inputs_k = [3, 3, 8, 12, 10, 14, 10, 6]\n",
    "\n",
    "for i in range(len(inputs_k)):\n",
    "    print(i + 1, \".\\tInput sequence:\",inputs_string[i], \n",
    "                    \"\\n\\tk:\", inputs_k[i],\n",
    "                    \"\\n\\n\\tRepeated sequences:\", find_repeated_sequences(inputs_string[i], inputs_k[i]))\n",
    "    print(\"-\"*100)"
   ]
  },
  {
   "cell_type": "code",
   "execution_count": null,
   "metadata": {},
   "outputs": [],
   "source": []
  }
 ],
 "metadata": {
  "kernelspec": {
   "display_name": "base",
   "language": "python",
   "name": "python3"
  },
  "language_info": {
   "codemirror_mode": {
    "name": "ipython",
    "version": 3
   },
   "file_extension": ".py",
   "mimetype": "text/x-python",
   "name": "python",
   "nbconvert_exporter": "python",
   "pygments_lexer": "ipython3",
   "version": "3.11.5"
  }
 },
 "nbformat": 4,
 "nbformat_minor": 2
}

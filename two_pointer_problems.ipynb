{
 "cells": [
  {
   "cell_type": "code",
   "execution_count": 1,
   "metadata": {},
   "outputs": [],
   "source": [
    "#Write a function that takes a string, s, as an input and determines whether or not it is a palindrome."
   ]
  },
  {
   "cell_type": "markdown",
   "metadata": {},
   "source": [
    "## Naive approach\n",
    "The naive approach to solve this problem is to reverse the string and then compare the reversed string with the original string. If they match, the original string is a valid palindrome. Although this solution has a linear time complexity, it requires extra space to store the reversed string, making it less efficient in terms of space complexity. Therefore, we can use an optimized approach to save extra space."
   ]
  },
  {
   "cell_type": "markdown",
   "metadata": {},
   "source": [
    "## Logical building blocks \n",
    "\n",
    "1) Initialize 2 pointers at the beginning and end of the string\n",
    "2) Check whether or not the current pair of characteristics are identical\n",
    "3) If they are not indentical return false. Otherwise move both pointers by one index towards the middle\n",
    "4) Keep traversing them towards the middle until they meet\n",
    "5) If we reach the middle without finding the string return true\n",
    "\n"
   ]
  },
  {
   "cell_type": "code",
   "execution_count": 6,
   "metadata": {},
   "outputs": [],
   "source": [
    "def is_palindrome(array):\n",
    "  left = 0\n",
    "  right = len(array)-1 #setting left and right pointers\n",
    "  while left<= right:  #running this while the left and the right pointers do not meet\n",
    "    if array[left] == array[right]: #checking array values at the left pointer position adn the right pointer position and if they are equal\n",
    "      left +=1  \n",
    "      right -=1  #moving the left pointer by one and right pointer by 1\n",
    "    else:\n",
    "      return False  #if the array values in the left and right pointer at any time are not equal, immediately return a False - Not a planindrome\n",
    "  return True #Ensure this is outside the while loop. Check for all the values in the array and then returns True - is a palindrome"
   ]
  },
  {
   "cell_type": "code",
   "execution_count": 7,
   "metadata": {},
   "outputs": [
    {
     "name": "stdout",
     "output_type": "stream",
     "text": [
      "Test Case # 1\n",
      "True\n",
      "----------------------------------------------------------------------------------------------------\n",
      "\n",
      "Test Case # 2\n",
      "True\n",
      "----------------------------------------------------------------------------------------------------\n",
      "\n",
      "Test Case # 3\n",
      "False\n",
      "----------------------------------------------------------------------------------------------------\n",
      "\n"
     ]
    }
   ],
   "source": [
    "test_cases = [\"RACECAR\", \"ABBA\", \"TART\"]\n",
    "i = 1\n",
    "for s in test_cases:\n",
    "    print(\"Test Case #\", i)\n",
    "    print(is_palindrome(s))\n",
    "    print(\"-\" * 100, end=\"\\n\\n\")\n",
    "    i = i + 1\n",
    "    \n",
    "\n"
   ]
  },
  {
   "cell_type": "code",
   "execution_count": 4,
   "metadata": {},
   "outputs": [],
   "source": [
    "#Educative solution\n",
    "def is_palindrome(s):\n",
    "    print(\"String to check: \", s, \". Length of string: \", len(s), sep='')\n",
    "    left = 0\n",
    "    right = len(s) - 1\n",
    "    i = 1\n",
    "    while left < right: # The terminating condition for the loop is when both the pointers reach the same element or when they cross each other.\n",
    "        print(\"In iteration \", i, \", left = \", left, \", right = \", right, sep=\"\")\n",
    "        print(\"The current element being pointed to by the left pointer is '\",\n",
    "              s[left], \"'\", sep=\"\")\n",
    "        print(\"The current element being pointed to by the right pointer is '\",\n",
    "              s[right], \"'\", sep=\"\")\n",
    "        left = left + 1  # Heading towards the right\n",
    "        right = right - 1  # Heading towards the left\n",
    "        i = i + 1\n",
    "        print(\"-\" * 100)\n",
    "    print(\"Loop terminated with left = \", left, \", right = \", right, sep=\"\")\n",
    "    return (\"The pointers have either reached the same index, or have crossed each other, hence we don't need to look further.\")\n",
    "\n"
   ]
  },
  {
   "cell_type": "code",
   "execution_count": 9,
   "metadata": {},
   "outputs": [
    {
     "name": "stdout",
     "output_type": "stream",
     "text": [
      "0\n",
      "1\n",
      "2\n"
     ]
    }
   ],
   "source": [
    "n = 5\n",
    "for i in range(5-2):\n",
    "    print(i)"
   ]
  },
  {
   "cell_type": "code",
   "execution_count": 7,
   "metadata": {},
   "outputs": [],
   "source": [
    "def find_sum_of_three(nums, target):\n",
    "   # Replace this placeholder return statement with your code\n",
    "   n = len(nums)\n",
    "   nums.sort()\n",
    "   for i in range(n-2):\n",
    "       left= i+1\n",
    "       right = n-1\n",
    "       while left < right:\n",
    "           if nums[i]+nums[left] + nums[right] == target:\n",
    "               return True\n",
    "           elif nums[i]+nums[left] + nums[right] > target:\n",
    "               right = right -1\n",
    "           else:\n",
    "               left= left +1            \n",
    "   return False"
   ]
  },
  {
   "cell_type": "code",
   "execution_count": 8,
   "metadata": {},
   "outputs": [
    {
     "name": "stdout",
     "output_type": "stream",
     "text": [
      "1.\tInput array: [3, 7, 1, 2, 8, 4, 5]\n",
      "\tSum for 10 exists\n",
      "----------------------------------------------------------------------------------------------------\n",
      "2.\tInput array: [-1, 2, 1, -4, 5, -3]\n",
      "\tSum for 7 does not exist\n",
      "----------------------------------------------------------------------------------------------------\n",
      "3.\tInput array: [2, 3, 4, 1, 7, 9]\n",
      "\tSum for 20 exists\n",
      "----------------------------------------------------------------------------------------------------\n",
      "4.\tInput array: [1, -1, 0]\n",
      "\tSum for -1 does not exist\n",
      "----------------------------------------------------------------------------------------------------\n",
      "5.\tInput array: [2, 4, 2, 7, 6, 3, 1]\n",
      "\tSum for 8 exists\n",
      "----------------------------------------------------------------------------------------------------\n"
     ]
    }
   ],
   "source": [
    "nums_lists = [[3, 7, 1, 2, 8, 4, 5],\n",
    "                [-1, 2, 1, -4, 5, -3],\n",
    "                [2, 3, 4, 1, 7, 9],\n",
    "                [1, -1, 0],\n",
    "                [2, 4, 2, 7, 6, 3, 1]]\n",
    "\n",
    "targets = [10, 7, 20, -1, 8]\n",
    "\n",
    "for i in range(len(nums_lists)):\n",
    "    print(i + 1, \".\\tInput array: \", nums_lists[i], sep=\"\")\n",
    "    if find_sum_of_three(nums_lists[i], targets[i]):\n",
    "        print(\"\\tSum for\", targets[i], \"exists\")\n",
    "    else:\n",
    "        print(\"\\tSum for\", targets[i], \"does not exist\")\n",
    "    print(\"-\"*100)"
   ]
  },
  {
   "cell_type": "markdown",
   "metadata": {},
   "source": [
    "#Sort colors\n",
    "\n",
    "Given an array, colors, which contains a combination of the following three elements:\n",
    "\n",
    "0 (representing red)\n",
    "\n",
    "1 (representing white)\n",
    "\n",
    "2 (representing blue)\n",
    "\n",
    "Sort the array in place so that the elements of the same color are adjacent, with the colors in the order of red, white, and blue. To improve your problem-solving skills, do not utilize the built-in sort function."
   ]
  },
  {
   "cell_type": "markdown",
   "metadata": {},
   "source": []
  },
  {
   "cell_type": "code",
   "execution_count": 1,
   "metadata": {},
   "outputs": [],
   "source": [
    "def sort_colors(colors):\n",
    "    \n",
    "    current, start, end = 0,0, len(colors)-1  #setting our start end pointers and a current pointer\n",
    "    \n",
    "    while current <= end:\n",
    "        if colors[current] == 0:\n",
    "            if colors[start] !=0:\n",
    "                colors[current], colors[start] = colors[start], colors[current]\n",
    "            current +=1\n",
    "            start +=1\n",
    "        \n",
    "        elif colors[current] == 1:\n",
    "            current +=1\n",
    "            \n",
    "        else:\n",
    "            if colors[end] !=2:\n",
    "                colors[end], colors[current] =  colors[current], colors[end]\n",
    "            end -= 1\n",
    "   \n",
    "\n",
    "\n"
   ]
  },
  {
   "cell_type": "code",
   "execution_count": 2,
   "metadata": {},
   "outputs": [
    {
     "name": "stdout",
     "output_type": "stream",
     "text": [
      "1 .\tcolors: [0, 1, 0]\n",
      "\n",
      "\tThe sorted array is: [0, 0, 1]\n",
      "----------------------------------------------------------------------------------------------------\n",
      "2 .\tcolors: [1, 1, 0, 2]\n",
      "\n",
      "\tThe sorted array is: [0, 1, 1, 2]\n",
      "----------------------------------------------------------------------------------------------------\n",
      "3 .\tcolors: [2, 1, 1, 0, 0]\n",
      "\n",
      "\tThe sorted array is: [0, 0, 1, 1, 2]\n",
      "----------------------------------------------------------------------------------------------------\n",
      "4 .\tcolors: [2, 2, 2, 0, 1, 0]\n",
      "\n",
      "\tThe sorted array is: [0, 0, 1, 2, 2, 2]\n",
      "----------------------------------------------------------------------------------------------------\n",
      "5 .\tcolors: [2, 1, 1, 0, 1, 0, 2]\n",
      "\n",
      "\tThe sorted array is: [0, 0, 1, 1, 1, 2, 2]\n",
      "----------------------------------------------------------------------------------------------------\n"
     ]
    }
   ],
   "source": [
    "inputs = [[0, 1, 0], [1, 1, 0, 2], [2, 1, 1, 0, 0], [2, 2, 2, 0, 1, 0], [2, 1, 1, 0, 1, 0, 2]]\n",
    "\n",
    "# Iterate over the inputs and print the sorted array for each\n",
    "for i in range(len(inputs)):\n",
    "    colors=inputs[i]\n",
    "    print(i + 1, \".\\tcolors:\", colors)\n",
    "    sort_colors(colors)\n",
    "    print(\"\\n\\tThe sorted array is:\", colors)\n",
    "    print(\"-\" * 100)"
   ]
  },
  {
   "cell_type": "markdown",
   "metadata": {},
   "source": [
    "Statement\n",
    "Given a sentence, reverse the order of its words without affecting the order of letters within the given word.\n",
    "The order of the letters within a word is not to be reversed.   \n",
    "\n",
    "Input string : \"Reverse the string\"\n",
    "\n",
    "Output string: \"string the Reverse\""
   ]
  },
  {
   "cell_type": "code",
   "execution_count": 11,
   "metadata": {},
   "outputs": [],
   "source": [
    "#Function that reverses characters from start_rev to end_rev in place\n",
    "\n",
    "def str_rev(sentence, start_rev, end_rev):\n",
    "    while start_rev <= end_rev:\n",
    "        sentence[start_rev], sentence[end_rev] = sentence[end_rev], sentence[start_rev]\n",
    "        end_rev -=1\n",
    "        start_rev +=1\n",
    "    \n",
    "  "
   ]
  },
  {
   "cell_type": "code",
   "execution_count": 12,
   "metadata": {},
   "outputs": [],
   "source": [
    "sentence = [\"r\", \"e\", \"v\", \"e\", \"r\", \"s\", \"e\"]\n",
    "str_rev(sentence, 0,6)"
   ]
  },
  {
   "cell_type": "code",
   "execution_count": 1,
   "metadata": {},
   "outputs": [
    {
     "name": "stdout",
     "output_type": "stream",
     "text": [
      "0\n",
      "1\n",
      "2\n",
      "3\n",
      "4\n"
     ]
    }
   ],
   "source": [
    "for i in range(0,5):\n",
    "    print(i)"
   ]
  },
  {
   "cell_type": "code",
   "execution_count": null,
   "metadata": {},
   "outputs": [],
   "source": []
  }
 ],
 "metadata": {
  "kernelspec": {
   "display_name": "base",
   "language": "python",
   "name": "python3"
  },
  "language_info": {
   "codemirror_mode": {
    "name": "ipython",
    "version": 3
   },
   "file_extension": ".py",
   "mimetype": "text/x-python",
   "name": "python",
   "nbconvert_exporter": "python",
   "pygments_lexer": "ipython3",
   "version": "3.11.5"
  }
 },
 "nbformat": 4,
 "nbformat_minor": 2
}

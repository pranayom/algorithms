{
 "cells": [
  {
   "cell_type": "code",
   "execution_count": 1,
   "metadata": {},
   "outputs": [],
   "source": [
    "#Write a function that takes a string, s, as an input and determines whether or not it is a palindrome."
   ]
  },
  {
   "cell_type": "markdown",
   "metadata": {},
   "source": [
    "## Naive approach\n",
    "The naive approach to solve this problem is to reverse the string and then compare the reversed string with the original string. If they match, the original string is a valid palindrome. Although this solution has a linear time complexity, it requires extra space to store the reversed string, making it less efficient in terms of space complexity. Therefore, we can use an optimized approach to save extra space."
   ]
  },
  {
   "cell_type": "markdown",
   "metadata": {},
   "source": [
    "## Logical building blocks \n",
    "\n",
    "1) Initialize 2 pointers at the beginning and end of the string\n",
    "2) Check whether or not the current pair of characteristics are identical\n",
    "3) If they are not indentical return false. Otherwise move both pointers by one index towards the middle\n",
    "4) Keep traversing them towards the middle until they meet\n",
    "5) If we reach the middle without finding the string return true\n",
    "\n"
   ]
  },
  {
   "cell_type": "code",
   "execution_count": 6,
   "metadata": {},
   "outputs": [],
   "source": [
    "def is_palindrome(array):\n",
    "  left = 0\n",
    "  right = len(array)-1 #setting left and right pointers\n",
    "  while left<= right:  #running this while the left and the right pointers do not meet\n",
    "    if array[left] == array[right]: #checking array values at the left pointer position adn the right pointer position and if they are equal\n",
    "      left +=1  \n",
    "      right -=1  #moving the left pointer by one and right pointer by 1\n",
    "    else:\n",
    "      return False  #if the array values in the left and right pointer at any time are not equal, immediately return a False - Not a planindrome\n",
    "  return True #Ensure this is outside the while loop. Check for all the values in the array and then returns True - is a palindrome"
   ]
  },
  {
   "cell_type": "code",
   "execution_count": 7,
   "metadata": {},
   "outputs": [
    {
     "name": "stdout",
     "output_type": "stream",
     "text": [
      "Test Case # 1\n",
      "True\n",
      "----------------------------------------------------------------------------------------------------\n",
      "\n",
      "Test Case # 2\n",
      "True\n",
      "----------------------------------------------------------------------------------------------------\n",
      "\n",
      "Test Case # 3\n",
      "False\n",
      "----------------------------------------------------------------------------------------------------\n",
      "\n"
     ]
    }
   ],
   "source": [
    "test_cases = [\"RACECAR\", \"ABBA\", \"TART\"]\n",
    "i = 1\n",
    "for s in test_cases:\n",
    "    print(\"Test Case #\", i)\n",
    "    print(is_palindrome(s))\n",
    "    print(\"-\" * 100, end=\"\\n\\n\")\n",
    "    i = i + 1\n",
    "    \n",
    "\n"
   ]
  },
  {
   "cell_type": "code",
   "execution_count": 4,
   "metadata": {},
   "outputs": [],
   "source": [
    "#Educative solution\n",
    "def is_palindrome(s):\n",
    "    print(\"String to check: \", s, \". Length of string: \", len(s), sep='')\n",
    "    left = 0\n",
    "    right = len(s) - 1\n",
    "    i = 1\n",
    "    while left < right: # The terminating condition for the loop is when both the pointers reach the same element or when they cross each other.\n",
    "        print(\"In iteration \", i, \", left = \", left, \", right = \", right, sep=\"\")\n",
    "        print(\"The current element being pointed to by the left pointer is '\",\n",
    "              s[left], \"'\", sep=\"\")\n",
    "        print(\"The current element being pointed to by the right pointer is '\",\n",
    "              s[right], \"'\", sep=\"\")\n",
    "        left = left + 1  # Heading towards the right\n",
    "        right = right - 1  # Heading towards the left\n",
    "        i = i + 1\n",
    "        print(\"-\" * 100)\n",
    "    print(\"Loop terminated with left = \", left, \", right = \", right, sep=\"\")\n",
    "    return (\"The pointers have either reached the same index, or have crossed each other, hence we don't need to look further.\")\n",
    "\n"
   ]
  },
  {
   "cell_type": "code",
   "execution_count": null,
   "metadata": {},
   "outputs": [],
   "source": []
  }
 ],
 "metadata": {
  "kernelspec": {
   "display_name": "base",
   "language": "python",
   "name": "python3"
  },
  "language_info": {
   "codemirror_mode": {
    "name": "ipython",
    "version": 3
   },
   "file_extension": ".py",
   "mimetype": "text/x-python",
   "name": "python",
   "nbconvert_exporter": "python",
   "pygments_lexer": "ipython3",
   "version": "3.11.5"
  }
 },
 "nbformat": 4,
 "nbformat_minor": 2
}
